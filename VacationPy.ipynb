{
 "cells": [
  {
   "cell_type": "markdown",
   "metadata": {},
   "source": [
    "# VacationPy\n",
    "---\n",
    "\n",
    "## Starter Code to Import Libraries and Load the Weather and Coordinates Data"
   ]
  },
  {
   "cell_type": "code",
   "execution_count": null,
   "metadata": {},
   "outputs": [],
   "source": []
  },
  {
   "cell_type": "code",
   "execution_count": 2,
   "metadata": {},
   "outputs": [
    {
     "data": {
      "application/javascript": "(function(root) {\n  function now() {\n    return new Date();\n  }\n\n  var force = true;\n  var py_version = '3.4.1'.replace('rc', '-rc.').replace('.dev', '-dev.');\n  var reloading = false;\n  var Bokeh = root.Bokeh;\n\n  if (typeof (root._bokeh_timeout) === \"undefined\" || force) {\n    root._bokeh_timeout = Date.now() + 5000;\n    root._bokeh_failed_load = false;\n  }\n\n  function run_callbacks() {\n    try {\n      root._bokeh_onload_callbacks.forEach(function(callback) {\n        if (callback != null)\n          callback();\n      });\n    } finally {\n      delete root._bokeh_onload_callbacks;\n    }\n    console.debug(\"Bokeh: all callbacks have finished\");\n  }\n\n  function load_libs(css_urls, js_urls, js_modules, js_exports, callback) {\n    if (css_urls == null) css_urls = [];\n    if (js_urls == null) js_urls = [];\n    if (js_modules == null) js_modules = [];\n    if (js_exports == null) js_exports = {};\n\n    root._bokeh_onload_callbacks.push(callback);\n\n    if (root._bokeh_is_loading > 0) {\n      console.debug(\"Bokeh: BokehJS is being loaded, scheduling callback at\", now());\n      return null;\n    }\n    if (js_urls.length === 0 && js_modules.length === 0 && Object.keys(js_exports).length === 0) {\n      run_callbacks();\n      return null;\n    }\n    if (!reloading) {\n      console.debug(\"Bokeh: BokehJS not loaded, scheduling load and callback at\", now());\n    }\n\n    function on_load() {\n      root._bokeh_is_loading--;\n      if (root._bokeh_is_loading === 0) {\n        console.debug(\"Bokeh: all BokehJS libraries/stylesheets loaded\");\n        run_callbacks()\n      }\n    }\n    window._bokeh_on_load = on_load\n\n    function on_error() {\n      console.error(\"failed to load \" + url);\n    }\n\n    var skip = [];\n    if (window.requirejs) {\n      window.requirejs.config({'packages': {}, 'paths': {}, 'shim': {}});\n      root._bokeh_is_loading = css_urls.length + 0;\n    } else {\n      root._bokeh_is_loading = css_urls.length + js_urls.length + js_modules.length + Object.keys(js_exports).length;\n    }\n\n    var existing_stylesheets = []\n    var links = document.getElementsByTagName('link')\n    for (var i = 0; i < links.length; i++) {\n      var link = links[i]\n      if (link.href != null) {\n\texisting_stylesheets.push(link.href)\n      }\n    }\n    for (var i = 0; i < css_urls.length; i++) {\n      var url = css_urls[i];\n      if (existing_stylesheets.indexOf(url) !== -1) {\n\ton_load()\n\tcontinue;\n      }\n      const element = document.createElement(\"link\");\n      element.onload = on_load;\n      element.onerror = on_error;\n      element.rel = \"stylesheet\";\n      element.type = \"text/css\";\n      element.href = url;\n      console.debug(\"Bokeh: injecting link tag for BokehJS stylesheet: \", url);\n      document.body.appendChild(element);\n    }    var existing_scripts = []\n    var scripts = document.getElementsByTagName('script')\n    for (var i = 0; i < scripts.length; i++) {\n      var script = scripts[i]\n      if (script.src != null) {\n\texisting_scripts.push(script.src)\n      }\n    }\n    for (var i = 0; i < js_urls.length; i++) {\n      var url = js_urls[i];\n      if (skip.indexOf(url) !== -1 || existing_scripts.indexOf(url) !== -1) {\n\tif (!window.requirejs) {\n\t  on_load();\n\t}\n\tcontinue;\n      }\n      var element = document.createElement('script');\n      element.onload = on_load;\n      element.onerror = on_error;\n      element.async = false;\n      element.src = url;\n      console.debug(\"Bokeh: injecting script tag for BokehJS library: \", url);\n      document.head.appendChild(element);\n    }\n    for (var i = 0; i < js_modules.length; i++) {\n      var url = js_modules[i];\n      if (skip.indexOf(url) !== -1 || existing_scripts.indexOf(url) !== -1) {\n\tif (!window.requirejs) {\n\t  on_load();\n\t}\n\tcontinue;\n      }\n      var element = document.createElement('script');\n      element.onload = on_load;\n      element.onerror = on_error;\n      element.async = false;\n      element.src = url;\n      element.type = \"module\";\n      console.debug(\"Bokeh: injecting script tag for BokehJS library: \", url);\n      document.head.appendChild(element);\n    }\n    for (const name in js_exports) {\n      var url = js_exports[name];\n      if (skip.indexOf(url) >= 0 || root[name] != null) {\n\tif (!window.requirejs) {\n\t  on_load();\n\t}\n\tcontinue;\n      }\n      var element = document.createElement('script');\n      element.onerror = on_error;\n      element.async = false;\n      element.type = \"module\";\n      console.debug(\"Bokeh: injecting script tag for BokehJS library: \", url);\n      element.textContent = `\n      import ${name} from \"${url}\"\n      window.${name} = ${name}\n      window._bokeh_on_load()\n      `\n      document.head.appendChild(element);\n    }\n    if (!js_urls.length && !js_modules.length) {\n      on_load()\n    }\n  };\n\n  function inject_raw_css(css) {\n    const element = document.createElement(\"style\");\n    element.appendChild(document.createTextNode(css));\n    document.body.appendChild(element);\n  }\n\n  var js_urls = [\"https://cdn.bokeh.org/bokeh/release/bokeh-3.4.1.min.js\", \"https://cdn.bokeh.org/bokeh/release/bokeh-gl-3.4.1.min.js\", \"https://cdn.bokeh.org/bokeh/release/bokeh-widgets-3.4.1.min.js\", \"https://cdn.bokeh.org/bokeh/release/bokeh-tables-3.4.1.min.js\", \"https://cdn.holoviz.org/panel/1.4.4/dist/panel.min.js\"];\n  var js_modules = [];\n  var js_exports = {};\n  var css_urls = [];\n  var inline_js = [    function(Bokeh) {\n      Bokeh.set_log_level(\"info\");\n    },\nfunction(Bokeh) {} // ensure no trailing comma for IE\n  ];\n\n  function run_inline_js() {\n    if ((root.Bokeh !== undefined) || (force === true)) {\n      for (var i = 0; i < inline_js.length; i++) {\n\ttry {\n          inline_js[i].call(root, root.Bokeh);\n\t} catch(e) {\n\t  if (!reloading) {\n\t    throw e;\n\t  }\n\t}\n      }\n      // Cache old bokeh versions\n      if (Bokeh != undefined && !reloading) {\n\tvar NewBokeh = root.Bokeh;\n\tif (Bokeh.versions === undefined) {\n\t  Bokeh.versions = new Map();\n\t}\n\tif (NewBokeh.version !== Bokeh.version) {\n\t  Bokeh.versions.set(NewBokeh.version, NewBokeh)\n\t}\n\troot.Bokeh = Bokeh;\n      }} else if (Date.now() < root._bokeh_timeout) {\n      setTimeout(run_inline_js, 100);\n    } else if (!root._bokeh_failed_load) {\n      console.log(\"Bokeh: BokehJS failed to load within specified timeout.\");\n      root._bokeh_failed_load = true;\n    }\n    root._bokeh_is_initializing = false\n  }\n\n  function load_or_wait() {\n    // Implement a backoff loop that tries to ensure we do not load multiple\n    // versions of Bokeh and its dependencies at the same time.\n    // In recent versions we use the root._bokeh_is_initializing flag\n    // to determine whether there is an ongoing attempt to initialize\n    // bokeh, however for backward compatibility we also try to ensure\n    // that we do not start loading a newer (Panel>=1.0 and Bokeh>3) version\n    // before older versions are fully initialized.\n    if (root._bokeh_is_initializing && Date.now() > root._bokeh_timeout) {\n      root._bokeh_is_initializing = false;\n      root._bokeh_onload_callbacks = undefined;\n      console.log(\"Bokeh: BokehJS was loaded multiple times but one version failed to initialize.\");\n      load_or_wait();\n    } else if (root._bokeh_is_initializing || (typeof root._bokeh_is_initializing === \"undefined\" && root._bokeh_onload_callbacks !== undefined)) {\n      setTimeout(load_or_wait, 100);\n    } else {\n      root._bokeh_is_initializing = true\n      root._bokeh_onload_callbacks = []\n      var bokeh_loaded = Bokeh != null && (Bokeh.version === py_version || (Bokeh.versions !== undefined && Bokeh.versions.has(py_version)));\n      if (!reloading && !bokeh_loaded) {\n\troot.Bokeh = undefined;\n      }\n      load_libs(css_urls, js_urls, js_modules, js_exports, function() {\n\tconsole.debug(\"Bokeh: BokehJS plotting callback run at\", now());\n\trun_inline_js();\n      });\n    }\n  }\n  // Give older versions of the autoload script a head-start to ensure\n  // they initialize before we start loading newer version.\n  setTimeout(load_or_wait, 100)\n}(window));",
      "application/vnd.holoviews_load.v0+json": ""
     },
     "metadata": {},
     "output_type": "display_data"
    },
    {
     "data": {
      "application/javascript": "\nif ((window.PyViz === undefined) || (window.PyViz instanceof HTMLElement)) {\n  window.PyViz = {comms: {}, comm_status:{}, kernels:{}, receivers: {}, plot_index: []}\n}\n\n\n    function JupyterCommManager() {\n    }\n\n    JupyterCommManager.prototype.register_target = function(plot_id, comm_id, msg_handler) {\n      if (window.comm_manager || ((window.Jupyter !== undefined) && (Jupyter.notebook.kernel != null))) {\n        var comm_manager = window.comm_manager || Jupyter.notebook.kernel.comm_manager;\n        comm_manager.register_target(comm_id, function(comm) {\n          comm.on_msg(msg_handler);\n        });\n      } else if ((plot_id in window.PyViz.kernels) && (window.PyViz.kernels[plot_id])) {\n        window.PyViz.kernels[plot_id].registerCommTarget(comm_id, function(comm) {\n          comm.onMsg = msg_handler;\n        });\n      } else if (typeof google != 'undefined' && google.colab.kernel != null) {\n        google.colab.kernel.comms.registerTarget(comm_id, (comm) => {\n          var messages = comm.messages[Symbol.asyncIterator]();\n          function processIteratorResult(result) {\n            var message = result.value;\n            console.log(message)\n            var content = {data: message.data, comm_id};\n            var buffers = []\n            for (var buffer of message.buffers || []) {\n              buffers.push(new DataView(buffer))\n            }\n            var metadata = message.metadata || {};\n            var msg = {content, buffers, metadata}\n            msg_handler(msg);\n            return messages.next().then(processIteratorResult);\n          }\n          return messages.next().then(processIteratorResult);\n        })\n      }\n    }\n\n    JupyterCommManager.prototype.get_client_comm = function(plot_id, comm_id, msg_handler) {\n      if (comm_id in window.PyViz.comms) {\n        return window.PyViz.comms[comm_id];\n      } else if (window.comm_manager || ((window.Jupyter !== undefined) && (Jupyter.notebook.kernel != null))) {\n        var comm_manager = window.comm_manager || Jupyter.notebook.kernel.comm_manager;\n        var comm = comm_manager.new_comm(comm_id, {}, {}, {}, comm_id);\n        if (msg_handler) {\n          comm.on_msg(msg_handler);\n        }\n      } else if ((plot_id in window.PyViz.kernels) && (window.PyViz.kernels[plot_id])) {\n        var comm = window.PyViz.kernels[plot_id].connectToComm(comm_id);\n        comm.open();\n        if (msg_handler) {\n          comm.onMsg = msg_handler;\n        }\n      } else if (typeof google != 'undefined' && google.colab.kernel != null) {\n        var comm_promise = google.colab.kernel.comms.open(comm_id)\n        comm_promise.then((comm) => {\n          window.PyViz.comms[comm_id] = comm;\n          if (msg_handler) {\n            var messages = comm.messages[Symbol.asyncIterator]();\n            function processIteratorResult(result) {\n              var message = result.value;\n              var content = {data: message.data};\n              var metadata = message.metadata || {comm_id};\n              var msg = {content, metadata}\n              msg_handler(msg);\n              return messages.next().then(processIteratorResult);\n            }\n            return messages.next().then(processIteratorResult);\n          }\n        }) \n        var sendClosure = (data, metadata, buffers, disposeOnDone) => {\n          return comm_promise.then((comm) => {\n            comm.send(data, metadata, buffers, disposeOnDone);\n          });\n        };\n        var comm = {\n          send: sendClosure\n        };\n      }\n      window.PyViz.comms[comm_id] = comm;\n      return comm;\n    }\n    window.PyViz.comm_manager = new JupyterCommManager();\n    \n\n\nvar JS_MIME_TYPE = 'application/javascript';\nvar HTML_MIME_TYPE = 'text/html';\nvar EXEC_MIME_TYPE = 'application/vnd.holoviews_exec.v0+json';\nvar CLASS_NAME = 'output';\n\n/**\n * Render data to the DOM node\n */\nfunction render(props, node) {\n  var div = document.createElement(\"div\");\n  var script = document.createElement(\"script\");\n  node.appendChild(div);\n  node.appendChild(script);\n}\n\n/**\n * Handle when a new output is added\n */\nfunction handle_add_output(event, handle) {\n  var output_area = handle.output_area;\n  var output = handle.output;\n  if ((output.data == undefined) || (!output.data.hasOwnProperty(EXEC_MIME_TYPE))) {\n    return\n  }\n  var id = output.metadata[EXEC_MIME_TYPE][\"id\"];\n  var toinsert = output_area.element.find(\".\" + CLASS_NAME.split(' ')[0]);\n  if (id !== undefined) {\n    var nchildren = toinsert.length;\n    var html_node = toinsert[nchildren-1].children[0];\n    html_node.innerHTML = output.data[HTML_MIME_TYPE];\n    var scripts = [];\n    var nodelist = html_node.querySelectorAll(\"script\");\n    for (var i in nodelist) {\n      if (nodelist.hasOwnProperty(i)) {\n        scripts.push(nodelist[i])\n      }\n    }\n\n    scripts.forEach( function (oldScript) {\n      var newScript = document.createElement(\"script\");\n      var attrs = [];\n      var nodemap = oldScript.attributes;\n      for (var j in nodemap) {\n        if (nodemap.hasOwnProperty(j)) {\n          attrs.push(nodemap[j])\n        }\n      }\n      attrs.forEach(function(attr) { newScript.setAttribute(attr.name, attr.value) });\n      newScript.appendChild(document.createTextNode(oldScript.innerHTML));\n      oldScript.parentNode.replaceChild(newScript, oldScript);\n    });\n    if (JS_MIME_TYPE in output.data) {\n      toinsert[nchildren-1].children[1].textContent = output.data[JS_MIME_TYPE];\n    }\n    output_area._hv_plot_id = id;\n    if ((window.Bokeh !== undefined) && (id in Bokeh.index)) {\n      window.PyViz.plot_index[id] = Bokeh.index[id];\n    } else {\n      window.PyViz.plot_index[id] = null;\n    }\n  } else if (output.metadata[EXEC_MIME_TYPE][\"server_id\"] !== undefined) {\n    var bk_div = document.createElement(\"div\");\n    bk_div.innerHTML = output.data[HTML_MIME_TYPE];\n    var script_attrs = bk_div.children[0].attributes;\n    for (var i = 0; i < script_attrs.length; i++) {\n      toinsert[toinsert.length - 1].childNodes[1].setAttribute(script_attrs[i].name, script_attrs[i].value);\n    }\n    // store reference to server id on output_area\n    output_area._bokeh_server_id = output.metadata[EXEC_MIME_TYPE][\"server_id\"];\n  }\n}\n\n/**\n * Handle when an output is cleared or removed\n */\nfunction handle_clear_output(event, handle) {\n  var id = handle.cell.output_area._hv_plot_id;\n  var server_id = handle.cell.output_area._bokeh_server_id;\n  if (((id === undefined) || !(id in PyViz.plot_index)) && (server_id !== undefined)) { return; }\n  var comm = window.PyViz.comm_manager.get_client_comm(\"hv-extension-comm\", \"hv-extension-comm\", function () {});\n  if (server_id !== null) {\n    comm.send({event_type: 'server_delete', 'id': server_id});\n    return;\n  } else if (comm !== null) {\n    comm.send({event_type: 'delete', 'id': id});\n  }\n  delete PyViz.plot_index[id];\n  if ((window.Bokeh !== undefined) & (id in window.Bokeh.index)) {\n    var doc = window.Bokeh.index[id].model.document\n    doc.clear();\n    const i = window.Bokeh.documents.indexOf(doc);\n    if (i > -1) {\n      window.Bokeh.documents.splice(i, 1);\n    }\n  }\n}\n\n/**\n * Handle kernel restart event\n */\nfunction handle_kernel_cleanup(event, handle) {\n  delete PyViz.comms[\"hv-extension-comm\"];\n  window.PyViz.plot_index = {}\n}\n\n/**\n * Handle update_display_data messages\n */\nfunction handle_update_output(event, handle) {\n  handle_clear_output(event, {cell: {output_area: handle.output_area}})\n  handle_add_output(event, handle)\n}\n\nfunction register_renderer(events, OutputArea) {\n  function append_mime(data, metadata, element) {\n    // create a DOM node to render to\n    var toinsert = this.create_output_subarea(\n    metadata,\n    CLASS_NAME,\n    EXEC_MIME_TYPE\n    );\n    this.keyboard_manager.register_events(toinsert);\n    // Render to node\n    var props = {data: data, metadata: metadata[EXEC_MIME_TYPE]};\n    render(props, toinsert[0]);\n    element.append(toinsert);\n    return toinsert\n  }\n\n  events.on('output_added.OutputArea', handle_add_output);\n  events.on('output_updated.OutputArea', handle_update_output);\n  events.on('clear_output.CodeCell', handle_clear_output);\n  events.on('delete.Cell', handle_clear_output);\n  events.on('kernel_ready.Kernel', handle_kernel_cleanup);\n\n  OutputArea.prototype.register_mime_type(EXEC_MIME_TYPE, append_mime, {\n    safe: true,\n    index: 0\n  });\n}\n\nif (window.Jupyter !== undefined) {\n  try {\n    var events = require('base/js/events');\n    var OutputArea = require('notebook/js/outputarea').OutputArea;\n    if (OutputArea.prototype.mime_types().indexOf(EXEC_MIME_TYPE) == -1) {\n      register_renderer(events, OutputArea);\n    }\n  } catch(err) {\n  }\n}\n",
      "application/vnd.holoviews_load.v0+json": ""
     },
     "metadata": {},
     "output_type": "display_data"
    },
    {
     "data": {
      "text/html": [
       "<style>*[data-root-id],\n",
       "*[data-root-id] > * {\n",
       "  box-sizing: border-box;\n",
       "  font-family: var(--jp-ui-font-family);\n",
       "  font-size: var(--jp-ui-font-size1);\n",
       "  color: var(--vscode-editor-foreground, var(--jp-ui-font-color1));\n",
       "}\n",
       "\n",
       "/* Override VSCode background color */\n",
       ".cell-output-ipywidget-background:has(\n",
       "    > .cell-output-ipywidget-background > .lm-Widget > *[data-root-id]\n",
       "  ),\n",
       ".cell-output-ipywidget-background:has(> .lm-Widget > *[data-root-id]) {\n",
       "  background-color: transparent !important;\n",
       "}\n",
       "</style>"
      ]
     },
     "metadata": {},
     "output_type": "display_data"
    },
    {
     "data": {
      "application/vnd.holoviews_exec.v0+json": "",
      "text/html": [
       "<div id='p1002'>\n",
       "  <div id=\"b605b5e1-5d05-4d41-b17b-c4f40b0de8f0\" data-root-id=\"p1002\" style=\"display: contents;\"></div>\n",
       "</div>\n",
       "<script type=\"application/javascript\">(function(root) {\n",
       "  var docs_json = {\"69e56dc3-152d-475b-a6aa-d2518647380d\":{\"version\":\"3.4.1\",\"title\":\"Bokeh Application\",\"roots\":[{\"type\":\"object\",\"name\":\"panel.models.browser.BrowserInfo\",\"id\":\"p1002\"},{\"type\":\"object\",\"name\":\"panel.models.comm_manager.CommManager\",\"id\":\"p1003\",\"attributes\":{\"plot_id\":\"p1002\",\"comm_id\":\"e585f7cabcd1439e8e920a00abcf0cd7\",\"client_comm_id\":\"45c4f6b26a5c44d18230efc79fb2da9f\"}}],\"defs\":[{\"type\":\"model\",\"name\":\"ReactiveHTML1\"},{\"type\":\"model\",\"name\":\"FlexBox1\",\"properties\":[{\"name\":\"align_content\",\"kind\":\"Any\",\"default\":\"flex-start\"},{\"name\":\"align_items\",\"kind\":\"Any\",\"default\":\"flex-start\"},{\"name\":\"flex_direction\",\"kind\":\"Any\",\"default\":\"row\"},{\"name\":\"flex_wrap\",\"kind\":\"Any\",\"default\":\"wrap\"},{\"name\":\"gap\",\"kind\":\"Any\",\"default\":\"\"},{\"name\":\"justify_content\",\"kind\":\"Any\",\"default\":\"flex-start\"}]},{\"type\":\"model\",\"name\":\"FloatPanel1\",\"properties\":[{\"name\":\"config\",\"kind\":\"Any\",\"default\":{\"type\":\"map\"}},{\"name\":\"contained\",\"kind\":\"Any\",\"default\":true},{\"name\":\"position\",\"kind\":\"Any\",\"default\":\"right-top\"},{\"name\":\"offsetx\",\"kind\":\"Any\",\"default\":null},{\"name\":\"offsety\",\"kind\":\"Any\",\"default\":null},{\"name\":\"theme\",\"kind\":\"Any\",\"default\":\"primary\"},{\"name\":\"status\",\"kind\":\"Any\",\"default\":\"normalized\"}]},{\"type\":\"model\",\"name\":\"GridStack1\",\"properties\":[{\"name\":\"mode\",\"kind\":\"Any\",\"default\":\"warn\"},{\"name\":\"ncols\",\"kind\":\"Any\",\"default\":null},{\"name\":\"nrows\",\"kind\":\"Any\",\"default\":null},{\"name\":\"allow_resize\",\"kind\":\"Any\",\"default\":true},{\"name\":\"allow_drag\",\"kind\":\"Any\",\"default\":true},{\"name\":\"state\",\"kind\":\"Any\",\"default\":[]}]},{\"type\":\"model\",\"name\":\"drag1\",\"properties\":[{\"name\":\"slider_width\",\"kind\":\"Any\",\"default\":5},{\"name\":\"slider_color\",\"kind\":\"Any\",\"default\":\"black\"},{\"name\":\"value\",\"kind\":\"Any\",\"default\":50}]},{\"type\":\"model\",\"name\":\"click1\",\"properties\":[{\"name\":\"terminal_output\",\"kind\":\"Any\",\"default\":\"\"},{\"name\":\"debug_name\",\"kind\":\"Any\",\"default\":\"\"},{\"name\":\"clears\",\"kind\":\"Any\",\"default\":0}]},{\"type\":\"model\",\"name\":\"FastWrapper1\",\"properties\":[{\"name\":\"object\",\"kind\":\"Any\",\"default\":null},{\"name\":\"style\",\"kind\":\"Any\",\"default\":null}]},{\"type\":\"model\",\"name\":\"NotificationAreaBase1\",\"properties\":[{\"name\":\"js_events\",\"kind\":\"Any\",\"default\":{\"type\":\"map\"}},{\"name\":\"position\",\"kind\":\"Any\",\"default\":\"bottom-right\"},{\"name\":\"_clear\",\"kind\":\"Any\",\"default\":0}]},{\"type\":\"model\",\"name\":\"NotificationArea1\",\"properties\":[{\"name\":\"js_events\",\"kind\":\"Any\",\"default\":{\"type\":\"map\"}},{\"name\":\"notifications\",\"kind\":\"Any\",\"default\":[]},{\"name\":\"position\",\"kind\":\"Any\",\"default\":\"bottom-right\"},{\"name\":\"_clear\",\"kind\":\"Any\",\"default\":0},{\"name\":\"types\",\"kind\":\"Any\",\"default\":[{\"type\":\"map\",\"entries\":[[\"type\",\"warning\"],[\"background\",\"#ffc107\"],[\"icon\",{\"type\":\"map\",\"entries\":[[\"className\",\"fas fa-exclamation-triangle\"],[\"tagName\",\"i\"],[\"color\",\"white\"]]}]]},{\"type\":\"map\",\"entries\":[[\"type\",\"info\"],[\"background\",\"#007bff\"],[\"icon\",{\"type\":\"map\",\"entries\":[[\"className\",\"fas fa-info-circle\"],[\"tagName\",\"i\"],[\"color\",\"white\"]]}]]}]}]},{\"type\":\"model\",\"name\":\"Notification\",\"properties\":[{\"name\":\"background\",\"kind\":\"Any\",\"default\":null},{\"name\":\"duration\",\"kind\":\"Any\",\"default\":3000},{\"name\":\"icon\",\"kind\":\"Any\",\"default\":null},{\"name\":\"message\",\"kind\":\"Any\",\"default\":\"\"},{\"name\":\"notification_type\",\"kind\":\"Any\",\"default\":null},{\"name\":\"_destroyed\",\"kind\":\"Any\",\"default\":false}]},{\"type\":\"model\",\"name\":\"TemplateActions1\",\"properties\":[{\"name\":\"open_modal\",\"kind\":\"Any\",\"default\":0},{\"name\":\"close_modal\",\"kind\":\"Any\",\"default\":0}]},{\"type\":\"model\",\"name\":\"BootstrapTemplateActions1\",\"properties\":[{\"name\":\"open_modal\",\"kind\":\"Any\",\"default\":0},{\"name\":\"close_modal\",\"kind\":\"Any\",\"default\":0}]},{\"type\":\"model\",\"name\":\"TemplateEditor1\",\"properties\":[{\"name\":\"layout\",\"kind\":\"Any\",\"default\":[]}]},{\"type\":\"model\",\"name\":\"MaterialTemplateActions1\",\"properties\":[{\"name\":\"open_modal\",\"kind\":\"Any\",\"default\":0},{\"name\":\"close_modal\",\"kind\":\"Any\",\"default\":0}]},{\"type\":\"model\",\"name\":\"copy_to_clipboard1\",\"properties\":[{\"name\":\"fill\",\"kind\":\"Any\",\"default\":\"none\"},{\"name\":\"value\",\"kind\":\"Any\",\"default\":null}]}]}};\n",
       "  var render_items = [{\"docid\":\"69e56dc3-152d-475b-a6aa-d2518647380d\",\"roots\":{\"p1002\":\"b605b5e1-5d05-4d41-b17b-c4f40b0de8f0\"},\"root_ids\":[\"p1002\"]}];\n",
       "  var docs = Object.values(docs_json)\n",
       "  if (!docs) {\n",
       "    return\n",
       "  }\n",
       "  const py_version = docs[0].version.replace('rc', '-rc.').replace('.dev', '-dev.')\n",
       "  async function embed_document(root) {\n",
       "    var Bokeh = get_bokeh(root)\n",
       "    await Bokeh.embed.embed_items_notebook(docs_json, render_items);\n",
       "    for (const render_item of render_items) {\n",
       "      for (const root_id of render_item.root_ids) {\n",
       "\tconst id_el = document.getElementById(root_id)\n",
       "\tif (id_el.children.length && id_el.children[0].hasAttribute('data-root-id')) {\n",
       "\t  const root_el = id_el.children[0]\n",
       "\t  root_el.id = root_el.id + '-rendered'\n",
       "\t  for (const child of root_el.children) {\n",
       "            // Ensure JupyterLab does not capture keyboard shortcuts\n",
       "            // see: https://jupyterlab.readthedocs.io/en/4.1.x/extension/notebook.html#keyboard-interaction-model\n",
       "\t    child.setAttribute('data-lm-suppress-shortcuts', 'true')\n",
       "\t  }\n",
       "\t}\n",
       "      }\n",
       "    }\n",
       "  }\n",
       "  function get_bokeh(root) {\n",
       "    if (root.Bokeh === undefined) {\n",
       "      return null\n",
       "    } else if (root.Bokeh.version !== py_version) {\n",
       "      if (root.Bokeh.versions === undefined || !root.Bokeh.versions.has(py_version)) {\n",
       "\treturn null\n",
       "      }\n",
       "      return root.Bokeh.versions.get(py_version);\n",
       "    } else if (root.Bokeh.version === py_version) {\n",
       "      return root.Bokeh\n",
       "    }\n",
       "    return null\n",
       "  }\n",
       "  function is_loaded(root) {\n",
       "    var Bokeh = get_bokeh(root)\n",
       "    return (Bokeh != null && Bokeh.Panel !== undefined)\n",
       "  }\n",
       "  if (is_loaded(root)) {\n",
       "    embed_document(root);\n",
       "  } else {\n",
       "    var attempts = 0;\n",
       "    var timer = setInterval(function(root) {\n",
       "      if (is_loaded(root)) {\n",
       "        clearInterval(timer);\n",
       "        embed_document(root);\n",
       "      } else if (document.readyState == \"complete\") {\n",
       "        attempts++;\n",
       "        if (attempts > 200) {\n",
       "          clearInterval(timer);\n",
       "\t  var Bokeh = get_bokeh(root)\n",
       "\t  if (Bokeh == null || Bokeh.Panel == null) {\n",
       "            console.warn(\"Panel: ERROR: Unable to run Panel code because Bokeh or Panel library is missing\");\n",
       "\t  } else {\n",
       "\t    console.warn(\"Panel: WARNING: Attempting to render but not all required libraries could be resolved.\")\n",
       "\t    embed_document(root)\n",
       "\t  }\n",
       "        }\n",
       "      }\n",
       "    }, 25, root)\n",
       "  }\n",
       "})(window);</script>"
      ]
     },
     "metadata": {
      "application/vnd.holoviews_exec.v0+json": {
       "id": "p1002"
      }
     },
     "output_type": "display_data"
    }
   ],
   "source": [
    "# Dependencies and Setup\n",
    "import hvplot.pandas\n",
    "import pandas as pd\n",
    "import requests\n",
    "from citipy import citipy\n",
    "# Import API key\n",
    "from api_keys import geoapify_key"
   ]
  },
  {
   "cell_type": "code",
   "execution_count": 3,
   "metadata": {},
   "outputs": [
    {
     "data": {
      "text/html": [
       "<div>\n",
       "<style scoped>\n",
       "    .dataframe tbody tr th:only-of-type {\n",
       "        vertical-align: middle;\n",
       "    }\n",
       "\n",
       "    .dataframe tbody tr th {\n",
       "        vertical-align: top;\n",
       "    }\n",
       "\n",
       "    .dataframe thead th {\n",
       "        text-align: right;\n",
       "    }\n",
       "</style>\n",
       "<table border=\"1\" class=\"dataframe\">\n",
       "  <thead>\n",
       "    <tr style=\"text-align: right;\">\n",
       "      <th></th>\n",
       "      <th>City_ID</th>\n",
       "      <th>City_ID.2</th>\n",
       "      <th>City_ID.1</th>\n",
       "      <th>City</th>\n",
       "      <th>Lat</th>\n",
       "      <th>Lng</th>\n",
       "      <th>Max Temp</th>\n",
       "      <th>Humidity</th>\n",
       "      <th>Cloudiness</th>\n",
       "      <th>Wind Speed</th>\n",
       "      <th>Country</th>\n",
       "      <th>Date</th>\n",
       "    </tr>\n",
       "  </thead>\n",
       "  <tbody>\n",
       "    <tr>\n",
       "      <th>0</th>\n",
       "      <td>0</td>\n",
       "      <td>0</td>\n",
       "      <td>0</td>\n",
       "      <td>faya</td>\n",
       "      <td>18.3851</td>\n",
       "      <td>42.4509</td>\n",
       "      <td>22.06</td>\n",
       "      <td>35</td>\n",
       "      <td>21</td>\n",
       "      <td>2.60</td>\n",
       "      <td>SA</td>\n",
       "      <td>1666108228</td>\n",
       "    </tr>\n",
       "    <tr>\n",
       "      <th>1</th>\n",
       "      <td>1</td>\n",
       "      <td>1</td>\n",
       "      <td>1</td>\n",
       "      <td>farsund</td>\n",
       "      <td>58.0948</td>\n",
       "      <td>6.8047</td>\n",
       "      <td>13.30</td>\n",
       "      <td>100</td>\n",
       "      <td>0</td>\n",
       "      <td>7.65</td>\n",
       "      <td>NO</td>\n",
       "      <td>1666108228</td>\n",
       "    </tr>\n",
       "    <tr>\n",
       "      <th>2</th>\n",
       "      <td>2</td>\n",
       "      <td>2</td>\n",
       "      <td>2</td>\n",
       "      <td>new norfolk</td>\n",
       "      <td>-42.7826</td>\n",
       "      <td>147.0587</td>\n",
       "      <td>11.72</td>\n",
       "      <td>58</td>\n",
       "      <td>12</td>\n",
       "      <td>1.34</td>\n",
       "      <td>AU</td>\n",
       "      <td>1666108230</td>\n",
       "    </tr>\n",
       "    <tr>\n",
       "      <th>3</th>\n",
       "      <td>3</td>\n",
       "      <td>3</td>\n",
       "      <td>3</td>\n",
       "      <td>jamestown</td>\n",
       "      <td>42.0970</td>\n",
       "      <td>-79.2353</td>\n",
       "      <td>5.77</td>\n",
       "      <td>77</td>\n",
       "      <td>100</td>\n",
       "      <td>9.77</td>\n",
       "      <td>US</td>\n",
       "      <td>1666107934</td>\n",
       "    </tr>\n",
       "    <tr>\n",
       "      <th>4</th>\n",
       "      <td>4</td>\n",
       "      <td>4</td>\n",
       "      <td>4</td>\n",
       "      <td>lanzhou</td>\n",
       "      <td>36.0564</td>\n",
       "      <td>103.7922</td>\n",
       "      <td>14.53</td>\n",
       "      <td>48</td>\n",
       "      <td>59</td>\n",
       "      <td>1.20</td>\n",
       "      <td>CN</td>\n",
       "      <td>1666108230</td>\n",
       "    </tr>\n",
       "  </tbody>\n",
       "</table>\n",
       "</div>"
      ],
      "text/plain": [
       "   City_ID  City_ID.2  City_ID.1         City      Lat       Lng  Max Temp  \\\n",
       "0        0          0          0         faya  18.3851   42.4509     22.06   \n",
       "1        1          1          1      farsund  58.0948    6.8047     13.30   \n",
       "2        2          2          2  new norfolk -42.7826  147.0587     11.72   \n",
       "3        3          3          3    jamestown  42.0970  -79.2353      5.77   \n",
       "4        4          4          4      lanzhou  36.0564  103.7922     14.53   \n",
       "\n",
       "   Humidity  Cloudiness  Wind Speed Country        Date  \n",
       "0        35          21        2.60      SA  1666108228  \n",
       "1       100           0        7.65      NO  1666108228  \n",
       "2        58          12        1.34      AU  1666108230  \n",
       "3        77         100        9.77      US  1666107934  \n",
       "4        48          59        1.20      CN  1666108230  "
      ]
     },
     "execution_count": 3,
     "metadata": {},
     "output_type": "execute_result"
    }
   ],
   "source": [
    "# Load the CSV file created in Part 1 into a Pandas DataFrame\n",
    "city_data_df = pd.read_csv(\"output_data/cities.csv\")\n",
    "\n",
    "# Display sample data\n",
    "city_data_df.head()"
   ]
  },
  {
   "cell_type": "markdown",
   "metadata": {},
   "source": [
    "---\n",
    "\n",
    "### Step 1: Create a map that displays a point for every city in the `city_data_df` DataFrame. The size of the point should be the humidity in each city."
   ]
  },
  {
   "cell_type": "code",
   "execution_count": 4,
   "metadata": {},
   "outputs": [
    {
     "data": {
      "application/vnd.plotly.v1+json": {
       "config": {
        "plotlyServerURL": "https://plot.ly"
       },
       "data": [
        {
         "hovertemplate": "<b>%{hovertext}</b><br><br>City=faya<br>Humidity=%{marker.size}<br>Lat=%{lat}<br>Lng=%{lon}<extra></extra>",
         "hovertext": [
          "faya"
         ],
         "lat": [
          18.3851
         ],
         "legendgroup": "faya",
         "lon": [
          42.4509
         ],
         "marker": {
          "color": "#636efa",
          "size": [
           35
          ],
          "sizemode": "area",
          "sizeref": 0.4444444444444444
         },
         "mode": "markers",
         "name": "faya",
         "showlegend": true,
         "subplot": "mapbox",
         "type": "scattermapbox"
        },
        {
         "hovertemplate": "<b>%{hovertext}</b><br><br>City=farsund<br>Humidity=%{marker.size}<br>Lat=%{lat}<br>Lng=%{lon}<extra></extra>",
         "hovertext": [
          "farsund"
         ],
         "lat": [
          58.0948
         ],
         "legendgroup": "farsund",
         "lon": [
          6.8047
         ],
         "marker": {
          "color": "#EF553B",
          "size": [
           100
          ],
          "sizemode": "area",
          "sizeref": 0.4444444444444444
         },
         "mode": "markers",
         "name": "farsund",
         "showlegend": true,
         "subplot": "mapbox",
         "type": "scattermapbox"
        },
        {
         "hovertemplate": "<b>%{hovertext}</b><br><br>City=new norfolk<br>Humidity=%{marker.size}<br>Lat=%{lat}<br>Lng=%{lon}<extra></extra>",
         "hovertext": [
          "new norfolk"
         ],
         "lat": [
          -42.7826
         ],
         "legendgroup": "new norfolk",
         "lon": [
          147.0587
         ],
         "marker": {
          "color": "#00cc96",
          "size": [
           58
          ],
          "sizemode": "area",
          "sizeref": 0.4444444444444444
         },
         "mode": "markers",
         "name": "new norfolk",
         "showlegend": true,
         "subplot": "mapbox",
         "type": "scattermapbox"
        },
        {
         "hovertemplate": "<b>%{hovertext}</b><br><br>City=jamestown<br>Humidity=%{marker.size}<br>Lat=%{lat}<br>Lng=%{lon}<extra></extra>",
         "hovertext": [
          "jamestown"
         ],
         "lat": [
          42.097
         ],
         "legendgroup": "jamestown",
         "lon": [
          -79.2353
         ],
         "marker": {
          "color": "#ab63fa",
          "size": [
           77
          ],
          "sizemode": "area",
          "sizeref": 0.4444444444444444
         },
         "mode": "markers",
         "name": "jamestown",
         "showlegend": true,
         "subplot": "mapbox",
         "type": "scattermapbox"
        },
        {
         "hovertemplate": "<b>%{hovertext}</b><br><br>City=lanzhou<br>Humidity=%{marker.size}<br>Lat=%{lat}<br>Lng=%{lon}<extra></extra>",
         "hovertext": [
          "lanzhou"
         ],
         "lat": [
          36.0564
         ],
         "legendgroup": "lanzhou",
         "lon": [
          103.7922
         ],
         "marker": {
          "color": "#FFA15A",
          "size": [
           48
          ],
          "sizemode": "area",
          "sizeref": 0.4444444444444444
         },
         "mode": "markers",
         "name": "lanzhou",
         "showlegend": true,
         "subplot": "mapbox",
         "type": "scattermapbox"
        },
        {
         "hovertemplate": "<b>%{hovertext}</b><br><br>City=ushuaia<br>Humidity=%{marker.size}<br>Lat=%{lat}<br>Lng=%{lon}<extra></extra>",
         "hovertext": [
          "ushuaia"
         ],
         "lat": [
          -54.8
         ],
         "legendgroup": "ushuaia",
         "lon": [
          -68.3
         ],
         "marker": {
          "color": "#19d3f3",
          "size": [
           81
          ],
          "sizemode": "area",
          "sizeref": 0.4444444444444444
         },
         "mode": "markers",
         "name": "ushuaia",
         "showlegend": true,
         "subplot": "mapbox",
         "type": "scattermapbox"
        },
        {
         "hovertemplate": "<b>%{hovertext}</b><br><br>City=albany<br>Humidity=%{marker.size}<br>Lat=%{lat}<br>Lng=%{lon}<extra></extra>",
         "hovertext": [
          "albany"
         ],
         "lat": [
          42.6001
         ],
         "legendgroup": "albany",
         "lon": [
          -73.9662
         ],
         "marker": {
          "color": "#FF6692",
          "size": [
           74
          ],
          "sizemode": "area",
          "sizeref": 0.4444444444444444
         },
         "mode": "markers",
         "name": "albany",
         "showlegend": true,
         "subplot": "mapbox",
         "type": "scattermapbox"
        },
        {
         "hovertemplate": "<b>%{hovertext}</b><br><br>City=carnarvon<br>Humidity=%{marker.size}<br>Lat=%{lat}<br>Lng=%{lon}<extra></extra>",
         "hovertext": [
          "carnarvon"
         ],
         "lat": [
          -24.8667
         ],
         "legendgroup": "carnarvon",
         "lon": [
          113.6333
         ],
         "marker": {
          "color": "#B6E880",
          "size": [
           76
          ],
          "sizemode": "area",
          "sizeref": 0.4444444444444444
         },
         "mode": "markers",
         "name": "carnarvon",
         "showlegend": true,
         "subplot": "mapbox",
         "type": "scattermapbox"
        },
        {
         "hovertemplate": "<b>%{hovertext}</b><br><br>City=sisimiut<br>Humidity=%{marker.size}<br>Lat=%{lat}<br>Lng=%{lon}<extra></extra>",
         "hovertext": [
          "sisimiut"
         ],
         "lat": [
          66.9395
         ],
         "legendgroup": "sisimiut",
         "lon": [
          -53.6735
         ],
         "marker": {
          "color": "#FF97FF",
          "size": [
           98
          ],
          "sizemode": "area",
          "sizeref": 0.4444444444444444
         },
         "mode": "markers",
         "name": "sisimiut",
         "showlegend": true,
         "subplot": "mapbox",
         "type": "scattermapbox"
        },
        {
         "hovertemplate": "<b>%{hovertext}</b><br><br>City=saint-pierre<br>Humidity=%{marker.size}<br>Lat=%{lat}<br>Lng=%{lon}<extra></extra>",
         "hovertext": [
          "saint-pierre"
         ],
         "lat": [
          -21.3393
         ],
         "legendgroup": "saint-pierre",
         "lon": [
          55.4781
         ],
         "marker": {
          "color": "#FECB52",
          "size": [
           68
          ],
          "sizemode": "area",
          "sizeref": 0.4444444444444444
         },
         "mode": "markers",
         "name": "saint-pierre",
         "showlegend": true,
         "subplot": "mapbox",
         "type": "scattermapbox"
        },
        {
         "hovertemplate": "<b>%{hovertext}</b><br><br>City=colorado<br>Humidity=%{marker.size}<br>Lat=%{lat}<br>Lng=%{lon}<extra></extra>",
         "hovertext": [
          "colorado"
         ],
         "lat": [
          -22.8375
         ],
         "legendgroup": "colorado",
         "lon": [
          -51.9731
         ],
         "marker": {
          "color": "#636efa",
          "size": [
           86
          ],
          "sizemode": "area",
          "sizeref": 0.4444444444444444
         },
         "mode": "markers",
         "name": "colorado",
         "showlegend": true,
         "subplot": "mapbox",
         "type": "scattermapbox"
        },
        {
         "hovertemplate": "<b>%{hovertext}</b><br><br>City=nikolskoye<br>Humidity=%{marker.size}<br>Lat=%{lat}<br>Lng=%{lon}<extra></extra>",
         "hovertext": [
          "nikolskoye"
         ],
         "lat": [
          59.7035
         ],
         "legendgroup": "nikolskoye",
         "lon": [
          30.7861
         ],
         "marker": {
          "color": "#EF553B",
          "size": [
           90
          ],
          "sizemode": "area",
          "sizeref": 0.4444444444444444
         },
         "mode": "markers",
         "name": "nikolskoye",
         "showlegend": true,
         "subplot": "mapbox",
         "type": "scattermapbox"
        },
        {
         "hovertemplate": "<b>%{hovertext}</b><br><br>City=trairi<br>Humidity=%{marker.size}<br>Lat=%{lat}<br>Lng=%{lon}<extra></extra>",
         "hovertext": [
          "trairi"
         ],
         "lat": [
          -3.2778
         ],
         "legendgroup": "trairi",
         "lon": [
          -39.2689
         ],
         "marker": {
          "color": "#00cc96",
          "size": [
           51
          ],
          "sizemode": "area",
          "sizeref": 0.4444444444444444
         },
         "mode": "markers",
         "name": "trairi",
         "showlegend": true,
         "subplot": "mapbox",
         "type": "scattermapbox"
        },
        {
         "hovertemplate": "<b>%{hovertext}</b><br><br>City=dobryanka<br>Humidity=%{marker.size}<br>Lat=%{lat}<br>Lng=%{lon}<extra></extra>",
         "hovertext": [
          "dobryanka"
         ],
         "lat": [
          58.4619
         ],
         "legendgroup": "dobryanka",
         "lon": [
          56.4165
         ],
         "marker": {
          "color": "#ab63fa",
          "size": [
           93
          ],
          "sizemode": "area",
          "sizeref": 0.4444444444444444
         },
         "mode": "markers",
         "name": "dobryanka",
         "showlegend": true,
         "subplot": "mapbox",
         "type": "scattermapbox"
        },
        {
         "hovertemplate": "<b>%{hovertext}</b><br><br>City=qaanaaq<br>Humidity=%{marker.size}<br>Lat=%{lat}<br>Lng=%{lon}<extra></extra>",
         "hovertext": [
          "qaanaaq"
         ],
         "lat": [
          77.484
         ],
         "legendgroup": "qaanaaq",
         "lon": [
          -69.3632
         ],
         "marker": {
          "color": "#FFA15A",
          "size": [
           74
          ],
          "sizemode": "area",
          "sizeref": 0.4444444444444444
         },
         "mode": "markers",
         "name": "qaanaaq",
         "showlegend": true,
         "subplot": "mapbox",
         "type": "scattermapbox"
        },
        {
         "hovertemplate": "<b>%{hovertext}</b><br><br>City=mataura<br>Humidity=%{marker.size}<br>Lat=%{lat}<br>Lng=%{lon}<extra></extra>",
         "hovertext": [
          "mataura"
         ],
         "lat": [
          -46.1927
         ],
         "legendgroup": "mataura",
         "lon": [
          168.8643
         ],
         "marker": {
          "color": "#19d3f3",
          "size": [
           96
          ],
          "sizemode": "area",
          "sizeref": 0.4444444444444444
         },
         "mode": "markers",
         "name": "mataura",
         "showlegend": true,
         "subplot": "mapbox",
         "type": "scattermapbox"
        },
        {
         "hovertemplate": "<b>%{hovertext}</b><br><br>City=khatanga<br>Humidity=%{marker.size}<br>Lat=%{lat}<br>Lng=%{lon}<extra></extra>",
         "hovertext": [
          "khatanga"
         ],
         "lat": [
          71.9667
         ],
         "legendgroup": "khatanga",
         "lon": [
          102.5
         ],
         "marker": {
          "color": "#FF6692",
          "size": [
           96
          ],
          "sizemode": "area",
          "sizeref": 0.4444444444444444
         },
         "mode": "markers",
         "name": "khatanga",
         "showlegend": true,
         "subplot": "mapbox",
         "type": "scattermapbox"
        },
        {
         "hovertemplate": "<b>%{hovertext}</b><br><br>City=tasiilaq<br>Humidity=%{marker.size}<br>Lat=%{lat}<br>Lng=%{lon}<extra></extra>",
         "hovertext": [
          "tasiilaq"
         ],
         "lat": [
          65.6145
         ],
         "legendgroup": "tasiilaq",
         "lon": [
          -37.6368
         ],
         "marker": {
          "color": "#B6E880",
          "size": [
           84
          ],
          "sizemode": "area",
          "sizeref": 0.4444444444444444
         },
         "mode": "markers",
         "name": "tasiilaq",
         "showlegend": true,
         "subplot": "mapbox",
         "type": "scattermapbox"
        },
        {
         "hovertemplate": "<b>%{hovertext}</b><br><br>City=tiksi<br>Humidity=%{marker.size}<br>Lat=%{lat}<br>Lng=%{lon}<extra></extra>",
         "hovertext": [
          "tiksi"
         ],
         "lat": [
          71.6872
         ],
         "legendgroup": "tiksi",
         "lon": [
          128.8694
         ],
         "marker": {
          "color": "#FF97FF",
          "size": [
           93
          ],
          "sizemode": "area",
          "sizeref": 0.4444444444444444
         },
         "mode": "markers",
         "name": "tiksi",
         "showlegend": true,
         "subplot": "mapbox",
         "type": "scattermapbox"
        },
        {
         "hovertemplate": "<b>%{hovertext}</b><br><br>City=puerto ayora<br>Humidity=%{marker.size}<br>Lat=%{lat}<br>Lng=%{lon}<extra></extra>",
         "hovertext": [
          "puerto ayora"
         ],
         "lat": [
          -0.7393
         ],
         "legendgroup": "puerto ayora",
         "lon": [
          -90.3518
         ],
         "marker": {
          "color": "#FECB52",
          "size": [
           82
          ],
          "sizemode": "area",
          "sizeref": 0.4444444444444444
         },
         "mode": "markers",
         "name": "puerto ayora",
         "showlegend": true,
         "subplot": "mapbox",
         "type": "scattermapbox"
        },
        {
         "hovertemplate": "<b>%{hovertext}</b><br><br>City=avarua<br>Humidity=%{marker.size}<br>Lat=%{lat}<br>Lng=%{lon}<extra></extra>",
         "hovertext": [
          "avarua"
         ],
         "lat": [
          -21.2078
         ],
         "legendgroup": "avarua",
         "lon": [
          -159.775
         ],
         "marker": {
          "color": "#636efa",
          "size": [
           73
          ],
          "sizemode": "area",
          "sizeref": 0.4444444444444444
         },
         "mode": "markers",
         "name": "avarua",
         "showlegend": true,
         "subplot": "mapbox",
         "type": "scattermapbox"
        },
        {
         "hovertemplate": "<b>%{hovertext}</b><br><br>City=nuevo laredo<br>Humidity=%{marker.size}<br>Lat=%{lat}<br>Lng=%{lon}<extra></extra>",
         "hovertext": [
          "nuevo laredo"
         ],
         "lat": [
          27.4763
         ],
         "legendgroup": "nuevo laredo",
         "lon": [
          -99.5164
         ],
         "marker": {
          "color": "#EF553B",
          "size": [
           87
          ],
          "sizemode": "area",
          "sizeref": 0.4444444444444444
         },
         "mode": "markers",
         "name": "nuevo laredo",
         "showlegend": true,
         "subplot": "mapbox",
         "type": "scattermapbox"
        },
        {
         "hovertemplate": "<b>%{hovertext}</b><br><br>City=guiratinga<br>Humidity=%{marker.size}<br>Lat=%{lat}<br>Lng=%{lon}<extra></extra>",
         "hovertext": [
          "guiratinga"
         ],
         "lat": [
          -16.3494
         ],
         "legendgroup": "guiratinga",
         "lon": [
          -53.7583
         ],
         "marker": {
          "color": "#00cc96",
          "size": [
           14
          ],
          "sizemode": "area",
          "sizeref": 0.4444444444444444
         },
         "mode": "markers",
         "name": "guiratinga",
         "showlegend": true,
         "subplot": "mapbox",
         "type": "scattermapbox"
        },
        {
         "hovertemplate": "<b>%{hovertext}</b><br><br>City=rikitea<br>Humidity=%{marker.size}<br>Lat=%{lat}<br>Lng=%{lon}<extra></extra>",
         "hovertext": [
          "rikitea"
         ],
         "lat": [
          -23.1203
         ],
         "legendgroup": "rikitea",
         "lon": [
          -134.9692
         ],
         "marker": {
          "color": "#ab63fa",
          "size": [
           65
          ],
          "sizemode": "area",
          "sizeref": 0.4444444444444444
         },
         "mode": "markers",
         "name": "rikitea",
         "showlegend": true,
         "subplot": "mapbox",
         "type": "scattermapbox"
        },
        {
         "hovertemplate": "<b>%{hovertext}</b><br><br>City=dukat<br>Humidity=%{marker.size}<br>Lat=%{lat}<br>Lng=%{lon}<extra></extra>",
         "hovertext": [
          "dukat"
         ],
         "lat": [
          62.55
         ],
         "legendgroup": "dukat",
         "lon": [
          155.55
         ],
         "marker": {
          "color": "#FFA15A",
          "size": [
           95
          ],
          "sizemode": "area",
          "sizeref": 0.4444444444444444
         },
         "mode": "markers",
         "name": "dukat",
         "showlegend": true,
         "subplot": "mapbox",
         "type": "scattermapbox"
        },
        {
         "hovertemplate": "<b>%{hovertext}</b><br><br>City=constitucion<br>Humidity=%{marker.size}<br>Lat=%{lat}<br>Lng=%{lon}<extra></extra>",
         "hovertext": [
          "constitucion"
         ],
         "lat": [
          -35.3333
         ],
         "legendgroup": "constitucion",
         "lon": [
          -72.4167
         ],
         "marker": {
          "color": "#19d3f3",
          "size": [
           61
          ],
          "sizemode": "area",
          "sizeref": 0.4444444444444444
         },
         "mode": "markers",
         "name": "constitucion",
         "showlegend": true,
         "subplot": "mapbox",
         "type": "scattermapbox"
        },
        {
         "hovertemplate": "<b>%{hovertext}</b><br><br>City=senneterre<br>Humidity=%{marker.size}<br>Lat=%{lat}<br>Lng=%{lon}<extra></extra>",
         "hovertext": [
          "senneterre"
         ],
         "lat": [
          48.3835
         ],
         "legendgroup": "senneterre",
         "lon": [
          -77.2328
         ],
         "marker": {
          "color": "#FF6692",
          "size": [
           90
          ],
          "sizemode": "area",
          "sizeref": 0.4444444444444444
         },
         "mode": "markers",
         "name": "senneterre",
         "showlegend": true,
         "subplot": "mapbox",
         "type": "scattermapbox"
        },
        {
         "hovertemplate": "<b>%{hovertext}</b><br><br>City=bambous virieux<br>Humidity=%{marker.size}<br>Lat=%{lat}<br>Lng=%{lon}<extra></extra>",
         "hovertext": [
          "bambous virieux"
         ],
         "lat": [
          -20.3428
         ],
         "legendgroup": "bambous virieux",
         "lon": [
          57.7575
         ],
         "marker": {
          "color": "#B6E880",
          "size": [
           68
          ],
          "sizemode": "area",
          "sizeref": 0.4444444444444444
         },
         "mode": "markers",
         "name": "bambous virieux",
         "showlegend": true,
         "subplot": "mapbox",
         "type": "scattermapbox"
        },
        {
         "hovertemplate": "<b>%{hovertext}</b><br><br>City=zangakatun<br>Humidity=%{marker.size}<br>Lat=%{lat}<br>Lng=%{lon}<extra></extra>",
         "hovertext": [
          "zangakatun"
         ],
         "lat": [
          39.8212
         ],
         "legendgroup": "zangakatun",
         "lon": [
          45.0406
         ],
         "marker": {
          "color": "#FF97FF",
          "size": [
           55
          ],
          "sizemode": "area",
          "sizeref": 0.4444444444444444
         },
         "mode": "markers",
         "name": "zangakatun",
         "showlegend": true,
         "subplot": "mapbox",
         "type": "scattermapbox"
        },
        {
         "hovertemplate": "<b>%{hovertext}</b><br><br>City=saint-louis<br>Humidity=%{marker.size}<br>Lat=%{lat}<br>Lng=%{lon}<extra></extra>",
         "hovertext": [
          "saint-louis"
         ],
         "lat": [
          16.3333
         ],
         "legendgroup": "saint-louis",
         "lon": [
          -15
         ],
         "marker": {
          "color": "#FECB52",
          "size": [
           24
          ],
          "sizemode": "area",
          "sizeref": 0.4444444444444444
         },
         "mode": "markers",
         "name": "saint-louis",
         "showlegend": true,
         "subplot": "mapbox",
         "type": "scattermapbox"
        },
        {
         "hovertemplate": "<b>%{hovertext}</b><br><br>City=midwest city<br>Humidity=%{marker.size}<br>Lat=%{lat}<br>Lng=%{lon}<extra></extra>",
         "hovertext": [
          "midwest city"
         ],
         "lat": [
          35.4495
         ],
         "legendgroup": "midwest city",
         "lon": [
          -97.3967
         ],
         "marker": {
          "color": "#636efa",
          "size": [
           33
          ],
          "sizemode": "area",
          "sizeref": 0.4444444444444444
         },
         "mode": "markers",
         "name": "midwest city",
         "showlegend": true,
         "subplot": "mapbox",
         "type": "scattermapbox"
        },
        {
         "hovertemplate": "<b>%{hovertext}</b><br><br>City=grimmen<br>Humidity=%{marker.size}<br>Lat=%{lat}<br>Lng=%{lon}<extra></extra>",
         "hovertext": [
          "grimmen"
         ],
         "lat": [
          54.1121
         ],
         "legendgroup": "grimmen",
         "lon": [
          13.0405
         ],
         "marker": {
          "color": "#EF553B",
          "size": [
           75
          ],
          "sizemode": "area",
          "sizeref": 0.4444444444444444
         },
         "mode": "markers",
         "name": "grimmen",
         "showlegend": true,
         "subplot": "mapbox",
         "type": "scattermapbox"
        },
        {
         "hovertemplate": "<b>%{hovertext}</b><br><br>City=cape town<br>Humidity=%{marker.size}<br>Lat=%{lat}<br>Lng=%{lon}<extra></extra>",
         "hovertext": [
          "cape town"
         ],
         "lat": [
          -33.9258
         ],
         "legendgroup": "cape town",
         "lon": [
          18.4232
         ],
         "marker": {
          "color": "#00cc96",
          "size": [
           71
          ],
          "sizemode": "area",
          "sizeref": 0.4444444444444444
         },
         "mode": "markers",
         "name": "cape town",
         "showlegend": true,
         "subplot": "mapbox",
         "type": "scattermapbox"
        },
        {
         "hovertemplate": "<b>%{hovertext}</b><br><br>City=stornoway<br>Humidity=%{marker.size}<br>Lat=%{lat}<br>Lng=%{lon}<extra></extra>",
         "hovertext": [
          "stornoway"
         ],
         "lat": [
          58.2093
         ],
         "legendgroup": "stornoway",
         "lon": [
          -6.3865
         ],
         "marker": {
          "color": "#ab63fa",
          "size": [
           79
          ],
          "sizemode": "area",
          "sizeref": 0.4444444444444444
         },
         "mode": "markers",
         "name": "stornoway",
         "showlegend": true,
         "subplot": "mapbox",
         "type": "scattermapbox"
        },
        {
         "hovertemplate": "<b>%{hovertext}</b><br><br>City=naberera<br>Humidity=%{marker.size}<br>Lat=%{lat}<br>Lng=%{lon}<extra></extra>",
         "hovertext": [
          "naberera"
         ],
         "lat": [
          -4.2
         ],
         "legendgroup": "naberera",
         "lon": [
          36.9333
         ],
         "marker": {
          "color": "#FFA15A",
          "size": [
           54
          ],
          "sizemode": "area",
          "sizeref": 0.4444444444444444
         },
         "mode": "markers",
         "name": "naberera",
         "showlegend": true,
         "subplot": "mapbox",
         "type": "scattermapbox"
        },
        {
         "hovertemplate": "<b>%{hovertext}</b><br><br>City=chokurdakh<br>Humidity=%{marker.size}<br>Lat=%{lat}<br>Lng=%{lon}<extra></extra>",
         "hovertext": [
          "chokurdakh"
         ],
         "lat": [
          70.6333
         ],
         "legendgroup": "chokurdakh",
         "lon": [
          147.9167
         ],
         "marker": {
          "color": "#19d3f3",
          "size": [
           98
          ],
          "sizemode": "area",
          "sizeref": 0.4444444444444444
         },
         "mode": "markers",
         "name": "chokurdakh",
         "showlegend": true,
         "subplot": "mapbox",
         "type": "scattermapbox"
        },
        {
         "hovertemplate": "<b>%{hovertext}</b><br><br>City=drochia<br>Humidity=%{marker.size}<br>Lat=%{lat}<br>Lng=%{lon}<extra></extra>",
         "hovertext": [
          "drochia"
         ],
         "lat": [
          48.035
         ],
         "legendgroup": "drochia",
         "lon": [
          27.8161
         ],
         "marker": {
          "color": "#FF6692",
          "size": [
           30
          ],
          "sizemode": "area",
          "sizeref": 0.4444444444444444
         },
         "mode": "markers",
         "name": "drochia",
         "showlegend": true,
         "subplot": "mapbox",
         "type": "scattermapbox"
        },
        {
         "hovertemplate": "<b>%{hovertext}</b><br><br>City=klaksvik<br>Humidity=%{marker.size}<br>Lat=%{lat}<br>Lng=%{lon}<extra></extra>",
         "hovertext": [
          "klaksvik"
         ],
         "lat": [
          62.2266
         ],
         "legendgroup": "klaksvik",
         "lon": [
          -6.589
         ],
         "marker": {
          "color": "#B6E880",
          "size": [
           65
          ],
          "sizemode": "area",
          "sizeref": 0.4444444444444444
         },
         "mode": "markers",
         "name": "klaksvik",
         "showlegend": true,
         "subplot": "mapbox",
         "type": "scattermapbox"
        },
        {
         "hovertemplate": "<b>%{hovertext}</b><br><br>City=labuhan<br>Humidity=%{marker.size}<br>Lat=%{lat}<br>Lng=%{lon}<extra></extra>",
         "hovertext": [
          "labuhan"
         ],
         "lat": [
          -6.8844
         ],
         "legendgroup": "labuhan",
         "lon": [
          112.2051
         ],
         "marker": {
          "color": "#FF97FF",
          "size": [
           88
          ],
          "sizemode": "area",
          "sizeref": 0.4444444444444444
         },
         "mode": "markers",
         "name": "labuhan",
         "showlegend": true,
         "subplot": "mapbox",
         "type": "scattermapbox"
        },
        {
         "hovertemplate": "<b>%{hovertext}</b><br><br>City=tomatlan<br>Humidity=%{marker.size}<br>Lat=%{lat}<br>Lng=%{lon}<extra></extra>",
         "hovertext": [
          "tomatlan"
         ],
         "lat": [
          19.9333
         ],
         "legendgroup": "tomatlan",
         "lon": [
          -105.25
         ],
         "marker": {
          "color": "#FECB52",
          "size": [
           71
          ],
          "sizemode": "area",
          "sizeref": 0.4444444444444444
         },
         "mode": "markers",
         "name": "tomatlan",
         "showlegend": true,
         "subplot": "mapbox",
         "type": "scattermapbox"
        },
        {
         "hovertemplate": "<b>%{hovertext}</b><br><br>City=clyde river<br>Humidity=%{marker.size}<br>Lat=%{lat}<br>Lng=%{lon}<extra></extra>",
         "hovertext": [
          "clyde river"
         ],
         "lat": [
          70.4692
         ],
         "legendgroup": "clyde river",
         "lon": [
          -68.5914
         ],
         "marker": {
          "color": "#636efa",
          "size": [
           93
          ],
          "sizemode": "area",
          "sizeref": 0.4444444444444444
         },
         "mode": "markers",
         "name": "clyde river",
         "showlegend": true,
         "subplot": "mapbox",
         "type": "scattermapbox"
        },
        {
         "hovertemplate": "<b>%{hovertext}</b><br><br>City=sao joao da barra<br>Humidity=%{marker.size}<br>Lat=%{lat}<br>Lng=%{lon}<extra></extra>",
         "hovertext": [
          "sao joao da barra"
         ],
         "lat": [
          -21.6403
         ],
         "legendgroup": "sao joao da barra",
         "lon": [
          -41.0511
         ],
         "marker": {
          "color": "#EF553B",
          "size": [
           75
          ],
          "sizemode": "area",
          "sizeref": 0.4444444444444444
         },
         "mode": "markers",
         "name": "sao joao da barra",
         "showlegend": true,
         "subplot": "mapbox",
         "type": "scattermapbox"
        },
        {
         "hovertemplate": "<b>%{hovertext}</b><br><br>City=margate<br>Humidity=%{marker.size}<br>Lat=%{lat}<br>Lng=%{lon}<extra></extra>",
         "hovertext": [
          "margate"
         ],
         "lat": [
          51.3813
         ],
         "legendgroup": "margate",
         "lon": [
          1.3862
         ],
         "marker": {
          "color": "#00cc96",
          "size": [
           76
          ],
          "sizemode": "area",
          "sizeref": 0.4444444444444444
         },
         "mode": "markers",
         "name": "margate",
         "showlegend": true,
         "subplot": "mapbox",
         "type": "scattermapbox"
        },
        {
         "hovertemplate": "<b>%{hovertext}</b><br><br>City=ancud<br>Humidity=%{marker.size}<br>Lat=%{lat}<br>Lng=%{lon}<extra></extra>",
         "hovertext": [
          "ancud"
         ],
         "lat": [
          -41.8697
         ],
         "legendgroup": "ancud",
         "lon": [
          -73.8203
         ],
         "marker": {
          "color": "#ab63fa",
          "size": [
           70
          ],
          "sizemode": "area",
          "sizeref": 0.4444444444444444
         },
         "mode": "markers",
         "name": "ancud",
         "showlegend": true,
         "subplot": "mapbox",
         "type": "scattermapbox"
        },
        {
         "hovertemplate": "<b>%{hovertext}</b><br><br>City=collierville<br>Humidity=%{marker.size}<br>Lat=%{lat}<br>Lng=%{lon}<extra></extra>",
         "hovertext": [
          "collierville"
         ],
         "lat": [
          35.042
         ],
         "legendgroup": "collierville",
         "lon": [
          -89.6645
         ],
         "marker": {
          "color": "#FFA15A",
          "size": [
           47
          ],
          "sizemode": "area",
          "sizeref": 0.4444444444444444
         },
         "mode": "markers",
         "name": "collierville",
         "showlegend": true,
         "subplot": "mapbox",
         "type": "scattermapbox"
        },
        {
         "hovertemplate": "<b>%{hovertext}</b><br><br>City=kapaa<br>Humidity=%{marker.size}<br>Lat=%{lat}<br>Lng=%{lon}<extra></extra>",
         "hovertext": [
          "kapaa"
         ],
         "lat": [
          22.0752
         ],
         "legendgroup": "kapaa",
         "lon": [
          -159.319
         ],
         "marker": {
          "color": "#19d3f3",
          "size": [
           84
          ],
          "sizemode": "area",
          "sizeref": 0.4444444444444444
         },
         "mode": "markers",
         "name": "kapaa",
         "showlegend": true,
         "subplot": "mapbox",
         "type": "scattermapbox"
        },
        {
         "hovertemplate": "<b>%{hovertext}</b><br><br>City=mogadishu<br>Humidity=%{marker.size}<br>Lat=%{lat}<br>Lng=%{lon}<extra></extra>",
         "hovertext": [
          "mogadishu"
         ],
         "lat": [
          2.0371
         ],
         "legendgroup": "mogadishu",
         "lon": [
          45.3438
         ],
         "marker": {
          "color": "#FF6692",
          "size": [
           83
          ],
          "sizemode": "area",
          "sizeref": 0.4444444444444444
         },
         "mode": "markers",
         "name": "mogadishu",
         "showlegend": true,
         "subplot": "mapbox",
         "type": "scattermapbox"
        },
        {
         "hovertemplate": "<b>%{hovertext}</b><br><br>City=tsalka<br>Humidity=%{marker.size}<br>Lat=%{lat}<br>Lng=%{lon}<extra></extra>",
         "hovertext": [
          "tsalka"
         ],
         "lat": [
          41.5946
         ],
         "legendgroup": "tsalka",
         "lon": [
          44.0891
         ],
         "marker": {
          "color": "#B6E880",
          "size": [
           95
          ],
          "sizemode": "area",
          "sizeref": 0.4444444444444444
         },
         "mode": "markers",
         "name": "tsalka",
         "showlegend": true,
         "subplot": "mapbox",
         "type": "scattermapbox"
        },
        {
         "hovertemplate": "<b>%{hovertext}</b><br><br>City=dalby<br>Humidity=%{marker.size}<br>Lat=%{lat}<br>Lng=%{lon}<extra></extra>",
         "hovertext": [
          "dalby"
         ],
         "lat": [
          -27.1833
         ],
         "legendgroup": "dalby",
         "lon": [
          151.2667
         ],
         "marker": {
          "color": "#FF97FF",
          "size": [
           80
          ],
          "sizemode": "area",
          "sizeref": 0.4444444444444444
         },
         "mode": "markers",
         "name": "dalby",
         "showlegend": true,
         "subplot": "mapbox",
         "type": "scattermapbox"
        },
        {
         "hovertemplate": "<b>%{hovertext}</b><br><br>City=hobart<br>Humidity=%{marker.size}<br>Lat=%{lat}<br>Lng=%{lon}<extra></extra>",
         "hovertext": [
          "hobart"
         ],
         "lat": [
          -42.8794
         ],
         "legendgroup": "hobart",
         "lon": [
          147.3294
         ],
         "marker": {
          "color": "#FECB52",
          "size": [
           68
          ],
          "sizemode": "area",
          "sizeref": 0.4444444444444444
         },
         "mode": "markers",
         "name": "hobart",
         "showlegend": true,
         "subplot": "mapbox",
         "type": "scattermapbox"
        },
        {
         "hovertemplate": "<b>%{hovertext}</b><br><br>City=dikson<br>Humidity=%{marker.size}<br>Lat=%{lat}<br>Lng=%{lon}<extra></extra>",
         "hovertext": [
          "dikson"
         ],
         "lat": [
          73.5069
         ],
         "legendgroup": "dikson",
         "lon": [
          80.5464
         ],
         "marker": {
          "color": "#636efa",
          "size": [
           75
          ],
          "sizemode": "area",
          "sizeref": 0.4444444444444444
         },
         "mode": "markers",
         "name": "dikson",
         "showlegend": true,
         "subplot": "mapbox",
         "type": "scattermapbox"
        },
        {
         "hovertemplate": "<b>%{hovertext}</b><br><br>City=hilo<br>Humidity=%{marker.size}<br>Lat=%{lat}<br>Lng=%{lon}<extra></extra>",
         "hovertext": [
          "hilo"
         ],
         "lat": [
          19.7297
         ],
         "legendgroup": "hilo",
         "lon": [
          -155.09
         ],
         "marker": {
          "color": "#EF553B",
          "size": [
           83
          ],
          "sizemode": "area",
          "sizeref": 0.4444444444444444
         },
         "mode": "markers",
         "name": "hilo",
         "showlegend": true,
         "subplot": "mapbox",
         "type": "scattermapbox"
        },
        {
         "hovertemplate": "<b>%{hovertext}</b><br><br>City=businga<br>Humidity=%{marker.size}<br>Lat=%{lat}<br>Lng=%{lon}<extra></extra>",
         "hovertext": [
          "businga"
         ],
         "lat": [
          3.3333
         ],
         "legendgroup": "businga",
         "lon": [
          20.8833
         ],
         "marker": {
          "color": "#00cc96",
          "size": [
           87
          ],
          "sizemode": "area",
          "sizeref": 0.4444444444444444
         },
         "mode": "markers",
         "name": "businga",
         "showlegend": true,
         "subplot": "mapbox",
         "type": "scattermapbox"
        },
        {
         "hovertemplate": "<b>%{hovertext}</b><br><br>City=lasa<br>Humidity=%{marker.size}<br>Lat=%{lat}<br>Lng=%{lon}<extra></extra>",
         "hovertext": [
          "lasa"
         ],
         "lat": [
          46.6166
         ],
         "legendgroup": "lasa",
         "lon": [
          10.7002
         ],
         "marker": {
          "color": "#ab63fa",
          "size": [
           68
          ],
          "sizemode": "area",
          "sizeref": 0.4444444444444444
         },
         "mode": "markers",
         "name": "lasa",
         "showlegend": true,
         "subplot": "mapbox",
         "type": "scattermapbox"
        },
        {
         "hovertemplate": "<b>%{hovertext}</b><br><br>City=vaini<br>Humidity=%{marker.size}<br>Lat=%{lat}<br>Lng=%{lon}<extra></extra>",
         "hovertext": [
          "vaini"
         ],
         "lat": [
          -21.2
         ],
         "legendgroup": "vaini",
         "lon": [
          -175.2
         ],
         "marker": {
          "color": "#FFA15A",
          "size": [
           100
          ],
          "sizemode": "area",
          "sizeref": 0.4444444444444444
         },
         "mode": "markers",
         "name": "vaini",
         "showlegend": true,
         "subplot": "mapbox",
         "type": "scattermapbox"
        },
        {
         "hovertemplate": "<b>%{hovertext}</b><br><br>City=cayenne<br>Humidity=%{marker.size}<br>Lat=%{lat}<br>Lng=%{lon}<extra></extra>",
         "hovertext": [
          "cayenne"
         ],
         "lat": [
          4.9333
         ],
         "legendgroup": "cayenne",
         "lon": [
          -52.3333
         ],
         "marker": {
          "color": "#19d3f3",
          "size": [
           58
          ],
          "sizemode": "area",
          "sizeref": 0.4444444444444444
         },
         "mode": "markers",
         "name": "cayenne",
         "showlegend": true,
         "subplot": "mapbox",
         "type": "scattermapbox"
        },
        {
         "hovertemplate": "<b>%{hovertext}</b><br><br>City=ust-kulom<br>Humidity=%{marker.size}<br>Lat=%{lat}<br>Lng=%{lon}<extra></extra>",
         "hovertext": [
          "ust-kulom"
         ],
         "lat": [
          61.6864
         ],
         "legendgroup": "ust-kulom",
         "lon": [
          53.6902
         ],
         "marker": {
          "color": "#FF6692",
          "size": [
           88
          ],
          "sizemode": "area",
          "sizeref": 0.4444444444444444
         },
         "mode": "markers",
         "name": "ust-kulom",
         "showlegend": true,
         "subplot": "mapbox",
         "type": "scattermapbox"
        },
        {
         "hovertemplate": "<b>%{hovertext}</b><br><br>City=udachnyy<br>Humidity=%{marker.size}<br>Lat=%{lat}<br>Lng=%{lon}<extra></extra>",
         "hovertext": [
          "udachnyy"
         ],
         "lat": [
          66.4167
         ],
         "legendgroup": "udachnyy",
         "lon": [
          112.4
         ],
         "marker": {
          "color": "#B6E880",
          "size": [
           85
          ],
          "sizemode": "area",
          "sizeref": 0.4444444444444444
         },
         "mode": "markers",
         "name": "udachnyy",
         "showlegend": true,
         "subplot": "mapbox",
         "type": "scattermapbox"
        },
        {
         "hovertemplate": "<b>%{hovertext}</b><br><br>City=east london<br>Humidity=%{marker.size}<br>Lat=%{lat}<br>Lng=%{lon}<extra></extra>",
         "hovertext": [
          "east london"
         ],
         "lat": [
          -33.0153
         ],
         "legendgroup": "east london",
         "lon": [
          27.9116
         ],
         "marker": {
          "color": "#FF97FF",
          "size": [
           88
          ],
          "sizemode": "area",
          "sizeref": 0.4444444444444444
         },
         "mode": "markers",
         "name": "east london",
         "showlegend": true,
         "subplot": "mapbox",
         "type": "scattermapbox"
        },
        {
         "hovertemplate": "<b>%{hovertext}</b><br><br>City=busselton<br>Humidity=%{marker.size}<br>Lat=%{lat}<br>Lng=%{lon}<extra></extra>",
         "hovertext": [
          "busselton"
         ],
         "lat": [
          -33.65
         ],
         "legendgroup": "busselton",
         "lon": [
          115.3333
         ],
         "marker": {
          "color": "#FECB52",
          "size": [
           92
          ],
          "sizemode": "area",
          "sizeref": 0.4444444444444444
         },
         "mode": "markers",
         "name": "busselton",
         "showlegend": true,
         "subplot": "mapbox",
         "type": "scattermapbox"
        },
        {
         "hovertemplate": "<b>%{hovertext}</b><br><br>City=airai<br>Humidity=%{marker.size}<br>Lat=%{lat}<br>Lng=%{lon}<extra></extra>",
         "hovertext": [
          "airai"
         ],
         "lat": [
          -8.9266
         ],
         "legendgroup": "airai",
         "lon": [
          125.4092
         ],
         "marker": {
          "color": "#636efa",
          "size": [
           93
          ],
          "sizemode": "area",
          "sizeref": 0.4444444444444444
         },
         "mode": "markers",
         "name": "airai",
         "showlegend": true,
         "subplot": "mapbox",
         "type": "scattermapbox"
        },
        {
         "hovertemplate": "<b>%{hovertext}</b><br><br>City=grindavik<br>Humidity=%{marker.size}<br>Lat=%{lat}<br>Lng=%{lon}<extra></extra>",
         "hovertext": [
          "grindavik"
         ],
         "lat": [
          63.8424
         ],
         "legendgroup": "grindavik",
         "lon": [
          -22.4338
         ],
         "marker": {
          "color": "#EF553B",
          "size": [
           70
          ],
          "sizemode": "area",
          "sizeref": 0.4444444444444444
         },
         "mode": "markers",
         "name": "grindavik",
         "showlegend": true,
         "subplot": "mapbox",
         "type": "scattermapbox"
        },
        {
         "hovertemplate": "<b>%{hovertext}</b><br><br>City=barrow<br>Humidity=%{marker.size}<br>Lat=%{lat}<br>Lng=%{lon}<extra></extra>",
         "hovertext": [
          "barrow"
         ],
         "lat": [
          71.2906
         ],
         "legendgroup": "barrow",
         "lon": [
          -156.7887
         ],
         "marker": {
          "color": "#00cc96",
          "size": [
           80
          ],
          "sizemode": "area",
          "sizeref": 0.4444444444444444
         },
         "mode": "markers",
         "name": "barrow",
         "showlegend": true,
         "subplot": "mapbox",
         "type": "scattermapbox"
        },
        {
         "hovertemplate": "<b>%{hovertext}</b><br><br>City=banda<br>Humidity=%{marker.size}<br>Lat=%{lat}<br>Lng=%{lon}<extra></extra>",
         "hovertext": [
          "banda"
         ],
         "lat": [
          25.4833
         ],
         "legendgroup": "banda",
         "lon": [
          80.3333
         ],
         "marker": {
          "color": "#ab63fa",
          "size": [
           52
          ],
          "sizemode": "area",
          "sizeref": 0.4444444444444444
         },
         "mode": "markers",
         "name": "banda",
         "showlegend": true,
         "subplot": "mapbox",
         "type": "scattermapbox"
        },
        {
         "hovertemplate": "<b>%{hovertext}</b><br><br>City=atuona<br>Humidity=%{marker.size}<br>Lat=%{lat}<br>Lng=%{lon}<extra></extra>",
         "hovertext": [
          "atuona"
         ],
         "lat": [
          -9.8
         ],
         "legendgroup": "atuona",
         "lon": [
          -139.0333
         ],
         "marker": {
          "color": "#FFA15A",
          "size": [
           69
          ],
          "sizemode": "area",
          "sizeref": 0.4444444444444444
         },
         "mode": "markers",
         "name": "atuona",
         "showlegend": true,
         "subplot": "mapbox",
         "type": "scattermapbox"
        },
        {
         "hovertemplate": "<b>%{hovertext}</b><br><br>City=hermanus<br>Humidity=%{marker.size}<br>Lat=%{lat}<br>Lng=%{lon}<extra></extra>",
         "hovertext": [
          "hermanus"
         ],
         "lat": [
          -34.4187
         ],
         "legendgroup": "hermanus",
         "lon": [
          19.2345
         ],
         "marker": {
          "color": "#19d3f3",
          "size": [
           80
          ],
          "sizemode": "area",
          "sizeref": 0.4444444444444444
         },
         "mode": "markers",
         "name": "hermanus",
         "showlegend": true,
         "subplot": "mapbox",
         "type": "scattermapbox"
        },
        {
         "hovertemplate": "<b>%{hovertext}</b><br><br>City=mar del plata<br>Humidity=%{marker.size}<br>Lat=%{lat}<br>Lng=%{lon}<extra></extra>",
         "hovertext": [
          "mar del plata"
         ],
         "lat": [
          -38.0023
         ],
         "legendgroup": "mar del plata",
         "lon": [
          -57.5575
         ],
         "marker": {
          "color": "#FF6692",
          "size": [
           83
          ],
          "sizemode": "area",
          "sizeref": 0.4444444444444444
         },
         "mode": "markers",
         "name": "mar del plata",
         "showlegend": true,
         "subplot": "mapbox",
         "type": "scattermapbox"
        },
        {
         "hovertemplate": "<b>%{hovertext}</b><br><br>City=caravelas<br>Humidity=%{marker.size}<br>Lat=%{lat}<br>Lng=%{lon}<extra></extra>",
         "hovertext": [
          "caravelas"
         ],
         "lat": [
          -17.7125
         ],
         "legendgroup": "caravelas",
         "lon": [
          -39.2481
         ],
         "marker": {
          "color": "#B6E880",
          "size": [
           64
          ],
          "sizemode": "area",
          "sizeref": 0.4444444444444444
         },
         "mode": "markers",
         "name": "caravelas",
         "showlegend": true,
         "subplot": "mapbox",
         "type": "scattermapbox"
        },
        {
         "hovertemplate": "<b>%{hovertext}</b><br><br>City=port lincoln<br>Humidity=%{marker.size}<br>Lat=%{lat}<br>Lng=%{lon}<extra></extra>",
         "hovertext": [
          "port lincoln"
         ],
         "lat": [
          -34.7333
         ],
         "legendgroup": "port lincoln",
         "lon": [
          135.8667
         ],
         "marker": {
          "color": "#FF97FF",
          "size": [
           88
          ],
          "sizemode": "area",
          "sizeref": 0.4444444444444444
         },
         "mode": "markers",
         "name": "port lincoln",
         "showlegend": true,
         "subplot": "mapbox",
         "type": "scattermapbox"
        },
        {
         "hovertemplate": "<b>%{hovertext}</b><br><br>City=bredasdorp<br>Humidity=%{marker.size}<br>Lat=%{lat}<br>Lng=%{lon}<extra></extra>",
         "hovertext": [
          "bredasdorp"
         ],
         "lat": [
          -34.5322
         ],
         "legendgroup": "bredasdorp",
         "lon": [
          20.0403
         ],
         "marker": {
          "color": "#FECB52",
          "size": [
           75
          ],
          "sizemode": "area",
          "sizeref": 0.4444444444444444
         },
         "mode": "markers",
         "name": "bredasdorp",
         "showlegend": true,
         "subplot": "mapbox",
         "type": "scattermapbox"
        },
        {
         "hovertemplate": "<b>%{hovertext}</b><br><br>City=mendi<br>Humidity=%{marker.size}<br>Lat=%{lat}<br>Lng=%{lon}<extra></extra>",
         "hovertext": [
          "mendi"
         ],
         "lat": [
          -6.1761
         ],
         "legendgroup": "mendi",
         "lon": [
          143.6513
         ],
         "marker": {
          "color": "#636efa",
          "size": [
           97
          ],
          "sizemode": "area",
          "sizeref": 0.4444444444444444
         },
         "mode": "markers",
         "name": "mendi",
         "showlegend": true,
         "subplot": "mapbox",
         "type": "scattermapbox"
        },
        {
         "hovertemplate": "<b>%{hovertext}</b><br><br>City=cobija<br>Humidity=%{marker.size}<br>Lat=%{lat}<br>Lng=%{lon}<extra></extra>",
         "hovertext": [
          "cobija"
         ],
         "lat": [
          -11.0267
         ],
         "legendgroup": "cobija",
         "lon": [
          -68.7692
         ],
         "marker": {
          "color": "#EF553B",
          "size": [
           83
          ],
          "sizemode": "area",
          "sizeref": 0.4444444444444444
         },
         "mode": "markers",
         "name": "cobija",
         "showlegend": true,
         "subplot": "mapbox",
         "type": "scattermapbox"
        },
        {
         "hovertemplate": "<b>%{hovertext}</b><br><br>City=deer lake<br>Humidity=%{marker.size}<br>Lat=%{lat}<br>Lng=%{lon}<extra></extra>",
         "hovertext": [
          "deer lake"
         ],
         "lat": [
          49.1667
         ],
         "legendgroup": "deer lake",
         "lon": [
          -57.4316
         ],
         "marker": {
          "color": "#00cc96",
          "size": [
           94
          ],
          "sizemode": "area",
          "sizeref": 0.4444444444444444
         },
         "mode": "markers",
         "name": "deer lake",
         "showlegend": true,
         "subplot": "mapbox",
         "type": "scattermapbox"
        },
        {
         "hovertemplate": "<b>%{hovertext}</b><br><br>City=nalut<br>Humidity=%{marker.size}<br>Lat=%{lat}<br>Lng=%{lon}<extra></extra>",
         "hovertext": [
          "nalut"
         ],
         "lat": [
          30.3333
         ],
         "legendgroup": "nalut",
         "lon": [
          10.85
         ],
         "marker": {
          "color": "#ab63fa",
          "size": [
           27
          ],
          "sizemode": "area",
          "sizeref": 0.4444444444444444
         },
         "mode": "markers",
         "name": "nalut",
         "showlegend": true,
         "subplot": "mapbox",
         "type": "scattermapbox"
        },
        {
         "hovertemplate": "<b>%{hovertext}</b><br><br>City=saskylakh<br>Humidity=%{marker.size}<br>Lat=%{lat}<br>Lng=%{lon}<extra></extra>",
         "hovertext": [
          "saskylakh"
         ],
         "lat": [
          71.9167
         ],
         "legendgroup": "saskylakh",
         "lon": [
          114.0833
         ],
         "marker": {
          "color": "#FFA15A",
          "size": [
           97
          ],
          "sizemode": "area",
          "sizeref": 0.4444444444444444
         },
         "mode": "markers",
         "name": "saskylakh",
         "showlegend": true,
         "subplot": "mapbox",
         "type": "scattermapbox"
        },
        {
         "hovertemplate": "<b>%{hovertext}</b><br><br>City=dudinka<br>Humidity=%{marker.size}<br>Lat=%{lat}<br>Lng=%{lon}<extra></extra>",
         "hovertext": [
          "dudinka"
         ],
         "lat": [
          69.4058
         ],
         "legendgroup": "dudinka",
         "lon": [
          86.1778
         ],
         "marker": {
          "color": "#19d3f3",
          "size": [
           96
          ],
          "sizemode": "area",
          "sizeref": 0.4444444444444444
         },
         "mode": "markers",
         "name": "dudinka",
         "showlegend": true,
         "subplot": "mapbox",
         "type": "scattermapbox"
        },
        {
         "hovertemplate": "<b>%{hovertext}</b><br><br>City=zamberk<br>Humidity=%{marker.size}<br>Lat=%{lat}<br>Lng=%{lon}<extra></extra>",
         "hovertext": [
          "zamberk"
         ],
         "lat": [
          50.086
         ],
         "legendgroup": "zamberk",
         "lon": [
          16.4674
         ],
         "marker": {
          "color": "#FF6692",
          "size": [
           73
          ],
          "sizemode": "area",
          "sizeref": 0.4444444444444444
         },
         "mode": "markers",
         "name": "zamberk",
         "showlegend": true,
         "subplot": "mapbox",
         "type": "scattermapbox"
        },
        {
         "hovertemplate": "<b>%{hovertext}</b><br><br>City=jaguariaiva<br>Humidity=%{marker.size}<br>Lat=%{lat}<br>Lng=%{lon}<extra></extra>",
         "hovertext": [
          "jaguariaiva"
         ],
         "lat": [
          -24.2511
         ],
         "legendgroup": "jaguariaiva",
         "lon": [
          -49.7058
         ],
         "marker": {
          "color": "#B6E880",
          "size": [
           81
          ],
          "sizemode": "area",
          "sizeref": 0.4444444444444444
         },
         "mode": "markers",
         "name": "jaguariaiva",
         "showlegend": true,
         "subplot": "mapbox",
         "type": "scattermapbox"
        },
        {
         "hovertemplate": "<b>%{hovertext}</b><br><br>City=aberdeen<br>Humidity=%{marker.size}<br>Lat=%{lat}<br>Lng=%{lon}<extra></extra>",
         "hovertext": [
          "aberdeen"
         ],
         "lat": [
          57.1437
         ],
         "legendgroup": "aberdeen",
         "lon": [
          -2.0981
         ],
         "marker": {
          "color": "#FF97FF",
          "size": [
           78
          ],
          "sizemode": "area",
          "sizeref": 0.4444444444444444
         },
         "mode": "markers",
         "name": "aberdeen",
         "showlegend": true,
         "subplot": "mapbox",
         "type": "scattermapbox"
        },
        {
         "hovertemplate": "<b>%{hovertext}</b><br><br>City=mahebourg<br>Humidity=%{marker.size}<br>Lat=%{lat}<br>Lng=%{lon}<extra></extra>",
         "hovertext": [
          "mahebourg"
         ],
         "lat": [
          -20.4081
         ],
         "legendgroup": "mahebourg",
         "lon": [
          57.7
         ],
         "marker": {
          "color": "#FECB52",
          "size": [
           68
          ],
          "sizemode": "area",
          "sizeref": 0.4444444444444444
         },
         "mode": "markers",
         "name": "mahebourg",
         "showlegend": true,
         "subplot": "mapbox",
         "type": "scattermapbox"
        },
        {
         "hovertemplate": "<b>%{hovertext}</b><br><br>City=kedrovyy<br>Humidity=%{marker.size}<br>Lat=%{lat}<br>Lng=%{lon}<extra></extra>",
         "hovertext": [
          "kedrovyy"
         ],
         "lat": [
          56.1667
         ],
         "legendgroup": "kedrovyy",
         "lon": [
          91.8167
         ],
         "marker": {
          "color": "#636efa",
          "size": [
           95
          ],
          "sizemode": "area",
          "sizeref": 0.4444444444444444
         },
         "mode": "markers",
         "name": "kedrovyy",
         "showlegend": true,
         "subplot": "mapbox",
         "type": "scattermapbox"
        },
        {
         "hovertemplate": "<b>%{hovertext}</b><br><br>City=makakilo city<br>Humidity=%{marker.size}<br>Lat=%{lat}<br>Lng=%{lon}<extra></extra>",
         "hovertext": [
          "makakilo city"
         ],
         "lat": [
          21.3469
         ],
         "legendgroup": "makakilo city",
         "lon": [
          -158.0858
         ],
         "marker": {
          "color": "#EF553B",
          "size": [
           81
          ],
          "sizemode": "area",
          "sizeref": 0.4444444444444444
         },
         "mode": "markers",
         "name": "makakilo city",
         "showlegend": true,
         "subplot": "mapbox",
         "type": "scattermapbox"
        },
        {
         "hovertemplate": "<b>%{hovertext}</b><br><br>City=qostanay<br>Humidity=%{marker.size}<br>Lat=%{lat}<br>Lng=%{lon}<extra></extra>",
         "hovertext": [
          "qostanay"
         ],
         "lat": [
          53.1667
         ],
         "legendgroup": "qostanay",
         "lon": [
          63.5833
         ],
         "marker": {
          "color": "#00cc96",
          "size": [
           70
          ],
          "sizemode": "area",
          "sizeref": 0.4444444444444444
         },
         "mode": "markers",
         "name": "qostanay",
         "showlegend": true,
         "subplot": "mapbox",
         "type": "scattermapbox"
        },
        {
         "hovertemplate": "<b>%{hovertext}</b><br><br>City=esperance<br>Humidity=%{marker.size}<br>Lat=%{lat}<br>Lng=%{lon}<extra></extra>",
         "hovertext": [
          "esperance"
         ],
         "lat": [
          -33.8667
         ],
         "legendgroup": "esperance",
         "lon": [
          121.9
         ],
         "marker": {
          "color": "#ab63fa",
          "size": [
           87
          ],
          "sizemode": "area",
          "sizeref": 0.4444444444444444
         },
         "mode": "markers",
         "name": "esperance",
         "showlegend": true,
         "subplot": "mapbox",
         "type": "scattermapbox"
        },
        {
         "hovertemplate": "<b>%{hovertext}</b><br><br>City=darnah<br>Humidity=%{marker.size}<br>Lat=%{lat}<br>Lng=%{lon}<extra></extra>",
         "hovertext": [
          "darnah"
         ],
         "lat": [
          32.767
         ],
         "legendgroup": "darnah",
         "lon": [
          22.6367
         ],
         "marker": {
          "color": "#FFA15A",
          "size": [
           73
          ],
          "sizemode": "area",
          "sizeref": 0.4444444444444444
         },
         "mode": "markers",
         "name": "darnah",
         "showlegend": true,
         "subplot": "mapbox",
         "type": "scattermapbox"
        },
        {
         "hovertemplate": "<b>%{hovertext}</b><br><br>City=provideniya<br>Humidity=%{marker.size}<br>Lat=%{lat}<br>Lng=%{lon}<extra></extra>",
         "hovertext": [
          "provideniya"
         ],
         "lat": [
          64.3833
         ],
         "legendgroup": "provideniya",
         "lon": [
          -173.3
         ],
         "marker": {
          "color": "#19d3f3",
          "size": [
           76
          ],
          "sizemode": "area",
          "sizeref": 0.4444444444444444
         },
         "mode": "markers",
         "name": "provideniya",
         "showlegend": true,
         "subplot": "mapbox",
         "type": "scattermapbox"
        },
        {
         "hovertemplate": "<b>%{hovertext}</b><br><br>City=rafaela<br>Humidity=%{marker.size}<br>Lat=%{lat}<br>Lng=%{lon}<extra></extra>",
         "hovertext": [
          "rafaela"
         ],
         "lat": [
          -31.2503
         ],
         "legendgroup": "rafaela",
         "lon": [
          -61.4867
         ],
         "marker": {
          "color": "#FF6692",
          "size": [
           42
          ],
          "sizemode": "area",
          "sizeref": 0.4444444444444444
         },
         "mode": "markers",
         "name": "rafaela",
         "showlegend": true,
         "subplot": "mapbox",
         "type": "scattermapbox"
        },
        {
         "hovertemplate": "<b>%{hovertext}</b><br><br>City=saint-philippe<br>Humidity=%{marker.size}<br>Lat=%{lat}<br>Lng=%{lon}<extra></extra>",
         "hovertext": [
          "saint-philippe"
         ],
         "lat": [
          -21.3585
         ],
         "legendgroup": "saint-philippe",
         "lon": [
          55.7679
         ],
         "marker": {
          "color": "#B6E880",
          "size": [
           76
          ],
          "sizemode": "area",
          "sizeref": 0.4444444444444444
         },
         "mode": "markers",
         "name": "saint-philippe",
         "showlegend": true,
         "subplot": "mapbox",
         "type": "scattermapbox"
        },
        {
         "hovertemplate": "<b>%{hovertext}</b><br><br>City=ponta do sol<br>Humidity=%{marker.size}<br>Lat=%{lat}<br>Lng=%{lon}<extra></extra>",
         "hovertext": [
          "ponta do sol"
         ],
         "lat": [
          32.6667
         ],
         "legendgroup": "ponta do sol",
         "lon": [
          -17.1
         ],
         "marker": {
          "color": "#FF97FF",
          "size": [
           69
          ],
          "sizemode": "area",
          "sizeref": 0.4444444444444444
         },
         "mode": "markers",
         "name": "ponta do sol",
         "showlegend": true,
         "subplot": "mapbox",
         "type": "scattermapbox"
        },
        {
         "hovertemplate": "<b>%{hovertext}</b><br><br>City=solnechnyy<br>Humidity=%{marker.size}<br>Lat=%{lat}<br>Lng=%{lon}<extra></extra>",
         "hovertext": [
          "solnechnyy"
         ],
         "lat": [
          50.7214
         ],
         "legendgroup": "solnechnyy",
         "lon": [
          136.6319
         ],
         "marker": {
          "color": "#FECB52",
          "size": [
           60
          ],
          "sizemode": "area",
          "sizeref": 0.4444444444444444
         },
         "mode": "markers",
         "name": "solnechnyy",
         "showlegend": true,
         "subplot": "mapbox",
         "type": "scattermapbox"
        },
        {
         "hovertemplate": "<b>%{hovertext}</b><br><br>City=saint george<br>Humidity=%{marker.size}<br>Lat=%{lat}<br>Lng=%{lon}<extra></extra>",
         "hovertext": [
          "saint george"
         ],
         "lat": [
          37.1041
         ],
         "legendgroup": "saint george",
         "lon": [
          -113.5841
         ],
         "marker": {
          "color": "#636efa",
          "size": [
           44
          ],
          "sizemode": "area",
          "sizeref": 0.4444444444444444
         },
         "mode": "markers",
         "name": "saint george",
         "showlegend": true,
         "subplot": "mapbox",
         "type": "scattermapbox"
        },
        {
         "hovertemplate": "<b>%{hovertext}</b><br><br>City=alba<br>Humidity=%{marker.size}<br>Lat=%{lat}<br>Lng=%{lon}<extra></extra>",
         "hovertext": [
          "alba"
         ],
         "lat": [
          52.0324
         ],
         "legendgroup": "alba",
         "lon": [
          23.1165
         ],
         "marker": {
          "color": "#EF553B",
          "size": [
           69
          ],
          "sizemode": "area",
          "sizeref": 0.4444444444444444
         },
         "mode": "markers",
         "name": "alba",
         "showlegend": true,
         "subplot": "mapbox",
         "type": "scattermapbox"
        },
        {
         "hovertemplate": "<b>%{hovertext}</b><br><br>City=arman<br>Humidity=%{marker.size}<br>Lat=%{lat}<br>Lng=%{lon}<extra></extra>",
         "hovertext": [
          "arman"
         ],
         "lat": [
          59.7
         ],
         "legendgroup": "arman",
         "lon": [
          150.1667
         ],
         "marker": {
          "color": "#00cc96",
          "size": [
           49
          ],
          "sizemode": "area",
          "sizeref": 0.4444444444444444
         },
         "mode": "markers",
         "name": "arman",
         "showlegend": true,
         "subplot": "mapbox",
         "type": "scattermapbox"
        },
        {
         "hovertemplate": "<b>%{hovertext}</b><br><br>City=ugoofaaru<br>Humidity=%{marker.size}<br>Lat=%{lat}<br>Lng=%{lon}<extra></extra>",
         "hovertext": [
          "ugoofaaru"
         ],
         "lat": [
          5.6667
         ],
         "legendgroup": "ugoofaaru",
         "lon": [
          73
         ],
         "marker": {
          "color": "#ab63fa",
          "size": [
           80
          ],
          "sizemode": "area",
          "sizeref": 0.4444444444444444
         },
         "mode": "markers",
         "name": "ugoofaaru",
         "showlegend": true,
         "subplot": "mapbox",
         "type": "scattermapbox"
        },
        {
         "hovertemplate": "<b>%{hovertext}</b><br><br>City=butaritari<br>Humidity=%{marker.size}<br>Lat=%{lat}<br>Lng=%{lon}<extra></extra>",
         "hovertext": [
          "butaritari"
         ],
         "lat": [
          3.0707
         ],
         "legendgroup": "butaritari",
         "lon": [
          172.7902
         ],
         "marker": {
          "color": "#FFA15A",
          "size": [
           77
          ],
          "sizemode": "area",
          "sizeref": 0.4444444444444444
         },
         "mode": "markers",
         "name": "butaritari",
         "showlegend": true,
         "subplot": "mapbox",
         "type": "scattermapbox"
        },
        {
         "hovertemplate": "<b>%{hovertext}</b><br><br>City=kavaratti<br>Humidity=%{marker.size}<br>Lat=%{lat}<br>Lng=%{lon}<extra></extra>",
         "hovertext": [
          "kavaratti"
         ],
         "lat": [
          10.5669
         ],
         "legendgroup": "kavaratti",
         "lon": [
          72.642
         ],
         "marker": {
          "color": "#19d3f3",
          "size": [
           78
          ],
          "sizemode": "area",
          "sizeref": 0.4444444444444444
         },
         "mode": "markers",
         "name": "kavaratti",
         "showlegend": true,
         "subplot": "mapbox",
         "type": "scattermapbox"
        },
        {
         "hovertemplate": "<b>%{hovertext}</b><br><br>City=zhangye<br>Humidity=%{marker.size}<br>Lat=%{lat}<br>Lng=%{lon}<extra></extra>",
         "hovertext": [
          "zhangye"
         ],
         "lat": [
          38.9342
         ],
         "legendgroup": "zhangye",
         "lon": [
          100.4517
         ],
         "marker": {
          "color": "#FF6692",
          "size": [
           16
          ],
          "sizemode": "area",
          "sizeref": 0.4444444444444444
         },
         "mode": "markers",
         "name": "zhangye",
         "showlegend": true,
         "subplot": "mapbox",
         "type": "scattermapbox"
        },
        {
         "hovertemplate": "<b>%{hovertext}</b><br><br>City=shenjiamen<br>Humidity=%{marker.size}<br>Lat=%{lat}<br>Lng=%{lon}<extra></extra>",
         "hovertext": [
          "shenjiamen"
         ],
         "lat": [
          29.9576
         ],
         "legendgroup": "shenjiamen",
         "lon": [
          122.298
         ],
         "marker": {
          "color": "#B6E880",
          "size": [
           59
          ],
          "sizemode": "area",
          "sizeref": 0.4444444444444444
         },
         "mode": "markers",
         "name": "shenjiamen",
         "showlegend": true,
         "subplot": "mapbox",
         "type": "scattermapbox"
        },
        {
         "hovertemplate": "<b>%{hovertext}</b><br><br>City=itarema<br>Humidity=%{marker.size}<br>Lat=%{lat}<br>Lng=%{lon}<extra></extra>",
         "hovertext": [
          "itarema"
         ],
         "lat": [
          -2.9248
         ],
         "legendgroup": "itarema",
         "lon": [
          -39.9167
         ],
         "marker": {
          "color": "#FF97FF",
          "size": [
           54
          ],
          "sizemode": "area",
          "sizeref": 0.4444444444444444
         },
         "mode": "markers",
         "name": "itarema",
         "showlegend": true,
         "subplot": "mapbox",
         "type": "scattermapbox"
        },
        {
         "hovertemplate": "<b>%{hovertext}</b><br><br>City=trincomalee<br>Humidity=%{marker.size}<br>Lat=%{lat}<br>Lng=%{lon}<extra></extra>",
         "hovertext": [
          "trincomalee"
         ],
         "lat": [
          8.5711
         ],
         "legendgroup": "trincomalee",
         "lon": [
          81.2335
         ],
         "marker": {
          "color": "#FECB52",
          "size": [
           82
          ],
          "sizemode": "area",
          "sizeref": 0.4444444444444444
         },
         "mode": "markers",
         "name": "trincomalee",
         "showlegend": true,
         "subplot": "mapbox",
         "type": "scattermapbox"
        },
        {
         "hovertemplate": "<b>%{hovertext}</b><br><br>City=castro<br>Humidity=%{marker.size}<br>Lat=%{lat}<br>Lng=%{lon}<extra></extra>",
         "hovertext": [
          "castro"
         ],
         "lat": [
          -24.7911
         ],
         "legendgroup": "castro",
         "lon": [
          -50.0119
         ],
         "marker": {
          "color": "#636efa",
          "size": [
           88
          ],
          "sizemode": "area",
          "sizeref": 0.4444444444444444
         },
         "mode": "markers",
         "name": "castro",
         "showlegend": true,
         "subplot": "mapbox",
         "type": "scattermapbox"
        },
        {
         "hovertemplate": "<b>%{hovertext}</b><br><br>City=heihe<br>Humidity=%{marker.size}<br>Lat=%{lat}<br>Lng=%{lon}<extra></extra>",
         "hovertext": [
          "heihe"
         ],
         "lat": [
          50.2441
         ],
         "legendgroup": "heihe",
         "lon": [
          127.4902
         ],
         "marker": {
          "color": "#EF553B",
          "size": [
           49
          ],
          "sizemode": "area",
          "sizeref": 0.4444444444444444
         },
         "mode": "markers",
         "name": "heihe",
         "showlegend": true,
         "subplot": "mapbox",
         "type": "scattermapbox"
        },
        {
         "hovertemplate": "<b>%{hovertext}</b><br><br>City=rio gallegos<br>Humidity=%{marker.size}<br>Lat=%{lat}<br>Lng=%{lon}<extra></extra>",
         "hovertext": [
          "rio gallegos"
         ],
         "lat": [
          -51.6226
         ],
         "legendgroup": "rio gallegos",
         "lon": [
          -69.2181
         ],
         "marker": {
          "color": "#00cc96",
          "size": [
           26
          ],
          "sizemode": "area",
          "sizeref": 0.4444444444444444
         },
         "mode": "markers",
         "name": "rio gallegos",
         "showlegend": true,
         "subplot": "mapbox",
         "type": "scattermapbox"
        },
        {
         "hovertemplate": "<b>%{hovertext}</b><br><br>City=siavonga<br>Humidity=%{marker.size}<br>Lat=%{lat}<br>Lng=%{lon}<extra></extra>",
         "hovertext": [
          "siavonga"
         ],
         "lat": [
          -16.5382
         ],
         "legendgroup": "siavonga",
         "lon": [
          28.7088
         ],
         "marker": {
          "color": "#ab63fa",
          "size": [
           32
          ],
          "sizemode": "area",
          "sizeref": 0.4444444444444444
         },
         "mode": "markers",
         "name": "siavonga",
         "showlegend": true,
         "subplot": "mapbox",
         "type": "scattermapbox"
        },
        {
         "hovertemplate": "<b>%{hovertext}</b><br><br>City=bluff<br>Humidity=%{marker.size}<br>Lat=%{lat}<br>Lng=%{lon}<extra></extra>",
         "hovertext": [
          "bluff"
         ],
         "lat": [
          -46.6
         ],
         "legendgroup": "bluff",
         "lon": [
          168.3333
         ],
         "marker": {
          "color": "#FFA15A",
          "size": [
           76
          ],
          "sizemode": "area",
          "sizeref": 0.4444444444444444
         },
         "mode": "markers",
         "name": "bluff",
         "showlegend": true,
         "subplot": "mapbox",
         "type": "scattermapbox"
        },
        {
         "hovertemplate": "<b>%{hovertext}</b><br><br>City=nova olimpia<br>Humidity=%{marker.size}<br>Lat=%{lat}<br>Lng=%{lon}<extra></extra>",
         "hovertext": [
          "nova olimpia"
         ],
         "lat": [
          -14.7972
         ],
         "legendgroup": "nova olimpia",
         "lon": [
          -57.2881
         ],
         "marker": {
          "color": "#19d3f3",
          "size": [
           21
          ],
          "sizemode": "area",
          "sizeref": 0.4444444444444444
         },
         "mode": "markers",
         "name": "nova olimpia",
         "showlegend": true,
         "subplot": "mapbox",
         "type": "scattermapbox"
        },
        {
         "hovertemplate": "<b>%{hovertext}</b><br><br>City=palencia<br>Humidity=%{marker.size}<br>Lat=%{lat}<br>Lng=%{lon}<extra></extra>",
         "hovertext": [
          "palencia"
         ],
         "lat": [
          42.4167
         ],
         "legendgroup": "palencia",
         "lon": [
          -4.5
         ],
         "marker": {
          "color": "#FF6692",
          "size": [
           30
          ],
          "sizemode": "area",
          "sizeref": 0.4444444444444444
         },
         "mode": "markers",
         "name": "palencia",
         "showlegend": true,
         "subplot": "mapbox",
         "type": "scattermapbox"
        },
        {
         "hovertemplate": "<b>%{hovertext}</b><br><br>City=inhambane<br>Humidity=%{marker.size}<br>Lat=%{lat}<br>Lng=%{lon}<extra></extra>",
         "hovertext": [
          "inhambane"
         ],
         "lat": [
          -23.865
         ],
         "legendgroup": "inhambane",
         "lon": [
          35.3833
         ],
         "marker": {
          "color": "#B6E880",
          "size": [
           65
          ],
          "sizemode": "area",
          "sizeref": 0.4444444444444444
         },
         "mode": "markers",
         "name": "inhambane",
         "showlegend": true,
         "subplot": "mapbox",
         "type": "scattermapbox"
        },
        {
         "hovertemplate": "<b>%{hovertext}</b><br><br>City=iqaluit<br>Humidity=%{marker.size}<br>Lat=%{lat}<br>Lng=%{lon}<extra></extra>",
         "hovertext": [
          "iqaluit"
         ],
         "lat": [
          63.7506
         ],
         "legendgroup": "iqaluit",
         "lon": [
          -68.5145
         ],
         "marker": {
          "color": "#FF97FF",
          "size": [
           79
          ],
          "sizemode": "area",
          "sizeref": 0.4444444444444444
         },
         "mode": "markers",
         "name": "iqaluit",
         "showlegend": true,
         "subplot": "mapbox",
         "type": "scattermapbox"
        },
        {
         "hovertemplate": "<b>%{hovertext}</b><br><br>City=lebu<br>Humidity=%{marker.size}<br>Lat=%{lat}<br>Lng=%{lon}<extra></extra>",
         "hovertext": [
          "lebu"
         ],
         "lat": [
          -37.6167
         ],
         "legendgroup": "lebu",
         "lon": [
          -73.65
         ],
         "marker": {
          "color": "#FECB52",
          "size": [
           72
          ],
          "sizemode": "area",
          "sizeref": 0.4444444444444444
         },
         "mode": "markers",
         "name": "lebu",
         "showlegend": true,
         "subplot": "mapbox",
         "type": "scattermapbox"
        },
        {
         "hovertemplate": "<b>%{hovertext}</b><br><br>City=calabozo<br>Humidity=%{marker.size}<br>Lat=%{lat}<br>Lng=%{lon}<extra></extra>",
         "hovertext": [
          "calabozo"
         ],
         "lat": [
          8.9242
         ],
         "legendgroup": "calabozo",
         "lon": [
          -67.4293
         ],
         "marker": {
          "color": "#636efa",
          "size": [
           75
          ],
          "sizemode": "area",
          "sizeref": 0.4444444444444444
         },
         "mode": "markers",
         "name": "calabozo",
         "showlegend": true,
         "subplot": "mapbox",
         "type": "scattermapbox"
        },
        {
         "hovertemplate": "<b>%{hovertext}</b><br><br>City=sao filipe<br>Humidity=%{marker.size}<br>Lat=%{lat}<br>Lng=%{lon}<extra></extra>",
         "hovertext": [
          "sao filipe"
         ],
         "lat": [
          14.8961
         ],
         "legendgroup": "sao filipe",
         "lon": [
          -24.4956
         ],
         "marker": {
          "color": "#EF553B",
          "size": [
           78
          ],
          "sizemode": "area",
          "sizeref": 0.4444444444444444
         },
         "mode": "markers",
         "name": "sao filipe",
         "showlegend": true,
         "subplot": "mapbox",
         "type": "scattermapbox"
        },
        {
         "hovertemplate": "<b>%{hovertext}</b><br><br>City=torbay<br>Humidity=%{marker.size}<br>Lat=%{lat}<br>Lng=%{lon}<extra></extra>",
         "hovertext": [
          "torbay"
         ],
         "lat": [
          47.6666
         ],
         "legendgroup": "torbay",
         "lon": [
          -52.7314
         ],
         "marker": {
          "color": "#00cc96",
          "size": [
           95
          ],
          "sizemode": "area",
          "sizeref": 0.4444444444444444
         },
         "mode": "markers",
         "name": "torbay",
         "showlegend": true,
         "subplot": "mapbox",
         "type": "scattermapbox"
        },
        {
         "hovertemplate": "<b>%{hovertext}</b><br><br>City=kavieng<br>Humidity=%{marker.size}<br>Lat=%{lat}<br>Lng=%{lon}<extra></extra>",
         "hovertext": [
          "kavieng"
         ],
         "lat": [
          -2.5744
         ],
         "legendgroup": "kavieng",
         "lon": [
          150.7967
         ],
         "marker": {
          "color": "#ab63fa",
          "size": [
           71
          ],
          "sizemode": "area",
          "sizeref": 0.4444444444444444
         },
         "mode": "markers",
         "name": "kavieng",
         "showlegend": true,
         "subplot": "mapbox",
         "type": "scattermapbox"
        },
        {
         "hovertemplate": "<b>%{hovertext}</b><br><br>City=yidu<br>Humidity=%{marker.size}<br>Lat=%{lat}<br>Lng=%{lon}<extra></extra>",
         "hovertext": [
          "yidu"
         ],
         "lat": [
          24.1614
         ],
         "legendgroup": "yidu",
         "lon": [
          115.1328
         ],
         "marker": {
          "color": "#FFA15A",
          "size": [
           27
          ],
          "sizemode": "area",
          "sizeref": 0.4444444444444444
         },
         "mode": "markers",
         "name": "yidu",
         "showlegend": true,
         "subplot": "mapbox",
         "type": "scattermapbox"
        },
        {
         "hovertemplate": "<b>%{hovertext}</b><br><br>City=cedar city<br>Humidity=%{marker.size}<br>Lat=%{lat}<br>Lng=%{lon}<extra></extra>",
         "hovertext": [
          "cedar city"
         ],
         "lat": [
          37.6775
         ],
         "legendgroup": "cedar city",
         "lon": [
          -113.0619
         ],
         "marker": {
          "color": "#19d3f3",
          "size": [
           49
          ],
          "sizemode": "area",
          "sizeref": 0.4444444444444444
         },
         "mode": "markers",
         "name": "cedar city",
         "showlegend": true,
         "subplot": "mapbox",
         "type": "scattermapbox"
        },
        {
         "hovertemplate": "<b>%{hovertext}</b><br><br>City=victoria<br>Humidity=%{marker.size}<br>Lat=%{lat}<br>Lng=%{lon}<extra></extra>",
         "hovertext": [
          "victoria"
         ],
         "lat": [
          22.2855
         ],
         "legendgroup": "victoria",
         "lon": [
          114.1577
         ],
         "marker": {
          "color": "#FF6692",
          "size": [
           77
          ],
          "sizemode": "area",
          "sizeref": 0.4444444444444444
         },
         "mode": "markers",
         "name": "victoria",
         "showlegend": true,
         "subplot": "mapbox",
         "type": "scattermapbox"
        },
        {
         "hovertemplate": "<b>%{hovertext}</b><br><br>City=faanui<br>Humidity=%{marker.size}<br>Lat=%{lat}<br>Lng=%{lon}<extra></extra>",
         "hovertext": [
          "faanui"
         ],
         "lat": [
          -16.4833
         ],
         "legendgroup": "faanui",
         "lon": [
          -151.75
         ],
         "marker": {
          "color": "#B6E880",
          "size": [
           78
          ],
          "sizemode": "area",
          "sizeref": 0.4444444444444444
         },
         "mode": "markers",
         "name": "faanui",
         "showlegend": true,
         "subplot": "mapbox",
         "type": "scattermapbox"
        },
        {
         "hovertemplate": "<b>%{hovertext}</b><br><br>City=arraial do cabo<br>Humidity=%{marker.size}<br>Lat=%{lat}<br>Lng=%{lon}<extra></extra>",
         "hovertext": [
          "arraial do cabo"
         ],
         "lat": [
          -22.9661
         ],
         "legendgroup": "arraial do cabo",
         "lon": [
          -42.0278
         ],
         "marker": {
          "color": "#FF97FF",
          "size": [
           74
          ],
          "sizemode": "area",
          "sizeref": 0.4444444444444444
         },
         "mode": "markers",
         "name": "arraial do cabo",
         "showlegend": true,
         "subplot": "mapbox",
         "type": "scattermapbox"
        },
        {
         "hovertemplate": "<b>%{hovertext}</b><br><br>City=hithadhoo<br>Humidity=%{marker.size}<br>Lat=%{lat}<br>Lng=%{lon}<extra></extra>",
         "hovertext": [
          "hithadhoo"
         ],
         "lat": [
          -0.6
         ],
         "legendgroup": "hithadhoo",
         "lon": [
          73.0833
         ],
         "marker": {
          "color": "#FECB52",
          "size": [
           69
          ],
          "sizemode": "area",
          "sizeref": 0.4444444444444444
         },
         "mode": "markers",
         "name": "hithadhoo",
         "showlegend": true,
         "subplot": "mapbox",
         "type": "scattermapbox"
        },
        {
         "hovertemplate": "<b>%{hovertext}</b><br><br>City=port alfred<br>Humidity=%{marker.size}<br>Lat=%{lat}<br>Lng=%{lon}<extra></extra>",
         "hovertext": [
          "port alfred"
         ],
         "lat": [
          -33.5906
         ],
         "legendgroup": "port alfred",
         "lon": [
          26.891
         ],
         "marker": {
          "color": "#636efa",
          "size": [
           87
          ],
          "sizemode": "area",
          "sizeref": 0.4444444444444444
         },
         "mode": "markers",
         "name": "port alfred",
         "showlegend": true,
         "subplot": "mapbox",
         "type": "scattermapbox"
        },
        {
         "hovertemplate": "<b>%{hovertext}</b><br><br>City=lichuan<br>Humidity=%{marker.size}<br>Lat=%{lat}<br>Lng=%{lon}<extra></extra>",
         "hovertext": [
          "lichuan"
         ],
         "lat": [
          30.3
         ],
         "legendgroup": "lichuan",
         "lon": [
          108.85
         ],
         "marker": {
          "color": "#EF553B",
          "size": [
           77
          ],
          "sizemode": "area",
          "sizeref": 0.4444444444444444
         },
         "mode": "markers",
         "name": "lichuan",
         "showlegend": true,
         "subplot": "mapbox",
         "type": "scattermapbox"
        },
        {
         "hovertemplate": "<b>%{hovertext}</b><br><br>City=talnakh<br>Humidity=%{marker.size}<br>Lat=%{lat}<br>Lng=%{lon}<extra></extra>",
         "hovertext": [
          "talnakh"
         ],
         "lat": [
          69.4865
         ],
         "legendgroup": "talnakh",
         "lon": [
          88.3972
         ],
         "marker": {
          "color": "#00cc96",
          "size": [
           99
          ],
          "sizemode": "area",
          "sizeref": 0.4444444444444444
         },
         "mode": "markers",
         "name": "talnakh",
         "showlegend": true,
         "subplot": "mapbox",
         "type": "scattermapbox"
        },
        {
         "hovertemplate": "<b>%{hovertext}</b><br><br>City=novorzhev<br>Humidity=%{marker.size}<br>Lat=%{lat}<br>Lng=%{lon}<extra></extra>",
         "hovertext": [
          "novorzhev"
         ],
         "lat": [
          57.0294
         ],
         "legendgroup": "novorzhev",
         "lon": [
          29.3338
         ],
         "marker": {
          "color": "#ab63fa",
          "size": [
           90
          ],
          "sizemode": "area",
          "sizeref": 0.4444444444444444
         },
         "mode": "markers",
         "name": "novorzhev",
         "showlegend": true,
         "subplot": "mapbox",
         "type": "scattermapbox"
        },
        {
         "hovertemplate": "<b>%{hovertext}</b><br><br>City=muncar<br>Humidity=%{marker.size}<br>Lat=%{lat}<br>Lng=%{lon}<extra></extra>",
         "hovertext": [
          "muncar"
         ],
         "lat": [
          -8.4333
         ],
         "legendgroup": "muncar",
         "lon": [
          114.3333
         ],
         "marker": {
          "color": "#FFA15A",
          "size": [
           96
          ],
          "sizemode": "area",
          "sizeref": 0.4444444444444444
         },
         "mode": "markers",
         "name": "muncar",
         "showlegend": true,
         "subplot": "mapbox",
         "type": "scattermapbox"
        },
        {
         "hovertemplate": "<b>%{hovertext}</b><br><br>City=jashpurnagar<br>Humidity=%{marker.size}<br>Lat=%{lat}<br>Lng=%{lon}<extra></extra>",
         "hovertext": [
          "jashpurnagar"
         ],
         "lat": [
          22.9
         ],
         "legendgroup": "jashpurnagar",
         "lon": [
          84.15
         ],
         "marker": {
          "color": "#19d3f3",
          "size": [
           87
          ],
          "sizemode": "area",
          "sizeref": 0.4444444444444444
         },
         "mode": "markers",
         "name": "jashpurnagar",
         "showlegend": true,
         "subplot": "mapbox",
         "type": "scattermapbox"
        },
        {
         "hovertemplate": "<b>%{hovertext}</b><br><br>City=chuy<br>Humidity=%{marker.size}<br>Lat=%{lat}<br>Lng=%{lon}<extra></extra>",
         "hovertext": [
          "chuy"
         ],
         "lat": [
          -33.6971
         ],
         "legendgroup": "chuy",
         "lon": [
          -53.4616
         ],
         "marker": {
          "color": "#FF6692",
          "size": [
           71
          ],
          "sizemode": "area",
          "sizeref": 0.4444444444444444
         },
         "mode": "markers",
         "name": "chuy",
         "showlegend": true,
         "subplot": "mapbox",
         "type": "scattermapbox"
        },
        {
         "hovertemplate": "<b>%{hovertext}</b><br><br>City=kulykivka<br>Humidity=%{marker.size}<br>Lat=%{lat}<br>Lng=%{lon}<extra></extra>",
         "hovertext": [
          "kulykivka"
         ],
         "lat": [
          51.3735
         ],
         "legendgroup": "kulykivka",
         "lon": [
          31.6466
         ],
         "marker": {
          "color": "#B6E880",
          "size": [
           62
          ],
          "sizemode": "area",
          "sizeref": 0.4444444444444444
         },
         "mode": "markers",
         "name": "kulykivka",
         "showlegend": true,
         "subplot": "mapbox",
         "type": "scattermapbox"
        },
        {
         "hovertemplate": "<b>%{hovertext}</b><br><br>City=half moon bay<br>Humidity=%{marker.size}<br>Lat=%{lat}<br>Lng=%{lon}<extra></extra>",
         "hovertext": [
          "half moon bay"
         ],
         "lat": [
          37.4636
         ],
         "legendgroup": "half moon bay",
         "lon": [
          -122.4286
         ],
         "marker": {
          "color": "#FF97FF",
          "size": [
           86
          ],
          "sizemode": "area",
          "sizeref": 0.4444444444444444
         },
         "mode": "markers",
         "name": "half moon bay",
         "showlegend": true,
         "subplot": "mapbox",
         "type": "scattermapbox"
        },
        {
         "hovertemplate": "<b>%{hovertext}</b><br><br>City=bocana de paiwas<br>Humidity=%{marker.size}<br>Lat=%{lat}<br>Lng=%{lon}<extra></extra>",
         "hovertext": [
          "bocana de paiwas"
         ],
         "lat": [
          12.7857
         ],
         "legendgroup": "bocana de paiwas",
         "lon": [
          -85.1227
         ],
         "marker": {
          "color": "#FECB52",
          "size": [
           81
          ],
          "sizemode": "area",
          "sizeref": 0.4444444444444444
         },
         "mode": "markers",
         "name": "bocana de paiwas",
         "showlegend": true,
         "subplot": "mapbox",
         "type": "scattermapbox"
        },
        {
         "hovertemplate": "<b>%{hovertext}</b><br><br>City=el alto<br>Humidity=%{marker.size}<br>Lat=%{lat}<br>Lng=%{lon}<extra></extra>",
         "hovertext": [
          "el alto"
         ],
         "lat": [
          -4.2714
         ],
         "legendgroup": "el alto",
         "lon": [
          -81.2147
         ],
         "marker": {
          "color": "#636efa",
          "size": [
           68
          ],
          "sizemode": "area",
          "sizeref": 0.4444444444444444
         },
         "mode": "markers",
         "name": "el alto",
         "showlegend": true,
         "subplot": "mapbox",
         "type": "scattermapbox"
        },
        {
         "hovertemplate": "<b>%{hovertext}</b><br><br>City=sitka<br>Humidity=%{marker.size}<br>Lat=%{lat}<br>Lng=%{lon}<extra></extra>",
         "hovertext": [
          "sitka"
         ],
         "lat": [
          57.0531
         ],
         "legendgroup": "sitka",
         "lon": [
          -135.33
         ],
         "marker": {
          "color": "#EF553B",
          "size": [
           82
          ],
          "sizemode": "area",
          "sizeref": 0.4444444444444444
         },
         "mode": "markers",
         "name": "sitka",
         "showlegend": true,
         "subplot": "mapbox",
         "type": "scattermapbox"
        },
        {
         "hovertemplate": "<b>%{hovertext}</b><br><br>City=punta arenas<br>Humidity=%{marker.size}<br>Lat=%{lat}<br>Lng=%{lon}<extra></extra>",
         "hovertext": [
          "punta arenas"
         ],
         "lat": [
          -53.15
         ],
         "legendgroup": "punta arenas",
         "lon": [
          -70.9167
         ],
         "marker": {
          "color": "#00cc96",
          "size": [
           62
          ],
          "sizemode": "area",
          "sizeref": 0.4444444444444444
         },
         "mode": "markers",
         "name": "punta arenas",
         "showlegend": true,
         "subplot": "mapbox",
         "type": "scattermapbox"
        },
        {
         "hovertemplate": "<b>%{hovertext}</b><br><br>City=bay city<br>Humidity=%{marker.size}<br>Lat=%{lat}<br>Lng=%{lon}<extra></extra>",
         "hovertext": [
          "bay city"
         ],
         "lat": [
          43.5945
         ],
         "legendgroup": "bay city",
         "lon": [
          -83.8889
         ],
         "marker": {
          "color": "#ab63fa",
          "size": [
           89
          ],
          "sizemode": "area",
          "sizeref": 0.4444444444444444
         },
         "mode": "markers",
         "name": "bay city",
         "showlegend": true,
         "subplot": "mapbox",
         "type": "scattermapbox"
        },
        {
         "hovertemplate": "<b>%{hovertext}</b><br><br>City=baruun-urt<br>Humidity=%{marker.size}<br>Lat=%{lat}<br>Lng=%{lon}<extra></extra>",
         "hovertext": [
          "baruun-urt"
         ],
         "lat": [
          46.6806
         ],
         "legendgroup": "baruun-urt",
         "lon": [
          113.2792
         ],
         "marker": {
          "color": "#FFA15A",
          "size": [
           22
          ],
          "sizemode": "area",
          "sizeref": 0.4444444444444444
         },
         "mode": "markers",
         "name": "baruun-urt",
         "showlegend": true,
         "subplot": "mapbox",
         "type": "scattermapbox"
        },
        {
         "hovertemplate": "<b>%{hovertext}</b><br><br>City=ambon<br>Humidity=%{marker.size}<br>Lat=%{lat}<br>Lng=%{lon}<extra></extra>",
         "hovertext": [
          "ambon"
         ],
         "lat": [
          -3.6954
         ],
         "legendgroup": "ambon",
         "lon": [
          128.1814
         ],
         "marker": {
          "color": "#19d3f3",
          "size": [
           83
          ],
          "sizemode": "area",
          "sizeref": 0.4444444444444444
         },
         "mode": "markers",
         "name": "ambon",
         "showlegend": true,
         "subplot": "mapbox",
         "type": "scattermapbox"
        },
        {
         "hovertemplate": "<b>%{hovertext}</b><br><br>City=corowa<br>Humidity=%{marker.size}<br>Lat=%{lat}<br>Lng=%{lon}<extra></extra>",
         "hovertext": [
          "corowa"
         ],
         "lat": [
          -36.0333
         ],
         "legendgroup": "corowa",
         "lon": [
          146.3833
         ],
         "marker": {
          "color": "#FF6692",
          "size": [
           92
          ],
          "sizemode": "area",
          "sizeref": 0.4444444444444444
         },
         "mode": "markers",
         "name": "corowa",
         "showlegend": true,
         "subplot": "mapbox",
         "type": "scattermapbox"
        },
        {
         "hovertemplate": "<b>%{hovertext}</b><br><br>City=port elizabeth<br>Humidity=%{marker.size}<br>Lat=%{lat}<br>Lng=%{lon}<extra></extra>",
         "hovertext": [
          "port elizabeth"
         ],
         "lat": [
          -33.918
         ],
         "legendgroup": "port elizabeth",
         "lon": [
          25.5701
         ],
         "marker": {
          "color": "#B6E880",
          "size": [
           83
          ],
          "sizemode": "area",
          "sizeref": 0.4444444444444444
         },
         "mode": "markers",
         "name": "port elizabeth",
         "showlegend": true,
         "subplot": "mapbox",
         "type": "scattermapbox"
        },
        {
         "hovertemplate": "<b>%{hovertext}</b><br><br>City=ocos<br>Humidity=%{marker.size}<br>Lat=%{lat}<br>Lng=%{lon}<extra></extra>",
         "hovertext": [
          "ocos"
         ],
         "lat": [
          14.5094
         ],
         "legendgroup": "ocos",
         "lon": [
          -92.1933
         ],
         "marker": {
          "color": "#FF97FF",
          "size": [
           86
          ],
          "sizemode": "area",
          "sizeref": 0.4444444444444444
         },
         "mode": "markers",
         "name": "ocos",
         "showlegend": true,
         "subplot": "mapbox",
         "type": "scattermapbox"
        },
        {
         "hovertemplate": "<b>%{hovertext}</b><br><br>City=georgetown<br>Humidity=%{marker.size}<br>Lat=%{lat}<br>Lng=%{lon}<extra></extra>",
         "hovertext": [
          "georgetown"
         ],
         "lat": [
          5.4112
         ],
         "legendgroup": "georgetown",
         "lon": [
          100.3354
         ],
         "marker": {
          "color": "#FECB52",
          "size": [
           89
          ],
          "sizemode": "area",
          "sizeref": 0.4444444444444444
         },
         "mode": "markers",
         "name": "georgetown",
         "showlegend": true,
         "subplot": "mapbox",
         "type": "scattermapbox"
        },
        {
         "hovertemplate": "<b>%{hovertext}</b><br><br>City=tuktoyaktuk<br>Humidity=%{marker.size}<br>Lat=%{lat}<br>Lng=%{lon}<extra></extra>",
         "hovertext": [
          "tuktoyaktuk"
         ],
         "lat": [
          69.4541
         ],
         "legendgroup": "tuktoyaktuk",
         "lon": [
          -133.0374
         ],
         "marker": {
          "color": "#636efa",
          "size": [
           93
          ],
          "sizemode": "area",
          "sizeref": 0.4444444444444444
         },
         "mode": "markers",
         "name": "tuktoyaktuk",
         "showlegend": true,
         "subplot": "mapbox",
         "type": "scattermapbox"
        },
        {
         "hovertemplate": "<b>%{hovertext}</b><br><br>City=brenham<br>Humidity=%{marker.size}<br>Lat=%{lat}<br>Lng=%{lon}<extra></extra>",
         "hovertext": [
          "brenham"
         ],
         "lat": [
          30.1669
         ],
         "legendgroup": "brenham",
         "lon": [
          -96.3977
         ],
         "marker": {
          "color": "#EF553B",
          "size": [
           40
          ],
          "sizemode": "area",
          "sizeref": 0.4444444444444444
         },
         "mode": "markers",
         "name": "brenham",
         "showlegend": true,
         "subplot": "mapbox",
         "type": "scattermapbox"
        },
        {
         "hovertemplate": "<b>%{hovertext}</b><br><br>City=peniche<br>Humidity=%{marker.size}<br>Lat=%{lat}<br>Lng=%{lon}<extra></extra>",
         "hovertext": [
          "peniche"
         ],
         "lat": [
          39.3558
         ],
         "legendgroup": "peniche",
         "lon": [
          -9.3811
         ],
         "marker": {
          "color": "#00cc96",
          "size": [
           89
          ],
          "sizemode": "area",
          "sizeref": 0.4444444444444444
         },
         "mode": "markers",
         "name": "peniche",
         "showlegend": true,
         "subplot": "mapbox",
         "type": "scattermapbox"
        },
        {
         "hovertemplate": "<b>%{hovertext}</b><br><br>City=tawang<br>Humidity=%{marker.size}<br>Lat=%{lat}<br>Lng=%{lon}<extra></extra>",
         "hovertext": [
          "tawang"
         ],
         "lat": [
          27.5833
         ],
         "legendgroup": "tawang",
         "lon": [
          91.8667
         ],
         "marker": {
          "color": "#ab63fa",
          "size": [
           77
          ],
          "sizemode": "area",
          "sizeref": 0.4444444444444444
         },
         "mode": "markers",
         "name": "tawang",
         "showlegend": true,
         "subplot": "mapbox",
         "type": "scattermapbox"
        },
        {
         "hovertemplate": "<b>%{hovertext}</b><br><br>City=havelock<br>Humidity=%{marker.size}<br>Lat=%{lat}<br>Lng=%{lon}<extra></extra>",
         "hovertext": [
          "havelock"
         ],
         "lat": [
          34.8791
         ],
         "legendgroup": "havelock",
         "lon": [
          -76.9013
         ],
         "marker": {
          "color": "#FFA15A",
          "size": [
           69
          ],
          "sizemode": "area",
          "sizeref": 0.4444444444444444
         },
         "mode": "markers",
         "name": "havelock",
         "showlegend": true,
         "subplot": "mapbox",
         "type": "scattermapbox"
        },
        {
         "hovertemplate": "<b>%{hovertext}</b><br><br>City=novobelokatay<br>Humidity=%{marker.size}<br>Lat=%{lat}<br>Lng=%{lon}<extra></extra>",
         "hovertext": [
          "novobelokatay"
         ],
         "lat": [
          55.7062
         ],
         "legendgroup": "novobelokatay",
         "lon": [
          58.9549
         ],
         "marker": {
          "color": "#19d3f3",
          "size": [
           93
          ],
          "sizemode": "area",
          "sizeref": 0.4444444444444444
         },
         "mode": "markers",
         "name": "novobelokatay",
         "showlegend": true,
         "subplot": "mapbox",
         "type": "scattermapbox"
        },
        {
         "hovertemplate": "<b>%{hovertext}</b><br><br>City=puerto del rosario<br>Humidity=%{marker.size}<br>Lat=%{lat}<br>Lng=%{lon}<extra></extra>",
         "hovertext": [
          "puerto del rosario"
         ],
         "lat": [
          28.5004
         ],
         "legendgroup": "puerto del rosario",
         "lon": [
          -13.8627
         ],
         "marker": {
          "color": "#FF6692",
          "size": [
           73
          ],
          "sizemode": "area",
          "sizeref": 0.4444444444444444
         },
         "mode": "markers",
         "name": "puerto del rosario",
         "showlegend": true,
         "subplot": "mapbox",
         "type": "scattermapbox"
        },
        {
         "hovertemplate": "<b>%{hovertext}</b><br><br>City=mount gambier<br>Humidity=%{marker.size}<br>Lat=%{lat}<br>Lng=%{lon}<extra></extra>",
         "hovertext": [
          "mount gambier"
         ],
         "lat": [
          -37.8333
         ],
         "legendgroup": "mount gambier",
         "lon": [
          140.7667
         ],
         "marker": {
          "color": "#B6E880",
          "size": [
           91
          ],
          "sizemode": "area",
          "sizeref": 0.4444444444444444
         },
         "mode": "markers",
         "name": "mount gambier",
         "showlegend": true,
         "subplot": "mapbox",
         "type": "scattermapbox"
        },
        {
         "hovertemplate": "<b>%{hovertext}</b><br><br>City=rindal<br>Humidity=%{marker.size}<br>Lat=%{lat}<br>Lng=%{lon}<extra></extra>",
         "hovertext": [
          "rindal"
         ],
         "lat": [
          63.0565
         ],
         "legendgroup": "rindal",
         "lon": [
          9.2124
         ],
         "marker": {
          "color": "#FF97FF",
          "size": [
           94
          ],
          "sizemode": "area",
          "sizeref": 0.4444444444444444
         },
         "mode": "markers",
         "name": "rindal",
         "showlegend": true,
         "subplot": "mapbox",
         "type": "scattermapbox"
        },
        {
         "hovertemplate": "<b>%{hovertext}</b><br><br>City=roseburg<br>Humidity=%{marker.size}<br>Lat=%{lat}<br>Lng=%{lon}<extra></extra>",
         "hovertext": [
          "roseburg"
         ],
         "lat": [
          43.2165
         ],
         "legendgroup": "roseburg",
         "lon": [
          -123.3417
         ],
         "marker": {
          "color": "#FECB52",
          "size": [
           82
          ],
          "sizemode": "area",
          "sizeref": 0.4444444444444444
         },
         "mode": "markers",
         "name": "roseburg",
         "showlegend": true,
         "subplot": "mapbox",
         "type": "scattermapbox"
        },
        {
         "hovertemplate": "<b>%{hovertext}</b><br><br>City=kaeo<br>Humidity=%{marker.size}<br>Lat=%{lat}<br>Lng=%{lon}<extra></extra>",
         "hovertext": [
          "kaeo"
         ],
         "lat": [
          -35.1
         ],
         "legendgroup": "kaeo",
         "lon": [
          173.7833
         ],
         "marker": {
          "color": "#636efa",
          "size": [
           94
          ],
          "sizemode": "area",
          "sizeref": 0.4444444444444444
         },
         "mode": "markers",
         "name": "kaeo",
         "showlegend": true,
         "subplot": "mapbox",
         "type": "scattermapbox"
        },
        {
         "hovertemplate": "<b>%{hovertext}</b><br><br>City=biak<br>Humidity=%{marker.size}<br>Lat=%{lat}<br>Lng=%{lon}<extra></extra>",
         "hovertext": [
          "biak"
         ],
         "lat": [
          -0.9131
         ],
         "legendgroup": "biak",
         "lon": [
          122.8766
         ],
         "marker": {
          "color": "#EF553B",
          "size": [
           88
          ],
          "sizemode": "area",
          "sizeref": 0.4444444444444444
         },
         "mode": "markers",
         "name": "biak",
         "showlegend": true,
         "subplot": "mapbox",
         "type": "scattermapbox"
        },
        {
         "hovertemplate": "<b>%{hovertext}</b><br><br>City=kahului<br>Humidity=%{marker.size}<br>Lat=%{lat}<br>Lng=%{lon}<extra></extra>",
         "hovertext": [
          "kahului"
         ],
         "lat": [
          20.8947
         ],
         "legendgroup": "kahului",
         "lon": [
          -156.47
         ],
         "marker": {
          "color": "#00cc96",
          "size": [
           60
          ],
          "sizemode": "area",
          "sizeref": 0.4444444444444444
         },
         "mode": "markers",
         "name": "kahului",
         "showlegend": true,
         "subplot": "mapbox",
         "type": "scattermapbox"
        },
        {
         "hovertemplate": "<b>%{hovertext}</b><br><br>City=lavrentiya<br>Humidity=%{marker.size}<br>Lat=%{lat}<br>Lng=%{lon}<extra></extra>",
         "hovertext": [
          "lavrentiya"
         ],
         "lat": [
          65.5833
         ],
         "legendgroup": "lavrentiya",
         "lon": [
          -171
         ],
         "marker": {
          "color": "#ab63fa",
          "size": [
           75
          ],
          "sizemode": "area",
          "sizeref": 0.4444444444444444
         },
         "mode": "markers",
         "name": "lavrentiya",
         "showlegend": true,
         "subplot": "mapbox",
         "type": "scattermapbox"
        },
        {
         "hovertemplate": "<b>%{hovertext}</b><br><br>City=sabang<br>Humidity=%{marker.size}<br>Lat=%{lat}<br>Lng=%{lon}<extra></extra>",
         "hovertext": [
          "sabang"
         ],
         "lat": [
          5.8933
         ],
         "legendgroup": "sabang",
         "lon": [
          95.3214
         ],
         "marker": {
          "color": "#FFA15A",
          "size": [
           81
          ],
          "sizemode": "area",
          "sizeref": 0.4444444444444444
         },
         "mode": "markers",
         "name": "sabang",
         "showlegend": true,
         "subplot": "mapbox",
         "type": "scattermapbox"
        },
        {
         "hovertemplate": "<b>%{hovertext}</b><br><br>City=pangnirtung<br>Humidity=%{marker.size}<br>Lat=%{lat}<br>Lng=%{lon}<extra></extra>",
         "hovertext": [
          "pangnirtung"
         ],
         "lat": [
          66.1451
         ],
         "legendgroup": "pangnirtung",
         "lon": [
          -65.7125
         ],
         "marker": {
          "color": "#19d3f3",
          "size": [
           63
          ],
          "sizemode": "area",
          "sizeref": 0.4444444444444444
         },
         "mode": "markers",
         "name": "pangnirtung",
         "showlegend": true,
         "subplot": "mapbox",
         "type": "scattermapbox"
        },
        {
         "hovertemplate": "<b>%{hovertext}</b><br><br>City=corn island<br>Humidity=%{marker.size}<br>Lat=%{lat}<br>Lng=%{lon}<extra></extra>",
         "hovertext": [
          "corn island"
         ],
         "lat": [
          12.1694
         ],
         "legendgroup": "corn island",
         "lon": [
          -83.0418
         ],
         "marker": {
          "color": "#FF6692",
          "size": [
           74
          ],
          "sizemode": "area",
          "sizeref": 0.4444444444444444
         },
         "mode": "markers",
         "name": "corn island",
         "showlegend": true,
         "subplot": "mapbox",
         "type": "scattermapbox"
        },
        {
         "hovertemplate": "<b>%{hovertext}</b><br><br>City=innisfail<br>Humidity=%{marker.size}<br>Lat=%{lat}<br>Lng=%{lon}<extra></extra>",
         "hovertext": [
          "innisfail"
         ],
         "lat": [
          -17.5333
         ],
         "legendgroup": "innisfail",
         "lon": [
          146.0333
         ],
         "marker": {
          "color": "#B6E880",
          "size": [
           74
          ],
          "sizemode": "area",
          "sizeref": 0.4444444444444444
         },
         "mode": "markers",
         "name": "innisfail",
         "showlegend": true,
         "subplot": "mapbox",
         "type": "scattermapbox"
        },
        {
         "hovertemplate": "<b>%{hovertext}</b><br><br>City=almaznyy<br>Humidity=%{marker.size}<br>Lat=%{lat}<br>Lng=%{lon}<extra></extra>",
         "hovertext": [
          "almaznyy"
         ],
         "lat": [
          48.0448
         ],
         "legendgroup": "almaznyy",
         "lon": [
          40.045
         ],
         "marker": {
          "color": "#FF97FF",
          "size": [
           47
          ],
          "sizemode": "area",
          "sizeref": 0.4444444444444444
         },
         "mode": "markers",
         "name": "almaznyy",
         "showlegend": true,
         "subplot": "mapbox",
         "type": "scattermapbox"
        },
        {
         "hovertemplate": "<b>%{hovertext}</b><br><br>City=geraldton<br>Humidity=%{marker.size}<br>Lat=%{lat}<br>Lng=%{lon}<extra></extra>",
         "hovertext": [
          "geraldton"
         ],
         "lat": [
          -28.7667
         ],
         "legendgroup": "geraldton",
         "lon": [
          114.6
         ],
         "marker": {
          "color": "#FECB52",
          "size": [
           88
          ],
          "sizemode": "area",
          "sizeref": 0.4444444444444444
         },
         "mode": "markers",
         "name": "geraldton",
         "showlegend": true,
         "subplot": "mapbox",
         "type": "scattermapbox"
        },
        {
         "hovertemplate": "<b>%{hovertext}</b><br><br>City=kokopo<br>Humidity=%{marker.size}<br>Lat=%{lat}<br>Lng=%{lon}<extra></extra>",
         "hovertext": [
          "kokopo"
         ],
         "lat": [
          -4.352
         ],
         "legendgroup": "kokopo",
         "lon": [
          152.2633
         ],
         "marker": {
          "color": "#636efa",
          "size": [
           75
          ],
          "sizemode": "area",
          "sizeref": 0.4444444444444444
         },
         "mode": "markers",
         "name": "kokopo",
         "showlegend": true,
         "subplot": "mapbox",
         "type": "scattermapbox"
        },
        {
         "hovertemplate": "<b>%{hovertext}</b><br><br>City=yellowknife<br>Humidity=%{marker.size}<br>Lat=%{lat}<br>Lng=%{lon}<extra></extra>",
         "hovertext": [
          "yellowknife"
         ],
         "lat": [
          62.456
         ],
         "legendgroup": "yellowknife",
         "lon": [
          -114.3525
         ],
         "marker": {
          "color": "#EF553B",
          "size": [
           87
          ],
          "sizemode": "area",
          "sizeref": 0.4444444444444444
         },
         "mode": "markers",
         "name": "yellowknife",
         "showlegend": true,
         "subplot": "mapbox",
         "type": "scattermapbox"
        },
        {
         "hovertemplate": "<b>%{hovertext}</b><br><br>City=sao miguel do araguaia<br>Humidity=%{marker.size}<br>Lat=%{lat}<br>Lng=%{lon}<extra></extra>",
         "hovertext": [
          "sao miguel do araguaia"
         ],
         "lat": [
          -13.275
         ],
         "legendgroup": "sao miguel do araguaia",
         "lon": [
          -50.1628
         ],
         "marker": {
          "color": "#00cc96",
          "size": [
           13
          ],
          "sizemode": "area",
          "sizeref": 0.4444444444444444
         },
         "mode": "markers",
         "name": "sao miguel do araguaia",
         "showlegend": true,
         "subplot": "mapbox",
         "type": "scattermapbox"
        },
        {
         "hovertemplate": "<b>%{hovertext}</b><br><br>City=belmonte<br>Humidity=%{marker.size}<br>Lat=%{lat}<br>Lng=%{lon}<extra></extra>",
         "hovertext": [
          "belmonte"
         ],
         "lat": [
          -15.8631
         ],
         "legendgroup": "belmonte",
         "lon": [
          -38.8828
         ],
         "marker": {
          "color": "#ab63fa",
          "size": [
           65
          ],
          "sizemode": "area",
          "sizeref": 0.4444444444444444
         },
         "mode": "markers",
         "name": "belmonte",
         "showlegend": true,
         "subplot": "mapbox",
         "type": "scattermapbox"
        },
        {
         "hovertemplate": "<b>%{hovertext}</b><br><br>City=pisco<br>Humidity=%{marker.size}<br>Lat=%{lat}<br>Lng=%{lon}<extra></extra>",
         "hovertext": [
          "pisco"
         ],
         "lat": [
          -13.7
         ],
         "legendgroup": "pisco",
         "lon": [
          -76.2167
         ],
         "marker": {
          "color": "#FFA15A",
          "size": [
           77
          ],
          "sizemode": "area",
          "sizeref": 0.4444444444444444
         },
         "mode": "markers",
         "name": "pisco",
         "showlegend": true,
         "subplot": "mapbox",
         "type": "scattermapbox"
        },
        {
         "hovertemplate": "<b>%{hovertext}</b><br><br>City=ambilobe<br>Humidity=%{marker.size}<br>Lat=%{lat}<br>Lng=%{lon}<extra></extra>",
         "hovertext": [
          "ambilobe"
         ],
         "lat": [
          -13.2
         ],
         "legendgroup": "ambilobe",
         "lon": [
          49.05
         ],
         "marker": {
          "color": "#19d3f3",
          "size": [
           62
          ],
          "sizemode": "area",
          "sizeref": 0.4444444444444444
         },
         "mode": "markers",
         "name": "ambilobe",
         "showlegend": true,
         "subplot": "mapbox",
         "type": "scattermapbox"
        },
        {
         "hovertemplate": "<b>%{hovertext}</b><br><br>City=aripuana<br>Humidity=%{marker.size}<br>Lat=%{lat}<br>Lng=%{lon}<extra></extra>",
         "hovertext": [
          "aripuana"
         ],
         "lat": [
          -9.1667
         ],
         "legendgroup": "aripuana",
         "lon": [
          -60.6333
         ],
         "marker": {
          "color": "#FF6692",
          "size": [
           45
          ],
          "sizemode": "area",
          "sizeref": 0.4444444444444444
         },
         "mode": "markers",
         "name": "aripuana",
         "showlegend": true,
         "subplot": "mapbox",
         "type": "scattermapbox"
        },
        {
         "hovertemplate": "<b>%{hovertext}</b><br><br>City=kaitangata<br>Humidity=%{marker.size}<br>Lat=%{lat}<br>Lng=%{lon}<extra></extra>",
         "hovertext": [
          "kaitangata"
         ],
         "lat": [
          -46.2817
         ],
         "legendgroup": "kaitangata",
         "lon": [
          169.8464
         ],
         "marker": {
          "color": "#B6E880",
          "size": [
           77
          ],
          "sizemode": "area",
          "sizeref": 0.4444444444444444
         },
         "mode": "markers",
         "name": "kaitangata",
         "showlegend": true,
         "subplot": "mapbox",
         "type": "scattermapbox"
        },
        {
         "hovertemplate": "<b>%{hovertext}</b><br><br>City=lesnoy<br>Humidity=%{marker.size}<br>Lat=%{lat}<br>Lng=%{lon}<extra></extra>",
         "hovertext": [
          "lesnoy"
         ],
         "lat": [
          57.6198
         ],
         "legendgroup": "lesnoy",
         "lon": [
          63.0784
         ],
         "marker": {
          "color": "#FF97FF",
          "size": [
           74
          ],
          "sizemode": "area",
          "sizeref": 0.4444444444444444
         },
         "mode": "markers",
         "name": "lesnoy",
         "showlegend": true,
         "subplot": "mapbox",
         "type": "scattermapbox"
        },
        {
         "hovertemplate": "<b>%{hovertext}</b><br><br>City=evensk<br>Humidity=%{marker.size}<br>Lat=%{lat}<br>Lng=%{lon}<extra></extra>",
         "hovertext": [
          "evensk"
         ],
         "lat": [
          61.95
         ],
         "legendgroup": "evensk",
         "lon": [
          159.2333
         ],
         "marker": {
          "color": "#FECB52",
          "size": [
           85
          ],
          "sizemode": "area",
          "sizeref": 0.4444444444444444
         },
         "mode": "markers",
         "name": "evensk",
         "showlegend": true,
         "subplot": "mapbox",
         "type": "scattermapbox"
        },
        {
         "hovertemplate": "<b>%{hovertext}</b><br><br>City=sur<br>Humidity=%{marker.size}<br>Lat=%{lat}<br>Lng=%{lon}<extra></extra>",
         "hovertext": [
          "sur"
         ],
         "lat": [
          22.5667
         ],
         "legendgroup": "sur",
         "lon": [
          59.5289
         ],
         "marker": {
          "color": "#636efa",
          "size": [
           40
          ],
          "sizemode": "area",
          "sizeref": 0.4444444444444444
         },
         "mode": "markers",
         "name": "sur",
         "showlegend": true,
         "subplot": "mapbox",
         "type": "scattermapbox"
        },
        {
         "hovertemplate": "<b>%{hovertext}</b><br><br>City=la ronge<br>Humidity=%{marker.size}<br>Lat=%{lat}<br>Lng=%{lon}<extra></extra>",
         "hovertext": [
          "la ronge"
         ],
         "lat": [
          55.1001
         ],
         "legendgroup": "la ronge",
         "lon": [
          -105.2842
         ],
         "marker": {
          "color": "#EF553B",
          "size": [
           52
          ],
          "sizemode": "area",
          "sizeref": 0.4444444444444444
         },
         "mode": "markers",
         "name": "la ronge",
         "showlegend": true,
         "subplot": "mapbox",
         "type": "scattermapbox"
        },
        {
         "hovertemplate": "<b>%{hovertext}</b><br><br>City=danielskuil<br>Humidity=%{marker.size}<br>Lat=%{lat}<br>Lng=%{lon}<extra></extra>",
         "hovertext": [
          "danielskuil"
         ],
         "lat": [
          -28.1887
         ],
         "legendgroup": "danielskuil",
         "lon": [
          23.5395
         ],
         "marker": {
          "color": "#00cc96",
          "size": [
           60
          ],
          "sizemode": "area",
          "sizeref": 0.4444444444444444
         },
         "mode": "markers",
         "name": "danielskuil",
         "showlegend": true,
         "subplot": "mapbox",
         "type": "scattermapbox"
        },
        {
         "hovertemplate": "<b>%{hovertext}</b><br><br>City=chunhuhub<br>Humidity=%{marker.size}<br>Lat=%{lat}<br>Lng=%{lon}<extra></extra>",
         "hovertext": [
          "chunhuhub"
         ],
         "lat": [
          19.55
         ],
         "legendgroup": "chunhuhub",
         "lon": [
          -88.6833
         ],
         "marker": {
          "color": "#ab63fa",
          "size": [
           54
          ],
          "sizemode": "area",
          "sizeref": 0.4444444444444444
         },
         "mode": "markers",
         "name": "chunhuhub",
         "showlegend": true,
         "subplot": "mapbox",
         "type": "scattermapbox"
        },
        {
         "hovertemplate": "<b>%{hovertext}</b><br><br>City=avera<br>Humidity=%{marker.size}<br>Lat=%{lat}<br>Lng=%{lon}<extra></extra>",
         "hovertext": [
          "avera"
         ],
         "lat": [
          33.194
         ],
         "legendgroup": "avera",
         "lon": [
          -82.5271
         ],
         "marker": {
          "color": "#FFA15A",
          "size": [
           26
          ],
          "sizemode": "area",
          "sizeref": 0.4444444444444444
         },
         "mode": "markers",
         "name": "avera",
         "showlegend": true,
         "subplot": "mapbox",
         "type": "scattermapbox"
        },
        {
         "hovertemplate": "<b>%{hovertext}</b><br><br>City=ouallam<br>Humidity=%{marker.size}<br>Lat=%{lat}<br>Lng=%{lon}<extra></extra>",
         "hovertext": [
          "ouallam"
         ],
         "lat": [
          14.3188
         ],
         "legendgroup": "ouallam",
         "lon": [
          2.0866
         ],
         "marker": {
          "color": "#19d3f3",
          "size": [
           10
          ],
          "sizemode": "area",
          "sizeref": 0.4444444444444444
         },
         "mode": "markers",
         "name": "ouallam",
         "showlegend": true,
         "subplot": "mapbox",
         "type": "scattermapbox"
        },
        {
         "hovertemplate": "<b>%{hovertext}</b><br><br>City=challapata<br>Humidity=%{marker.size}<br>Lat=%{lat}<br>Lng=%{lon}<extra></extra>",
         "hovertext": [
          "challapata"
         ],
         "lat": [
          -18.9
         ],
         "legendgroup": "challapata",
         "lon": [
          -66.7667
         ],
         "marker": {
          "color": "#FF6692",
          "size": [
           30
          ],
          "sizemode": "area",
          "sizeref": 0.4444444444444444
         },
         "mode": "markers",
         "name": "challapata",
         "showlegend": true,
         "subplot": "mapbox",
         "type": "scattermapbox"
        },
        {
         "hovertemplate": "<b>%{hovertext}</b><br><br>City=olafsvik<br>Humidity=%{marker.size}<br>Lat=%{lat}<br>Lng=%{lon}<extra></extra>",
         "hovertext": [
          "olafsvik"
         ],
         "lat": [
          64.8945
         ],
         "legendgroup": "olafsvik",
         "lon": [
          -23.7142
         ],
         "marker": {
          "color": "#B6E880",
          "size": [
           76
          ],
          "sizemode": "area",
          "sizeref": 0.4444444444444444
         },
         "mode": "markers",
         "name": "olafsvik",
         "showlegend": true,
         "subplot": "mapbox",
         "type": "scattermapbox"
        },
        {
         "hovertemplate": "<b>%{hovertext}</b><br><br>City=neepawa<br>Humidity=%{marker.size}<br>Lat=%{lat}<br>Lng=%{lon}<extra></extra>",
         "hovertext": [
          "neepawa"
         ],
         "lat": [
          50.2289
         ],
         "legendgroup": "neepawa",
         "lon": [
          -99.4664
         ],
         "marker": {
          "color": "#FF97FF",
          "size": [
           27
          ],
          "sizemode": "area",
          "sizeref": 0.4444444444444444
         },
         "mode": "markers",
         "name": "neepawa",
         "showlegend": true,
         "subplot": "mapbox",
         "type": "scattermapbox"
        },
        {
         "hovertemplate": "<b>%{hovertext}</b><br><br>City=freetown<br>Humidity=%{marker.size}<br>Lat=%{lat}<br>Lng=%{lon}<extra></extra>",
         "hovertext": [
          "freetown"
         ],
         "lat": [
          8.484
         ],
         "legendgroup": "freetown",
         "lon": [
          -13.2299
         ],
         "marker": {
          "color": "#FECB52",
          "size": [
           74
          ],
          "sizemode": "area",
          "sizeref": 0.4444444444444444
         },
         "mode": "markers",
         "name": "freetown",
         "showlegend": true,
         "subplot": "mapbox",
         "type": "scattermapbox"
        },
        {
         "hovertemplate": "<b>%{hovertext}</b><br><br>City=nome<br>Humidity=%{marker.size}<br>Lat=%{lat}<br>Lng=%{lon}<extra></extra>",
         "hovertext": [
          "nome"
         ],
         "lat": [
          64.5011
         ],
         "legendgroup": "nome",
         "lon": [
          -165.4064
         ],
         "marker": {
          "color": "#636efa",
          "size": [
           100
          ],
          "sizemode": "area",
          "sizeref": 0.4444444444444444
         },
         "mode": "markers",
         "name": "nome",
         "showlegend": true,
         "subplot": "mapbox",
         "type": "scattermapbox"
        },
        {
         "hovertemplate": "<b>%{hovertext}</b><br><br>City=hovd<br>Humidity=%{marker.size}<br>Lat=%{lat}<br>Lng=%{lon}<extra></extra>",
         "hovertext": [
          "hovd"
         ],
         "lat": [
          48.0056
         ],
         "legendgroup": "hovd",
         "lon": [
          91.6419
         ],
         "marker": {
          "color": "#EF553B",
          "size": [
           39
          ],
          "sizemode": "area",
          "sizeref": 0.4444444444444444
         },
         "mode": "markers",
         "name": "hovd",
         "showlegend": true,
         "subplot": "mapbox",
         "type": "scattermapbox"
        },
        {
         "hovertemplate": "<b>%{hovertext}</b><br><br>City=ugra<br>Humidity=%{marker.size}<br>Lat=%{lat}<br>Lng=%{lon}<extra></extra>",
         "hovertext": [
          "ugra"
         ],
         "lat": [
          54.7777
         ],
         "legendgroup": "ugra",
         "lon": [
          34.3267
         ],
         "marker": {
          "color": "#00cc96",
          "size": [
           80
          ],
          "sizemode": "area",
          "sizeref": 0.4444444444444444
         },
         "mode": "markers",
         "name": "ugra",
         "showlegend": true,
         "subplot": "mapbox",
         "type": "scattermapbox"
        },
        {
         "hovertemplate": "<b>%{hovertext}</b><br><br>City=upernavik<br>Humidity=%{marker.size}<br>Lat=%{lat}<br>Lng=%{lon}<extra></extra>",
         "hovertext": [
          "upernavik"
         ],
         "lat": [
          72.7868
         ],
         "legendgroup": "upernavik",
         "lon": [
          -56.1549
         ],
         "marker": {
          "color": "#ab63fa",
          "size": [
           95
          ],
          "sizemode": "area",
          "sizeref": 0.4444444444444444
         },
         "mode": "markers",
         "name": "upernavik",
         "showlegend": true,
         "subplot": "mapbox",
         "type": "scattermapbox"
        },
        {
         "hovertemplate": "<b>%{hovertext}</b><br><br>City=sembakung<br>Humidity=%{marker.size}<br>Lat=%{lat}<br>Lng=%{lon}<extra></extra>",
         "hovertext": [
          "sembakung"
         ],
         "lat": [
          3.8167
         ],
         "legendgroup": "sembakung",
         "lon": [
          117.25
         ],
         "marker": {
          "color": "#FFA15A",
          "size": [
           99
          ],
          "sizemode": "area",
          "sizeref": 0.4444444444444444
         },
         "mode": "markers",
         "name": "sembakung",
         "showlegend": true,
         "subplot": "mapbox",
         "type": "scattermapbox"
        },
        {
         "hovertemplate": "<b>%{hovertext}</b><br><br>City=shakawe<br>Humidity=%{marker.size}<br>Lat=%{lat}<br>Lng=%{lon}<extra></extra>",
         "hovertext": [
          "shakawe"
         ],
         "lat": [
          -18.3667
         ],
         "legendgroup": "shakawe",
         "lon": [
          21.85
         ],
         "marker": {
          "color": "#19d3f3",
          "size": [
           27
          ],
          "sizemode": "area",
          "sizeref": 0.4444444444444444
         },
         "mode": "markers",
         "name": "shakawe",
         "showlegend": true,
         "subplot": "mapbox",
         "type": "scattermapbox"
        },
        {
         "hovertemplate": "<b>%{hovertext}</b><br><br>City=upington<br>Humidity=%{marker.size}<br>Lat=%{lat}<br>Lng=%{lon}<extra></extra>",
         "hovertext": [
          "upington"
         ],
         "lat": [
          -28.4478
         ],
         "legendgroup": "upington",
         "lon": [
          21.2561
         ],
         "marker": {
          "color": "#FF6692",
          "size": [
           19
          ],
          "sizemode": "area",
          "sizeref": 0.4444444444444444
         },
         "mode": "markers",
         "name": "upington",
         "showlegend": true,
         "subplot": "mapbox",
         "type": "scattermapbox"
        },
        {
         "hovertemplate": "<b>%{hovertext}</b><br><br>City=gwanda<br>Humidity=%{marker.size}<br>Lat=%{lat}<br>Lng=%{lon}<extra></extra>",
         "hovertext": [
          "gwanda"
         ],
         "lat": [
          -20.9333
         ],
         "legendgroup": "gwanda",
         "lon": [
          29
         ],
         "marker": {
          "color": "#B6E880",
          "size": [
           25
          ],
          "sizemode": "area",
          "sizeref": 0.4444444444444444
         },
         "mode": "markers",
         "name": "gwanda",
         "showlegend": true,
         "subplot": "mapbox",
         "type": "scattermapbox"
        },
        {
         "hovertemplate": "<b>%{hovertext}</b><br><br>City=kruisfontein<br>Humidity=%{marker.size}<br>Lat=%{lat}<br>Lng=%{lon}<extra></extra>",
         "hovertext": [
          "kruisfontein"
         ],
         "lat": [
          -34.0033
         ],
         "legendgroup": "kruisfontein",
         "lon": [
          24.7314
         ],
         "marker": {
          "color": "#FF97FF",
          "size": [
           82
          ],
          "sizemode": "area",
          "sizeref": 0.4444444444444444
         },
         "mode": "markers",
         "name": "kruisfontein",
         "showlegend": true,
         "subplot": "mapbox",
         "type": "scattermapbox"
        },
        {
         "hovertemplate": "<b>%{hovertext}</b><br><br>City=grand gaube<br>Humidity=%{marker.size}<br>Lat=%{lat}<br>Lng=%{lon}<extra></extra>",
         "hovertext": [
          "grand gaube"
         ],
         "lat": [
          -20.0064
         ],
         "legendgroup": "grand gaube",
         "lon": [
          57.6608
         ],
         "marker": {
          "color": "#FECB52",
          "size": [
           65
          ],
          "sizemode": "area",
          "sizeref": 0.4444444444444444
         },
         "mode": "markers",
         "name": "grand gaube",
         "showlegend": true,
         "subplot": "mapbox",
         "type": "scattermapbox"
        },
        {
         "hovertemplate": "<b>%{hovertext}</b><br><br>City=cacahuatepec<br>Humidity=%{marker.size}<br>Lat=%{lat}<br>Lng=%{lon}<extra></extra>",
         "hovertext": [
          "cacahuatepec"
         ],
         "lat": [
          16.8861
         ],
         "legendgroup": "cacahuatepec",
         "lon": [
          -99.6106
         ],
         "marker": {
          "color": "#636efa",
          "size": [
           91
          ],
          "sizemode": "area",
          "sizeref": 0.4444444444444444
         },
         "mode": "markers",
         "name": "cacahuatepec",
         "showlegend": true,
         "subplot": "mapbox",
         "type": "scattermapbox"
        },
        {
         "hovertemplate": "<b>%{hovertext}</b><br><br>City=paita<br>Humidity=%{marker.size}<br>Lat=%{lat}<br>Lng=%{lon}<extra></extra>",
         "hovertext": [
          "paita"
         ],
         "lat": [
          -5.0892
         ],
         "legendgroup": "paita",
         "lon": [
          -81.1144
         ],
         "marker": {
          "color": "#EF553B",
          "size": [
           67
          ],
          "sizemode": "area",
          "sizeref": 0.4444444444444444
         },
         "mode": "markers",
         "name": "paita",
         "showlegend": true,
         "subplot": "mapbox",
         "type": "scattermapbox"
        },
        {
         "hovertemplate": "<b>%{hovertext}</b><br><br>City=bumba<br>Humidity=%{marker.size}<br>Lat=%{lat}<br>Lng=%{lon}<extra></extra>",
         "hovertext": [
          "bumba"
         ],
         "lat": [
          2.1833
         ],
         "legendgroup": "bumba",
         "lon": [
          22.4667
         ],
         "marker": {
          "color": "#00cc96",
          "size": [
           70
          ],
          "sizemode": "area",
          "sizeref": 0.4444444444444444
         },
         "mode": "markers",
         "name": "bumba",
         "showlegend": true,
         "subplot": "mapbox",
         "type": "scattermapbox"
        },
        {
         "hovertemplate": "<b>%{hovertext}</b><br><br>City=maragogi<br>Humidity=%{marker.size}<br>Lat=%{lat}<br>Lng=%{lon}<extra></extra>",
         "hovertext": [
          "maragogi"
         ],
         "lat": [
          -9.0122
         ],
         "legendgroup": "maragogi",
         "lon": [
          -35.2225
         ],
         "marker": {
          "color": "#ab63fa",
          "size": [
           73
          ],
          "sizemode": "area",
          "sizeref": 0.4444444444444444
         },
         "mode": "markers",
         "name": "maragogi",
         "showlegend": true,
         "subplot": "mapbox",
         "type": "scattermapbox"
        },
        {
         "hovertemplate": "<b>%{hovertext}</b><br><br>City=kosa<br>Humidity=%{marker.size}<br>Lat=%{lat}<br>Lng=%{lon}<extra></extra>",
         "hovertext": [
          "kosa"
         ],
         "lat": [
          59.9445
         ],
         "legendgroup": "kosa",
         "lon": [
          54.9977
         ],
         "marker": {
          "color": "#FFA15A",
          "size": [
           92
          ],
          "sizemode": "area",
          "sizeref": 0.4444444444444444
         },
         "mode": "markers",
         "name": "kosa",
         "showlegend": true,
         "subplot": "mapbox",
         "type": "scattermapbox"
        },
        {
         "hovertemplate": "<b>%{hovertext}</b><br><br>City=lagoa<br>Humidity=%{marker.size}<br>Lat=%{lat}<br>Lng=%{lon}<extra></extra>",
         "hovertext": [
          "lagoa"
         ],
         "lat": [
          39.05
         ],
         "legendgroup": "lagoa",
         "lon": [
          -27.9833
         ],
         "marker": {
          "color": "#19d3f3",
          "size": [
           61
          ],
          "sizemode": "area",
          "sizeref": 0.4444444444444444
         },
         "mode": "markers",
         "name": "lagoa",
         "showlegend": true,
         "subplot": "mapbox",
         "type": "scattermapbox"
        },
        {
         "hovertemplate": "<b>%{hovertext}</b><br><br>City=cabra<br>Humidity=%{marker.size}<br>Lat=%{lat}<br>Lng=%{lon}<extra></extra>",
         "hovertext": [
          "cabra"
         ],
         "lat": [
          37.4725
         ],
         "legendgroup": "cabra",
         "lon": [
          -4.4421
         ],
         "marker": {
          "color": "#FF6692",
          "size": [
           30
          ],
          "sizemode": "area",
          "sizeref": 0.4444444444444444
         },
         "mode": "markers",
         "name": "cabra",
         "showlegend": true,
         "subplot": "mapbox",
         "type": "scattermapbox"
        },
        {
         "hovertemplate": "<b>%{hovertext}</b><br><br>City=gat<br>Humidity=%{marker.size}<br>Lat=%{lat}<br>Lng=%{lon}<extra></extra>",
         "hovertext": [
          "gat"
         ],
         "lat": [
          31.61
         ],
         "legendgroup": "gat",
         "lon": [
          34.7642
         ],
         "marker": {
          "color": "#B6E880",
          "size": [
           100
          ],
          "sizemode": "area",
          "sizeref": 0.4444444444444444
         },
         "mode": "markers",
         "name": "gat",
         "showlegend": true,
         "subplot": "mapbox",
         "type": "scattermapbox"
        },
        {
         "hovertemplate": "<b>%{hovertext}</b><br><br>City=buala<br>Humidity=%{marker.size}<br>Lat=%{lat}<br>Lng=%{lon}<extra></extra>",
         "hovertext": [
          "buala"
         ],
         "lat": [
          -8.145
         ],
         "legendgroup": "buala",
         "lon": [
          159.5921
         ],
         "marker": {
          "color": "#FF97FF",
          "size": [
           82
          ],
          "sizemode": "area",
          "sizeref": 0.4444444444444444
         },
         "mode": "markers",
         "name": "buala",
         "showlegend": true,
         "subplot": "mapbox",
         "type": "scattermapbox"
        },
        {
         "hovertemplate": "<b>%{hovertext}</b><br><br>City=asau<br>Humidity=%{marker.size}<br>Lat=%{lat}<br>Lng=%{lon}<extra></extra>",
         "hovertext": [
          "asau"
         ],
         "lat": [
          46.4333
         ],
         "legendgroup": "asau",
         "lon": [
          26.4
         ],
         "marker": {
          "color": "#FECB52",
          "size": [
           48
          ],
          "sizemode": "area",
          "sizeref": 0.4444444444444444
         },
         "mode": "markers",
         "name": "asau",
         "showlegend": true,
         "subplot": "mapbox",
         "type": "scattermapbox"
        },
        {
         "hovertemplate": "<b>%{hovertext}</b><br><br>City=isangel<br>Humidity=%{marker.size}<br>Lat=%{lat}<br>Lng=%{lon}<extra></extra>",
         "hovertext": [
          "isangel"
         ],
         "lat": [
          -19.55
         ],
         "legendgroup": "isangel",
         "lon": [
          169.2667
         ],
         "marker": {
          "color": "#636efa",
          "size": [
           88
          ],
          "sizemode": "area",
          "sizeref": 0.4444444444444444
         },
         "mode": "markers",
         "name": "isangel",
         "showlegend": true,
         "subplot": "mapbox",
         "type": "scattermapbox"
        },
        {
         "hovertemplate": "<b>%{hovertext}</b><br><br>City=pevek<br>Humidity=%{marker.size}<br>Lat=%{lat}<br>Lng=%{lon}<extra></extra>",
         "hovertext": [
          "pevek"
         ],
         "lat": [
          69.7008
         ],
         "legendgroup": "pevek",
         "lon": [
          170.3133
         ],
         "marker": {
          "color": "#EF553B",
          "size": [
           96
          ],
          "sizemode": "area",
          "sizeref": 0.4444444444444444
         },
         "mode": "markers",
         "name": "pevek",
         "showlegend": true,
         "subplot": "mapbox",
         "type": "scattermapbox"
        },
        {
         "hovertemplate": "<b>%{hovertext}</b><br><br>City=husavik<br>Humidity=%{marker.size}<br>Lat=%{lat}<br>Lng=%{lon}<extra></extra>",
         "hovertext": [
          "husavik"
         ],
         "lat": [
          66.0449
         ],
         "legendgroup": "husavik",
         "lon": [
          -17.3389
         ],
         "marker": {
          "color": "#00cc96",
          "size": [
           75
          ],
          "sizemode": "area",
          "sizeref": 0.4444444444444444
         },
         "mode": "markers",
         "name": "husavik",
         "showlegend": true,
         "subplot": "mapbox",
         "type": "scattermapbox"
        },
        {
         "hovertemplate": "<b>%{hovertext}</b><br><br>City=kodiak<br>Humidity=%{marker.size}<br>Lat=%{lat}<br>Lng=%{lon}<extra></extra>",
         "hovertext": [
          "kodiak"
         ],
         "lat": [
          57.79
         ],
         "legendgroup": "kodiak",
         "lon": [
          -152.4072
         ],
         "marker": {
          "color": "#ab63fa",
          "size": [
           81
          ],
          "sizemode": "area",
          "sizeref": 0.4444444444444444
         },
         "mode": "markers",
         "name": "kodiak",
         "showlegend": true,
         "subplot": "mapbox",
         "type": "scattermapbox"
        },
        {
         "hovertemplate": "<b>%{hovertext}</b><br><br>City=zyryanka<br>Humidity=%{marker.size}<br>Lat=%{lat}<br>Lng=%{lon}<extra></extra>",
         "hovertext": [
          "zyryanka"
         ],
         "lat": [
          65.75
         ],
         "legendgroup": "zyryanka",
         "lon": [
          150.85
         ],
         "marker": {
          "color": "#FFA15A",
          "size": [
           93
          ],
          "sizemode": "area",
          "sizeref": 0.4444444444444444
         },
         "mode": "markers",
         "name": "zyryanka",
         "showlegend": true,
         "subplot": "mapbox",
         "type": "scattermapbox"
        },
        {
         "hovertemplate": "<b>%{hovertext}</b><br><br>City=valparaiso<br>Humidity=%{marker.size}<br>Lat=%{lat}<br>Lng=%{lon}<extra></extra>",
         "hovertext": [
          "valparaiso"
         ],
         "lat": [
          -33.0393
         ],
         "legendgroup": "valparaiso",
         "lon": [
          -71.6273
         ],
         "marker": {
          "color": "#19d3f3",
          "size": [
           79
          ],
          "sizemode": "area",
          "sizeref": 0.4444444444444444
         },
         "mode": "markers",
         "name": "valparaiso",
         "showlegend": true,
         "subplot": "mapbox",
         "type": "scattermapbox"
        },
        {
         "hovertemplate": "<b>%{hovertext}</b><br><br>City=baykit<br>Humidity=%{marker.size}<br>Lat=%{lat}<br>Lng=%{lon}<extra></extra>",
         "hovertext": [
          "baykit"
         ],
         "lat": [
          61.67
         ],
         "legendgroup": "baykit",
         "lon": [
          96.37
         ],
         "marker": {
          "color": "#FF6692",
          "size": [
           89
          ],
          "sizemode": "area",
          "sizeref": 0.4444444444444444
         },
         "mode": "markers",
         "name": "baykit",
         "showlegend": true,
         "subplot": "mapbox",
         "type": "scattermapbox"
        },
        {
         "hovertemplate": "<b>%{hovertext}</b><br><br>City=port moresby<br>Humidity=%{marker.size}<br>Lat=%{lat}<br>Lng=%{lon}<extra></extra>",
         "hovertext": [
          "port moresby"
         ],
         "lat": [
          -9.4431
         ],
         "legendgroup": "port moresby",
         "lon": [
          147.1797
         ],
         "marker": {
          "color": "#B6E880",
          "size": [
           94
          ],
          "sizemode": "area",
          "sizeref": 0.4444444444444444
         },
         "mode": "markers",
         "name": "port moresby",
         "showlegend": true,
         "subplot": "mapbox",
         "type": "scattermapbox"
        },
        {
         "hovertemplate": "<b>%{hovertext}</b><br><br>City=meulaboh<br>Humidity=%{marker.size}<br>Lat=%{lat}<br>Lng=%{lon}<extra></extra>",
         "hovertext": [
          "meulaboh"
         ],
         "lat": [
          4.1363
         ],
         "legendgroup": "meulaboh",
         "lon": [
          96.1285
         ],
         "marker": {
          "color": "#FF97FF",
          "size": [
           88
          ],
          "sizemode": "area",
          "sizeref": 0.4444444444444444
         },
         "mode": "markers",
         "name": "meulaboh",
         "showlegend": true,
         "subplot": "mapbox",
         "type": "scattermapbox"
        },
        {
         "hovertemplate": "<b>%{hovertext}</b><br><br>City=nakamura<br>Humidity=%{marker.size}<br>Lat=%{lat}<br>Lng=%{lon}<extra></extra>",
         "hovertext": [
          "nakamura"
         ],
         "lat": [
          32.9833
         ],
         "legendgroup": "nakamura",
         "lon": [
          132.9333
         ],
         "marker": {
          "color": "#FECB52",
          "size": [
           87
          ],
          "sizemode": "area",
          "sizeref": 0.4444444444444444
         },
         "mode": "markers",
         "name": "nakamura",
         "showlegend": true,
         "subplot": "mapbox",
         "type": "scattermapbox"
        },
        {
         "hovertemplate": "<b>%{hovertext}</b><br><br>City=simao<br>Humidity=%{marker.size}<br>Lat=%{lat}<br>Lng=%{lon}<extra></extra>",
         "hovertext": [
          "simao"
         ],
         "lat": [
          22.7886
         ],
         "legendgroup": "simao",
         "lon": [
          100.9748
         ],
         "marker": {
          "color": "#636efa",
          "size": [
           67
          ],
          "sizemode": "area",
          "sizeref": 0.4444444444444444
         },
         "mode": "markers",
         "name": "simao",
         "showlegend": true,
         "subplot": "mapbox",
         "type": "scattermapbox"
        },
        {
         "hovertemplate": "<b>%{hovertext}</b><br><br>City=laguna<br>Humidity=%{marker.size}<br>Lat=%{lat}<br>Lng=%{lon}<extra></extra>",
         "hovertext": [
          "laguna"
         ],
         "lat": [
          38.421
         ],
         "legendgroup": "laguna",
         "lon": [
          -121.4238
         ],
         "marker": {
          "color": "#EF553B",
          "size": [
           79
          ],
          "sizemode": "area",
          "sizeref": 0.4444444444444444
         },
         "mode": "markers",
         "name": "laguna",
         "showlegend": true,
         "subplot": "mapbox",
         "type": "scattermapbox"
        },
        {
         "hovertemplate": "<b>%{hovertext}</b><br><br>City=bethel<br>Humidity=%{marker.size}<br>Lat=%{lat}<br>Lng=%{lon}<extra></extra>",
         "hovertext": [
          "bethel"
         ],
         "lat": [
          41.3712
         ],
         "legendgroup": "bethel",
         "lon": [
          -73.414
         ],
         "marker": {
          "color": "#00cc96",
          "size": [
           54
          ],
          "sizemode": "area",
          "sizeref": 0.4444444444444444
         },
         "mode": "markers",
         "name": "bethel",
         "showlegend": true,
         "subplot": "mapbox",
         "type": "scattermapbox"
        },
        {
         "hovertemplate": "<b>%{hovertext}</b><br><br>City=kodinsk<br>Humidity=%{marker.size}<br>Lat=%{lat}<br>Lng=%{lon}<extra></extra>",
         "hovertext": [
          "kodinsk"
         ],
         "lat": [
          58.6881
         ],
         "legendgroup": "kodinsk",
         "lon": [
          99.1844
         ],
         "marker": {
          "color": "#ab63fa",
          "size": [
           98
          ],
          "sizemode": "area",
          "sizeref": 0.4444444444444444
         },
         "mode": "markers",
         "name": "kodinsk",
         "showlegend": true,
         "subplot": "mapbox",
         "type": "scattermapbox"
        },
        {
         "hovertemplate": "<b>%{hovertext}</b><br><br>City=luderitz<br>Humidity=%{marker.size}<br>Lat=%{lat}<br>Lng=%{lon}<extra></extra>",
         "hovertext": [
          "luderitz"
         ],
         "lat": [
          -26.6481
         ],
         "legendgroup": "luderitz",
         "lon": [
          15.1594
         ],
         "marker": {
          "color": "#FFA15A",
          "size": [
           68
          ],
          "sizemode": "area",
          "sizeref": 0.4444444444444444
         },
         "mode": "markers",
         "name": "luderitz",
         "showlegend": true,
         "subplot": "mapbox",
         "type": "scattermapbox"
        },
        {
         "hovertemplate": "<b>%{hovertext}</b><br><br>City=touros<br>Humidity=%{marker.size}<br>Lat=%{lat}<br>Lng=%{lon}<extra></extra>",
         "hovertext": [
          "touros"
         ],
         "lat": [
          -5.1989
         ],
         "legendgroup": "touros",
         "lon": [
          -35.4608
         ],
         "marker": {
          "color": "#19d3f3",
          "size": [
           61
          ],
          "sizemode": "area",
          "sizeref": 0.4444444444444444
         },
         "mode": "markers",
         "name": "touros",
         "showlegend": true,
         "subplot": "mapbox",
         "type": "scattermapbox"
        },
        {
         "hovertemplate": "<b>%{hovertext}</b><br><br>City=glasgow<br>Humidity=%{marker.size}<br>Lat=%{lat}<br>Lng=%{lon}<extra></extra>",
         "hovertext": [
          "glasgow"
         ],
         "lat": [
          55.8652
         ],
         "legendgroup": "glasgow",
         "lon": [
          -4.2576
         ],
         "marker": {
          "color": "#FF6692",
          "size": [
           73
          ],
          "sizemode": "area",
          "sizeref": 0.4444444444444444
         },
         "mode": "markers",
         "name": "glasgow",
         "showlegend": true,
         "subplot": "mapbox",
         "type": "scattermapbox"
        },
        {
         "hovertemplate": "<b>%{hovertext}</b><br><br>City=ladario<br>Humidity=%{marker.size}<br>Lat=%{lat}<br>Lng=%{lon}<extra></extra>",
         "hovertext": [
          "ladario"
         ],
         "lat": [
          -19.0047
         ],
         "legendgroup": "ladario",
         "lon": [
          -57.6017
         ],
         "marker": {
          "color": "#B6E880",
          "size": [
           78
          ],
          "sizemode": "area",
          "sizeref": 0.4444444444444444
         },
         "mode": "markers",
         "name": "ladario",
         "showlegend": true,
         "subplot": "mapbox",
         "type": "scattermapbox"
        },
        {
         "hovertemplate": "<b>%{hovertext}</b><br><br>City=sao teotonio<br>Humidity=%{marker.size}<br>Lat=%{lat}<br>Lng=%{lon}<extra></extra>",
         "hovertext": [
          "sao teotonio"
         ],
         "lat": [
          37.5128
         ],
         "legendgroup": "sao teotonio",
         "lon": [
          -8.7071
         ],
         "marker": {
          "color": "#FF97FF",
          "size": [
           60
          ],
          "sizemode": "area",
          "sizeref": 0.4444444444444444
         },
         "mode": "markers",
         "name": "sao teotonio",
         "showlegend": true,
         "subplot": "mapbox",
         "type": "scattermapbox"
        },
        {
         "hovertemplate": "<b>%{hovertext}</b><br><br>City=puri<br>Humidity=%{marker.size}<br>Lat=%{lat}<br>Lng=%{lon}<extra></extra>",
         "hovertext": [
          "puri"
         ],
         "lat": [
          19.8
         ],
         "legendgroup": "puri",
         "lon": [
          85.85
         ],
         "marker": {
          "color": "#FECB52",
          "size": [
           72
          ],
          "sizemode": "area",
          "sizeref": 0.4444444444444444
         },
         "mode": "markers",
         "name": "puri",
         "showlegend": true,
         "subplot": "mapbox",
         "type": "scattermapbox"
        },
        {
         "hovertemplate": "<b>%{hovertext}</b><br><br>City=yumbe<br>Humidity=%{marker.size}<br>Lat=%{lat}<br>Lng=%{lon}<extra></extra>",
         "hovertext": [
          "yumbe"
         ],
         "lat": [
          3.4651
         ],
         "legendgroup": "yumbe",
         "lon": [
          31.2469
         ],
         "marker": {
          "color": "#636efa",
          "size": [
           84
          ],
          "sizemode": "area",
          "sizeref": 0.4444444444444444
         },
         "mode": "markers",
         "name": "yumbe",
         "showlegend": true,
         "subplot": "mapbox",
         "type": "scattermapbox"
        },
        {
         "hovertemplate": "<b>%{hovertext}</b><br><br>City=pangkalanbuun<br>Humidity=%{marker.size}<br>Lat=%{lat}<br>Lng=%{lon}<extra></extra>",
         "hovertext": [
          "pangkalanbuun"
         ],
         "lat": [
          -2.6833
         ],
         "legendgroup": "pangkalanbuun",
         "lon": [
          111.6167
         ],
         "marker": {
          "color": "#EF553B",
          "size": [
           96
          ],
          "sizemode": "area",
          "sizeref": 0.4444444444444444
         },
         "mode": "markers",
         "name": "pangkalanbuun",
         "showlegend": true,
         "subplot": "mapbox",
         "type": "scattermapbox"
        },
        {
         "hovertemplate": "<b>%{hovertext}</b><br><br>City=hay river<br>Humidity=%{marker.size}<br>Lat=%{lat}<br>Lng=%{lon}<extra></extra>",
         "hovertext": [
          "hay river"
         ],
         "lat": [
          60.8156
         ],
         "legendgroup": "hay river",
         "lon": [
          -115.7999
         ],
         "marker": {
          "color": "#00cc96",
          "size": [
           58
          ],
          "sizemode": "area",
          "sizeref": 0.4444444444444444
         },
         "mode": "markers",
         "name": "hay river",
         "showlegend": true,
         "subplot": "mapbox",
         "type": "scattermapbox"
        },
        {
         "hovertemplate": "<b>%{hovertext}</b><br><br>City=verkhniye achaluki<br>Humidity=%{marker.size}<br>Lat=%{lat}<br>Lng=%{lon}<extra></extra>",
         "hovertext": [
          "verkhniye achaluki"
         ],
         "lat": [
          43.3469
         ],
         "legendgroup": "verkhniye achaluki",
         "lon": [
          44.6975
         ],
         "marker": {
          "color": "#ab63fa",
          "size": [
           93
          ],
          "sizemode": "area",
          "sizeref": 0.4444444444444444
         },
         "mode": "markers",
         "name": "verkhniye achaluki",
         "showlegend": true,
         "subplot": "mapbox",
         "type": "scattermapbox"
        },
        {
         "hovertemplate": "<b>%{hovertext}</b><br><br>City=terrace bay<br>Humidity=%{marker.size}<br>Lat=%{lat}<br>Lng=%{lon}<extra></extra>",
         "hovertext": [
          "terrace bay"
         ],
         "lat": [
          48.7834
         ],
         "legendgroup": "terrace bay",
         "lon": [
          -87.1
         ],
         "marker": {
          "color": "#FFA15A",
          "size": [
           74
          ],
          "sizemode": "area",
          "sizeref": 0.4444444444444444
         },
         "mode": "markers",
         "name": "terrace bay",
         "showlegend": true,
         "subplot": "mapbox",
         "type": "scattermapbox"
        },
        {
         "hovertemplate": "<b>%{hovertext}</b><br><br>City=ust-koksa<br>Humidity=%{marker.size}<br>Lat=%{lat}<br>Lng=%{lon}<extra></extra>",
         "hovertext": [
          "ust-koksa"
         ],
         "lat": [
          50.2696
         ],
         "legendgroup": "ust-koksa",
         "lon": [
          85.6108
         ],
         "marker": {
          "color": "#19d3f3",
          "size": [
           91
          ],
          "sizemode": "area",
          "sizeref": 0.4444444444444444
         },
         "mode": "markers",
         "name": "ust-koksa",
         "showlegend": true,
         "subplot": "mapbox",
         "type": "scattermapbox"
        },
        {
         "hovertemplate": "<b>%{hovertext}</b><br><br>City=sorong<br>Humidity=%{marker.size}<br>Lat=%{lat}<br>Lng=%{lon}<extra></extra>",
         "hovertext": [
          "sorong"
         ],
         "lat": [
          -0.8833
         ],
         "legendgroup": "sorong",
         "lon": [
          131.25
         ],
         "marker": {
          "color": "#FF6692",
          "size": [
           83
          ],
          "sizemode": "area",
          "sizeref": 0.4444444444444444
         },
         "mode": "markers",
         "name": "sorong",
         "showlegend": true,
         "subplot": "mapbox",
         "type": "scattermapbox"
        },
        {
         "hovertemplate": "<b>%{hovertext}</b><br><br>City=longyearbyen<br>Humidity=%{marker.size}<br>Lat=%{lat}<br>Lng=%{lon}<extra></extra>",
         "hovertext": [
          "longyearbyen"
         ],
         "lat": [
          78.2186
         ],
         "legendgroup": "longyearbyen",
         "lon": [
          15.6401
         ],
         "marker": {
          "color": "#B6E880",
          "size": [
           81
          ],
          "sizemode": "area",
          "sizeref": 0.4444444444444444
         },
         "mode": "markers",
         "name": "longyearbyen",
         "showlegend": true,
         "subplot": "mapbox",
         "type": "scattermapbox"
        },
        {
         "hovertemplate": "<b>%{hovertext}</b><br><br>City=san patricio<br>Humidity=%{marker.size}<br>Lat=%{lat}<br>Lng=%{lon}<extra></extra>",
         "hovertext": [
          "san patricio"
         ],
         "lat": [
          28.017
         ],
         "legendgroup": "san patricio",
         "lon": [
          -97.5169
         ],
         "marker": {
          "color": "#FF97FF",
          "size": [
           43
          ],
          "sizemode": "area",
          "sizeref": 0.4444444444444444
         },
         "mode": "markers",
         "name": "san patricio",
         "showlegend": true,
         "subplot": "mapbox",
         "type": "scattermapbox"
        },
        {
         "hovertemplate": "<b>%{hovertext}</b><br><br>City=san cristobal<br>Humidity=%{marker.size}<br>Lat=%{lat}<br>Lng=%{lon}<extra></extra>",
         "hovertext": [
          "san cristobal"
         ],
         "lat": [
          7.7669
         ],
         "legendgroup": "san cristobal",
         "lon": [
          -72.225
         ],
         "marker": {
          "color": "#FECB52",
          "size": [
           45
          ],
          "sizemode": "area",
          "sizeref": 0.4444444444444444
         },
         "mode": "markers",
         "name": "san cristobal",
         "showlegend": true,
         "subplot": "mapbox",
         "type": "scattermapbox"
        },
        {
         "hovertemplate": "<b>%{hovertext}</b><br><br>City=lensk<br>Humidity=%{marker.size}<br>Lat=%{lat}<br>Lng=%{lon}<extra></extra>",
         "hovertext": [
          "lensk"
         ],
         "lat": [
          60.7253
         ],
         "legendgroup": "lensk",
         "lon": [
          114.9278
         ],
         "marker": {
          "color": "#636efa",
          "size": [
           91
          ],
          "sizemode": "area",
          "sizeref": 0.4444444444444444
         },
         "mode": "markers",
         "name": "lensk",
         "showlegend": true,
         "subplot": "mapbox",
         "type": "scattermapbox"
        },
        {
         "hovertemplate": "<b>%{hovertext}</b><br><br>City=carrollton<br>Humidity=%{marker.size}<br>Lat=%{lat}<br>Lng=%{lon}<extra></extra>",
         "hovertext": [
          "carrollton"
         ],
         "lat": [
          32.9537
         ],
         "legendgroup": "carrollton",
         "lon": [
          -96.8903
         ],
         "marker": {
          "color": "#EF553B",
          "size": [
           31
          ],
          "sizemode": "area",
          "sizeref": 0.4444444444444444
         },
         "mode": "markers",
         "name": "carrollton",
         "showlegend": true,
         "subplot": "mapbox",
         "type": "scattermapbox"
        },
        {
         "hovertemplate": "<b>%{hovertext}</b><br><br>City=norman wells<br>Humidity=%{marker.size}<br>Lat=%{lat}<br>Lng=%{lon}<extra></extra>",
         "hovertext": [
          "norman wells"
         ],
         "lat": [
          65.282
         ],
         "legendgroup": "norman wells",
         "lon": [
          -126.8329
         ],
         "marker": {
          "color": "#00cc96",
          "size": [
           100
          ],
          "sizemode": "area",
          "sizeref": 0.4444444444444444
         },
         "mode": "markers",
         "name": "norman wells",
         "showlegend": true,
         "subplot": "mapbox",
         "type": "scattermapbox"
        },
        {
         "hovertemplate": "<b>%{hovertext}</b><br><br>City=makokou<br>Humidity=%{marker.size}<br>Lat=%{lat}<br>Lng=%{lon}<extra></extra>",
         "hovertext": [
          "makokou"
         ],
         "lat": [
          0.5738
         ],
         "legendgroup": "makokou",
         "lon": [
          12.8642
         ],
         "marker": {
          "color": "#ab63fa",
          "size": [
           95
          ],
          "sizemode": "area",
          "sizeref": 0.4444444444444444
         },
         "mode": "markers",
         "name": "makokou",
         "showlegend": true,
         "subplot": "mapbox",
         "type": "scattermapbox"
        },
        {
         "hovertemplate": "<b>%{hovertext}</b><br><br>City=llata<br>Humidity=%{marker.size}<br>Lat=%{lat}<br>Lng=%{lon}<extra></extra>",
         "hovertext": [
          "llata"
         ],
         "lat": [
          -9.4167
         ],
         "legendgroup": "llata",
         "lon": [
          -76.7833
         ],
         "marker": {
          "color": "#FFA15A",
          "size": [
           62
          ],
          "sizemode": "area",
          "sizeref": 0.4444444444444444
         },
         "mode": "markers",
         "name": "llata",
         "showlegend": true,
         "subplot": "mapbox",
         "type": "scattermapbox"
        },
        {
         "hovertemplate": "<b>%{hovertext}</b><br><br>City=neiafu<br>Humidity=%{marker.size}<br>Lat=%{lat}<br>Lng=%{lon}<extra></extra>",
         "hovertext": [
          "neiafu"
         ],
         "lat": [
          -18.65
         ],
         "legendgroup": "neiafu",
         "lon": [
          -173.9833
         ],
         "marker": {
          "color": "#19d3f3",
          "size": [
           88
          ],
          "sizemode": "area",
          "sizeref": 0.4444444444444444
         },
         "mode": "markers",
         "name": "neiafu",
         "showlegend": true,
         "subplot": "mapbox",
         "type": "scattermapbox"
        },
        {
         "hovertemplate": "<b>%{hovertext}</b><br><br>City=moroni<br>Humidity=%{marker.size}<br>Lat=%{lat}<br>Lng=%{lon}<extra></extra>",
         "hovertext": [
          "moroni"
         ],
         "lat": [
          -11.7022
         ],
         "legendgroup": "moroni",
         "lon": [
          43.2551
         ],
         "marker": {
          "color": "#FF6692",
          "size": [
           73
          ],
          "sizemode": "area",
          "sizeref": 0.4444444444444444
         },
         "mode": "markers",
         "name": "moroni",
         "showlegend": true,
         "subplot": "mapbox",
         "type": "scattermapbox"
        },
        {
         "hovertemplate": "<b>%{hovertext}</b><br><br>City=cap malheureux<br>Humidity=%{marker.size}<br>Lat=%{lat}<br>Lng=%{lon}<extra></extra>",
         "hovertext": [
          "cap malheureux"
         ],
         "lat": [
          -19.9842
         ],
         "legendgroup": "cap malheureux",
         "lon": [
          57.6142
         ],
         "marker": {
          "color": "#B6E880",
          "size": [
           65
          ],
          "sizemode": "area",
          "sizeref": 0.4444444444444444
         },
         "mode": "markers",
         "name": "cap malheureux",
         "showlegend": true,
         "subplot": "mapbox",
         "type": "scattermapbox"
        },
        {
         "hovertemplate": "<b>%{hovertext}</b><br><br>City=walvis bay<br>Humidity=%{marker.size}<br>Lat=%{lat}<br>Lng=%{lon}<extra></extra>",
         "hovertext": [
          "walvis bay"
         ],
         "lat": [
          -22.9575
         ],
         "legendgroup": "walvis bay",
         "lon": [
          14.5053
         ],
         "marker": {
          "color": "#FF97FF",
          "size": [
           71
          ],
          "sizemode": "area",
          "sizeref": 0.4444444444444444
         },
         "mode": "markers",
         "name": "walvis bay",
         "showlegend": true,
         "subplot": "mapbox",
         "type": "scattermapbox"
        },
        {
         "hovertemplate": "<b>%{hovertext}</b><br><br>City=rawson<br>Humidity=%{marker.size}<br>Lat=%{lat}<br>Lng=%{lon}<extra></extra>",
         "hovertext": [
          "rawson"
         ],
         "lat": [
          -43.3002
         ],
         "legendgroup": "rawson",
         "lon": [
          -65.1023
         ],
         "marker": {
          "color": "#FECB52",
          "size": [
           25
          ],
          "sizemode": "area",
          "sizeref": 0.4444444444444444
         },
         "mode": "markers",
         "name": "rawson",
         "showlegend": true,
         "subplot": "mapbox",
         "type": "scattermapbox"
        },
        {
         "hovertemplate": "<b>%{hovertext}</b><br><br>City=tikaitnagar<br>Humidity=%{marker.size}<br>Lat=%{lat}<br>Lng=%{lon}<extra></extra>",
         "hovertext": [
          "tikaitnagar"
         ],
         "lat": [
          26.95
         ],
         "legendgroup": "tikaitnagar",
         "lon": [
          81.5833
         ],
         "marker": {
          "color": "#636efa",
          "size": [
           59
          ],
          "sizemode": "area",
          "sizeref": 0.4444444444444444
         },
         "mode": "markers",
         "name": "tikaitnagar",
         "showlegend": true,
         "subplot": "mapbox",
         "type": "scattermapbox"
        },
        {
         "hovertemplate": "<b>%{hovertext}</b><br><br>City=sembe<br>Humidity=%{marker.size}<br>Lat=%{lat}<br>Lng=%{lon}<extra></extra>",
         "hovertext": [
          "sembe"
         ],
         "lat": [
          1.6481
         ],
         "legendgroup": "sembe",
         "lon": [
          14.5806
         ],
         "marker": {
          "color": "#EF553B",
          "size": [
           91
          ],
          "sizemode": "area",
          "sizeref": 0.4444444444444444
         },
         "mode": "markers",
         "name": "sembe",
         "showlegend": true,
         "subplot": "mapbox",
         "type": "scattermapbox"
        },
        {
         "hovertemplate": "<b>%{hovertext}</b><br><br>City=aksu<br>Humidity=%{marker.size}<br>Lat=%{lat}<br>Lng=%{lon}<extra></extra>",
         "hovertext": [
          "aksu"
         ],
         "lat": [
          41.1231
         ],
         "legendgroup": "aksu",
         "lon": [
          80.2644
         ],
         "marker": {
          "color": "#00cc96",
          "size": [
           20
          ],
          "sizemode": "area",
          "sizeref": 0.4444444444444444
         },
         "mode": "markers",
         "name": "aksu",
         "showlegend": true,
         "subplot": "mapbox",
         "type": "scattermapbox"
        },
        {
         "hovertemplate": "<b>%{hovertext}</b><br><br>City=russkaya polyana<br>Humidity=%{marker.size}<br>Lat=%{lat}<br>Lng=%{lon}<extra></extra>",
         "hovertext": [
          "russkaya polyana"
         ],
         "lat": [
          49.417
         ],
         "legendgroup": "russkaya polyana",
         "lon": [
          31.9201
         ],
         "marker": {
          "color": "#ab63fa",
          "size": [
           32
          ],
          "sizemode": "area",
          "sizeref": 0.4444444444444444
         },
         "mode": "markers",
         "name": "russkaya polyana",
         "showlegend": true,
         "subplot": "mapbox",
         "type": "scattermapbox"
        },
        {
         "hovertemplate": "<b>%{hovertext}</b><br><br>City=broken hill<br>Humidity=%{marker.size}<br>Lat=%{lat}<br>Lng=%{lon}<extra></extra>",
         "hovertext": [
          "broken hill"
         ],
         "lat": [
          -31.95
         ],
         "legendgroup": "broken hill",
         "lon": [
          141.4333
         ],
         "marker": {
          "color": "#FFA15A",
          "size": [
           66
          ],
          "sizemode": "area",
          "sizeref": 0.4444444444444444
         },
         "mode": "markers",
         "name": "broken hill",
         "showlegend": true,
         "subplot": "mapbox",
         "type": "scattermapbox"
        },
        {
         "hovertemplate": "<b>%{hovertext}</b><br><br>City=cherskiy<br>Humidity=%{marker.size}<br>Lat=%{lat}<br>Lng=%{lon}<extra></extra>",
         "hovertext": [
          "cherskiy"
         ],
         "lat": [
          68.75
         ],
         "legendgroup": "cherskiy",
         "lon": [
          161.3
         ],
         "marker": {
          "color": "#19d3f3",
          "size": [
           100
          ],
          "sizemode": "area",
          "sizeref": 0.4444444444444444
         },
         "mode": "markers",
         "name": "cherskiy",
         "showlegend": true,
         "subplot": "mapbox",
         "type": "scattermapbox"
        },
        {
         "hovertemplate": "<b>%{hovertext}</b><br><br>City=beya<br>Humidity=%{marker.size}<br>Lat=%{lat}<br>Lng=%{lon}<extra></extra>",
         "hovertext": [
          "beya"
         ],
         "lat": [
          53.0533
         ],
         "legendgroup": "beya",
         "lon": [
          90.9139
         ],
         "marker": {
          "color": "#FF6692",
          "size": [
           73
          ],
          "sizemode": "area",
          "sizeref": 0.4444444444444444
         },
         "mode": "markers",
         "name": "beya",
         "showlegend": true,
         "subplot": "mapbox",
         "type": "scattermapbox"
        },
        {
         "hovertemplate": "<b>%{hovertext}</b><br><br>City=goba<br>Humidity=%{marker.size}<br>Lat=%{lat}<br>Lng=%{lon}<extra></extra>",
         "hovertext": [
          "goba"
         ],
         "lat": [
          7.0167
         ],
         "legendgroup": "goba",
         "lon": [
          39.9833
         ],
         "marker": {
          "color": "#B6E880",
          "size": [
           95
          ],
          "sizemode": "area",
          "sizeref": 0.4444444444444444
         },
         "mode": "markers",
         "name": "goba",
         "showlegend": true,
         "subplot": "mapbox",
         "type": "scattermapbox"
        },
        {
         "hovertemplate": "<b>%{hovertext}</b><br><br>City=ordzhonikidze<br>Humidity=%{marker.size}<br>Lat=%{lat}<br>Lng=%{lon}<extra></extra>",
         "hovertext": [
          "ordzhonikidze"
         ],
         "lat": [
          52.4411
         ],
         "legendgroup": "ordzhonikidze",
         "lon": [
          61.7408
         ],
         "marker": {
          "color": "#FF97FF",
          "size": [
           57
          ],
          "sizemode": "area",
          "sizeref": 0.4444444444444444
         },
         "mode": "markers",
         "name": "ordzhonikidze",
         "showlegend": true,
         "subplot": "mapbox",
         "type": "scattermapbox"
        },
        {
         "hovertemplate": "<b>%{hovertext}</b><br><br>City=high rock<br>Humidity=%{marker.size}<br>Lat=%{lat}<br>Lng=%{lon}<extra></extra>",
         "hovertext": [
          "high rock"
         ],
         "lat": [
          26.6208
         ],
         "legendgroup": "high rock",
         "lon": [
          -78.2833
         ],
         "marker": {
          "color": "#FECB52",
          "size": [
           72
          ],
          "sizemode": "area",
          "sizeref": 0.4444444444444444
         },
         "mode": "markers",
         "name": "high rock",
         "showlegend": true,
         "subplot": "mapbox",
         "type": "scattermapbox"
        },
        {
         "hovertemplate": "<b>%{hovertext}</b><br><br>City=floro<br>Humidity=%{marker.size}<br>Lat=%{lat}<br>Lng=%{lon}<extra></extra>",
         "hovertext": [
          "floro"
         ],
         "lat": [
          61.5996
         ],
         "legendgroup": "floro",
         "lon": [
          5.0328
         ],
         "marker": {
          "color": "#636efa",
          "size": [
           61
          ],
          "sizemode": "area",
          "sizeref": 0.4444444444444444
         },
         "mode": "markers",
         "name": "floro",
         "showlegend": true,
         "subplot": "mapbox",
         "type": "scattermapbox"
        },
        {
         "hovertemplate": "<b>%{hovertext}</b><br><br>City=balabac<br>Humidity=%{marker.size}<br>Lat=%{lat}<br>Lng=%{lon}<extra></extra>",
         "hovertext": [
          "balabac"
         ],
         "lat": [
          7.9868
         ],
         "legendgroup": "balabac",
         "lon": [
          117.0645
         ],
         "marker": {
          "color": "#EF553B",
          "size": [
           83
          ],
          "sizemode": "area",
          "sizeref": 0.4444444444444444
         },
         "mode": "markers",
         "name": "balabac",
         "showlegend": true,
         "subplot": "mapbox",
         "type": "scattermapbox"
        },
        {
         "hovertemplate": "<b>%{hovertext}</b><br><br>City=bintulu<br>Humidity=%{marker.size}<br>Lat=%{lat}<br>Lng=%{lon}<extra></extra>",
         "hovertext": [
          "bintulu"
         ],
         "lat": [
          3.1667
         ],
         "legendgroup": "bintulu",
         "lon": [
          113.0333
         ],
         "marker": {
          "color": "#00cc96",
          "size": [
           100
          ],
          "sizemode": "area",
          "sizeref": 0.4444444444444444
         },
         "mode": "markers",
         "name": "bintulu",
         "showlegend": true,
         "subplot": "mapbox",
         "type": "scattermapbox"
        },
        {
         "hovertemplate": "<b>%{hovertext}</b><br><br>City=tchaourou<br>Humidity=%{marker.size}<br>Lat=%{lat}<br>Lng=%{lon}<extra></extra>",
         "hovertext": [
          "tchaourou"
         ],
         "lat": [
          8.8865
         ],
         "legendgroup": "tchaourou",
         "lon": [
          2.5975
         ],
         "marker": {
          "color": "#ab63fa",
          "size": [
           56
          ],
          "sizemode": "area",
          "sizeref": 0.4444444444444444
         },
         "mode": "markers",
         "name": "tchaourou",
         "showlegend": true,
         "subplot": "mapbox",
         "type": "scattermapbox"
        },
        {
         "hovertemplate": "<b>%{hovertext}</b><br><br>City=zhongshan<br>Humidity=%{marker.size}<br>Lat=%{lat}<br>Lng=%{lon}<extra></extra>",
         "hovertext": [
          "zhongshan"
         ],
         "lat": [
          21.3226
         ],
         "legendgroup": "zhongshan",
         "lon": [
          110.5829
         ],
         "marker": {
          "color": "#FFA15A",
          "size": [
           72
          ],
          "sizemode": "area",
          "sizeref": 0.4444444444444444
         },
         "mode": "markers",
         "name": "zhongshan",
         "showlegend": true,
         "subplot": "mapbox",
         "type": "scattermapbox"
        },
        {
         "hovertemplate": "<b>%{hovertext}</b><br><br>City=quatre cocos<br>Humidity=%{marker.size}<br>Lat=%{lat}<br>Lng=%{lon}<extra></extra>",
         "hovertext": [
          "quatre cocos"
         ],
         "lat": [
          -20.2078
         ],
         "legendgroup": "quatre cocos",
         "lon": [
          57.7625
         ],
         "marker": {
          "color": "#19d3f3",
          "size": [
           73
          ],
          "sizemode": "area",
          "sizeref": 0.4444444444444444
         },
         "mode": "markers",
         "name": "quatre cocos",
         "showlegend": true,
         "subplot": "mapbox",
         "type": "scattermapbox"
        },
        {
         "hovertemplate": "<b>%{hovertext}</b><br><br>City=prieska<br>Humidity=%{marker.size}<br>Lat=%{lat}<br>Lng=%{lon}<extra></extra>",
         "hovertext": [
          "prieska"
         ],
         "lat": [
          -29.6641
         ],
         "legendgroup": "prieska",
         "lon": [
          22.7474
         ],
         "marker": {
          "color": "#FF6692",
          "size": [
           31
          ],
          "sizemode": "area",
          "sizeref": 0.4444444444444444
         },
         "mode": "markers",
         "name": "prieska",
         "showlegend": true,
         "subplot": "mapbox",
         "type": "scattermapbox"
        },
        {
         "hovertemplate": "<b>%{hovertext}</b><br><br>City=pathanamthitta<br>Humidity=%{marker.size}<br>Lat=%{lat}<br>Lng=%{lon}<extra></extra>",
         "hovertext": [
          "pathanamthitta"
         ],
         "lat": [
          9.2667
         ],
         "legendgroup": "pathanamthitta",
         "lon": [
          76.7833
         ],
         "marker": {
          "color": "#B6E880",
          "size": [
           97
          ],
          "sizemode": "area",
          "sizeref": 0.4444444444444444
         },
         "mode": "markers",
         "name": "pathanamthitta",
         "showlegend": true,
         "subplot": "mapbox",
         "type": "scattermapbox"
        },
        {
         "hovertemplate": "<b>%{hovertext}</b><br><br>City=comodoro rivadavia<br>Humidity=%{marker.size}<br>Lat=%{lat}<br>Lng=%{lon}<extra></extra>",
         "hovertext": [
          "comodoro rivadavia"
         ],
         "lat": [
          -45.8667
         ],
         "legendgroup": "comodoro rivadavia",
         "lon": [
          -67.5
         ],
         "marker": {
          "color": "#FF97FF",
          "size": [
           24
          ],
          "sizemode": "area",
          "sizeref": 0.4444444444444444
         },
         "mode": "markers",
         "name": "comodoro rivadavia",
         "showlegend": true,
         "subplot": "mapbox",
         "type": "scattermapbox"
        },
        {
         "hovertemplate": "<b>%{hovertext}</b><br><br>City=sungaipenuh<br>Humidity=%{marker.size}<br>Lat=%{lat}<br>Lng=%{lon}<extra></extra>",
         "hovertext": [
          "sungaipenuh"
         ],
         "lat": [
          -2.0833
         ],
         "legendgroup": "sungaipenuh",
         "lon": [
          101.3833
         ],
         "marker": {
          "color": "#FECB52",
          "size": [
           95
          ],
          "sizemode": "area",
          "sizeref": 0.4444444444444444
         },
         "mode": "markers",
         "name": "sungaipenuh",
         "showlegend": true,
         "subplot": "mapbox",
         "type": "scattermapbox"
        },
        {
         "hovertemplate": "<b>%{hovertext}</b><br><br>City=aklavik<br>Humidity=%{marker.size}<br>Lat=%{lat}<br>Lng=%{lon}<extra></extra>",
         "hovertext": [
          "aklavik"
         ],
         "lat": [
          68.2191
         ],
         "legendgroup": "aklavik",
         "lon": [
          -135.0107
         ],
         "marker": {
          "color": "#636efa",
          "size": [
           93
          ],
          "sizemode": "area",
          "sizeref": 0.4444444444444444
         },
         "mode": "markers",
         "name": "aklavik",
         "showlegend": true,
         "subplot": "mapbox",
         "type": "scattermapbox"
        },
        {
         "hovertemplate": "<b>%{hovertext}</b><br><br>City=camacha<br>Humidity=%{marker.size}<br>Lat=%{lat}<br>Lng=%{lon}<extra></extra>",
         "hovertext": [
          "camacha"
         ],
         "lat": [
          33.0833
         ],
         "legendgroup": "camacha",
         "lon": [
          -16.3333
         ],
         "marker": {
          "color": "#EF553B",
          "size": [
           73
          ],
          "sizemode": "area",
          "sizeref": 0.4444444444444444
         },
         "mode": "markers",
         "name": "camacha",
         "showlegend": true,
         "subplot": "mapbox",
         "type": "scattermapbox"
        },
        {
         "hovertemplate": "<b>%{hovertext}</b><br><br>City=thompson<br>Humidity=%{marker.size}<br>Lat=%{lat}<br>Lng=%{lon}<extra></extra>",
         "hovertext": [
          "thompson"
         ],
         "lat": [
          55.7435
         ],
         "legendgroup": "thompson",
         "lon": [
          -97.8558
         ],
         "marker": {
          "color": "#00cc96",
          "size": [
           60
          ],
          "sizemode": "area",
          "sizeref": 0.4444444444444444
         },
         "mode": "markers",
         "name": "thompson",
         "showlegend": true,
         "subplot": "mapbox",
         "type": "scattermapbox"
        },
        {
         "hovertemplate": "<b>%{hovertext}</b><br><br>City=hambantota<br>Humidity=%{marker.size}<br>Lat=%{lat}<br>Lng=%{lon}<extra></extra>",
         "hovertext": [
          "hambantota"
         ],
         "lat": [
          6.1241
         ],
         "legendgroup": "hambantota",
         "lon": [
          81.1185
         ],
         "marker": {
          "color": "#ab63fa",
          "size": [
           89
          ],
          "sizemode": "area",
          "sizeref": 0.4444444444444444
         },
         "mode": "markers",
         "name": "hambantota",
         "showlegend": true,
         "subplot": "mapbox",
         "type": "scattermapbox"
        },
        {
         "hovertemplate": "<b>%{hovertext}</b><br><br>City=swanton<br>Humidity=%{marker.size}<br>Lat=%{lat}<br>Lng=%{lon}<extra></extra>",
         "hovertext": [
          "swanton"
         ],
         "lat": [
          41.5887
         ],
         "legendgroup": "swanton",
         "lon": [
          -83.8911
         ],
         "marker": {
          "color": "#FFA15A",
          "size": [
           71
          ],
          "sizemode": "area",
          "sizeref": 0.4444444444444444
         },
         "mode": "markers",
         "name": "swanton",
         "showlegend": true,
         "subplot": "mapbox",
         "type": "scattermapbox"
        },
        {
         "hovertemplate": "<b>%{hovertext}</b><br><br>City=san quintin<br>Humidity=%{marker.size}<br>Lat=%{lat}<br>Lng=%{lon}<extra></extra>",
         "hovertext": [
          "san quintin"
         ],
         "lat": [
          30.4833
         ],
         "legendgroup": "san quintin",
         "lon": [
          -115.95
         ],
         "marker": {
          "color": "#19d3f3",
          "size": [
           74
          ],
          "sizemode": "area",
          "sizeref": 0.4444444444444444
         },
         "mode": "markers",
         "name": "san quintin",
         "showlegend": true,
         "subplot": "mapbox",
         "type": "scattermapbox"
        },
        {
         "hovertemplate": "<b>%{hovertext}</b><br><br>City=codrington<br>Humidity=%{marker.size}<br>Lat=%{lat}<br>Lng=%{lon}<extra></extra>",
         "hovertext": [
          "codrington"
         ],
         "lat": [
          -38.2667
         ],
         "legendgroup": "codrington",
         "lon": [
          141.9667
         ],
         "marker": {
          "color": "#FF6692",
          "size": [
           89
          ],
          "sizemode": "area",
          "sizeref": 0.4444444444444444
         },
         "mode": "markers",
         "name": "codrington",
         "showlegend": true,
         "subplot": "mapbox",
         "type": "scattermapbox"
        },
        {
         "hovertemplate": "<b>%{hovertext}</b><br><br>City=chapais<br>Humidity=%{marker.size}<br>Lat=%{lat}<br>Lng=%{lon}<extra></extra>",
         "hovertext": [
          "chapais"
         ],
         "lat": [
          49.7834
         ],
         "legendgroup": "chapais",
         "lon": [
          -74.8492
         ],
         "marker": {
          "color": "#B6E880",
          "size": [
           90
          ],
          "sizemode": "area",
          "sizeref": 0.4444444444444444
         },
         "mode": "markers",
         "name": "chapais",
         "showlegend": true,
         "subplot": "mapbox",
         "type": "scattermapbox"
        },
        {
         "hovertemplate": "<b>%{hovertext}</b><br><br>City=chengde<br>Humidity=%{marker.size}<br>Lat=%{lat}<br>Lng=%{lon}<extra></extra>",
         "hovertext": [
          "chengde"
         ],
         "lat": [
          40.9725
         ],
         "legendgroup": "chengde",
         "lon": [
          117.9361
         ],
         "marker": {
          "color": "#FF97FF",
          "size": [
           26
          ],
          "sizemode": "area",
          "sizeref": 0.4444444444444444
         },
         "mode": "markers",
         "name": "chengde",
         "showlegend": true,
         "subplot": "mapbox",
         "type": "scattermapbox"
        },
        {
         "hovertemplate": "<b>%{hovertext}</b><br><br>City=portland<br>Humidity=%{marker.size}<br>Lat=%{lat}<br>Lng=%{lon}<extra></extra>",
         "hovertext": [
          "portland"
         ],
         "lat": [
          45.5234
         ],
         "legendgroup": "portland",
         "lon": [
          -122.6762
         ],
         "marker": {
          "color": "#FECB52",
          "size": [
           96
          ],
          "sizemode": "area",
          "sizeref": 0.4444444444444444
         },
         "mode": "markers",
         "name": "portland",
         "showlegend": true,
         "subplot": "mapbox",
         "type": "scattermapbox"
        },
        {
         "hovertemplate": "<b>%{hovertext}</b><br><br>City=berdigestyakh<br>Humidity=%{marker.size}<br>Lat=%{lat}<br>Lng=%{lon}<extra></extra>",
         "hovertext": [
          "berdigestyakh"
         ],
         "lat": [
          62.0989
         ],
         "legendgroup": "berdigestyakh",
         "lon": [
          126.6992
         ],
         "marker": {
          "color": "#636efa",
          "size": [
           99
          ],
          "sizemode": "area",
          "sizeref": 0.4444444444444444
         },
         "mode": "markers",
         "name": "berdigestyakh",
         "showlegend": true,
         "subplot": "mapbox",
         "type": "scattermapbox"
        },
        {
         "hovertemplate": "<b>%{hovertext}</b><br><br>City=coquimbo<br>Humidity=%{marker.size}<br>Lat=%{lat}<br>Lng=%{lon}<extra></extra>",
         "hovertext": [
          "coquimbo"
         ],
         "lat": [
          -29.9533
         ],
         "legendgroup": "coquimbo",
         "lon": [
          -71.3436
         ],
         "marker": {
          "color": "#EF553B",
          "size": [
           72
          ],
          "sizemode": "area",
          "sizeref": 0.4444444444444444
         },
         "mode": "markers",
         "name": "coquimbo",
         "showlegend": true,
         "subplot": "mapbox",
         "type": "scattermapbox"
        },
        {
         "hovertemplate": "<b>%{hovertext}</b><br><br>City=samana<br>Humidity=%{marker.size}<br>Lat=%{lat}<br>Lng=%{lon}<extra></extra>",
         "hovertext": [
          "samana"
         ],
         "lat": [
          19.2056
         ],
         "legendgroup": "samana",
         "lon": [
          -69.3369
         ],
         "marker": {
          "color": "#00cc96",
          "size": [
           79
          ],
          "sizemode": "area",
          "sizeref": 0.4444444444444444
         },
         "mode": "markers",
         "name": "samana",
         "showlegend": true,
         "subplot": "mapbox",
         "type": "scattermapbox"
        },
        {
         "hovertemplate": "<b>%{hovertext}</b><br><br>City=anchorage<br>Humidity=%{marker.size}<br>Lat=%{lat}<br>Lng=%{lon}<extra></extra>",
         "hovertext": [
          "anchorage"
         ],
         "lat": [
          61.2181
         ],
         "legendgroup": "anchorage",
         "lon": [
          -149.9003
         ],
         "marker": {
          "color": "#ab63fa",
          "size": [
           90
          ],
          "sizemode": "area",
          "sizeref": 0.4444444444444444
         },
         "mode": "markers",
         "name": "anchorage",
         "showlegend": true,
         "subplot": "mapbox",
         "type": "scattermapbox"
        },
        {
         "hovertemplate": "<b>%{hovertext}</b><br><br>City=fairbanks<br>Humidity=%{marker.size}<br>Lat=%{lat}<br>Lng=%{lon}<extra></extra>",
         "hovertext": [
          "fairbanks"
         ],
         "lat": [
          64.8378
         ],
         "legendgroup": "fairbanks",
         "lon": [
          -147.7164
         ],
         "marker": {
          "color": "#FFA15A",
          "size": [
           91
          ],
          "sizemode": "area",
          "sizeref": 0.4444444444444444
         },
         "mode": "markers",
         "name": "fairbanks",
         "showlegend": true,
         "subplot": "mapbox",
         "type": "scattermapbox"
        },
        {
         "hovertemplate": "<b>%{hovertext}</b><br><br>City=cockburn town<br>Humidity=%{marker.size}<br>Lat=%{lat}<br>Lng=%{lon}<extra></extra>",
         "hovertext": [
          "cockburn town"
         ],
         "lat": [
          21.4612
         ],
         "legendgroup": "cockburn town",
         "lon": [
          -71.1419
         ],
         "marker": {
          "color": "#19d3f3",
          "size": [
           74
          ],
          "sizemode": "area",
          "sizeref": 0.4444444444444444
         },
         "mode": "markers",
         "name": "cockburn town",
         "showlegend": true,
         "subplot": "mapbox",
         "type": "scattermapbox"
        },
        {
         "hovertemplate": "<b>%{hovertext}</b><br><br>City=tura<br>Humidity=%{marker.size}<br>Lat=%{lat}<br>Lng=%{lon}<extra></extra>",
         "hovertext": [
          "tura"
         ],
         "lat": [
          25.5198
         ],
         "legendgroup": "tura",
         "lon": [
          90.2201
         ],
         "marker": {
          "color": "#FF6692",
          "size": [
           90
          ],
          "sizemode": "area",
          "sizeref": 0.4444444444444444
         },
         "mode": "markers",
         "name": "tura",
         "showlegend": true,
         "subplot": "mapbox",
         "type": "scattermapbox"
        },
        {
         "hovertemplate": "<b>%{hovertext}</b><br><br>City=sakakah<br>Humidity=%{marker.size}<br>Lat=%{lat}<br>Lng=%{lon}<extra></extra>",
         "hovertext": [
          "sakakah"
         ],
         "lat": [
          29.9697
         ],
         "legendgroup": "sakakah",
         "lon": [
          40.2064
         ],
         "marker": {
          "color": "#B6E880",
          "size": [
           18
          ],
          "sizemode": "area",
          "sizeref": 0.4444444444444444
         },
         "mode": "markers",
         "name": "sakakah",
         "showlegend": true,
         "subplot": "mapbox",
         "type": "scattermapbox"
        },
        {
         "hovertemplate": "<b>%{hovertext}</b><br><br>City=ola<br>Humidity=%{marker.size}<br>Lat=%{lat}<br>Lng=%{lon}<extra></extra>",
         "hovertext": [
          "ola"
         ],
         "lat": [
          59.5833
         ],
         "legendgroup": "ola",
         "lon": [
          151.2833
         ],
         "marker": {
          "color": "#FF97FF",
          "size": [
           48
          ],
          "sizemode": "area",
          "sizeref": 0.4444444444444444
         },
         "mode": "markers",
         "name": "ola",
         "showlegend": true,
         "subplot": "mapbox",
         "type": "scattermapbox"
        },
        {
         "hovertemplate": "<b>%{hovertext}</b><br><br>City=hasaki<br>Humidity=%{marker.size}<br>Lat=%{lat}<br>Lng=%{lon}<extra></extra>",
         "hovertext": [
          "hasaki"
         ],
         "lat": [
          35.7333
         ],
         "legendgroup": "hasaki",
         "lon": [
          140.8333
         ],
         "marker": {
          "color": "#FECB52",
          "size": [
           75
          ],
          "sizemode": "area",
          "sizeref": 0.4444444444444444
         },
         "mode": "markers",
         "name": "hasaki",
         "showlegend": true,
         "subplot": "mapbox",
         "type": "scattermapbox"
        },
        {
         "hovertemplate": "<b>%{hovertext}</b><br><br>City=jiuquan<br>Humidity=%{marker.size}<br>Lat=%{lat}<br>Lng=%{lon}<extra></extra>",
         "hovertext": [
          "jiuquan"
         ],
         "lat": [
          39.7432
         ],
         "legendgroup": "jiuquan",
         "lon": [
          98.5174
         ],
         "marker": {
          "color": "#636efa",
          "size": [
           15
          ],
          "sizemode": "area",
          "sizeref": 0.4444444444444444
         },
         "mode": "markers",
         "name": "jiuquan",
         "showlegend": true,
         "subplot": "mapbox",
         "type": "scattermapbox"
        },
        {
         "hovertemplate": "<b>%{hovertext}</b><br><br>City=tuatapere<br>Humidity=%{marker.size}<br>Lat=%{lat}<br>Lng=%{lon}<extra></extra>",
         "hovertext": [
          "tuatapere"
         ],
         "lat": [
          -46.1333
         ],
         "legendgroup": "tuatapere",
         "lon": [
          167.6833
         ],
         "marker": {
          "color": "#EF553B",
          "size": [
           92
          ],
          "sizemode": "area",
          "sizeref": 0.4444444444444444
         },
         "mode": "markers",
         "name": "tuatapere",
         "showlegend": true,
         "subplot": "mapbox",
         "type": "scattermapbox"
        },
        {
         "hovertemplate": "<b>%{hovertext}</b><br><br>City=kloulklubed<br>Humidity=%{marker.size}<br>Lat=%{lat}<br>Lng=%{lon}<extra></extra>",
         "hovertext": [
          "kloulklubed"
         ],
         "lat": [
          7.0419
         ],
         "legendgroup": "kloulklubed",
         "lon": [
          134.2556
         ],
         "marker": {
          "color": "#00cc96",
          "size": [
           75
          ],
          "sizemode": "area",
          "sizeref": 0.4444444444444444
         },
         "mode": "markers",
         "name": "kloulklubed",
         "showlegend": true,
         "subplot": "mapbox",
         "type": "scattermapbox"
        },
        {
         "hovertemplate": "<b>%{hovertext}</b><br><br>City=ust-maya<br>Humidity=%{marker.size}<br>Lat=%{lat}<br>Lng=%{lon}<extra></extra>",
         "hovertext": [
          "ust-maya"
         ],
         "lat": [
          60.4167
         ],
         "legendgroup": "ust-maya",
         "lon": [
          134.5333
         ],
         "marker": {
          "color": "#ab63fa",
          "size": [
           98
          ],
          "sizemode": "area",
          "sizeref": 0.4444444444444444
         },
         "mode": "markers",
         "name": "ust-maya",
         "showlegend": true,
         "subplot": "mapbox",
         "type": "scattermapbox"
        },
        {
         "hovertemplate": "<b>%{hovertext}</b><br><br>City=san juan<br>Humidity=%{marker.size}<br>Lat=%{lat}<br>Lng=%{lon}<extra></extra>",
         "hovertext": [
          "san juan"
         ],
         "lat": [
          -31.5375
         ],
         "legendgroup": "san juan",
         "lon": [
          -68.5364
         ],
         "marker": {
          "color": "#FFA15A",
          "size": [
           53
          ],
          "sizemode": "area",
          "sizeref": 0.4444444444444444
         },
         "mode": "markers",
         "name": "san juan",
         "showlegend": true,
         "subplot": "mapbox",
         "type": "scattermapbox"
        },
        {
         "hovertemplate": "<b>%{hovertext}</b><br><br>City=whitianga<br>Humidity=%{marker.size}<br>Lat=%{lat}<br>Lng=%{lon}<extra></extra>",
         "hovertext": [
          "whitianga"
         ],
         "lat": [
          -36.8333
         ],
         "legendgroup": "whitianga",
         "lon": [
          175.7
         ],
         "marker": {
          "color": "#19d3f3",
          "size": [
           84
          ],
          "sizemode": "area",
          "sizeref": 0.4444444444444444
         },
         "mode": "markers",
         "name": "whitianga",
         "showlegend": true,
         "subplot": "mapbox",
         "type": "scattermapbox"
        },
        {
         "hovertemplate": "<b>%{hovertext}</b><br><br>City=praia<br>Humidity=%{marker.size}<br>Lat=%{lat}<br>Lng=%{lon}<extra></extra>",
         "hovertext": [
          "praia"
         ],
         "lat": [
          14.9215
         ],
         "legendgroup": "praia",
         "lon": [
          -23.5087
         ],
         "marker": {
          "color": "#FF6692",
          "size": [
           74
          ],
          "sizemode": "area",
          "sizeref": 0.4444444444444444
         },
         "mode": "markers",
         "name": "praia",
         "showlegend": true,
         "subplot": "mapbox",
         "type": "scattermapbox"
        },
        {
         "hovertemplate": "<b>%{hovertext}</b><br><br>City=okitipupa<br>Humidity=%{marker.size}<br>Lat=%{lat}<br>Lng=%{lon}<extra></extra>",
         "hovertext": [
          "okitipupa"
         ],
         "lat": [
          6.5047
         ],
         "legendgroup": "okitipupa",
         "lon": [
          4.7839
         ],
         "marker": {
          "color": "#B6E880",
          "size": [
           89
          ],
          "sizemode": "area",
          "sizeref": 0.4444444444444444
         },
         "mode": "markers",
         "name": "okitipupa",
         "showlegend": true,
         "subplot": "mapbox",
         "type": "scattermapbox"
        },
        {
         "hovertemplate": "<b>%{hovertext}</b><br><br>City=monmouth<br>Humidity=%{marker.size}<br>Lat=%{lat}<br>Lng=%{lon}<extra></extra>",
         "hovertext": [
          "monmouth"
         ],
         "lat": [
          40.3001
         ],
         "legendgroup": "monmouth",
         "lon": [
          -74.1663
         ],
         "marker": {
          "color": "#FF97FF",
          "size": [
           53
          ],
          "sizemode": "area",
          "sizeref": 0.4444444444444444
         },
         "mode": "markers",
         "name": "monmouth",
         "showlegend": true,
         "subplot": "mapbox",
         "type": "scattermapbox"
        },
        {
         "hovertemplate": "<b>%{hovertext}</b><br><br>City=san andres<br>Humidity=%{marker.size}<br>Lat=%{lat}<br>Lng=%{lon}<extra></extra>",
         "hovertext": [
          "san andres"
         ],
         "lat": [
          12.5847
         ],
         "legendgroup": "san andres",
         "lon": [
          -81.7006
         ],
         "marker": {
          "color": "#FECB52",
          "size": [
           70
          ],
          "sizemode": "area",
          "sizeref": 0.4444444444444444
         },
         "mode": "markers",
         "name": "san andres",
         "showlegend": true,
         "subplot": "mapbox",
         "type": "scattermapbox"
        },
        {
         "hovertemplate": "<b>%{hovertext}</b><br><br>City=lyngseidet<br>Humidity=%{marker.size}<br>Lat=%{lat}<br>Lng=%{lon}<extra></extra>",
         "hovertext": [
          "lyngseidet"
         ],
         "lat": [
          69.5763
         ],
         "legendgroup": "lyngseidet",
         "lon": [
          20.2189
         ],
         "marker": {
          "color": "#636efa",
          "size": [
           94
          ],
          "sizemode": "area",
          "sizeref": 0.4444444444444444
         },
         "mode": "markers",
         "name": "lyngseidet",
         "showlegend": true,
         "subplot": "mapbox",
         "type": "scattermapbox"
        },
        {
         "hovertemplate": "<b>%{hovertext}</b><br><br>City=dunmore town<br>Humidity=%{marker.size}<br>Lat=%{lat}<br>Lng=%{lon}<extra></extra>",
         "hovertext": [
          "dunmore town"
         ],
         "lat": [
          25.5
         ],
         "legendgroup": "dunmore town",
         "lon": [
          -76.65
         ],
         "marker": {
          "color": "#EF553B",
          "size": [
           70
          ],
          "sizemode": "area",
          "sizeref": 0.4444444444444444
         },
         "mode": "markers",
         "name": "dunmore town",
         "showlegend": true,
         "subplot": "mapbox",
         "type": "scattermapbox"
        },
        {
         "hovertemplate": "<b>%{hovertext}</b><br><br>City=galegos<br>Humidity=%{marker.size}<br>Lat=%{lat}<br>Lng=%{lon}<extra></extra>",
         "hovertext": [
          "galegos"
         ],
         "lat": [
          41.5627
         ],
         "legendgroup": "galegos",
         "lon": [
          -8.572
         ],
         "marker": {
          "color": "#00cc96",
          "size": [
           82
          ],
          "sizemode": "area",
          "sizeref": 0.4444444444444444
         },
         "mode": "markers",
         "name": "galegos",
         "showlegend": true,
         "subplot": "mapbox",
         "type": "scattermapbox"
        },
        {
         "hovertemplate": "<b>%{hovertext}</b><br><br>City=kamen-rybolov<br>Humidity=%{marker.size}<br>Lat=%{lat}<br>Lng=%{lon}<extra></extra>",
         "hovertext": [
          "kamen-rybolov"
         ],
         "lat": [
          44.7481
         ],
         "legendgroup": "kamen-rybolov",
         "lon": [
          132.0403
         ],
         "marker": {
          "color": "#ab63fa",
          "size": [
           55
          ],
          "sizemode": "area",
          "sizeref": 0.4444444444444444
         },
         "mode": "markers",
         "name": "kamen-rybolov",
         "showlegend": true,
         "subplot": "mapbox",
         "type": "scattermapbox"
        },
        {
         "hovertemplate": "<b>%{hovertext}</b><br><br>City=dabat<br>Humidity=%{marker.size}<br>Lat=%{lat}<br>Lng=%{lon}<extra></extra>",
         "hovertext": [
          "dabat"
         ],
         "lat": [
          12.9842
         ],
         "legendgroup": "dabat",
         "lon": [
          37.765
         ],
         "marker": {
          "color": "#FFA15A",
          "size": [
           80
          ],
          "sizemode": "area",
          "sizeref": 0.4444444444444444
         },
         "mode": "markers",
         "name": "dabat",
         "showlegend": true,
         "subplot": "mapbox",
         "type": "scattermapbox"
        },
        {
         "hovertemplate": "<b>%{hovertext}</b><br><br>City=camopi<br>Humidity=%{marker.size}<br>Lat=%{lat}<br>Lng=%{lon}<extra></extra>",
         "hovertext": [
          "camopi"
         ],
         "lat": [
          3.1655
         ],
         "legendgroup": "camopi",
         "lon": [
          -52.3158
         ],
         "marker": {
          "color": "#19d3f3",
          "size": [
           48
          ],
          "sizemode": "area",
          "sizeref": 0.4444444444444444
         },
         "mode": "markers",
         "name": "camopi",
         "showlegend": true,
         "subplot": "mapbox",
         "type": "scattermapbox"
        },
        {
         "hovertemplate": "<b>%{hovertext}</b><br><br>City=jalu<br>Humidity=%{marker.size}<br>Lat=%{lat}<br>Lng=%{lon}<extra></extra>",
         "hovertext": [
          "jalu"
         ],
         "lat": [
          29.0331
         ],
         "legendgroup": "jalu",
         "lon": [
          21.5482
         ],
         "marker": {
          "color": "#FF6692",
          "size": [
           37
          ],
          "sizemode": "area",
          "sizeref": 0.4444444444444444
         },
         "mode": "markers",
         "name": "jalu",
         "showlegend": true,
         "subplot": "mapbox",
         "type": "scattermapbox"
        },
        {
         "hovertemplate": "<b>%{hovertext}</b><br><br>City=eyl<br>Humidity=%{marker.size}<br>Lat=%{lat}<br>Lng=%{lon}<extra></extra>",
         "hovertext": [
          "eyl"
         ],
         "lat": [
          7.9803
         ],
         "legendgroup": "eyl",
         "lon": [
          49.8164
         ],
         "marker": {
          "color": "#B6E880",
          "size": [
           76
          ],
          "sizemode": "area",
          "sizeref": 0.4444444444444444
         },
         "mode": "markers",
         "name": "eyl",
         "showlegend": true,
         "subplot": "mapbox",
         "type": "scattermapbox"
        },
        {
         "hovertemplate": "<b>%{hovertext}</b><br><br>City=valdivia<br>Humidity=%{marker.size}<br>Lat=%{lat}<br>Lng=%{lon}<extra></extra>",
         "hovertext": [
          "valdivia"
         ],
         "lat": [
          -39.8142
         ],
         "legendgroup": "valdivia",
         "lon": [
          -73.2459
         ],
         "marker": {
          "color": "#FF97FF",
          "size": [
           63
          ],
          "sizemode": "area",
          "sizeref": 0.4444444444444444
         },
         "mode": "markers",
         "name": "valdivia",
         "showlegend": true,
         "subplot": "mapbox",
         "type": "scattermapbox"
        },
        {
         "hovertemplate": "<b>%{hovertext}</b><br><br>City=teguldet<br>Humidity=%{marker.size}<br>Lat=%{lat}<br>Lng=%{lon}<extra></extra>",
         "hovertext": [
          "teguldet"
         ],
         "lat": [
          57.3064
         ],
         "legendgroup": "teguldet",
         "lon": [
          88.1667
         ],
         "marker": {
          "color": "#FECB52",
          "size": [
           96
          ],
          "sizemode": "area",
          "sizeref": 0.4444444444444444
         },
         "mode": "markers",
         "name": "teguldet",
         "showlegend": true,
         "subplot": "mapbox",
         "type": "scattermapbox"
        },
        {
         "hovertemplate": "<b>%{hovertext}</b><br><br>City=aquiraz<br>Humidity=%{marker.size}<br>Lat=%{lat}<br>Lng=%{lon}<extra></extra>",
         "hovertext": [
          "aquiraz"
         ],
         "lat": [
          -3.9014
         ],
         "legendgroup": "aquiraz",
         "lon": [
          -38.3911
         ],
         "marker": {
          "color": "#636efa",
          "size": [
           56
          ],
          "sizemode": "area",
          "sizeref": 0.4444444444444444
         },
         "mode": "markers",
         "name": "aquiraz",
         "showlegend": true,
         "subplot": "mapbox",
         "type": "scattermapbox"
        },
        {
         "hovertemplate": "<b>%{hovertext}</b><br><br>City=ulaangom<br>Humidity=%{marker.size}<br>Lat=%{lat}<br>Lng=%{lon}<extra></extra>",
         "hovertext": [
          "ulaangom"
         ],
         "lat": [
          49.9811
         ],
         "legendgroup": "ulaangom",
         "lon": [
          92.0667
         ],
         "marker": {
          "color": "#EF553B",
          "size": [
           55
          ],
          "sizemode": "area",
          "sizeref": 0.4444444444444444
         },
         "mode": "markers",
         "name": "ulaangom",
         "showlegend": true,
         "subplot": "mapbox",
         "type": "scattermapbox"
        },
        {
         "hovertemplate": "<b>%{hovertext}</b><br><br>City=souillac<br>Humidity=%{marker.size}<br>Lat=%{lat}<br>Lng=%{lon}<extra></extra>",
         "hovertext": [
          "souillac"
         ],
         "lat": [
          -20.5167
         ],
         "legendgroup": "souillac",
         "lon": [
          57.5167
         ],
         "marker": {
          "color": "#00cc96",
          "size": [
           68
          ],
          "sizemode": "area",
          "sizeref": 0.4444444444444444
         },
         "mode": "markers",
         "name": "souillac",
         "showlegend": true,
         "subplot": "mapbox",
         "type": "scattermapbox"
        },
        {
         "hovertemplate": "<b>%{hovertext}</b><br><br>City=alice springs<br>Humidity=%{marker.size}<br>Lat=%{lat}<br>Lng=%{lon}<extra></extra>",
         "hovertext": [
          "alice springs"
         ],
         "lat": [
          -23.7
         ],
         "legendgroup": "alice springs",
         "lon": [
          133.8833
         ],
         "marker": {
          "color": "#ab63fa",
          "size": [
           63
          ],
          "sizemode": "area",
          "sizeref": 0.4444444444444444
         },
         "mode": "markers",
         "name": "alice springs",
         "showlegend": true,
         "subplot": "mapbox",
         "type": "scattermapbox"
        },
        {
         "hovertemplate": "<b>%{hovertext}</b><br><br>City=koriyama<br>Humidity=%{marker.size}<br>Lat=%{lat}<br>Lng=%{lon}<extra></extra>",
         "hovertext": [
          "koriyama"
         ],
         "lat": [
          37.4
         ],
         "legendgroup": "koriyama",
         "lon": [
          140.3833
         ],
         "marker": {
          "color": "#FFA15A",
          "size": [
           78
          ],
          "sizemode": "area",
          "sizeref": 0.4444444444444444
         },
         "mode": "markers",
         "name": "koriyama",
         "showlegend": true,
         "subplot": "mapbox",
         "type": "scattermapbox"
        },
        {
         "hovertemplate": "<b>%{hovertext}</b><br><br>City=kingman<br>Humidity=%{marker.size}<br>Lat=%{lat}<br>Lng=%{lon}<extra></extra>",
         "hovertext": [
          "kingman"
         ],
         "lat": [
          35.1894
         ],
         "legendgroup": "kingman",
         "lon": [
          -114.053
         ],
         "marker": {
          "color": "#19d3f3",
          "size": [
           49
          ],
          "sizemode": "area",
          "sizeref": 0.4444444444444444
         },
         "mode": "markers",
         "name": "kingman",
         "showlegend": true,
         "subplot": "mapbox",
         "type": "scattermapbox"
        },
        {
         "hovertemplate": "<b>%{hovertext}</b><br><br>City=college<br>Humidity=%{marker.size}<br>Lat=%{lat}<br>Lng=%{lon}<extra></extra>",
         "hovertext": [
          "college"
         ],
         "lat": [
          64.8569
         ],
         "legendgroup": "college",
         "lon": [
          -147.8028
         ],
         "marker": {
          "color": "#FF6692",
          "size": [
           93
          ],
          "sizemode": "area",
          "sizeref": 0.4444444444444444
         },
         "mode": "markers",
         "name": "college",
         "showlegend": true,
         "subplot": "mapbox",
         "type": "scattermapbox"
        },
        {
         "hovertemplate": "<b>%{hovertext}</b><br><br>City=la romana<br>Humidity=%{marker.size}<br>Lat=%{lat}<br>Lng=%{lon}<extra></extra>",
         "hovertext": [
          "la romana"
         ],
         "lat": [
          18.4273
         ],
         "legendgroup": "la romana",
         "lon": [
          -68.9728
         ],
         "marker": {
          "color": "#B6E880",
          "size": [
           79
          ],
          "sizemode": "area",
          "sizeref": 0.4444444444444444
         },
         "mode": "markers",
         "name": "la romana",
         "showlegend": true,
         "subplot": "mapbox",
         "type": "scattermapbox"
        },
        {
         "hovertemplate": "<b>%{hovertext}</b><br><br>City=daru<br>Humidity=%{marker.size}<br>Lat=%{lat}<br>Lng=%{lon}<extra></extra>",
         "hovertext": [
          "daru"
         ],
         "lat": [
          -9.0763
         ],
         "legendgroup": "daru",
         "lon": [
          143.2092
         ],
         "marker": {
          "color": "#FF97FF",
          "size": [
           86
          ],
          "sizemode": "area",
          "sizeref": 0.4444444444444444
         },
         "mode": "markers",
         "name": "daru",
         "showlegend": true,
         "subplot": "mapbox",
         "type": "scattermapbox"
        },
        {
         "hovertemplate": "<b>%{hovertext}</b><br><br>City=boden<br>Humidity=%{marker.size}<br>Lat=%{lat}<br>Lng=%{lon}<extra></extra>",
         "hovertext": [
          "boden"
         ],
         "lat": [
          65.8252
         ],
         "legendgroup": "boden",
         "lon": [
          21.6886
         ],
         "marker": {
          "color": "#FECB52",
          "size": [
           82
          ],
          "sizemode": "area",
          "sizeref": 0.4444444444444444
         },
         "mode": "markers",
         "name": "boden",
         "showlegend": true,
         "subplot": "mapbox",
         "type": "scattermapbox"
        },
        {
         "hovertemplate": "<b>%{hovertext}</b><br><br>City=carroll<br>Humidity=%{marker.size}<br>Lat=%{lat}<br>Lng=%{lon}<extra></extra>",
         "hovertext": [
          "carroll"
         ],
         "lat": [
          39.5501
         ],
         "legendgroup": "carroll",
         "lon": [
          -77.0164
         ],
         "marker": {
          "color": "#636efa",
          "size": [
           55
          ],
          "sizemode": "area",
          "sizeref": 0.4444444444444444
         },
         "mode": "markers",
         "name": "carroll",
         "showlegend": true,
         "subplot": "mapbox",
         "type": "scattermapbox"
        },
        {
         "hovertemplate": "<b>%{hovertext}</b><br><br>City=ust-kuyga<br>Humidity=%{marker.size}<br>Lat=%{lat}<br>Lng=%{lon}<extra></extra>",
         "hovertext": [
          "ust-kuyga"
         ],
         "lat": [
          70.0167
         ],
         "legendgroup": "ust-kuyga",
         "lon": [
          135.6
         ],
         "marker": {
          "color": "#EF553B",
          "size": [
           100
          ],
          "sizemode": "area",
          "sizeref": 0.4444444444444444
         },
         "mode": "markers",
         "name": "ust-kuyga",
         "showlegend": true,
         "subplot": "mapbox",
         "type": "scattermapbox"
        },
        {
         "hovertemplate": "<b>%{hovertext}</b><br><br>City=bucerias<br>Humidity=%{marker.size}<br>Lat=%{lat}<br>Lng=%{lon}<extra></extra>",
         "hovertext": [
          "bucerias"
         ],
         "lat": [
          20.75
         ],
         "legendgroup": "bucerias",
         "lon": [
          -105.3333
         ],
         "marker": {
          "color": "#00cc96",
          "size": [
           70
          ],
          "sizemode": "area",
          "sizeref": 0.4444444444444444
         },
         "mode": "markers",
         "name": "bucerias",
         "showlegend": true,
         "subplot": "mapbox",
         "type": "scattermapbox"
        },
        {
         "hovertemplate": "<b>%{hovertext}</b><br><br>City=tandil<br>Humidity=%{marker.size}<br>Lat=%{lat}<br>Lng=%{lon}<extra></extra>",
         "hovertext": [
          "tandil"
         ],
         "lat": [
          -37.3217
         ],
         "legendgroup": "tandil",
         "lon": [
          -59.1332
         ],
         "marker": {
          "color": "#ab63fa",
          "size": [
           40
          ],
          "sizemode": "area",
          "sizeref": 0.4444444444444444
         },
         "mode": "markers",
         "name": "tandil",
         "showlegend": true,
         "subplot": "mapbox",
         "type": "scattermapbox"
        },
        {
         "hovertemplate": "<b>%{hovertext}</b><br><br>City=horsham<br>Humidity=%{marker.size}<br>Lat=%{lat}<br>Lng=%{lon}<extra></extra>",
         "hovertext": [
          "horsham"
         ],
         "lat": [
          51.064
         ],
         "legendgroup": "horsham",
         "lon": [
          -0.3272
         ],
         "marker": {
          "color": "#FFA15A",
          "size": [
           72
          ],
          "sizemode": "area",
          "sizeref": 0.4444444444444444
         },
         "mode": "markers",
         "name": "horsham",
         "showlegend": true,
         "subplot": "mapbox",
         "type": "scattermapbox"
        },
        {
         "hovertemplate": "<b>%{hovertext}</b><br><br>City=vao<br>Humidity=%{marker.size}<br>Lat=%{lat}<br>Lng=%{lon}<extra></extra>",
         "hovertext": [
          "vao"
         ],
         "lat": [
          -22.6667
         ],
         "legendgroup": "vao",
         "lon": [
          167.4833
         ],
         "marker": {
          "color": "#19d3f3",
          "size": [
           74
          ],
          "sizemode": "area",
          "sizeref": 0.4444444444444444
         },
         "mode": "markers",
         "name": "vao",
         "showlegend": true,
         "subplot": "mapbox",
         "type": "scattermapbox"
        },
        {
         "hovertemplate": "<b>%{hovertext}</b><br><br>City=bathsheba<br>Humidity=%{marker.size}<br>Lat=%{lat}<br>Lng=%{lon}<extra></extra>",
         "hovertext": [
          "bathsheba"
         ],
         "lat": [
          13.2167
         ],
         "legendgroup": "bathsheba",
         "lon": [
          -59.5167
         ],
         "marker": {
          "color": "#FF6692",
          "size": [
           70
          ],
          "sizemode": "area",
          "sizeref": 0.4444444444444444
         },
         "mode": "markers",
         "name": "bathsheba",
         "showlegend": true,
         "subplot": "mapbox",
         "type": "scattermapbox"
        },
        {
         "hovertemplate": "<b>%{hovertext}</b><br><br>City=salalah<br>Humidity=%{marker.size}<br>Lat=%{lat}<br>Lng=%{lon}<extra></extra>",
         "hovertext": [
          "salalah"
         ],
         "lat": [
          17.0151
         ],
         "legendgroup": "salalah",
         "lon": [
          54.0924
         ],
         "marker": {
          "color": "#B6E880",
          "size": [
           59
          ],
          "sizemode": "area",
          "sizeref": 0.4444444444444444
         },
         "mode": "markers",
         "name": "salalah",
         "showlegend": true,
         "subplot": "mapbox",
         "type": "scattermapbox"
        },
        {
         "hovertemplate": "<b>%{hovertext}</b><br><br>City=harwich<br>Humidity=%{marker.size}<br>Lat=%{lat}<br>Lng=%{lon}<extra></extra>",
         "hovertext": [
          "harwich"
         ],
         "lat": [
          51.9419
         ],
         "legendgroup": "harwich",
         "lon": [
          1.2844
         ],
         "marker": {
          "color": "#FF97FF",
          "size": [
           69
          ],
          "sizemode": "area",
          "sizeref": 0.4444444444444444
         },
         "mode": "markers",
         "name": "harwich",
         "showlegend": true,
         "subplot": "mapbox",
         "type": "scattermapbox"
        },
        {
         "hovertemplate": "<b>%{hovertext}</b><br><br>City=sambava<br>Humidity=%{marker.size}<br>Lat=%{lat}<br>Lng=%{lon}<extra></extra>",
         "hovertext": [
          "sambava"
         ],
         "lat": [
          -14.2667
         ],
         "legendgroup": "sambava",
         "lon": [
          50.1667
         ],
         "marker": {
          "color": "#FECB52",
          "size": [
           79
          ],
          "sizemode": "area",
          "sizeref": 0.4444444444444444
         },
         "mode": "markers",
         "name": "sambava",
         "showlegend": true,
         "subplot": "mapbox",
         "type": "scattermapbox"
        },
        {
         "hovertemplate": "<b>%{hovertext}</b><br><br>City=yarada<br>Humidity=%{marker.size}<br>Lat=%{lat}<br>Lng=%{lon}<extra></extra>",
         "hovertext": [
          "yarada"
         ],
         "lat": [
          17.65
         ],
         "legendgroup": "yarada",
         "lon": [
          83.2667
         ],
         "marker": {
          "color": "#636efa",
          "size": [
           89
          ],
          "sizemode": "area",
          "sizeref": 0.4444444444444444
         },
         "mode": "markers",
         "name": "yarada",
         "showlegend": true,
         "subplot": "mapbox",
         "type": "scattermapbox"
        },
        {
         "hovertemplate": "<b>%{hovertext}</b><br><br>City=namibe<br>Humidity=%{marker.size}<br>Lat=%{lat}<br>Lng=%{lon}<extra></extra>",
         "hovertext": [
          "namibe"
         ],
         "lat": [
          -15.1961
         ],
         "legendgroup": "namibe",
         "lon": [
          12.1522
         ],
         "marker": {
          "color": "#EF553B",
          "size": [
           72
          ],
          "sizemode": "area",
          "sizeref": 0.4444444444444444
         },
         "mode": "markers",
         "name": "namibe",
         "showlegend": true,
         "subplot": "mapbox",
         "type": "scattermapbox"
        },
        {
         "hovertemplate": "<b>%{hovertext}</b><br><br>City=kokkola<br>Humidity=%{marker.size}<br>Lat=%{lat}<br>Lng=%{lon}<extra></extra>",
         "hovertext": [
          "kokkola"
         ],
         "lat": [
          63.8385
         ],
         "legendgroup": "kokkola",
         "lon": [
          23.1307
         ],
         "marker": {
          "color": "#00cc96",
          "size": [
           76
          ],
          "sizemode": "area",
          "sizeref": 0.4444444444444444
         },
         "mode": "markers",
         "name": "kokkola",
         "showlegend": true,
         "subplot": "mapbox",
         "type": "scattermapbox"
        },
        {
         "hovertemplate": "<b>%{hovertext}</b><br><br>City=leningradskiy<br>Humidity=%{marker.size}<br>Lat=%{lat}<br>Lng=%{lon}<extra></extra>",
         "hovertext": [
          "leningradskiy"
         ],
         "lat": [
          69.3833
         ],
         "legendgroup": "leningradskiy",
         "lon": [
          178.4167
         ],
         "marker": {
          "color": "#ab63fa",
          "size": [
           86
          ],
          "sizemode": "area",
          "sizeref": 0.4444444444444444
         },
         "mode": "markers",
         "name": "leningradskiy",
         "showlegend": true,
         "subplot": "mapbox",
         "type": "scattermapbox"
        },
        {
         "hovertemplate": "<b>%{hovertext}</b><br><br>City=vostok<br>Humidity=%{marker.size}<br>Lat=%{lat}<br>Lng=%{lon}<extra></extra>",
         "hovertext": [
          "vostok"
         ],
         "lat": [
          46.4856
         ],
         "legendgroup": "vostok",
         "lon": [
          135.8833
         ],
         "marker": {
          "color": "#FFA15A",
          "size": [
           68
          ],
          "sizemode": "area",
          "sizeref": 0.4444444444444444
         },
         "mode": "markers",
         "name": "vostok",
         "showlegend": true,
         "subplot": "mapbox",
         "type": "scattermapbox"
        },
        {
         "hovertemplate": "<b>%{hovertext}</b><br><br>City=rio grande<br>Humidity=%{marker.size}<br>Lat=%{lat}<br>Lng=%{lon}<extra></extra>",
         "hovertext": [
          "rio grande"
         ],
         "lat": [
          -32.035
         ],
         "legendgroup": "rio grande",
         "lon": [
          -52.0986
         ],
         "marker": {
          "color": "#19d3f3",
          "size": [
           81
          ],
          "sizemode": "area",
          "sizeref": 0.4444444444444444
         },
         "mode": "markers",
         "name": "rio grande",
         "showlegend": true,
         "subplot": "mapbox",
         "type": "scattermapbox"
        },
        {
         "hovertemplate": "<b>%{hovertext}</b><br><br>City=chegdomyn<br>Humidity=%{marker.size}<br>Lat=%{lat}<br>Lng=%{lon}<extra></extra>",
         "hovertext": [
          "chegdomyn"
         ],
         "lat": [
          51.1167
         ],
         "legendgroup": "chegdomyn",
         "lon": [
          133.0167
         ],
         "marker": {
          "color": "#FF6692",
          "size": [
           78
          ],
          "sizemode": "area",
          "sizeref": 0.4444444444444444
         },
         "mode": "markers",
         "name": "chegdomyn",
         "showlegend": true,
         "subplot": "mapbox",
         "type": "scattermapbox"
        },
        {
         "hovertemplate": "<b>%{hovertext}</b><br><br>City=ilulissat<br>Humidity=%{marker.size}<br>Lat=%{lat}<br>Lng=%{lon}<extra></extra>",
         "hovertext": [
          "ilulissat"
         ],
         "lat": [
          69.2167
         ],
         "legendgroup": "ilulissat",
         "lon": [
          -51.1
         ],
         "marker": {
          "color": "#B6E880",
          "size": [
           98
          ],
          "sizemode": "area",
          "sizeref": 0.4444444444444444
         },
         "mode": "markers",
         "name": "ilulissat",
         "showlegend": true,
         "subplot": "mapbox",
         "type": "scattermapbox"
        },
        {
         "hovertemplate": "<b>%{hovertext}</b><br><br>City=viseu<br>Humidity=%{marker.size}<br>Lat=%{lat}<br>Lng=%{lon}<extra></extra>",
         "hovertext": [
          "viseu"
         ],
         "lat": [
          40.661
         ],
         "legendgroup": "viseu",
         "lon": [
          -7.9097
         ],
         "marker": {
          "color": "#FF97FF",
          "size": [
           39
          ],
          "sizemode": "area",
          "sizeref": 0.4444444444444444
         },
         "mode": "markers",
         "name": "viseu",
         "showlegend": true,
         "subplot": "mapbox",
         "type": "scattermapbox"
        },
        {
         "hovertemplate": "<b>%{hovertext}</b><br><br>City=cidreira<br>Humidity=%{marker.size}<br>Lat=%{lat}<br>Lng=%{lon}<extra></extra>",
         "hovertext": [
          "cidreira"
         ],
         "lat": [
          -30.1811
         ],
         "legendgroup": "cidreira",
         "lon": [
          -50.2056
         ],
         "marker": {
          "color": "#FECB52",
          "size": [
           91
          ],
          "sizemode": "area",
          "sizeref": 0.4444444444444444
         },
         "mode": "markers",
         "name": "cidreira",
         "showlegend": true,
         "subplot": "mapbox",
         "type": "scattermapbox"
        },
        {
         "hovertemplate": "<b>%{hovertext}</b><br><br>City=bafoulabe<br>Humidity=%{marker.size}<br>Lat=%{lat}<br>Lng=%{lon}<extra></extra>",
         "hovertext": [
          "bafoulabe"
         ],
         "lat": [
          13.8065
         ],
         "legendgroup": "bafoulabe",
         "lon": [
          -10.8321
         ],
         "marker": {
          "color": "#636efa",
          "size": [
           72
          ],
          "sizemode": "area",
          "sizeref": 0.4444444444444444
         },
         "mode": "markers",
         "name": "bafoulabe",
         "showlegend": true,
         "subplot": "mapbox",
         "type": "scattermapbox"
        },
        {
         "hovertemplate": "<b>%{hovertext}</b><br><br>City=swan river<br>Humidity=%{marker.size}<br>Lat=%{lat}<br>Lng=%{lon}<extra></extra>",
         "hovertext": [
          "swan river"
         ],
         "lat": [
          52.1058
         ],
         "legendgroup": "swan river",
         "lon": [
          -101.2676
         ],
         "marker": {
          "color": "#EF553B",
          "size": [
           40
          ],
          "sizemode": "area",
          "sizeref": 0.4444444444444444
         },
         "mode": "markers",
         "name": "swan river",
         "showlegend": true,
         "subplot": "mapbox",
         "type": "scattermapbox"
        },
        {
         "hovertemplate": "<b>%{hovertext}</b><br><br>City=rocha<br>Humidity=%{marker.size}<br>Lat=%{lat}<br>Lng=%{lon}<extra></extra>",
         "hovertext": [
          "rocha"
         ],
         "lat": [
          -34.4833
         ],
         "legendgroup": "rocha",
         "lon": [
          -54.3333
         ],
         "marker": {
          "color": "#00cc96",
          "size": [
           66
          ],
          "sizemode": "area",
          "sizeref": 0.4444444444444444
         },
         "mode": "markers",
         "name": "rocha",
         "showlegend": true,
         "subplot": "mapbox",
         "type": "scattermapbox"
        },
        {
         "hovertemplate": "<b>%{hovertext}</b><br><br>City=juruti<br>Humidity=%{marker.size}<br>Lat=%{lat}<br>Lng=%{lon}<extra></extra>",
         "hovertext": [
          "juruti"
         ],
         "lat": [
          -2.1522
         ],
         "legendgroup": "juruti",
         "lon": [
          -56.0922
         ],
         "marker": {
          "color": "#ab63fa",
          "size": [
           62
          ],
          "sizemode": "area",
          "sizeref": 0.4444444444444444
         },
         "mode": "markers",
         "name": "juruti",
         "showlegend": true,
         "subplot": "mapbox",
         "type": "scattermapbox"
        },
        {
         "hovertemplate": "<b>%{hovertext}</b><br><br>City=kailua<br>Humidity=%{marker.size}<br>Lat=%{lat}<br>Lng=%{lon}<extra></extra>",
         "hovertext": [
          "kailua"
         ],
         "lat": [
          21.4022
         ],
         "legendgroup": "kailua",
         "lon": [
          -157.7394
         ],
         "marker": {
          "color": "#FFA15A",
          "size": [
           89
          ],
          "sizemode": "area",
          "sizeref": 0.4444444444444444
         },
         "mode": "markers",
         "name": "kailua",
         "showlegend": true,
         "subplot": "mapbox",
         "type": "scattermapbox"
        },
        {
         "hovertemplate": "<b>%{hovertext}</b><br><br>City=verkh-suetka<br>Humidity=%{marker.size}<br>Lat=%{lat}<br>Lng=%{lon}<extra></extra>",
         "hovertext": [
          "verkh-suetka"
         ],
         "lat": [
          53.3
         ],
         "legendgroup": "verkh-suetka",
         "lon": [
          80.05
         ],
         "marker": {
          "color": "#19d3f3",
          "size": [
           76
          ],
          "sizemode": "area",
          "sizeref": 0.4444444444444444
         },
         "mode": "markers",
         "name": "verkh-suetka",
         "showlegend": true,
         "subplot": "mapbox",
         "type": "scattermapbox"
        },
        {
         "hovertemplate": "<b>%{hovertext}</b><br><br>City=dunedin<br>Humidity=%{marker.size}<br>Lat=%{lat}<br>Lng=%{lon}<extra></extra>",
         "hovertext": [
          "dunedin"
         ],
         "lat": [
          -45.8742
         ],
         "legendgroup": "dunedin",
         "lon": [
          170.5036
         ],
         "marker": {
          "color": "#FF6692",
          "size": [
           73
          ],
          "sizemode": "area",
          "sizeref": 0.4444444444444444
         },
         "mode": "markers",
         "name": "dunedin",
         "showlegend": true,
         "subplot": "mapbox",
         "type": "scattermapbox"
        },
        {
         "hovertemplate": "<b>%{hovertext}</b><br><br>City=mount isa<br>Humidity=%{marker.size}<br>Lat=%{lat}<br>Lng=%{lon}<extra></extra>",
         "hovertext": [
          "mount isa"
         ],
         "lat": [
          -20.7333
         ],
         "legendgroup": "mount isa",
         "lon": [
          139.5
         ],
         "marker": {
          "color": "#B6E880",
          "size": [
           100
          ],
          "sizemode": "area",
          "sizeref": 0.4444444444444444
         },
         "mode": "markers",
         "name": "mount isa",
         "showlegend": true,
         "subplot": "mapbox",
         "type": "scattermapbox"
        },
        {
         "hovertemplate": "<b>%{hovertext}</b><br><br>City=mahina<br>Humidity=%{marker.size}<br>Lat=%{lat}<br>Lng=%{lon}<extra></extra>",
         "hovertext": [
          "mahina"
         ],
         "lat": [
          -17.5065
         ],
         "legendgroup": "mahina",
         "lon": [
          -149.489
         ],
         "marker": {
          "color": "#FF97FF",
          "size": [
           83
          ],
          "sizemode": "area",
          "sizeref": 0.4444444444444444
         },
         "mode": "markers",
         "name": "mahina",
         "showlegend": true,
         "subplot": "mapbox",
         "type": "scattermapbox"
        },
        {
         "hovertemplate": "<b>%{hovertext}</b><br><br>City=kamloops<br>Humidity=%{marker.size}<br>Lat=%{lat}<br>Lng=%{lon}<extra></extra>",
         "hovertext": [
          "kamloops"
         ],
         "lat": [
          50.6665
         ],
         "legendgroup": "kamloops",
         "lon": [
          -120.3192
         ],
         "marker": {
          "color": "#FECB52",
          "size": [
           93
          ],
          "sizemode": "area",
          "sizeref": 0.4444444444444444
         },
         "mode": "markers",
         "name": "kamloops",
         "showlegend": true,
         "subplot": "mapbox",
         "type": "scattermapbox"
        },
        {
         "hovertemplate": "<b>%{hovertext}</b><br><br>City=santa rosalia<br>Humidity=%{marker.size}<br>Lat=%{lat}<br>Lng=%{lon}<extra></extra>",
         "hovertext": [
          "santa rosalia"
         ],
         "lat": [
          27.3167
         ],
         "legendgroup": "santa rosalia",
         "lon": [
          -112.2833
         ],
         "marker": {
          "color": "#636efa",
          "size": [
           56
          ],
          "sizemode": "area",
          "sizeref": 0.4444444444444444
         },
         "mode": "markers",
         "name": "santa rosalia",
         "showlegend": true,
         "subplot": "mapbox",
         "type": "scattermapbox"
        },
        {
         "hovertemplate": "<b>%{hovertext}</b><br><br>City=nerchinskiy zavod<br>Humidity=%{marker.size}<br>Lat=%{lat}<br>Lng=%{lon}<extra></extra>",
         "hovertext": [
          "nerchinskiy zavod"
         ],
         "lat": [
          51.3088
         ],
         "legendgroup": "nerchinskiy zavod",
         "lon": [
          119.61
         ],
         "marker": {
          "color": "#EF553B",
          "size": [
           52
          ],
          "sizemode": "area",
          "sizeref": 0.4444444444444444
         },
         "mode": "markers",
         "name": "nerchinskiy zavod",
         "showlegend": true,
         "subplot": "mapbox",
         "type": "scattermapbox"
        },
        {
         "hovertemplate": "<b>%{hovertext}</b><br><br>City=torrington<br>Humidity=%{marker.size}<br>Lat=%{lat}<br>Lng=%{lon}<extra></extra>",
         "hovertext": [
          "torrington"
         ],
         "lat": [
          41.8007
         ],
         "legendgroup": "torrington",
         "lon": [
          -73.1212
         ],
         "marker": {
          "color": "#00cc96",
          "size": [
           64
          ],
          "sizemode": "area",
          "sizeref": 0.4444444444444444
         },
         "mode": "markers",
         "name": "torrington",
         "showlegend": true,
         "subplot": "mapbox",
         "type": "scattermapbox"
        },
        {
         "hovertemplate": "<b>%{hovertext}</b><br><br>City=krutikha<br>Humidity=%{marker.size}<br>Lat=%{lat}<br>Lng=%{lon}<extra></extra>",
         "hovertext": [
          "krutikha"
         ],
         "lat": [
          53.9599
         ],
         "legendgroup": "krutikha",
         "lon": [
          81.2093
         ],
         "marker": {
          "color": "#ab63fa",
          "size": [
           80
          ],
          "sizemode": "area",
          "sizeref": 0.4444444444444444
         },
         "mode": "markers",
         "name": "krutikha",
         "showlegend": true,
         "subplot": "mapbox",
         "type": "scattermapbox"
        },
        {
         "hovertemplate": "<b>%{hovertext}</b><br><br>City=bonavista<br>Humidity=%{marker.size}<br>Lat=%{lat}<br>Lng=%{lon}<extra></extra>",
         "hovertext": [
          "bonavista"
         ],
         "lat": [
          48.6499
         ],
         "legendgroup": "bonavista",
         "lon": [
          -53.1147
         ],
         "marker": {
          "color": "#FFA15A",
          "size": [
           90
          ],
          "sizemode": "area",
          "sizeref": 0.4444444444444444
         },
         "mode": "markers",
         "name": "bonavista",
         "showlegend": true,
         "subplot": "mapbox",
         "type": "scattermapbox"
        },
        {
         "hovertemplate": "<b>%{hovertext}</b><br><br>City=zaysan<br>Humidity=%{marker.size}<br>Lat=%{lat}<br>Lng=%{lon}<extra></extra>",
         "hovertext": [
          "zaysan"
         ],
         "lat": [
          47.4667
         ],
         "legendgroup": "zaysan",
         "lon": [
          84.8667
         ],
         "marker": {
          "color": "#19d3f3",
          "size": [
           85
          ],
          "sizemode": "area",
          "sizeref": 0.4444444444444444
         },
         "mode": "markers",
         "name": "zaysan",
         "showlegend": true,
         "subplot": "mapbox",
         "type": "scattermapbox"
        },
        {
         "hovertemplate": "<b>%{hovertext}</b><br><br>City=mana<br>Humidity=%{marker.size}<br>Lat=%{lat}<br>Lng=%{lon}<extra></extra>",
         "hovertext": [
          "mana"
         ],
         "lat": [
          5.6592
         ],
         "legendgroup": "mana",
         "lon": [
          -53.7767
         ],
         "marker": {
          "color": "#FF6692",
          "size": [
           64
          ],
          "sizemode": "area",
          "sizeref": 0.4444444444444444
         },
         "mode": "markers",
         "name": "mana",
         "showlegend": true,
         "subplot": "mapbox",
         "type": "scattermapbox"
        },
        {
         "hovertemplate": "<b>%{hovertext}</b><br><br>City=nemuro<br>Humidity=%{marker.size}<br>Lat=%{lat}<br>Lng=%{lon}<extra></extra>",
         "hovertext": [
          "nemuro"
         ],
         "lat": [
          43.3236
         ],
         "legendgroup": "nemuro",
         "lon": [
          145.575
         ],
         "marker": {
          "color": "#B6E880",
          "size": [
           78
          ],
          "sizemode": "area",
          "sizeref": 0.4444444444444444
         },
         "mode": "markers",
         "name": "nemuro",
         "showlegend": true,
         "subplot": "mapbox",
         "type": "scattermapbox"
        },
        {
         "hovertemplate": "<b>%{hovertext}</b><br><br>City=mandera<br>Humidity=%{marker.size}<br>Lat=%{lat}<br>Lng=%{lon}<extra></extra>",
         "hovertext": [
          "mandera"
         ],
         "lat": [
          3.9366
         ],
         "legendgroup": "mandera",
         "lon": [
          41.867
         ],
         "marker": {
          "color": "#FF97FF",
          "size": [
           48
          ],
          "sizemode": "area",
          "sizeref": 0.4444444444444444
         },
         "mode": "markers",
         "name": "mandera",
         "showlegend": true,
         "subplot": "mapbox",
         "type": "scattermapbox"
        },
        {
         "hovertemplate": "<b>%{hovertext}</b><br><br>City=numan<br>Humidity=%{marker.size}<br>Lat=%{lat}<br>Lng=%{lon}<extra></extra>",
         "hovertext": [
          "numan"
         ],
         "lat": [
          9.4667
         ],
         "legendgroup": "numan",
         "lon": [
          12.0333
         ],
         "marker": {
          "color": "#FECB52",
          "size": [
           40
          ],
          "sizemode": "area",
          "sizeref": 0.4444444444444444
         },
         "mode": "markers",
         "name": "numan",
         "showlegend": true,
         "subplot": "mapbox",
         "type": "scattermapbox"
        },
        {
         "hovertemplate": "<b>%{hovertext}</b><br><br>City=pingliang<br>Humidity=%{marker.size}<br>Lat=%{lat}<br>Lng=%{lon}<extra></extra>",
         "hovertext": [
          "pingliang"
         ],
         "lat": [
          35.5392
         ],
         "legendgroup": "pingliang",
         "lon": [
          106.6861
         ],
         "marker": {
          "color": "#636efa",
          "size": [
           64
          ],
          "sizemode": "area",
          "sizeref": 0.4444444444444444
         },
         "mode": "markers",
         "name": "pingliang",
         "showlegend": true,
         "subplot": "mapbox",
         "type": "scattermapbox"
        },
        {
         "hovertemplate": "<b>%{hovertext}</b><br><br>City=saldanha<br>Humidity=%{marker.size}<br>Lat=%{lat}<br>Lng=%{lon}<extra></extra>",
         "hovertext": [
          "saldanha"
         ],
         "lat": [
          -33.0117
         ],
         "legendgroup": "saldanha",
         "lon": [
          17.9442
         ],
         "marker": {
          "color": "#EF553B",
          "size": [
           86
          ],
          "sizemode": "area",
          "sizeref": 0.4444444444444444
         },
         "mode": "markers",
         "name": "saldanha",
         "showlegend": true,
         "subplot": "mapbox",
         "type": "scattermapbox"
        },
        {
         "hovertemplate": "<b>%{hovertext}</b><br><br>City=petropavlovsk-kamchatskiy<br>Humidity=%{marker.size}<br>Lat=%{lat}<br>Lng=%{lon}<extra></extra>",
         "hovertext": [
          "petropavlovsk-kamchatskiy"
         ],
         "lat": [
          53.0452
         ],
         "legendgroup": "petropavlovsk-kamchatskiy",
         "lon": [
          158.6483
         ],
         "marker": {
          "color": "#00cc96",
          "size": [
           52
          ],
          "sizemode": "area",
          "sizeref": 0.4444444444444444
         },
         "mode": "markers",
         "name": "petropavlovsk-kamchatskiy",
         "showlegend": true,
         "subplot": "mapbox",
         "type": "scattermapbox"
        },
        {
         "hovertemplate": "<b>%{hovertext}</b><br><br>City=vila velha<br>Humidity=%{marker.size}<br>Lat=%{lat}<br>Lng=%{lon}<extra></extra>",
         "hovertext": [
          "vila velha"
         ],
         "lat": [
          -20.3297
         ],
         "legendgroup": "vila velha",
         "lon": [
          -40.2925
         ],
         "marker": {
          "color": "#ab63fa",
          "size": [
           75
          ],
          "sizemode": "area",
          "sizeref": 0.4444444444444444
         },
         "mode": "markers",
         "name": "vila velha",
         "showlegend": true,
         "subplot": "mapbox",
         "type": "scattermapbox"
        },
        {
         "hovertemplate": "<b>%{hovertext}</b><br><br>City=bengkulu<br>Humidity=%{marker.size}<br>Lat=%{lat}<br>Lng=%{lon}<extra></extra>",
         "hovertext": [
          "bengkulu"
         ],
         "lat": [
          -3.8004
         ],
         "legendgroup": "bengkulu",
         "lon": [
          102.2655
         ],
         "marker": {
          "color": "#FFA15A",
          "size": [
           90
          ],
          "sizemode": "area",
          "sizeref": 0.4444444444444444
         },
         "mode": "markers",
         "name": "bengkulu",
         "showlegend": true,
         "subplot": "mapbox",
         "type": "scattermapbox"
        },
        {
         "hovertemplate": "<b>%{hovertext}</b><br><br>City=honiara<br>Humidity=%{marker.size}<br>Lat=%{lat}<br>Lng=%{lon}<extra></extra>",
         "hovertext": [
          "honiara"
         ],
         "lat": [
          -9.4333
         ],
         "legendgroup": "honiara",
         "lon": [
          159.95
         ],
         "marker": {
          "color": "#19d3f3",
          "size": [
           85
          ],
          "sizemode": "area",
          "sizeref": 0.4444444444444444
         },
         "mode": "markers",
         "name": "honiara",
         "showlegend": true,
         "subplot": "mapbox",
         "type": "scattermapbox"
        },
        {
         "hovertemplate": "<b>%{hovertext}</b><br><br>City=pemba<br>Humidity=%{marker.size}<br>Lat=%{lat}<br>Lng=%{lon}<extra></extra>",
         "hovertext": [
          "pemba"
         ],
         "lat": [
          -12.974
         ],
         "legendgroup": "pemba",
         "lon": [
          40.5178
         ],
         "marker": {
          "color": "#FF6692",
          "size": [
           76
          ],
          "sizemode": "area",
          "sizeref": 0.4444444444444444
         },
         "mode": "markers",
         "name": "pemba",
         "showlegend": true,
         "subplot": "mapbox",
         "type": "scattermapbox"
        },
        {
         "hovertemplate": "<b>%{hovertext}</b><br><br>City=ahipara<br>Humidity=%{marker.size}<br>Lat=%{lat}<br>Lng=%{lon}<extra></extra>",
         "hovertext": [
          "ahipara"
         ],
         "lat": [
          -35.1667
         ],
         "legendgroup": "ahipara",
         "lon": [
          173.1667
         ],
         "marker": {
          "color": "#B6E880",
          "size": [
           73
          ],
          "sizemode": "area",
          "sizeref": 0.4444444444444444
         },
         "mode": "markers",
         "name": "ahipara",
         "showlegend": true,
         "subplot": "mapbox",
         "type": "scattermapbox"
        },
        {
         "hovertemplate": "<b>%{hovertext}</b><br><br>City=shingu<br>Humidity=%{marker.size}<br>Lat=%{lat}<br>Lng=%{lon}<extra></extra>",
         "hovertext": [
          "shingu"
         ],
         "lat": [
          33.7333
         ],
         "legendgroup": "shingu",
         "lon": [
          135.9833
         ],
         "marker": {
          "color": "#FF97FF",
          "size": [
           79
          ],
          "sizemode": "area",
          "sizeref": 0.4444444444444444
         },
         "mode": "markers",
         "name": "shingu",
         "showlegend": true,
         "subplot": "mapbox",
         "type": "scattermapbox"
        },
        {
         "hovertemplate": "<b>%{hovertext}</b><br><br>City=korla<br>Humidity=%{marker.size}<br>Lat=%{lat}<br>Lng=%{lon}<extra></extra>",
         "hovertext": [
          "korla"
         ],
         "lat": [
          41.7597
         ],
         "legendgroup": "korla",
         "lon": [
          86.1469
         ],
         "marker": {
          "color": "#FECB52",
          "size": [
           19
          ],
          "sizemode": "area",
          "sizeref": 0.4444444444444444
         },
         "mode": "markers",
         "name": "korla",
         "showlegend": true,
         "subplot": "mapbox",
         "type": "scattermapbox"
        },
        {
         "hovertemplate": "<b>%{hovertext}</b><br><br>City=lerik<br>Humidity=%{marker.size}<br>Lat=%{lat}<br>Lng=%{lon}<extra></extra>",
         "hovertext": [
          "lerik"
         ],
         "lat": [
          38.7726
         ],
         "legendgroup": "lerik",
         "lon": [
          48.4128
         ],
         "marker": {
          "color": "#636efa",
          "size": [
           95
          ],
          "sizemode": "area",
          "sizeref": 0.4444444444444444
         },
         "mode": "markers",
         "name": "lerik",
         "showlegend": true,
         "subplot": "mapbox",
         "type": "scattermapbox"
        },
        {
         "hovertemplate": "<b>%{hovertext}</b><br><br>City=quelimane<br>Humidity=%{marker.size}<br>Lat=%{lat}<br>Lng=%{lon}<extra></extra>",
         "hovertext": [
          "quelimane"
         ],
         "lat": [
          -17.8786
         ],
         "legendgroup": "quelimane",
         "lon": [
          36.8883
         ],
         "marker": {
          "color": "#EF553B",
          "size": [
           75
          ],
          "sizemode": "area",
          "sizeref": 0.4444444444444444
         },
         "mode": "markers",
         "name": "quelimane",
         "showlegend": true,
         "subplot": "mapbox",
         "type": "scattermapbox"
        },
        {
         "hovertemplate": "<b>%{hovertext}</b><br><br>City=katyuzhanka<br>Humidity=%{marker.size}<br>Lat=%{lat}<br>Lng=%{lon}<extra></extra>",
         "hovertext": [
          "katyuzhanka"
         ],
         "lat": [
          50.806
         ],
         "legendgroup": "katyuzhanka",
         "lon": [
          30.1376
         ],
         "marker": {
          "color": "#00cc96",
          "size": [
           58
          ],
          "sizemode": "area",
          "sizeref": 0.4444444444444444
         },
         "mode": "markers",
         "name": "katyuzhanka",
         "showlegend": true,
         "subplot": "mapbox",
         "type": "scattermapbox"
        },
        {
         "hovertemplate": "<b>%{hovertext}</b><br><br>City=narwar<br>Humidity=%{marker.size}<br>Lat=%{lat}<br>Lng=%{lon}<extra></extra>",
         "hovertext": [
          "narwar"
         ],
         "lat": [
          25.65
         ],
         "legendgroup": "narwar",
         "lon": [
          77.9
         ],
         "marker": {
          "color": "#ab63fa",
          "size": [
           55
          ],
          "sizemode": "area",
          "sizeref": 0.4444444444444444
         },
         "mode": "markers",
         "name": "narwar",
         "showlegend": true,
         "subplot": "mapbox",
         "type": "scattermapbox"
        },
        {
         "hovertemplate": "<b>%{hovertext}</b><br><br>City=port hardy<br>Humidity=%{marker.size}<br>Lat=%{lat}<br>Lng=%{lon}<extra></extra>",
         "hovertext": [
          "port hardy"
         ],
         "lat": [
          50.6996
         ],
         "legendgroup": "port hardy",
         "lon": [
          -127.4199
         ],
         "marker": {
          "color": "#FFA15A",
          "size": [
           93
          ],
          "sizemode": "area",
          "sizeref": 0.4444444444444444
         },
         "mode": "markers",
         "name": "port hardy",
         "showlegend": true,
         "subplot": "mapbox",
         "type": "scattermapbox"
        },
        {
         "hovertemplate": "<b>%{hovertext}</b><br><br>City=sol-iletsk<br>Humidity=%{marker.size}<br>Lat=%{lat}<br>Lng=%{lon}<extra></extra>",
         "hovertext": [
          "sol-iletsk"
         ],
         "lat": [
          51.1631
         ],
         "legendgroup": "sol-iletsk",
         "lon": [
          54.9918
         ],
         "marker": {
          "color": "#19d3f3",
          "size": [
           65
          ],
          "sizemode": "area",
          "sizeref": 0.4444444444444444
         },
         "mode": "markers",
         "name": "sol-iletsk",
         "showlegend": true,
         "subplot": "mapbox",
         "type": "scattermapbox"
        },
        {
         "hovertemplate": "<b>%{hovertext}</b><br><br>City=tabou<br>Humidity=%{marker.size}<br>Lat=%{lat}<br>Lng=%{lon}<extra></extra>",
         "hovertext": [
          "tabou"
         ],
         "lat": [
          4.423
         ],
         "legendgroup": "tabou",
         "lon": [
          -7.3528
         ],
         "marker": {
          "color": "#FF6692",
          "size": [
           77
          ],
          "sizemode": "area",
          "sizeref": 0.4444444444444444
         },
         "mode": "markers",
         "name": "tabou",
         "showlegend": true,
         "subplot": "mapbox",
         "type": "scattermapbox"
        },
        {
         "hovertemplate": "<b>%{hovertext}</b><br><br>City=saint anthony<br>Humidity=%{marker.size}<br>Lat=%{lat}<br>Lng=%{lon}<extra></extra>",
         "hovertext": [
          "saint anthony"
         ],
         "lat": [
          45.0205
         ],
         "legendgroup": "saint anthony",
         "lon": [
          -93.218
         ],
         "marker": {
          "color": "#B6E880",
          "size": [
           61
          ],
          "sizemode": "area",
          "sizeref": 0.4444444444444444
         },
         "mode": "markers",
         "name": "saint anthony",
         "showlegend": true,
         "subplot": "mapbox",
         "type": "scattermapbox"
        },
        {
         "hovertemplate": "<b>%{hovertext}</b><br><br>City=srednekolymsk<br>Humidity=%{marker.size}<br>Lat=%{lat}<br>Lng=%{lon}<extra></extra>",
         "hovertext": [
          "srednekolymsk"
         ],
         "lat": [
          67.45
         ],
         "legendgroup": "srednekolymsk",
         "lon": [
          153.6833
         ],
         "marker": {
          "color": "#FF97FF",
          "size": [
           98
          ],
          "sizemode": "area",
          "sizeref": 0.4444444444444444
         },
         "mode": "markers",
         "name": "srednekolymsk",
         "showlegend": true,
         "subplot": "mapbox",
         "type": "scattermapbox"
        },
        {
         "hovertemplate": "<b>%{hovertext}</b><br><br>City=homer<br>Humidity=%{marker.size}<br>Lat=%{lat}<br>Lng=%{lon}<extra></extra>",
         "hovertext": [
          "homer"
         ],
         "lat": [
          59.6425
         ],
         "legendgroup": "homer",
         "lon": [
          -151.5483
         ],
         "marker": {
          "color": "#FECB52",
          "size": [
           87
          ],
          "sizemode": "area",
          "sizeref": 0.4444444444444444
         },
         "mode": "markers",
         "name": "homer",
         "showlegend": true,
         "subplot": "mapbox",
         "type": "scattermapbox"
        },
        {
         "hovertemplate": "<b>%{hovertext}</b><br><br>City=livingston<br>Humidity=%{marker.size}<br>Lat=%{lat}<br>Lng=%{lon}<extra></extra>",
         "hovertext": [
          "livingston"
         ],
         "lat": [
          55.9029
         ],
         "legendgroup": "livingston",
         "lon": [
          -3.5226
         ],
         "marker": {
          "color": "#636efa",
          "size": [
           82
          ],
          "sizemode": "area",
          "sizeref": 0.4444444444444444
         },
         "mode": "markers",
         "name": "livingston",
         "showlegend": true,
         "subplot": "mapbox",
         "type": "scattermapbox"
        },
        {
         "hovertemplate": "<b>%{hovertext}</b><br><br>City=lima<br>Humidity=%{marker.size}<br>Lat=%{lat}<br>Lng=%{lon}<extra></extra>",
         "hovertext": [
          "lima"
         ],
         "lat": [
          -12.0432
         ],
         "legendgroup": "lima",
         "lon": [
          -77.0282
         ],
         "marker": {
          "color": "#EF553B",
          "size": [
           79
          ],
          "sizemode": "area",
          "sizeref": 0.4444444444444444
         },
         "mode": "markers",
         "name": "lima",
         "showlegend": true,
         "subplot": "mapbox",
         "type": "scattermapbox"
        },
        {
         "hovertemplate": "<b>%{hovertext}</b><br><br>City=christchurch<br>Humidity=%{marker.size}<br>Lat=%{lat}<br>Lng=%{lon}<extra></extra>",
         "hovertext": [
          "christchurch"
         ],
         "lat": [
          -43.5333
         ],
         "legendgroup": "christchurch",
         "lon": [
          172.6333
         ],
         "marker": {
          "color": "#00cc96",
          "size": [
           95
          ],
          "sizemode": "area",
          "sizeref": 0.4444444444444444
         },
         "mode": "markers",
         "name": "christchurch",
         "showlegend": true,
         "subplot": "mapbox",
         "type": "scattermapbox"
        },
        {
         "hovertemplate": "<b>%{hovertext}</b><br><br>City=beitbridge<br>Humidity=%{marker.size}<br>Lat=%{lat}<br>Lng=%{lon}<extra></extra>",
         "hovertext": [
          "beitbridge"
         ],
         "lat": [
          -22.2167
         ],
         "legendgroup": "beitbridge",
         "lon": [
          30
         ],
         "marker": {
          "color": "#ab63fa",
          "size": [
           22
          ],
          "sizemode": "area",
          "sizeref": 0.4444444444444444
         },
         "mode": "markers",
         "name": "beitbridge",
         "showlegend": true,
         "subplot": "mapbox",
         "type": "scattermapbox"
        },
        {
         "hovertemplate": "<b>%{hovertext}</b><br><br>City=kortkeros<br>Humidity=%{marker.size}<br>Lat=%{lat}<br>Lng=%{lon}<extra></extra>",
         "hovertext": [
          "kortkeros"
         ],
         "lat": [
          61.8106
         ],
         "legendgroup": "kortkeros",
         "lon": [
          51.5806
         ],
         "marker": {
          "color": "#FFA15A",
          "size": [
           84
          ],
          "sizemode": "area",
          "sizeref": 0.4444444444444444
         },
         "mode": "markers",
         "name": "kortkeros",
         "showlegend": true,
         "subplot": "mapbox",
         "type": "scattermapbox"
        },
        {
         "hovertemplate": "<b>%{hovertext}</b><br><br>City=port hedland<br>Humidity=%{marker.size}<br>Lat=%{lat}<br>Lng=%{lon}<extra></extra>",
         "hovertext": [
          "port hedland"
         ],
         "lat": [
          -20.3167
         ],
         "legendgroup": "port hedland",
         "lon": [
          118.5667
         ],
         "marker": {
          "color": "#19d3f3",
          "size": [
           73
          ],
          "sizemode": "area",
          "sizeref": 0.4444444444444444
         },
         "mode": "markers",
         "name": "port hedland",
         "showlegend": true,
         "subplot": "mapbox",
         "type": "scattermapbox"
        },
        {
         "hovertemplate": "<b>%{hovertext}</b><br><br>City=fortuna<br>Humidity=%{marker.size}<br>Lat=%{lat}<br>Lng=%{lon}<extra></extra>",
         "hovertext": [
          "fortuna"
         ],
         "lat": [
          40.5982
         ],
         "legendgroup": "fortuna",
         "lon": [
          -124.1573
         ],
         "marker": {
          "color": "#FF6692",
          "size": [
           100
          ],
          "sizemode": "area",
          "sizeref": 0.4444444444444444
         },
         "mode": "markers",
         "name": "fortuna",
         "showlegend": true,
         "subplot": "mapbox",
         "type": "scattermapbox"
        },
        {
         "hovertemplate": "<b>%{hovertext}</b><br><br>City=dicabisagan<br>Humidity=%{marker.size}<br>Lat=%{lat}<br>Lng=%{lon}<extra></extra>",
         "hovertext": [
          "dicabisagan"
         ],
         "lat": [
          17.0818
         ],
         "legendgroup": "dicabisagan",
         "lon": [
          122.4157
         ],
         "marker": {
          "color": "#B6E880",
          "size": [
           88
          ],
          "sizemode": "area",
          "sizeref": 0.4444444444444444
         },
         "mode": "markers",
         "name": "dicabisagan",
         "showlegend": true,
         "subplot": "mapbox",
         "type": "scattermapbox"
        },
        {
         "hovertemplate": "<b>%{hovertext}</b><br><br>City=smithers<br>Humidity=%{marker.size}<br>Lat=%{lat}<br>Lng=%{lon}<extra></extra>",
         "hovertext": [
          "smithers"
         ],
         "lat": [
          54.7804
         ],
         "legendgroup": "smithers",
         "lon": [
          -127.1743
         ],
         "marker": {
          "color": "#FF97FF",
          "size": [
           93
          ],
          "sizemode": "area",
          "sizeref": 0.4444444444444444
         },
         "mode": "markers",
         "name": "smithers",
         "showlegend": true,
         "subplot": "mapbox",
         "type": "scattermapbox"
        },
        {
         "hovertemplate": "<b>%{hovertext}</b><br><br>City=peleduy<br>Humidity=%{marker.size}<br>Lat=%{lat}<br>Lng=%{lon}<extra></extra>",
         "hovertext": [
          "peleduy"
         ],
         "lat": [
          59.6289
         ],
         "legendgroup": "peleduy",
         "lon": [
          112.7406
         ],
         "marker": {
          "color": "#FECB52",
          "size": [
           98
          ],
          "sizemode": "area",
          "sizeref": 0.4444444444444444
         },
         "mode": "markers",
         "name": "peleduy",
         "showlegend": true,
         "subplot": "mapbox",
         "type": "scattermapbox"
        },
        {
         "hovertemplate": "<b>%{hovertext}</b><br><br>City=yulara<br>Humidity=%{marker.size}<br>Lat=%{lat}<br>Lng=%{lon}<extra></extra>",
         "hovertext": [
          "yulara"
         ],
         "lat": [
          -25.2406
         ],
         "legendgroup": "yulara",
         "lon": [
          130.9889
         ],
         "marker": {
          "color": "#636efa",
          "size": [
           57
          ],
          "sizemode": "area",
          "sizeref": 0.4444444444444444
         },
         "mode": "markers",
         "name": "yulara",
         "showlegend": true,
         "subplot": "mapbox",
         "type": "scattermapbox"
        },
        {
         "hovertemplate": "<b>%{hovertext}</b><br><br>City=roebourne<br>Humidity=%{marker.size}<br>Lat=%{lat}<br>Lng=%{lon}<extra></extra>",
         "hovertext": [
          "roebourne"
         ],
         "lat": [
          -20.7833
         ],
         "legendgroup": "roebourne",
         "lon": [
          117.1333
         ],
         "marker": {
          "color": "#EF553B",
          "size": [
           65
          ],
          "sizemode": "area",
          "sizeref": 0.4444444444444444
         },
         "mode": "markers",
         "name": "roebourne",
         "showlegend": true,
         "subplot": "mapbox",
         "type": "scattermapbox"
        },
        {
         "hovertemplate": "<b>%{hovertext}</b><br><br>City=mariinskiy posad<br>Humidity=%{marker.size}<br>Lat=%{lat}<br>Lng=%{lon}<extra></extra>",
         "hovertext": [
          "mariinskiy posad"
         ],
         "lat": [
          56.115
         ],
         "legendgroup": "mariinskiy posad",
         "lon": [
          47.718
         ],
         "marker": {
          "color": "#00cc96",
          "size": [
           87
          ],
          "sizemode": "area",
          "sizeref": 0.4444444444444444
         },
         "mode": "markers",
         "name": "mariinskiy posad",
         "showlegend": true,
         "subplot": "mapbox",
         "type": "scattermapbox"
        },
        {
         "hovertemplate": "<b>%{hovertext}</b><br><br>City=mayumba<br>Humidity=%{marker.size}<br>Lat=%{lat}<br>Lng=%{lon}<extra></extra>",
         "hovertext": [
          "mayumba"
         ],
         "lat": [
          -3.432
         ],
         "legendgroup": "mayumba",
         "lon": [
          10.6554
         ],
         "marker": {
          "color": "#ab63fa",
          "size": [
           79
          ],
          "sizemode": "area",
          "sizeref": 0.4444444444444444
         },
         "mode": "markers",
         "name": "mayumba",
         "showlegend": true,
         "subplot": "mapbox",
         "type": "scattermapbox"
        },
        {
         "hovertemplate": "<b>%{hovertext}</b><br><br>City=adrar<br>Humidity=%{marker.size}<br>Lat=%{lat}<br>Lng=%{lon}<extra></extra>",
         "hovertext": [
          "adrar"
         ],
         "lat": [
          20.5022
         ],
         "legendgroup": "adrar",
         "lon": [
          -10.0711
         ],
         "marker": {
          "color": "#FFA15A",
          "size": [
           8
          ],
          "sizemode": "area",
          "sizeref": 0.4444444444444444
         },
         "mode": "markers",
         "name": "adrar",
         "showlegend": true,
         "subplot": "mapbox",
         "type": "scattermapbox"
        },
        {
         "hovertemplate": "<b>%{hovertext}</b><br><br>City=port blair<br>Humidity=%{marker.size}<br>Lat=%{lat}<br>Lng=%{lon}<extra></extra>",
         "hovertext": [
          "port blair"
         ],
         "lat": [
          11.6667
         ],
         "legendgroup": "port blair",
         "lon": [
          92.75
         ],
         "marker": {
          "color": "#19d3f3",
          "size": [
           89
          ],
          "sizemode": "area",
          "sizeref": 0.4444444444444444
         },
         "mode": "markers",
         "name": "port blair",
         "showlegend": true,
         "subplot": "mapbox",
         "type": "scattermapbox"
        },
        {
         "hovertemplate": "<b>%{hovertext}</b><br><br>City=komsomolskiy<br>Humidity=%{marker.size}<br>Lat=%{lat}<br>Lng=%{lon}<extra></extra>",
         "hovertext": [
          "komsomolskiy"
         ],
         "lat": [
          40.4272
         ],
         "legendgroup": "komsomolskiy",
         "lon": [
          71.7189
         ],
         "marker": {
          "color": "#FF6692",
          "size": [
           77
          ],
          "sizemode": "area",
          "sizeref": 0.4444444444444444
         },
         "mode": "markers",
         "name": "komsomolskiy",
         "showlegend": true,
         "subplot": "mapbox",
         "type": "scattermapbox"
        },
        {
         "hovertemplate": "<b>%{hovertext}</b><br><br>City=ribeira grande<br>Humidity=%{marker.size}<br>Lat=%{lat}<br>Lng=%{lon}<extra></extra>",
         "hovertext": [
          "ribeira grande"
         ],
         "lat": [
          38.5167
         ],
         "legendgroup": "ribeira grande",
         "lon": [
          -28.7
         ],
         "marker": {
          "color": "#B6E880",
          "size": [
           48
          ],
          "sizemode": "area",
          "sizeref": 0.4444444444444444
         },
         "mode": "markers",
         "name": "ribeira grande",
         "showlegend": true,
         "subplot": "mapbox",
         "type": "scattermapbox"
        },
        {
         "hovertemplate": "<b>%{hovertext}</b><br><br>City=qasigiannguit<br>Humidity=%{marker.size}<br>Lat=%{lat}<br>Lng=%{lon}<extra></extra>",
         "hovertext": [
          "qasigiannguit"
         ],
         "lat": [
          68.8193
         ],
         "legendgroup": "qasigiannguit",
         "lon": [
          -51.1922
         ],
         "marker": {
          "color": "#FF97FF",
          "size": [
           99
          ],
          "sizemode": "area",
          "sizeref": 0.4444444444444444
         },
         "mode": "markers",
         "name": "qasigiannguit",
         "showlegend": true,
         "subplot": "mapbox",
         "type": "scattermapbox"
        },
        {
         "hovertemplate": "<b>%{hovertext}</b><br><br>City=buraydah<br>Humidity=%{marker.size}<br>Lat=%{lat}<br>Lng=%{lon}<extra></extra>",
         "hovertext": [
          "buraydah"
         ],
         "lat": [
          26.326
         ],
         "legendgroup": "buraydah",
         "lon": [
          43.975
         ],
         "marker": {
          "color": "#FECB52",
          "size": [
           11
          ],
          "sizemode": "area",
          "sizeref": 0.4444444444444444
         },
         "mode": "markers",
         "name": "buraydah",
         "showlegend": true,
         "subplot": "mapbox",
         "type": "scattermapbox"
        },
        {
         "hovertemplate": "<b>%{hovertext}</b><br><br>City=port-gentil<br>Humidity=%{marker.size}<br>Lat=%{lat}<br>Lng=%{lon}<extra></extra>",
         "hovertext": [
          "port-gentil"
         ],
         "lat": [
          -0.7193
         ],
         "legendgroup": "port-gentil",
         "lon": [
          8.7815
         ],
         "marker": {
          "color": "#636efa",
          "size": [
           79
          ],
          "sizemode": "area",
          "sizeref": 0.4444444444444444
         },
         "mode": "markers",
         "name": "port-gentil",
         "showlegend": true,
         "subplot": "mapbox",
         "type": "scattermapbox"
        },
        {
         "hovertemplate": "<b>%{hovertext}</b><br><br>City=saint-francois<br>Humidity=%{marker.size}<br>Lat=%{lat}<br>Lng=%{lon}<extra></extra>",
         "hovertext": [
          "saint-francois"
         ],
         "lat": [
          46.4154
         ],
         "legendgroup": "saint-francois",
         "lon": [
          3.9054
         ],
         "marker": {
          "color": "#EF553B",
          "size": [
           57
          ],
          "sizemode": "area",
          "sizeref": 0.4444444444444444
         },
         "mode": "markers",
         "name": "saint-francois",
         "showlegend": true,
         "subplot": "mapbox",
         "type": "scattermapbox"
        },
        {
         "hovertemplate": "<b>%{hovertext}</b><br><br>City=vestmannaeyjar<br>Humidity=%{marker.size}<br>Lat=%{lat}<br>Lng=%{lon}<extra></extra>",
         "hovertext": [
          "vestmannaeyjar"
         ],
         "lat": [
          63.4427
         ],
         "legendgroup": "vestmannaeyjar",
         "lon": [
          -20.2734
         ],
         "marker": {
          "color": "#00cc96",
          "size": [
           70
          ],
          "sizemode": "area",
          "sizeref": 0.4444444444444444
         },
         "mode": "markers",
         "name": "vestmannaeyjar",
         "showlegend": true,
         "subplot": "mapbox",
         "type": "scattermapbox"
        },
        {
         "hovertemplate": "<b>%{hovertext}</b><br><br>City=bogande<br>Humidity=%{marker.size}<br>Lat=%{lat}<br>Lng=%{lon}<extra></extra>",
         "hovertext": [
          "bogande"
         ],
         "lat": [
          12.9714
         ],
         "legendgroup": "bogande",
         "lon": [
          -0.1436
         ],
         "marker": {
          "color": "#ab63fa",
          "size": [
           15
          ],
          "sizemode": "area",
          "sizeref": 0.4444444444444444
         },
         "mode": "markers",
         "name": "bogande",
         "showlegend": true,
         "subplot": "mapbox",
         "type": "scattermapbox"
        },
        {
         "hovertemplate": "<b>%{hovertext}</b><br><br>City=quesnel<br>Humidity=%{marker.size}<br>Lat=%{lat}<br>Lng=%{lon}<extra></extra>",
         "hovertext": [
          "quesnel"
         ],
         "lat": [
          52.9999
         ],
         "legendgroup": "quesnel",
         "lon": [
          -122.5029
         ],
         "marker": {
          "color": "#FFA15A",
          "size": [
           93
          ],
          "sizemode": "area",
          "sizeref": 0.4444444444444444
         },
         "mode": "markers",
         "name": "quesnel",
         "showlegend": true,
         "subplot": "mapbox",
         "type": "scattermapbox"
        },
        {
         "hovertemplate": "<b>%{hovertext}</b><br><br>City=usman<br>Humidity=%{marker.size}<br>Lat=%{lat}<br>Lng=%{lon}<extra></extra>",
         "hovertext": [
          "usman"
         ],
         "lat": [
          52.0466
         ],
         "legendgroup": "usman",
         "lon": [
          39.7288
         ],
         "marker": {
          "color": "#19d3f3",
          "size": [
           63
          ],
          "sizemode": "area",
          "sizeref": 0.4444444444444444
         },
         "mode": "markers",
         "name": "usman",
         "showlegend": true,
         "subplot": "mapbox",
         "type": "scattermapbox"
        },
        {
         "hovertemplate": "<b>%{hovertext}</b><br><br>City=aykhal<br>Humidity=%{marker.size}<br>Lat=%{lat}<br>Lng=%{lon}<extra></extra>",
         "hovertext": [
          "aykhal"
         ],
         "lat": [
          66
         ],
         "legendgroup": "aykhal",
         "lon": [
          111.5
         ],
         "marker": {
          "color": "#FF6692",
          "size": [
           97
          ],
          "sizemode": "area",
          "sizeref": 0.4444444444444444
         },
         "mode": "markers",
         "name": "aykhal",
         "showlegend": true,
         "subplot": "mapbox",
         "type": "scattermapbox"
        },
        {
         "hovertemplate": "<b>%{hovertext}</b><br><br>City=carlyle<br>Humidity=%{marker.size}<br>Lat=%{lat}<br>Lng=%{lon}<extra></extra>",
         "hovertext": [
          "carlyle"
         ],
         "lat": [
          38.6103
         ],
         "legendgroup": "carlyle",
         "lon": [
          -89.3726
         ],
         "marker": {
          "color": "#B6E880",
          "size": [
           62
          ],
          "sizemode": "area",
          "sizeref": 0.4444444444444444
         },
         "mode": "markers",
         "name": "carlyle",
         "showlegend": true,
         "subplot": "mapbox",
         "type": "scattermapbox"
        },
        {
         "hovertemplate": "<b>%{hovertext}</b><br><br>City=kayerkan<br>Humidity=%{marker.size}<br>Lat=%{lat}<br>Lng=%{lon}<extra></extra>",
         "hovertext": [
          "kayerkan"
         ],
         "lat": [
          69.3497
         ],
         "legendgroup": "kayerkan",
         "lon": [
          87.7602
         ],
         "marker": {
          "color": "#FF97FF",
          "size": [
           100
          ],
          "sizemode": "area",
          "sizeref": 0.4444444444444444
         },
         "mode": "markers",
         "name": "kayerkan",
         "showlegend": true,
         "subplot": "mapbox",
         "type": "scattermapbox"
        },
        {
         "hovertemplate": "<b>%{hovertext}</b><br><br>City=moron<br>Humidity=%{marker.size}<br>Lat=%{lat}<br>Lng=%{lon}<extra></extra>",
         "hovertext": [
          "moron"
         ],
         "lat": [
          -34.6534
         ],
         "legendgroup": "moron",
         "lon": [
          -58.6198
         ],
         "marker": {
          "color": "#FECB52",
          "size": [
           71
          ],
          "sizemode": "area",
          "sizeref": 0.4444444444444444
         },
         "mode": "markers",
         "name": "moron",
         "showlegend": true,
         "subplot": "mapbox",
         "type": "scattermapbox"
        },
        {
         "hovertemplate": "<b>%{hovertext}</b><br><br>City=paamiut<br>Humidity=%{marker.size}<br>Lat=%{lat}<br>Lng=%{lon}<extra></extra>",
         "hovertext": [
          "paamiut"
         ],
         "lat": [
          61.994
         ],
         "legendgroup": "paamiut",
         "lon": [
          -49.6678
         ],
         "marker": {
          "color": "#636efa",
          "size": [
           80
          ],
          "sizemode": "area",
          "sizeref": 0.4444444444444444
         },
         "mode": "markers",
         "name": "paamiut",
         "showlegend": true,
         "subplot": "mapbox",
         "type": "scattermapbox"
        },
        {
         "hovertemplate": "<b>%{hovertext}</b><br><br>City=hamilton<br>Humidity=%{marker.size}<br>Lat=%{lat}<br>Lng=%{lon}<extra></extra>",
         "hovertext": [
          "hamilton"
         ],
         "lat": [
          39.1834
         ],
         "legendgroup": "hamilton",
         "lon": [
          -84.5333
         ],
         "marker": {
          "color": "#EF553B",
          "size": [
           72
          ],
          "sizemode": "area",
          "sizeref": 0.4444444444444444
         },
         "mode": "markers",
         "name": "hamilton",
         "showlegend": true,
         "subplot": "mapbox",
         "type": "scattermapbox"
        },
        {
         "hovertemplate": "<b>%{hovertext}</b><br><br>City=seoul<br>Humidity=%{marker.size}<br>Lat=%{lat}<br>Lng=%{lon}<extra></extra>",
         "hovertext": [
          "seoul"
         ],
         "lat": [
          37.5683
         ],
         "legendgroup": "seoul",
         "lon": [
          126.9778
         ],
         "marker": {
          "color": "#00cc96",
          "size": [
           70
          ],
          "sizemode": "area",
          "sizeref": 0.4444444444444444
         },
         "mode": "markers",
         "name": "seoul",
         "showlegend": true,
         "subplot": "mapbox",
         "type": "scattermapbox"
        },
        {
         "hovertemplate": "<b>%{hovertext}</b><br><br>City=woodward<br>Humidity=%{marker.size}<br>Lat=%{lat}<br>Lng=%{lon}<extra></extra>",
         "hovertext": [
          "woodward"
         ],
         "lat": [
          36.4337
         ],
         "legendgroup": "woodward",
         "lon": [
          -99.3904
         ],
         "marker": {
          "color": "#ab63fa",
          "size": [
           42
          ],
          "sizemode": "area",
          "sizeref": 0.4444444444444444
         },
         "mode": "markers",
         "name": "woodward",
         "showlegend": true,
         "subplot": "mapbox",
         "type": "scattermapbox"
        },
        {
         "hovertemplate": "<b>%{hovertext}</b><br><br>City=georgiyevskoye<br>Humidity=%{marker.size}<br>Lat=%{lat}<br>Lng=%{lon}<extra></extra>",
         "hovertext": [
          "georgiyevskoye"
         ],
         "lat": [
          58.731
         ],
         "legendgroup": "georgiyevskoye",
         "lon": [
          45.024
         ],
         "marker": {
          "color": "#FFA15A",
          "size": [
           93
          ],
          "sizemode": "area",
          "sizeref": 0.4444444444444444
         },
         "mode": "markers",
         "name": "georgiyevskoye",
         "showlegend": true,
         "subplot": "mapbox",
         "type": "scattermapbox"
        },
        {
         "hovertemplate": "<b>%{hovertext}</b><br><br>City=mayo<br>Humidity=%{marker.size}<br>Lat=%{lat}<br>Lng=%{lon}<extra></extra>",
         "hovertext": [
          "mayo"
         ],
         "lat": [
          38.8876
         ],
         "legendgroup": "mayo",
         "lon": [
          -76.5119
         ],
         "marker": {
          "color": "#19d3f3",
          "size": [
           53
          ],
          "sizemode": "area",
          "sizeref": 0.4444444444444444
         },
         "mode": "markers",
         "name": "mayo",
         "showlegend": true,
         "subplot": "mapbox",
         "type": "scattermapbox"
        },
        {
         "hovertemplate": "<b>%{hovertext}</b><br><br>City=kysyl-syr<br>Humidity=%{marker.size}<br>Lat=%{lat}<br>Lng=%{lon}<extra></extra>",
         "hovertext": [
          "kysyl-syr"
         ],
         "lat": [
          63.8986
         ],
         "legendgroup": "kysyl-syr",
         "lon": [
          122.7617
         ],
         "marker": {
          "color": "#FF6692",
          "size": [
           99
          ],
          "sizemode": "area",
          "sizeref": 0.4444444444444444
         },
         "mode": "markers",
         "name": "kysyl-syr",
         "showlegend": true,
         "subplot": "mapbox",
         "type": "scattermapbox"
        },
        {
         "hovertemplate": "<b>%{hovertext}</b><br><br>City=tashara<br>Humidity=%{marker.size}<br>Lat=%{lat}<br>Lng=%{lon}<extra></extra>",
         "hovertext": [
          "tashara"
         ],
         "lat": [
          55.5195
         ],
         "legendgroup": "tashara",
         "lon": [
          83.5094
         ],
         "marker": {
          "color": "#B6E880",
          "size": [
           95
          ],
          "sizemode": "area",
          "sizeref": 0.4444444444444444
         },
         "mode": "markers",
         "name": "tashara",
         "showlegend": true,
         "subplot": "mapbox",
         "type": "scattermapbox"
        },
        {
         "hovertemplate": "<b>%{hovertext}</b><br><br>City=acajutla<br>Humidity=%{marker.size}<br>Lat=%{lat}<br>Lng=%{lon}<extra></extra>",
         "hovertext": [
          "acajutla"
         ],
         "lat": [
          13.5928
         ],
         "legendgroup": "acajutla",
         "lon": [
          -89.8275
         ],
         "marker": {
          "color": "#FF97FF",
          "size": [
           71
          ],
          "sizemode": "area",
          "sizeref": 0.4444444444444444
         },
         "mode": "markers",
         "name": "acajutla",
         "showlegend": true,
         "subplot": "mapbox",
         "type": "scattermapbox"
        },
        {
         "hovertemplate": "<b>%{hovertext}</b><br><br>City=capoterra<br>Humidity=%{marker.size}<br>Lat=%{lat}<br>Lng=%{lon}<extra></extra>",
         "hovertext": [
          "capoterra"
         ],
         "lat": [
          39.1763
         ],
         "legendgroup": "capoterra",
         "lon": [
          8.9718
         ],
         "marker": {
          "color": "#FECB52",
          "size": [
           71
          ],
          "sizemode": "area",
          "sizeref": 0.4444444444444444
         },
         "mode": "markers",
         "name": "capoterra",
         "showlegend": true,
         "subplot": "mapbox",
         "type": "scattermapbox"
        },
        {
         "hovertemplate": "<b>%{hovertext}</b><br><br>City=muisne<br>Humidity=%{marker.size}<br>Lat=%{lat}<br>Lng=%{lon}<extra></extra>",
         "hovertext": [
          "muisne"
         ],
         "lat": [
          0.6
         ],
         "legendgroup": "muisne",
         "lon": [
          -80.0333
         ],
         "marker": {
          "color": "#636efa",
          "size": [
           81
          ],
          "sizemode": "area",
          "sizeref": 0.4444444444444444
         },
         "mode": "markers",
         "name": "muisne",
         "showlegend": true,
         "subplot": "mapbox",
         "type": "scattermapbox"
        },
        {
         "hovertemplate": "<b>%{hovertext}</b><br><br>City=praia da vitoria<br>Humidity=%{marker.size}<br>Lat=%{lat}<br>Lng=%{lon}<extra></extra>",
         "hovertext": [
          "praia da vitoria"
         ],
         "lat": [
          38.7333
         ],
         "legendgroup": "praia da vitoria",
         "lon": [
          -27.0667
         ],
         "marker": {
          "color": "#EF553B",
          "size": [
           77
          ],
          "sizemode": "area",
          "sizeref": 0.4444444444444444
         },
         "mode": "markers",
         "name": "praia da vitoria",
         "showlegend": true,
         "subplot": "mapbox",
         "type": "scattermapbox"
        },
        {
         "hovertemplate": "<b>%{hovertext}</b><br><br>City=maniitsoq<br>Humidity=%{marker.size}<br>Lat=%{lat}<br>Lng=%{lon}<extra></extra>",
         "hovertext": [
          "maniitsoq"
         ],
         "lat": [
          65.4167
         ],
         "legendgroup": "maniitsoq",
         "lon": [
          -52.9
         ],
         "marker": {
          "color": "#00cc96",
          "size": [
           97
          ],
          "sizemode": "area",
          "sizeref": 0.4444444444444444
         },
         "mode": "markers",
         "name": "maniitsoq",
         "showlegend": true,
         "subplot": "mapbox",
         "type": "scattermapbox"
        },
        {
         "hovertemplate": "<b>%{hovertext}</b><br><br>City=kalemie<br>Humidity=%{marker.size}<br>Lat=%{lat}<br>Lng=%{lon}<extra></extra>",
         "hovertext": [
          "kalemie"
         ],
         "lat": [
          -5.9475
         ],
         "legendgroup": "kalemie",
         "lon": [
          29.1947
         ],
         "marker": {
          "color": "#ab63fa",
          "size": [
           60
          ],
          "sizemode": "area",
          "sizeref": 0.4444444444444444
         },
         "mode": "markers",
         "name": "kalemie",
         "showlegend": true,
         "subplot": "mapbox",
         "type": "scattermapbox"
        },
        {
         "hovertemplate": "<b>%{hovertext}</b><br><br>City=tagusao<br>Humidity=%{marker.size}<br>Lat=%{lat}<br>Lng=%{lon}<extra></extra>",
         "hovertext": [
          "tagusao"
         ],
         "lat": [
          9.1924
         ],
         "legendgroup": "tagusao",
         "lon": [
          117.8141
         ],
         "marker": {
          "color": "#FFA15A",
          "size": [
           82
          ],
          "sizemode": "area",
          "sizeref": 0.4444444444444444
         },
         "mode": "markers",
         "name": "tagusao",
         "showlegend": true,
         "subplot": "mapbox",
         "type": "scattermapbox"
        },
        {
         "hovertemplate": "<b>%{hovertext}</b><br><br>City=mao<br>Humidity=%{marker.size}<br>Lat=%{lat}<br>Lng=%{lon}<extra></extra>",
         "hovertext": [
          "mao"
         ],
         "lat": [
          39.8885
         ],
         "legendgroup": "mao",
         "lon": [
          4.2658
         ],
         "marker": {
          "color": "#19d3f3",
          "size": [
           78
          ],
          "sizemode": "area",
          "sizeref": 0.4444444444444444
         },
         "mode": "markers",
         "name": "mao",
         "showlegend": true,
         "subplot": "mapbox",
         "type": "scattermapbox"
        },
        {
         "hovertemplate": "<b>%{hovertext}</b><br><br>City=mahibadhoo<br>Humidity=%{marker.size}<br>Lat=%{lat}<br>Lng=%{lon}<extra></extra>",
         "hovertext": [
          "mahibadhoo"
         ],
         "lat": [
          3.7833
         ],
         "legendgroup": "mahibadhoo",
         "lon": [
          72.9667
         ],
         "marker": {
          "color": "#FF6692",
          "size": [
           73
          ],
          "sizemode": "area",
          "sizeref": 0.4444444444444444
         },
         "mode": "markers",
         "name": "mahibadhoo",
         "showlegend": true,
         "subplot": "mapbox",
         "type": "scattermapbox"
        },
        {
         "hovertemplate": "<b>%{hovertext}</b><br><br>City=cabo san lucas<br>Humidity=%{marker.size}<br>Lat=%{lat}<br>Lng=%{lon}<extra></extra>",
         "hovertext": [
          "cabo san lucas"
         ],
         "lat": [
          22.8909
         ],
         "legendgroup": "cabo san lucas",
         "lon": [
          -109.9124
         ],
         "marker": {
          "color": "#B6E880",
          "size": [
           69
          ],
          "sizemode": "area",
          "sizeref": 0.4444444444444444
         },
         "mode": "markers",
         "name": "cabo san lucas",
         "showlegend": true,
         "subplot": "mapbox",
         "type": "scattermapbox"
        },
        {
         "hovertemplate": "<b>%{hovertext}</b><br><br>City=panuco<br>Humidity=%{marker.size}<br>Lat=%{lat}<br>Lng=%{lon}<extra></extra>",
         "hovertext": [
          "panuco"
         ],
         "lat": [
          22.05
         ],
         "legendgroup": "panuco",
         "lon": [
          -98.1667
         ],
         "marker": {
          "color": "#FF97FF",
          "size": [
           88
          ],
          "sizemode": "area",
          "sizeref": 0.4444444444444444
         },
         "mode": "markers",
         "name": "panuco",
         "showlegend": true,
         "subplot": "mapbox",
         "type": "scattermapbox"
        },
        {
         "hovertemplate": "<b>%{hovertext}</b><br><br>City=hervey bay<br>Humidity=%{marker.size}<br>Lat=%{lat}<br>Lng=%{lon}<extra></extra>",
         "hovertext": [
          "hervey bay"
         ],
         "lat": [
          -25.2986
         ],
         "legendgroup": "hervey bay",
         "lon": [
          152.8535
         ],
         "marker": {
          "color": "#FECB52",
          "size": [
           81
          ],
          "sizemode": "area",
          "sizeref": 0.4444444444444444
         },
         "mode": "markers",
         "name": "hervey bay",
         "showlegend": true,
         "subplot": "mapbox",
         "type": "scattermapbox"
        },
        {
         "hovertemplate": "<b>%{hovertext}</b><br><br>City=fayaoue<br>Humidity=%{marker.size}<br>Lat=%{lat}<br>Lng=%{lon}<extra></extra>",
         "hovertext": [
          "fayaoue"
         ],
         "lat": [
          -20.65
         ],
         "legendgroup": "fayaoue",
         "lon": [
          166.5333
         ],
         "marker": {
          "color": "#636efa",
          "size": [
           78
          ],
          "sizemode": "area",
          "sizeref": 0.4444444444444444
         },
         "mode": "markers",
         "name": "fayaoue",
         "showlegend": true,
         "subplot": "mapbox",
         "type": "scattermapbox"
        },
        {
         "hovertemplate": "<b>%{hovertext}</b><br><br>City=stolac<br>Humidity=%{marker.size}<br>Lat=%{lat}<br>Lng=%{lon}<extra></extra>",
         "hovertext": [
          "stolac"
         ],
         "lat": [
          43.0844
         ],
         "legendgroup": "stolac",
         "lon": [
          17.9575
         ],
         "marker": {
          "color": "#EF553B",
          "size": [
           68
          ],
          "sizemode": "area",
          "sizeref": 0.4444444444444444
         },
         "mode": "markers",
         "name": "stolac",
         "showlegend": true,
         "subplot": "mapbox",
         "type": "scattermapbox"
        },
        {
         "hovertemplate": "<b>%{hovertext}</b><br><br>City=gamboma<br>Humidity=%{marker.size}<br>Lat=%{lat}<br>Lng=%{lon}<extra></extra>",
         "hovertext": [
          "gamboma"
         ],
         "lat": [
          -1.8764
         ],
         "legendgroup": "gamboma",
         "lon": [
          15.8644
         ],
         "marker": {
          "color": "#00cc96",
          "size": [
           68
          ],
          "sizemode": "area",
          "sizeref": 0.4444444444444444
         },
         "mode": "markers",
         "name": "gamboma",
         "showlegend": true,
         "subplot": "mapbox",
         "type": "scattermapbox"
        },
        {
         "hovertemplate": "<b>%{hovertext}</b><br><br>City=rundu<br>Humidity=%{marker.size}<br>Lat=%{lat}<br>Lng=%{lon}<extra></extra>",
         "hovertext": [
          "rundu"
         ],
         "lat": [
          -17.9333
         ],
         "legendgroup": "rundu",
         "lon": [
          19.7667
         ],
         "marker": {
          "color": "#ab63fa",
          "size": [
           27
          ],
          "sizemode": "area",
          "sizeref": 0.4444444444444444
         },
         "mode": "markers",
         "name": "rundu",
         "showlegend": true,
         "subplot": "mapbox",
         "type": "scattermapbox"
        },
        {
         "hovertemplate": "<b>%{hovertext}</b><br><br>City=carutapera<br>Humidity=%{marker.size}<br>Lat=%{lat}<br>Lng=%{lon}<extra></extra>",
         "hovertext": [
          "carutapera"
         ],
         "lat": [
          -1.195
         ],
         "legendgroup": "carutapera",
         "lon": [
          -46.02
         ],
         "marker": {
          "color": "#FFA15A",
          "size": [
           60
          ],
          "sizemode": "area",
          "sizeref": 0.4444444444444444
         },
         "mode": "markers",
         "name": "carutapera",
         "showlegend": true,
         "subplot": "mapbox",
         "type": "scattermapbox"
        },
        {
         "hovertemplate": "<b>%{hovertext}</b><br><br>City=port-de-bouc<br>Humidity=%{marker.size}<br>Lat=%{lat}<br>Lng=%{lon}<extra></extra>",
         "hovertext": [
          "port-de-bouc"
         ],
         "lat": [
          43.4
         ],
         "legendgroup": "port-de-bouc",
         "lon": [
          4.9833
         ],
         "marker": {
          "color": "#19d3f3",
          "size": [
           65
          ],
          "sizemode": "area",
          "sizeref": 0.4444444444444444
         },
         "mode": "markers",
         "name": "port-de-bouc",
         "showlegend": true,
         "subplot": "mapbox",
         "type": "scattermapbox"
        },
        {
         "hovertemplate": "<b>%{hovertext}</b><br><br>City=nanortalik<br>Humidity=%{marker.size}<br>Lat=%{lat}<br>Lng=%{lon}<extra></extra>",
         "hovertext": [
          "nanortalik"
         ],
         "lat": [
          60.1432
         ],
         "legendgroup": "nanortalik",
         "lon": [
          -45.2371
         ],
         "marker": {
          "color": "#FF6692",
          "size": [
           89
          ],
          "sizemode": "area",
          "sizeref": 0.4444444444444444
         },
         "mode": "markers",
         "name": "nanortalik",
         "showlegend": true,
         "subplot": "mapbox",
         "type": "scattermapbox"
        },
        {
         "hovertemplate": "<b>%{hovertext}</b><br><br>City=dzaoudzi<br>Humidity=%{marker.size}<br>Lat=%{lat}<br>Lng=%{lon}<extra></extra>",
         "hovertext": [
          "dzaoudzi"
         ],
         "lat": [
          -12.7887
         ],
         "legendgroup": "dzaoudzi",
         "lon": [
          45.2699
         ],
         "marker": {
          "color": "#B6E880",
          "size": [
           73
          ],
          "sizemode": "area",
          "sizeref": 0.4444444444444444
         },
         "mode": "markers",
         "name": "dzaoudzi",
         "showlegend": true,
         "subplot": "mapbox",
         "type": "scattermapbox"
        },
        {
         "hovertemplate": "<b>%{hovertext}</b><br><br>City=aktau<br>Humidity=%{marker.size}<br>Lat=%{lat}<br>Lng=%{lon}<extra></extra>",
         "hovertext": [
          "aktau"
         ],
         "lat": [
          43.65
         ],
         "legendgroup": "aktau",
         "lon": [
          51.2
         ],
         "marker": {
          "color": "#FF97FF",
          "size": [
           46
          ],
          "sizemode": "area",
          "sizeref": 0.4444444444444444
         },
         "mode": "markers",
         "name": "aktau",
         "showlegend": true,
         "subplot": "mapbox",
         "type": "scattermapbox"
        },
        {
         "hovertemplate": "<b>%{hovertext}</b><br><br>City=lorengau<br>Humidity=%{marker.size}<br>Lat=%{lat}<br>Lng=%{lon}<extra></extra>",
         "hovertext": [
          "lorengau"
         ],
         "lat": [
          -2.0226
         ],
         "legendgroup": "lorengau",
         "lon": [
          147.2712
         ],
         "marker": {
          "color": "#FECB52",
          "size": [
           74
          ],
          "sizemode": "area",
          "sizeref": 0.4444444444444444
         },
         "mode": "markers",
         "name": "lorengau",
         "showlegend": true,
         "subplot": "mapbox",
         "type": "scattermapbox"
        },
        {
         "hovertemplate": "<b>%{hovertext}</b><br><br>City=pachino<br>Humidity=%{marker.size}<br>Lat=%{lat}<br>Lng=%{lon}<extra></extra>",
         "hovertext": [
          "pachino"
         ],
         "lat": [
          36.7186
         ],
         "legendgroup": "pachino",
         "lon": [
          15.0907
         ],
         "marker": {
          "color": "#636efa",
          "size": [
           67
          ],
          "sizemode": "area",
          "sizeref": 0.4444444444444444
         },
         "mode": "markers",
         "name": "pachino",
         "showlegend": true,
         "subplot": "mapbox",
         "type": "scattermapbox"
        },
        {
         "hovertemplate": "<b>%{hovertext}</b><br><br>City=cabedelo<br>Humidity=%{marker.size}<br>Lat=%{lat}<br>Lng=%{lon}<extra></extra>",
         "hovertext": [
          "cabedelo"
         ],
         "lat": [
          -6.9811
         ],
         "legendgroup": "cabedelo",
         "lon": [
          -34.8339
         ],
         "marker": {
          "color": "#EF553B",
          "size": [
           68
          ],
          "sizemode": "area",
          "sizeref": 0.4444444444444444
         },
         "mode": "markers",
         "name": "cabedelo",
         "showlegend": true,
         "subplot": "mapbox",
         "type": "scattermapbox"
        },
        {
         "hovertemplate": "<b>%{hovertext}</b><br><br>City=denpasar<br>Humidity=%{marker.size}<br>Lat=%{lat}<br>Lng=%{lon}<extra></extra>",
         "hovertext": [
          "denpasar"
         ],
         "lat": [
          -8.65
         ],
         "legendgroup": "denpasar",
         "lon": [
          115.2167
         ],
         "marker": {
          "color": "#00cc96",
          "size": [
           100
          ],
          "sizemode": "area",
          "sizeref": 0.4444444444444444
         },
         "mode": "markers",
         "name": "denpasar",
         "showlegend": true,
         "subplot": "mapbox",
         "type": "scattermapbox"
        },
        {
         "hovertemplate": "<b>%{hovertext}</b><br><br>City=ipixuna<br>Humidity=%{marker.size}<br>Lat=%{lat}<br>Lng=%{lon}<extra></extra>",
         "hovertext": [
          "ipixuna"
         ],
         "lat": [
          -1.7625
         ],
         "legendgroup": "ipixuna",
         "lon": [
          -48.8043
         ],
         "marker": {
          "color": "#ab63fa",
          "size": [
           46
          ],
          "sizemode": "area",
          "sizeref": 0.4444444444444444
         },
         "mode": "markers",
         "name": "ipixuna",
         "showlegend": true,
         "subplot": "mapbox",
         "type": "scattermapbox"
        },
        {
         "hovertemplate": "<b>%{hovertext}</b><br><br>City=broome<br>Humidity=%{marker.size}<br>Lat=%{lat}<br>Lng=%{lon}<extra></extra>",
         "hovertext": [
          "broome"
         ],
         "lat": [
          42.2506
         ],
         "legendgroup": "broome",
         "lon": [
          -75.833
         ],
         "marker": {
          "color": "#FFA15A",
          "size": [
           67
          ],
          "sizemode": "area",
          "sizeref": 0.4444444444444444
         },
         "mode": "markers",
         "name": "broome",
         "showlegend": true,
         "subplot": "mapbox",
         "type": "scattermapbox"
        },
        {
         "hovertemplate": "<b>%{hovertext}</b><br><br>City=tilichiki<br>Humidity=%{marker.size}<br>Lat=%{lat}<br>Lng=%{lon}<extra></extra>",
         "hovertext": [
          "tilichiki"
         ],
         "lat": [
          60.4667
         ],
         "legendgroup": "tilichiki",
         "lon": [
          166.1
         ],
         "marker": {
          "color": "#19d3f3",
          "size": [
           84
          ],
          "sizemode": "area",
          "sizeref": 0.4444444444444444
         },
         "mode": "markers",
         "name": "tilichiki",
         "showlegend": true,
         "subplot": "mapbox",
         "type": "scattermapbox"
        },
        {
         "hovertemplate": "<b>%{hovertext}</b><br><br>City=lakki marwat<br>Humidity=%{marker.size}<br>Lat=%{lat}<br>Lng=%{lon}<extra></extra>",
         "hovertext": [
          "lakki marwat"
         ],
         "lat": [
          32.6079
         ],
         "legendgroup": "lakki marwat",
         "lon": [
          70.9114
         ],
         "marker": {
          "color": "#FF6692",
          "size": [
           20
          ],
          "sizemode": "area",
          "sizeref": 0.4444444444444444
         },
         "mode": "markers",
         "name": "lakki marwat",
         "showlegend": true,
         "subplot": "mapbox",
         "type": "scattermapbox"
        },
        {
         "hovertemplate": "<b>%{hovertext}</b><br><br>City=veinticinco de mayo<br>Humidity=%{marker.size}<br>Lat=%{lat}<br>Lng=%{lon}<extra></extra>",
         "hovertext": [
          "veinticinco de mayo"
         ],
         "lat": [
          -35.4323
         ],
         "legendgroup": "veinticinco de mayo",
         "lon": [
          -60.1727
         ],
         "marker": {
          "color": "#B6E880",
          "size": [
           87
          ],
          "sizemode": "area",
          "sizeref": 0.4444444444444444
         },
         "mode": "markers",
         "name": "veinticinco de mayo",
         "showlegend": true,
         "subplot": "mapbox",
         "type": "scattermapbox"
        },
        {
         "hovertemplate": "<b>%{hovertext}</b><br><br>City=avdon<br>Humidity=%{marker.size}<br>Lat=%{lat}<br>Lng=%{lon}<extra></extra>",
         "hovertext": [
          "avdon"
         ],
         "lat": [
          54.6667
         ],
         "legendgroup": "avdon",
         "lon": [
          55.7167
         ],
         "marker": {
          "color": "#FF97FF",
          "size": [
           86
          ],
          "sizemode": "area",
          "sizeref": 0.4444444444444444
         },
         "mode": "markers",
         "name": "avdon",
         "showlegend": true,
         "subplot": "mapbox",
         "type": "scattermapbox"
        },
        {
         "hovertemplate": "<b>%{hovertext}</b><br><br>City=katobu<br>Humidity=%{marker.size}<br>Lat=%{lat}<br>Lng=%{lon}<extra></extra>",
         "hovertext": [
          "katobu"
         ],
         "lat": [
          -4.9408
         ],
         "legendgroup": "katobu",
         "lon": [
          122.5276
         ],
         "marker": {
          "color": "#FECB52",
          "size": [
           94
          ],
          "sizemode": "area",
          "sizeref": 0.4444444444444444
         },
         "mode": "markers",
         "name": "katobu",
         "showlegend": true,
         "subplot": "mapbox",
         "type": "scattermapbox"
        },
        {
         "hovertemplate": "<b>%{hovertext}</b><br><br>City=merauke<br>Humidity=%{marker.size}<br>Lat=%{lat}<br>Lng=%{lon}<extra></extra>",
         "hovertext": [
          "merauke"
         ],
         "lat": [
          -8.4667
         ],
         "legendgroup": "merauke",
         "lon": [
          140.3333
         ],
         "marker": {
          "color": "#636efa",
          "size": [
           89
          ],
          "sizemode": "area",
          "sizeref": 0.4444444444444444
         },
         "mode": "markers",
         "name": "merauke",
         "showlegend": true,
         "subplot": "mapbox",
         "type": "scattermapbox"
        },
        {
         "hovertemplate": "<b>%{hovertext}</b><br><br>City=yangliuqing<br>Humidity=%{marker.size}<br>Lat=%{lat}<br>Lng=%{lon}<extra></extra>",
         "hovertext": [
          "yangliuqing"
         ],
         "lat": [
          39.1375
         ],
         "legendgroup": "yangliuqing",
         "lon": [
          116.9997
         ],
         "marker": {
          "color": "#EF553B",
          "size": [
           31
          ],
          "sizemode": "area",
          "sizeref": 0.4444444444444444
         },
         "mode": "markers",
         "name": "yangliuqing",
         "showlegend": true,
         "subplot": "mapbox",
         "type": "scattermapbox"
        },
        {
         "hovertemplate": "<b>%{hovertext}</b><br><br>City=tieling<br>Humidity=%{marker.size}<br>Lat=%{lat}<br>Lng=%{lon}<extra></extra>",
         "hovertext": [
          "tieling"
         ],
         "lat": [
          42.2931
         ],
         "legendgroup": "tieling",
         "lon": [
          123.8414
         ],
         "marker": {
          "color": "#00cc96",
          "size": [
           50
          ],
          "sizemode": "area",
          "sizeref": 0.4444444444444444
         },
         "mode": "markers",
         "name": "tieling",
         "showlegend": true,
         "subplot": "mapbox",
         "type": "scattermapbox"
        },
        {
         "hovertemplate": "<b>%{hovertext}</b><br><br>City=togur<br>Humidity=%{marker.size}<br>Lat=%{lat}<br>Lng=%{lon}<extra></extra>",
         "hovertext": [
          "togur"
         ],
         "lat": [
          58.3631
         ],
         "legendgroup": "togur",
         "lon": [
          82.8265
         ],
         "marker": {
          "color": "#ab63fa",
          "size": [
           95
          ],
          "sizemode": "area",
          "sizeref": 0.4444444444444444
         },
         "mode": "markers",
         "name": "togur",
         "showlegend": true,
         "subplot": "mapbox",
         "type": "scattermapbox"
        },
        {
         "hovertemplate": "<b>%{hovertext}</b><br><br>City=thinadhoo<br>Humidity=%{marker.size}<br>Lat=%{lat}<br>Lng=%{lon}<extra></extra>",
         "hovertext": [
          "thinadhoo"
         ],
         "lat": [
          0.5333
         ],
         "legendgroup": "thinadhoo",
         "lon": [
          72.9333
         ],
         "marker": {
          "color": "#FFA15A",
          "size": [
           76
          ],
          "sizemode": "area",
          "sizeref": 0.4444444444444444
         },
         "mode": "markers",
         "name": "thinadhoo",
         "showlegend": true,
         "subplot": "mapbox",
         "type": "scattermapbox"
        },
        {
         "hovertemplate": "<b>%{hovertext}</b><br><br>City=terra santa<br>Humidity=%{marker.size}<br>Lat=%{lat}<br>Lng=%{lon}<extra></extra>",
         "hovertext": [
          "terra santa"
         ],
         "lat": [
          -2.1042
         ],
         "legendgroup": "terra santa",
         "lon": [
          -56.4869
         ],
         "marker": {
          "color": "#19d3f3",
          "size": [
           67
          ],
          "sizemode": "area",
          "sizeref": 0.4444444444444444
         },
         "mode": "markers",
         "name": "terra santa",
         "showlegend": true,
         "subplot": "mapbox",
         "type": "scattermapbox"
        },
        {
         "hovertemplate": "<b>%{hovertext}</b><br><br>City=colares<br>Humidity=%{marker.size}<br>Lat=%{lat}<br>Lng=%{lon}<extra></extra>",
         "hovertext": [
          "colares"
         ],
         "lat": [
          38.7992
         ],
         "legendgroup": "colares",
         "lon": [
          -9.4469
         ],
         "marker": {
          "color": "#FF6692",
          "size": [
           84
          ],
          "sizemode": "area",
          "sizeref": 0.4444444444444444
         },
         "mode": "markers",
         "name": "colares",
         "showlegend": true,
         "subplot": "mapbox",
         "type": "scattermapbox"
        },
        {
         "hovertemplate": "<b>%{hovertext}</b><br><br>City=havoysund<br>Humidity=%{marker.size}<br>Lat=%{lat}<br>Lng=%{lon}<extra></extra>",
         "hovertext": [
          "havoysund"
         ],
         "lat": [
          70.9963
         ],
         "legendgroup": "havoysund",
         "lon": [
          24.6622
         ],
         "marker": {
          "color": "#B6E880",
          "size": [
           68
          ],
          "sizemode": "area",
          "sizeref": 0.4444444444444444
         },
         "mode": "markers",
         "name": "havoysund",
         "showlegend": true,
         "subplot": "mapbox",
         "type": "scattermapbox"
        },
        {
         "hovertemplate": "<b>%{hovertext}</b><br><br>City=ostrovnoy<br>Humidity=%{marker.size}<br>Lat=%{lat}<br>Lng=%{lon}<extra></extra>",
         "hovertext": [
          "ostrovnoy"
         ],
         "lat": [
          68.0531
         ],
         "legendgroup": "ostrovnoy",
         "lon": [
          39.5131
         ],
         "marker": {
          "color": "#FF97FF",
          "size": [
           87
          ],
          "sizemode": "area",
          "sizeref": 0.4444444444444444
         },
         "mode": "markers",
         "name": "ostrovnoy",
         "showlegend": true,
         "subplot": "mapbox",
         "type": "scattermapbox"
        },
        {
         "hovertemplate": "<b>%{hovertext}</b><br><br>City=alofi<br>Humidity=%{marker.size}<br>Lat=%{lat}<br>Lng=%{lon}<extra></extra>",
         "hovertext": [
          "alofi"
         ],
         "lat": [
          -19.0595
         ],
         "legendgroup": "alofi",
         "lon": [
          -169.9187
         ],
         "marker": {
          "color": "#FECB52",
          "size": [
           94
          ],
          "sizemode": "area",
          "sizeref": 0.4444444444444444
         },
         "mode": "markers",
         "name": "alofi",
         "showlegend": true,
         "subplot": "mapbox",
         "type": "scattermapbox"
        },
        {
         "hovertemplate": "<b>%{hovertext}</b><br><br>City=samandag<br>Humidity=%{marker.size}<br>Lat=%{lat}<br>Lng=%{lon}<extra></extra>",
         "hovertext": [
          "samandag"
         ],
         "lat": [
          36.0842
         ],
         "legendgroup": "samandag",
         "lon": [
          35.9771
         ],
         "marker": {
          "color": "#636efa",
          "size": [
           80
          ],
          "sizemode": "area",
          "sizeref": 0.4444444444444444
         },
         "mode": "markers",
         "name": "samandag",
         "showlegend": true,
         "subplot": "mapbox",
         "type": "scattermapbox"
        },
        {
         "hovertemplate": "<b>%{hovertext}</b><br><br>City=san joaquin<br>Humidity=%{marker.size}<br>Lat=%{lat}<br>Lng=%{lon}<extra></extra>",
         "hovertext": [
          "san joaquin"
         ],
         "lat": [
          37.9333
         ],
         "legendgroup": "san joaquin",
         "lon": [
          -121.3011
         ],
         "marker": {
          "color": "#EF553B",
          "size": [
           89
          ],
          "sizemode": "area",
          "sizeref": 0.4444444444444444
         },
         "mode": "markers",
         "name": "san joaquin",
         "showlegend": true,
         "subplot": "mapbox",
         "type": "scattermapbox"
        },
        {
         "hovertemplate": "<b>%{hovertext}</b><br><br>City=treinta y tres<br>Humidity=%{marker.size}<br>Lat=%{lat}<br>Lng=%{lon}<extra></extra>",
         "hovertext": [
          "treinta y tres"
         ],
         "lat": [
          -33.2333
         ],
         "legendgroup": "treinta y tres",
         "lon": [
          -54.3833
         ],
         "marker": {
          "color": "#00cc96",
          "size": [
           74
          ],
          "sizemode": "area",
          "sizeref": 0.4444444444444444
         },
         "mode": "markers",
         "name": "treinta y tres",
         "showlegend": true,
         "subplot": "mapbox",
         "type": "scattermapbox"
        },
        {
         "hovertemplate": "<b>%{hovertext}</b><br><br>City=nazareno<br>Humidity=%{marker.size}<br>Lat=%{lat}<br>Lng=%{lon}<extra></extra>",
         "hovertext": [
          "nazareno"
         ],
         "lat": [
          25.3833
         ],
         "legendgroup": "nazareno",
         "lon": [
          -103.4167
         ],
         "marker": {
          "color": "#ab63fa",
          "size": [
           83
          ],
          "sizemode": "area",
          "sizeref": 0.4444444444444444
         },
         "mode": "markers",
         "name": "nazareno",
         "showlegend": true,
         "subplot": "mapbox",
         "type": "scattermapbox"
        },
        {
         "hovertemplate": "<b>%{hovertext}</b><br><br>City=tessalit<br>Humidity=%{marker.size}<br>Lat=%{lat}<br>Lng=%{lon}<extra></extra>",
         "hovertext": [
          "tessalit"
         ],
         "lat": [
          20.1986
         ],
         "legendgroup": "tessalit",
         "lon": [
          1.0114
         ],
         "marker": {
          "color": "#FFA15A",
          "size": [
           13
          ],
          "sizemode": "area",
          "sizeref": 0.4444444444444444
         },
         "mode": "markers",
         "name": "tessalit",
         "showlegend": true,
         "subplot": "mapbox",
         "type": "scattermapbox"
        },
        {
         "hovertemplate": "<b>%{hovertext}</b><br><br>City=yaan<br>Humidity=%{marker.size}<br>Lat=%{lat}<br>Lng=%{lon}<extra></extra>",
         "hovertext": [
          "yaan"
         ],
         "lat": [
          7.3833
         ],
         "legendgroup": "yaan",
         "lon": [
          8.5667
         ],
         "marker": {
          "color": "#19d3f3",
          "size": [
           69
          ],
          "sizemode": "area",
          "sizeref": 0.4444444444444444
         },
         "mode": "markers",
         "name": "yaan",
         "showlegend": true,
         "subplot": "mapbox",
         "type": "scattermapbox"
        },
        {
         "hovertemplate": "<b>%{hovertext}</b><br><br>City=ixtapa<br>Humidity=%{marker.size}<br>Lat=%{lat}<br>Lng=%{lon}<extra></extra>",
         "hovertext": [
          "ixtapa"
         ],
         "lat": [
          20.7
         ],
         "legendgroup": "ixtapa",
         "lon": [
          -105.2
         ],
         "marker": {
          "color": "#FF6692",
          "size": [
           70
          ],
          "sizemode": "area",
          "sizeref": 0.4444444444444444
         },
         "mode": "markers",
         "name": "ixtapa",
         "showlegend": true,
         "subplot": "mapbox",
         "type": "scattermapbox"
        },
        {
         "hovertemplate": "<b>%{hovertext}</b><br><br>City=dong hoi<br>Humidity=%{marker.size}<br>Lat=%{lat}<br>Lng=%{lon}<extra></extra>",
         "hovertext": [
          "dong hoi"
         ],
         "lat": [
          17.4833
         ],
         "legendgroup": "dong hoi",
         "lon": [
          106.6
         ],
         "marker": {
          "color": "#B6E880",
          "size": [
           70
          ],
          "sizemode": "area",
          "sizeref": 0.4444444444444444
         },
         "mode": "markers",
         "name": "dong hoi",
         "showlegend": true,
         "subplot": "mapbox",
         "type": "scattermapbox"
        },
        {
         "hovertemplate": "<b>%{hovertext}</b><br><br>City=harindanga<br>Humidity=%{marker.size}<br>Lat=%{lat}<br>Lng=%{lon}<extra></extra>",
         "hovertext": [
          "harindanga"
         ],
         "lat": [
          22.0383
         ],
         "legendgroup": "harindanga",
         "lon": [
          88.3214
         ],
         "marker": {
          "color": "#FF97FF",
          "size": [
           75
          ],
          "sizemode": "area",
          "sizeref": 0.4444444444444444
         },
         "mode": "markers",
         "name": "harindanga",
         "showlegend": true,
         "subplot": "mapbox",
         "type": "scattermapbox"
        },
        {
         "hovertemplate": "<b>%{hovertext}</b><br><br>City=pontypool<br>Humidity=%{marker.size}<br>Lat=%{lat}<br>Lng=%{lon}<extra></extra>",
         "hovertext": [
          "pontypool"
         ],
         "lat": [
          51.7011
         ],
         "legendgroup": "pontypool",
         "lon": [
          -3.0444
         ],
         "marker": {
          "color": "#FECB52",
          "size": [
           72
          ],
          "sizemode": "area",
          "sizeref": 0.4444444444444444
         },
         "mode": "markers",
         "name": "pontypool",
         "showlegend": true,
         "subplot": "mapbox",
         "type": "scattermapbox"
        },
        {
         "hovertemplate": "<b>%{hovertext}</b><br><br>City=ulladulla<br>Humidity=%{marker.size}<br>Lat=%{lat}<br>Lng=%{lon}<extra></extra>",
         "hovertext": [
          "ulladulla"
         ],
         "lat": [
          -35.35
         ],
         "legendgroup": "ulladulla",
         "lon": [
          150.4667
         ],
         "marker": {
          "color": "#636efa",
          "size": [
           92
          ],
          "sizemode": "area",
          "sizeref": 0.4444444444444444
         },
         "mode": "markers",
         "name": "ulladulla",
         "showlegend": true,
         "subplot": "mapbox",
         "type": "scattermapbox"
        },
        {
         "hovertemplate": "<b>%{hovertext}</b><br><br>City=la paz<br>Humidity=%{marker.size}<br>Lat=%{lat}<br>Lng=%{lon}<extra></extra>",
         "hovertext": [
          "la paz"
         ],
         "lat": [
          -16.5
         ],
         "legendgroup": "la paz",
         "lon": [
          -68.15
         ],
         "marker": {
          "color": "#EF553B",
          "size": [
           50
          ],
          "sizemode": "area",
          "sizeref": 0.4444444444444444
         },
         "mode": "markers",
         "name": "la paz",
         "showlegend": true,
         "subplot": "mapbox",
         "type": "scattermapbox"
        },
        {
         "hovertemplate": "<b>%{hovertext}</b><br><br>City=hualmay<br>Humidity=%{marker.size}<br>Lat=%{lat}<br>Lng=%{lon}<extra></extra>",
         "hovertext": [
          "hualmay"
         ],
         "lat": [
          -11.0964
         ],
         "legendgroup": "hualmay",
         "lon": [
          -77.6139
         ],
         "marker": {
          "color": "#00cc96",
          "size": [
           71
          ],
          "sizemode": "area",
          "sizeref": 0.4444444444444444
         },
         "mode": "markers",
         "name": "hualmay",
         "showlegend": true,
         "subplot": "mapbox",
         "type": "scattermapbox"
        },
        {
         "hovertemplate": "<b>%{hovertext}</b><br><br>City=barroso<br>Humidity=%{marker.size}<br>Lat=%{lat}<br>Lng=%{lon}<extra></extra>",
         "hovertext": [
          "barroso"
         ],
         "lat": [
          -21.1869
         ],
         "legendgroup": "barroso",
         "lon": [
          -43.9758
         ],
         "marker": {
          "color": "#ab63fa",
          "size": [
           34
          ],
          "sizemode": "area",
          "sizeref": 0.4444444444444444
         },
         "mode": "markers",
         "name": "barroso",
         "showlegend": true,
         "subplot": "mapbox",
         "type": "scattermapbox"
        },
        {
         "hovertemplate": "<b>%{hovertext}</b><br><br>City=vryburg<br>Humidity=%{marker.size}<br>Lat=%{lat}<br>Lng=%{lon}<extra></extra>",
         "hovertext": [
          "vryburg"
         ],
         "lat": [
          -26.9566
         ],
         "legendgroup": "vryburg",
         "lon": [
          24.7284
         ],
         "marker": {
          "color": "#FFA15A",
          "size": [
           44
          ],
          "sizemode": "area",
          "sizeref": 0.4444444444444444
         },
         "mode": "markers",
         "name": "vryburg",
         "showlegend": true,
         "subplot": "mapbox",
         "type": "scattermapbox"
        },
        {
         "hovertemplate": "<b>%{hovertext}</b><br><br>City=beira<br>Humidity=%{marker.size}<br>Lat=%{lat}<br>Lng=%{lon}<extra></extra>",
         "hovertext": [
          "beira"
         ],
         "lat": [
          -19.8436
         ],
         "legendgroup": "beira",
         "lon": [
          34.8389
         ],
         "marker": {
          "color": "#19d3f3",
          "size": [
           69
          ],
          "sizemode": "area",
          "sizeref": 0.4444444444444444
         },
         "mode": "markers",
         "name": "beira",
         "showlegend": true,
         "subplot": "mapbox",
         "type": "scattermapbox"
        },
        {
         "hovertemplate": "<b>%{hovertext}</b><br><br>City=the valley<br>Humidity=%{marker.size}<br>Lat=%{lat}<br>Lng=%{lon}<extra></extra>",
         "hovertext": [
          "the valley"
         ],
         "lat": [
          18.217
         ],
         "legendgroup": "the valley",
         "lon": [
          -63.0578
         ],
         "marker": {
          "color": "#FF6692",
          "size": [
           65
          ],
          "sizemode": "area",
          "sizeref": 0.4444444444444444
         },
         "mode": "markers",
         "name": "the valley",
         "showlegend": true,
         "subplot": "mapbox",
         "type": "scattermapbox"
        },
        {
         "hovertemplate": "<b>%{hovertext}</b><br><br>City=narsaq<br>Humidity=%{marker.size}<br>Lat=%{lat}<br>Lng=%{lon}<extra></extra>",
         "hovertext": [
          "narsaq"
         ],
         "lat": [
          60.9167
         ],
         "legendgroup": "narsaq",
         "lon": [
          -46.05
         ],
         "marker": {
          "color": "#B6E880",
          "size": [
           82
          ],
          "sizemode": "area",
          "sizeref": 0.4444444444444444
         },
         "mode": "markers",
         "name": "narsaq",
         "showlegend": true,
         "subplot": "mapbox",
         "type": "scattermapbox"
        },
        {
         "hovertemplate": "<b>%{hovertext}</b><br><br>City=juegang<br>Humidity=%{marker.size}<br>Lat=%{lat}<br>Lng=%{lon}<extra></extra>",
         "hovertext": [
          "juegang"
         ],
         "lat": [
          32.3174
         ],
         "legendgroup": "juegang",
         "lon": [
          121.1855
         ],
         "marker": {
          "color": "#FF97FF",
          "size": [
           63
          ],
          "sizemode": "area",
          "sizeref": 0.4444444444444444
         },
         "mode": "markers",
         "name": "juegang",
         "showlegend": true,
         "subplot": "mapbox",
         "type": "scattermapbox"
        },
        {
         "hovertemplate": "<b>%{hovertext}</b><br><br>City=verkhniy avzyan<br>Humidity=%{marker.size}<br>Lat=%{lat}<br>Lng=%{lon}<extra></extra>",
         "hovertext": [
          "verkhniy avzyan"
         ],
         "lat": [
          53.5289
         ],
         "legendgroup": "verkhniy avzyan",
         "lon": [
          57.5372
         ],
         "marker": {
          "color": "#FECB52",
          "size": [
           96
          ],
          "sizemode": "area",
          "sizeref": 0.4444444444444444
         },
         "mode": "markers",
         "name": "verkhniy avzyan",
         "showlegend": true,
         "subplot": "mapbox",
         "type": "scattermapbox"
        },
        {
         "hovertemplate": "<b>%{hovertext}</b><br><br>City=araouane<br>Humidity=%{marker.size}<br>Lat=%{lat}<br>Lng=%{lon}<extra></extra>",
         "hovertext": [
          "araouane"
         ],
         "lat": [
          18.9048
         ],
         "legendgroup": "araouane",
         "lon": [
          -3.5265
         ],
         "marker": {
          "color": "#636efa",
          "size": [
           10
          ],
          "sizemode": "area",
          "sizeref": 0.4444444444444444
         },
         "mode": "markers",
         "name": "araouane",
         "showlegend": true,
         "subplot": "mapbox",
         "type": "scattermapbox"
        },
        {
         "hovertemplate": "<b>%{hovertext}</b><br><br>City=kirakira<br>Humidity=%{marker.size}<br>Lat=%{lat}<br>Lng=%{lon}<extra></extra>",
         "hovertext": [
          "kirakira"
         ],
         "lat": [
          -10.4544
         ],
         "legendgroup": "kirakira",
         "lon": [
          161.9205
         ],
         "marker": {
          "color": "#EF553B",
          "size": [
           81
          ],
          "sizemode": "area",
          "sizeref": 0.4444444444444444
         },
         "mode": "markers",
         "name": "kirakira",
         "showlegend": true,
         "subplot": "mapbox",
         "type": "scattermapbox"
        },
        {
         "hovertemplate": "<b>%{hovertext}</b><br><br>City=tautira<br>Humidity=%{marker.size}<br>Lat=%{lat}<br>Lng=%{lon}<extra></extra>",
         "hovertext": [
          "tautira"
         ],
         "lat": [
          -17.7333
         ],
         "legendgroup": "tautira",
         "lon": [
          -149.15
         ],
         "marker": {
          "color": "#00cc96",
          "size": [
           81
          ],
          "sizemode": "area",
          "sizeref": 0.4444444444444444
         },
         "mode": "markers",
         "name": "tautira",
         "showlegend": true,
         "subplot": "mapbox",
         "type": "scattermapbox"
        },
        {
         "hovertemplate": "<b>%{hovertext}</b><br><br>City=singkang<br>Humidity=%{marker.size}<br>Lat=%{lat}<br>Lng=%{lon}<extra></extra>",
         "hovertext": [
          "singkang"
         ],
         "lat": [
          2.1006
         ],
         "legendgroup": "singkang",
         "lon": [
          102.7994
         ],
         "marker": {
          "color": "#ab63fa",
          "size": [
           89
          ],
          "sizemode": "area",
          "sizeref": 0.4444444444444444
         },
         "mode": "markers",
         "name": "singkang",
         "showlegend": true,
         "subplot": "mapbox",
         "type": "scattermapbox"
        },
        {
         "hovertemplate": "<b>%{hovertext}</b><br><br>City=taitung<br>Humidity=%{marker.size}<br>Lat=%{lat}<br>Lng=%{lon}<extra></extra>",
         "hovertext": [
          "taitung"
         ],
         "lat": [
          22.7583
         ],
         "legendgroup": "taitung",
         "lon": [
          121.1444
         ],
         "marker": {
          "color": "#FFA15A",
          "size": [
           80
          ],
          "sizemode": "area",
          "sizeref": 0.4444444444444444
         },
         "mode": "markers",
         "name": "taitung",
         "showlegend": true,
         "subplot": "mapbox",
         "type": "scattermapbox"
        },
        {
         "hovertemplate": "<b>%{hovertext}</b><br><br>City=nabire<br>Humidity=%{marker.size}<br>Lat=%{lat}<br>Lng=%{lon}<extra></extra>",
         "hovertext": [
          "nabire"
         ],
         "lat": [
          -3.3667
         ],
         "legendgroup": "nabire",
         "lon": [
          135.4833
         ],
         "marker": {
          "color": "#19d3f3",
          "size": [
           91
          ],
          "sizemode": "area",
          "sizeref": 0.4444444444444444
         },
         "mode": "markers",
         "name": "nabire",
         "showlegend": true,
         "subplot": "mapbox",
         "type": "scattermapbox"
        },
        {
         "hovertemplate": "<b>%{hovertext}</b><br><br>City=chifeng<br>Humidity=%{marker.size}<br>Lat=%{lat}<br>Lng=%{lon}<extra></extra>",
         "hovertext": [
          "chifeng"
         ],
         "lat": [
          42.2683
         ],
         "legendgroup": "chifeng",
         "lon": [
          118.9636
         ],
         "marker": {
          "color": "#FF6692",
          "size": [
           20
          ],
          "sizemode": "area",
          "sizeref": 0.4444444444444444
         },
         "mode": "markers",
         "name": "chifeng",
         "showlegend": true,
         "subplot": "mapbox",
         "type": "scattermapbox"
        },
        {
         "hovertemplate": "<b>%{hovertext}</b><br><br>City=caiaponia<br>Humidity=%{marker.size}<br>Lat=%{lat}<br>Lng=%{lon}<extra></extra>",
         "hovertext": [
          "caiaponia"
         ],
         "lat": [
          -16.9567
         ],
         "legendgroup": "caiaponia",
         "lon": [
          -51.8103
         ],
         "marker": {
          "color": "#B6E880",
          "size": [
           14
          ],
          "sizemode": "area",
          "sizeref": 0.4444444444444444
         },
         "mode": "markers",
         "name": "caiaponia",
         "showlegend": true,
         "subplot": "mapbox",
         "type": "scattermapbox"
        },
        {
         "hovertemplate": "<b>%{hovertext}</b><br><br>City=salto<br>Humidity=%{marker.size}<br>Lat=%{lat}<br>Lng=%{lon}<extra></extra>",
         "hovertext": [
          "salto"
         ],
         "lat": [
          -31.3833
         ],
         "legendgroup": "salto",
         "lon": [
          -57.9667
         ],
         "marker": {
          "color": "#FF97FF",
          "size": [
           61
          ],
          "sizemode": "area",
          "sizeref": 0.4444444444444444
         },
         "mode": "markers",
         "name": "salto",
         "showlegend": true,
         "subplot": "mapbox",
         "type": "scattermapbox"
        },
        {
         "hovertemplate": "<b>%{hovertext}</b><br><br>City=praya<br>Humidity=%{marker.size}<br>Lat=%{lat}<br>Lng=%{lon}<extra></extra>",
         "hovertext": [
          "praya"
         ],
         "lat": [
          14.9215
         ],
         "legendgroup": "praya",
         "lon": [
          -23.5087
         ],
         "marker": {
          "color": "#FECB52",
          "size": [
           74
          ],
          "sizemode": "area",
          "sizeref": 0.4444444444444444
         },
         "mode": "markers",
         "name": "praya",
         "showlegend": true,
         "subplot": "mapbox",
         "type": "scattermapbox"
        },
        {
         "hovertemplate": "<b>%{hovertext}</b><br><br>City=aksarka<br>Humidity=%{marker.size}<br>Lat=%{lat}<br>Lng=%{lon}<extra></extra>",
         "hovertext": [
          "aksarka"
         ],
         "lat": [
          66.5606
         ],
         "legendgroup": "aksarka",
         "lon": [
          67.7975
         ],
         "marker": {
          "color": "#636efa",
          "size": [
           95
          ],
          "sizemode": "area",
          "sizeref": 0.4444444444444444
         },
         "mode": "markers",
         "name": "aksarka",
         "showlegend": true,
         "subplot": "mapbox",
         "type": "scattermapbox"
        },
        {
         "hovertemplate": "<b>%{hovertext}</b><br><br>City=abu zabad<br>Humidity=%{marker.size}<br>Lat=%{lat}<br>Lng=%{lon}<extra></extra>",
         "hovertext": [
          "abu zabad"
         ],
         "lat": [
          12.35
         ],
         "legendgroup": "abu zabad",
         "lon": [
          29.25
         ],
         "marker": {
          "color": "#EF553B",
          "size": [
           29
          ],
          "sizemode": "area",
          "sizeref": 0.4444444444444444
         },
         "mode": "markers",
         "name": "abu zabad",
         "showlegend": true,
         "subplot": "mapbox",
         "type": "scattermapbox"
        },
        {
         "hovertemplate": "<b>%{hovertext}</b><br><br>City=kushima<br>Humidity=%{marker.size}<br>Lat=%{lat}<br>Lng=%{lon}<extra></extra>",
         "hovertext": [
          "kushima"
         ],
         "lat": [
          31.4583
         ],
         "legendgroup": "kushima",
         "lon": [
          131.2333
         ],
         "marker": {
          "color": "#00cc96",
          "size": [
           82
          ],
          "sizemode": "area",
          "sizeref": 0.4444444444444444
         },
         "mode": "markers",
         "name": "kushima",
         "showlegend": true,
         "subplot": "mapbox",
         "type": "scattermapbox"
        },
        {
         "hovertemplate": "<b>%{hovertext}</b><br><br>City=beaune<br>Humidity=%{marker.size}<br>Lat=%{lat}<br>Lng=%{lon}<extra></extra>",
         "hovertext": [
          "beaune"
         ],
         "lat": [
          47.0833
         ],
         "legendgroup": "beaune",
         "lon": [
          4.75
         ],
         "marker": {
          "color": "#ab63fa",
          "size": [
           74
          ],
          "sizemode": "area",
          "sizeref": 0.4444444444444444
         },
         "mode": "markers",
         "name": "beaune",
         "showlegend": true,
         "subplot": "mapbox",
         "type": "scattermapbox"
        },
        {
         "hovertemplate": "<b>%{hovertext}</b><br><br>City=egvekinot<br>Humidity=%{marker.size}<br>Lat=%{lat}<br>Lng=%{lon}<extra></extra>",
         "hovertext": [
          "egvekinot"
         ],
         "lat": [
          66.3167
         ],
         "legendgroup": "egvekinot",
         "lon": [
          -179.1667
         ],
         "marker": {
          "color": "#FFA15A",
          "size": [
           87
          ],
          "sizemode": "area",
          "sizeref": 0.4444444444444444
         },
         "mode": "markers",
         "name": "egvekinot",
         "showlegend": true,
         "subplot": "mapbox",
         "type": "scattermapbox"
        },
        {
         "hovertemplate": "<b>%{hovertext}</b><br><br>City=greenville<br>Humidity=%{marker.size}<br>Lat=%{lat}<br>Lng=%{lon}<extra></extra>",
         "hovertext": [
          "greenville"
         ],
         "lat": [
          35.6127
         ],
         "legendgroup": "greenville",
         "lon": [
          -77.3663
         ],
         "marker": {
          "color": "#19d3f3",
          "size": [
           48
          ],
          "sizemode": "area",
          "sizeref": 0.4444444444444444
         },
         "mode": "markers",
         "name": "greenville",
         "showlegend": true,
         "subplot": "mapbox",
         "type": "scattermapbox"
        },
        {
         "hovertemplate": "<b>%{hovertext}</b><br><br>City=ust-ordynskiy<br>Humidity=%{marker.size}<br>Lat=%{lat}<br>Lng=%{lon}<extra></extra>",
         "hovertext": [
          "ust-ordynskiy"
         ],
         "lat": [
          52.805
         ],
         "legendgroup": "ust-ordynskiy",
         "lon": [
          104.7508
         ],
         "marker": {
          "color": "#FF6692",
          "size": [
           84
          ],
          "sizemode": "area",
          "sizeref": 0.4444444444444444
         },
         "mode": "markers",
         "name": "ust-ordynskiy",
         "showlegend": true,
         "subplot": "mapbox",
         "type": "scattermapbox"
        },
        {
         "hovertemplate": "<b>%{hovertext}</b><br><br>City=tranas<br>Humidity=%{marker.size}<br>Lat=%{lat}<br>Lng=%{lon}<extra></extra>",
         "hovertext": [
          "tranas"
         ],
         "lat": [
          58.0372
         ],
         "legendgroup": "tranas",
         "lon": [
          14.9782
         ],
         "marker": {
          "color": "#B6E880",
          "size": [
           93
          ],
          "sizemode": "area",
          "sizeref": 0.4444444444444444
         },
         "mode": "markers",
         "name": "tranas",
         "showlegend": true,
         "subplot": "mapbox",
         "type": "scattermapbox"
        },
        {
         "hovertemplate": "<b>%{hovertext}</b><br><br>City=pleasanton<br>Humidity=%{marker.size}<br>Lat=%{lat}<br>Lng=%{lon}<extra></extra>",
         "hovertext": [
          "pleasanton"
         ],
         "lat": [
          37.6624
         ],
         "legendgroup": "pleasanton",
         "lon": [
          -121.8747
         ],
         "marker": {
          "color": "#FF97FF",
          "size": [
           86
          ],
          "sizemode": "area",
          "sizeref": 0.4444444444444444
         },
         "mode": "markers",
         "name": "pleasanton",
         "showlegend": true,
         "subplot": "mapbox",
         "type": "scattermapbox"
        },
        {
         "hovertemplate": "<b>%{hovertext}</b><br><br>City=beringovskiy<br>Humidity=%{marker.size}<br>Lat=%{lat}<br>Lng=%{lon}<extra></extra>",
         "hovertext": [
          "beringovskiy"
         ],
         "lat": [
          63.05
         ],
         "legendgroup": "beringovskiy",
         "lon": [
          179.3167
         ],
         "marker": {
          "color": "#FECB52",
          "size": [
           92
          ],
          "sizemode": "area",
          "sizeref": 0.4444444444444444
         },
         "mode": "markers",
         "name": "beringovskiy",
         "showlegend": true,
         "subplot": "mapbox",
         "type": "scattermapbox"
        },
        {
         "hovertemplate": "<b>%{hovertext}</b><br><br>City=newcastleton<br>Humidity=%{marker.size}<br>Lat=%{lat}<br>Lng=%{lon}<extra></extra>",
         "hovertext": [
          "newcastleton"
         ],
         "lat": [
          55.1796
         ],
         "legendgroup": "newcastleton",
         "lon": [
          -2.8127
         ],
         "marker": {
          "color": "#636efa",
          "size": [
           71
          ],
          "sizemode": "area",
          "sizeref": 0.4444444444444444
         },
         "mode": "markers",
         "name": "newcastleton",
         "showlegend": true,
         "subplot": "mapbox",
         "type": "scattermapbox"
        },
        {
         "hovertemplate": "<b>%{hovertext}</b><br><br>City=hirado<br>Humidity=%{marker.size}<br>Lat=%{lat}<br>Lng=%{lon}<extra></extra>",
         "hovertext": [
          "hirado"
         ],
         "lat": [
          33.3597
         ],
         "legendgroup": "hirado",
         "lon": [
          129.5531
         ],
         "marker": {
          "color": "#EF553B",
          "size": [
           55
          ],
          "sizemode": "area",
          "sizeref": 0.4444444444444444
         },
         "mode": "markers",
         "name": "hirado",
         "showlegend": true,
         "subplot": "mapbox",
         "type": "scattermapbox"
        },
        {
         "hovertemplate": "<b>%{hovertext}</b><br><br>City=brokopondo<br>Humidity=%{marker.size}<br>Lat=%{lat}<br>Lng=%{lon}<extra></extra>",
         "hovertext": [
          "brokopondo"
         ],
         "lat": [
          4.75
         ],
         "legendgroup": "brokopondo",
         "lon": [
          -55.1667
         ],
         "marker": {
          "color": "#00cc96",
          "size": [
           60
          ],
          "sizemode": "area",
          "sizeref": 0.4444444444444444
         },
         "mode": "markers",
         "name": "brokopondo",
         "showlegend": true,
         "subplot": "mapbox",
         "type": "scattermapbox"
        },
        {
         "hovertemplate": "<b>%{hovertext}</b><br><br>City=batagay<br>Humidity=%{marker.size}<br>Lat=%{lat}<br>Lng=%{lon}<extra></extra>",
         "hovertext": [
          "batagay"
         ],
         "lat": [
          67.6333
         ],
         "legendgroup": "batagay",
         "lon": [
          134.6333
         ],
         "marker": {
          "color": "#ab63fa",
          "size": [
           99
          ],
          "sizemode": "area",
          "sizeref": 0.4444444444444444
         },
         "mode": "markers",
         "name": "batagay",
         "showlegend": true,
         "subplot": "mapbox",
         "type": "scattermapbox"
        },
        {
         "hovertemplate": "<b>%{hovertext}</b><br><br>City=laurel<br>Humidity=%{marker.size}<br>Lat=%{lat}<br>Lng=%{lon}<extra></extra>",
         "hovertext": [
          "laurel"
         ],
         "lat": [
          39.0993
         ],
         "legendgroup": "laurel",
         "lon": [
          -76.8483
         ],
         "marker": {
          "color": "#FFA15A",
          "size": [
           55
          ],
          "sizemode": "area",
          "sizeref": 0.4444444444444444
         },
         "mode": "markers",
         "name": "laurel",
         "showlegend": true,
         "subplot": "mapbox",
         "type": "scattermapbox"
        },
        {
         "hovertemplate": "<b>%{hovertext}</b><br><br>City=statesville<br>Humidity=%{marker.size}<br>Lat=%{lat}<br>Lng=%{lon}<extra></extra>",
         "hovertext": [
          "statesville"
         ],
         "lat": [
          35.7826
         ],
         "legendgroup": "statesville",
         "lon": [
          -80.8873
         ],
         "marker": {
          "color": "#19d3f3",
          "size": [
           49
          ],
          "sizemode": "area",
          "sizeref": 0.4444444444444444
         },
         "mode": "markers",
         "name": "statesville",
         "showlegend": true,
         "subplot": "mapbox",
         "type": "scattermapbox"
        },
        {
         "hovertemplate": "<b>%{hovertext}</b><br><br>City=tikrit<br>Humidity=%{marker.size}<br>Lat=%{lat}<br>Lng=%{lon}<extra></extra>",
         "hovertext": [
          "tikrit"
         ],
         "lat": [
          34.6071
         ],
         "legendgroup": "tikrit",
         "lon": [
          43.6782
         ],
         "marker": {
          "color": "#FF6692",
          "size": [
           14
          ],
          "sizemode": "area",
          "sizeref": 0.4444444444444444
         },
         "mode": "markers",
         "name": "tikrit",
         "showlegend": true,
         "subplot": "mapbox",
         "type": "scattermapbox"
        },
        {
         "hovertemplate": "<b>%{hovertext}</b><br><br>City=iisalmi<br>Humidity=%{marker.size}<br>Lat=%{lat}<br>Lng=%{lon}<extra></extra>",
         "hovertext": [
          "iisalmi"
         ],
         "lat": [
          63.5592
         ],
         "legendgroup": "iisalmi",
         "lon": [
          27.1907
         ],
         "marker": {
          "color": "#B6E880",
          "size": [
           90
          ],
          "sizemode": "area",
          "sizeref": 0.4444444444444444
         },
         "mode": "markers",
         "name": "iisalmi",
         "showlegend": true,
         "subplot": "mapbox",
         "type": "scattermapbox"
        },
        {
         "hovertemplate": "<b>%{hovertext}</b><br><br>City=lahij<br>Humidity=%{marker.size}<br>Lat=%{lat}<br>Lng=%{lon}<extra></extra>",
         "hovertext": [
          "lahij"
         ],
         "lat": [
          13.1667
         ],
         "legendgroup": "lahij",
         "lon": [
          44.5833
         ],
         "marker": {
          "color": "#FF97FF",
          "size": [
           55
          ],
          "sizemode": "area",
          "sizeref": 0.4444444444444444
         },
         "mode": "markers",
         "name": "lahij",
         "showlegend": true,
         "subplot": "mapbox",
         "type": "scattermapbox"
        },
        {
         "hovertemplate": "<b>%{hovertext}</b><br><br>City=derzhavinsk<br>Humidity=%{marker.size}<br>Lat=%{lat}<br>Lng=%{lon}<extra></extra>",
         "hovertext": [
          "derzhavinsk"
         ],
         "lat": [
          51.1
         ],
         "legendgroup": "derzhavinsk",
         "lon": [
          66.3167
         ],
         "marker": {
          "color": "#FECB52",
          "size": [
           51
          ],
          "sizemode": "area",
          "sizeref": 0.4444444444444444
         },
         "mode": "markers",
         "name": "derzhavinsk",
         "showlegend": true,
         "subplot": "mapbox",
         "type": "scattermapbox"
        },
        {
         "hovertemplate": "<b>%{hovertext}</b><br><br>City=kyren<br>Humidity=%{marker.size}<br>Lat=%{lat}<br>Lng=%{lon}<extra></extra>",
         "hovertext": [
          "kyren"
         ],
         "lat": [
          51.6828
         ],
         "legendgroup": "kyren",
         "lon": [
          102.1408
         ],
         "marker": {
          "color": "#636efa",
          "size": [
           73
          ],
          "sizemode": "area",
          "sizeref": 0.4444444444444444
         },
         "mode": "markers",
         "name": "kyren",
         "showlegend": true,
         "subplot": "mapbox",
         "type": "scattermapbox"
        },
        {
         "hovertemplate": "<b>%{hovertext}</b><br><br>City=kapit<br>Humidity=%{marker.size}<br>Lat=%{lat}<br>Lng=%{lon}<extra></extra>",
         "hovertext": [
          "kapit"
         ],
         "lat": [
          2.0167
         ],
         "legendgroup": "kapit",
         "lon": [
          112.9333
         ],
         "marker": {
          "color": "#EF553B",
          "size": [
           99
          ],
          "sizemode": "area",
          "sizeref": 0.4444444444444444
         },
         "mode": "markers",
         "name": "kapit",
         "showlegend": true,
         "subplot": "mapbox",
         "type": "scattermapbox"
        },
        {
         "hovertemplate": "<b>%{hovertext}</b><br><br>City=altay<br>Humidity=%{marker.size}<br>Lat=%{lat}<br>Lng=%{lon}<extra></extra>",
         "hovertext": [
          "altay"
         ],
         "lat": [
          47.8667
         ],
         "legendgroup": "altay",
         "lon": [
          88.1167
         ],
         "marker": {
          "color": "#00cc96",
          "size": [
           84
          ],
          "sizemode": "area",
          "sizeref": 0.4444444444444444
         },
         "mode": "markers",
         "name": "altay",
         "showlegend": true,
         "subplot": "mapbox",
         "type": "scattermapbox"
        },
        {
         "hovertemplate": "<b>%{hovertext}</b><br><br>City=waseca<br>Humidity=%{marker.size}<br>Lat=%{lat}<br>Lng=%{lon}<extra></extra>",
         "hovertext": [
          "waseca"
         ],
         "lat": [
          44.0777
         ],
         "legendgroup": "waseca",
         "lon": [
          -93.5074
         ],
         "marker": {
          "color": "#ab63fa",
          "size": [
           65
          ],
          "sizemode": "area",
          "sizeref": 0.4444444444444444
         },
         "mode": "markers",
         "name": "waseca",
         "showlegend": true,
         "subplot": "mapbox",
         "type": "scattermapbox"
        },
        {
         "hovertemplate": "<b>%{hovertext}</b><br><br>City=nantucket<br>Humidity=%{marker.size}<br>Lat=%{lat}<br>Lng=%{lon}<extra></extra>",
         "hovertext": [
          "nantucket"
         ],
         "lat": [
          41.2835
         ],
         "legendgroup": "nantucket",
         "lon": [
          -70.0995
         ],
         "marker": {
          "color": "#FFA15A",
          "size": [
           90
          ],
          "sizemode": "area",
          "sizeref": 0.4444444444444444
         },
         "mode": "markers",
         "name": "nantucket",
         "showlegend": true,
         "subplot": "mapbox",
         "type": "scattermapbox"
        },
        {
         "hovertemplate": "<b>%{hovertext}</b><br><br>City=cadillac<br>Humidity=%{marker.size}<br>Lat=%{lat}<br>Lng=%{lon}<extra></extra>",
         "hovertext": [
          "cadillac"
         ],
         "lat": [
          44.2519
         ],
         "legendgroup": "cadillac",
         "lon": [
          -85.4012
         ],
         "marker": {
          "color": "#19d3f3",
          "size": [
           93
          ],
          "sizemode": "area",
          "sizeref": 0.4444444444444444
         },
         "mode": "markers",
         "name": "cadillac",
         "showlegend": true,
         "subplot": "mapbox",
         "type": "scattermapbox"
        },
        {
         "hovertemplate": "<b>%{hovertext}</b><br><br>City=sfantu gheorghe<br>Humidity=%{marker.size}<br>Lat=%{lat}<br>Lng=%{lon}<extra></extra>",
         "hovertext": [
          "sfantu gheorghe"
         ],
         "lat": [
          45.8667
         ],
         "legendgroup": "sfantu gheorghe",
         "lon": [
          25.7833
         ],
         "marker": {
          "color": "#FF6692",
          "size": [
           51
          ],
          "sizemode": "area",
          "sizeref": 0.4444444444444444
         },
         "mode": "markers",
         "name": "sfantu gheorghe",
         "showlegend": true,
         "subplot": "mapbox",
         "type": "scattermapbox"
        },
        {
         "hovertemplate": "<b>%{hovertext}</b><br><br>City=kundiawa<br>Humidity=%{marker.size}<br>Lat=%{lat}<br>Lng=%{lon}<extra></extra>",
         "hovertext": [
          "kundiawa"
         ],
         "lat": [
          -6.0167
         ],
         "legendgroup": "kundiawa",
         "lon": [
          144.9667
         ],
         "marker": {
          "color": "#B6E880",
          "size": [
           97
          ],
          "sizemode": "area",
          "sizeref": 0.4444444444444444
         },
         "mode": "markers",
         "name": "kundiawa",
         "showlegend": true,
         "subplot": "mapbox",
         "type": "scattermapbox"
        },
        {
         "hovertemplate": "<b>%{hovertext}</b><br><br>City=gornopravdinsk<br>Humidity=%{marker.size}<br>Lat=%{lat}<br>Lng=%{lon}<extra></extra>",
         "hovertext": [
          "gornopravdinsk"
         ],
         "lat": [
          60.05
         ],
         "legendgroup": "gornopravdinsk",
         "lon": [
          69.9
         ],
         "marker": {
          "color": "#FF97FF",
          "size": [
           90
          ],
          "sizemode": "area",
          "sizeref": 0.4444444444444444
         },
         "mode": "markers",
         "name": "gornopravdinsk",
         "showlegend": true,
         "subplot": "mapbox",
         "type": "scattermapbox"
        },
        {
         "hovertemplate": "<b>%{hovertext}</b><br><br>City=bhandara<br>Humidity=%{marker.size}<br>Lat=%{lat}<br>Lng=%{lon}<extra></extra>",
         "hovertext": [
          "bhandara"
         ],
         "lat": [
          21.1667
         ],
         "legendgroup": "bhandara",
         "lon": [
          79.65
         ],
         "marker": {
          "color": "#FECB52",
          "size": [
           86
          ],
          "sizemode": "area",
          "sizeref": 0.4444444444444444
         },
         "mode": "markers",
         "name": "bhandara",
         "showlegend": true,
         "subplot": "mapbox",
         "type": "scattermapbox"
        },
        {
         "hovertemplate": "<b>%{hovertext}</b><br><br>City=wadi musa<br>Humidity=%{marker.size}<br>Lat=%{lat}<br>Lng=%{lon}<extra></extra>",
         "hovertext": [
          "wadi musa"
         ],
         "lat": [
          30.3222
         ],
         "legendgroup": "wadi musa",
         "lon": [
          35.4793
         ],
         "marker": {
          "color": "#636efa",
          "size": [
           63
          ],
          "sizemode": "area",
          "sizeref": 0.4444444444444444
         },
         "mode": "markers",
         "name": "wadi musa",
         "showlegend": true,
         "subplot": "mapbox",
         "type": "scattermapbox"
        },
        {
         "hovertemplate": "<b>%{hovertext}</b><br><br>City=charters towers<br>Humidity=%{marker.size}<br>Lat=%{lat}<br>Lng=%{lon}<extra></extra>",
         "hovertext": [
          "charters towers"
         ],
         "lat": [
          -20.1
         ],
         "legendgroup": "charters towers",
         "lon": [
          146.2667
         ],
         "marker": {
          "color": "#EF553B",
          "size": [
           77
          ],
          "sizemode": "area",
          "sizeref": 0.4444444444444444
         },
         "mode": "markers",
         "name": "charters towers",
         "showlegend": true,
         "subplot": "mapbox",
         "type": "scattermapbox"
        },
        {
         "hovertemplate": "<b>%{hovertext}</b><br><br>City=ustka<br>Humidity=%{marker.size}<br>Lat=%{lat}<br>Lng=%{lon}<extra></extra>",
         "hovertext": [
          "ustka"
         ],
         "lat": [
          54.5805
         ],
         "legendgroup": "ustka",
         "lon": [
          16.8619
         ],
         "marker": {
          "color": "#00cc96",
          "size": [
           86
          ],
          "sizemode": "area",
          "sizeref": 0.4444444444444444
         },
         "mode": "markers",
         "name": "ustka",
         "showlegend": true,
         "subplot": "mapbox",
         "type": "scattermapbox"
        },
        {
         "hovertemplate": "<b>%{hovertext}</b><br><br>City=sawakin<br>Humidity=%{marker.size}<br>Lat=%{lat}<br>Lng=%{lon}<extra></extra>",
         "hovertext": [
          "sawakin"
         ],
         "lat": [
          19.1059
         ],
         "legendgroup": "sawakin",
         "lon": [
          37.3321
         ],
         "marker": {
          "color": "#ab63fa",
          "size": [
           69
          ],
          "sizemode": "area",
          "sizeref": 0.4444444444444444
         },
         "mode": "markers",
         "name": "sawakin",
         "showlegend": true,
         "subplot": "mapbox",
         "type": "scattermapbox"
        },
        {
         "hovertemplate": "<b>%{hovertext}</b><br><br>City=severo-kurilsk<br>Humidity=%{marker.size}<br>Lat=%{lat}<br>Lng=%{lon}<extra></extra>",
         "hovertext": [
          "severo-kurilsk"
         ],
         "lat": [
          50.6789
         ],
         "legendgroup": "severo-kurilsk",
         "lon": [
          156.125
         ],
         "marker": {
          "color": "#FFA15A",
          "size": [
           68
          ],
          "sizemode": "area",
          "sizeref": 0.4444444444444444
         },
         "mode": "markers",
         "name": "severo-kurilsk",
         "showlegend": true,
         "subplot": "mapbox",
         "type": "scattermapbox"
        },
        {
         "hovertemplate": "<b>%{hovertext}</b><br><br>City=rameswaram<br>Humidity=%{marker.size}<br>Lat=%{lat}<br>Lng=%{lon}<extra></extra>",
         "hovertext": [
          "rameswaram"
         ],
         "lat": [
          9.2833
         ],
         "legendgroup": "rameswaram",
         "lon": [
          79.3
         ],
         "marker": {
          "color": "#19d3f3",
          "size": [
           77
          ],
          "sizemode": "area",
          "sizeref": 0.4444444444444444
         },
         "mode": "markers",
         "name": "rameswaram",
         "showlegend": true,
         "subplot": "mapbox",
         "type": "scattermapbox"
        },
        {
         "hovertemplate": "<b>%{hovertext}</b><br><br>City=guerrero negro<br>Humidity=%{marker.size}<br>Lat=%{lat}<br>Lng=%{lon}<extra></extra>",
         "hovertext": [
          "guerrero negro"
         ],
         "lat": [
          27.9769
         ],
         "legendgroup": "guerrero negro",
         "lon": [
          -114.0611
         ],
         "marker": {
          "color": "#FF6692",
          "size": [
           68
          ],
          "sizemode": "area",
          "sizeref": 0.4444444444444444
         },
         "mode": "markers",
         "name": "guerrero negro",
         "showlegend": true,
         "subplot": "mapbox",
         "type": "scattermapbox"
        },
        {
         "hovertemplate": "<b>%{hovertext}</b><br><br>City=bandarbeyla<br>Humidity=%{marker.size}<br>Lat=%{lat}<br>Lng=%{lon}<extra></extra>",
         "hovertext": [
          "bandarbeyla"
         ],
         "lat": [
          9.4942
         ],
         "legendgroup": "bandarbeyla",
         "lon": [
          50.8122
         ],
         "marker": {
          "color": "#B6E880",
          "size": [
           81
          ],
          "sizemode": "area",
          "sizeref": 0.4444444444444444
         },
         "mode": "markers",
         "name": "bandarbeyla",
         "showlegend": true,
         "subplot": "mapbox",
         "type": "scattermapbox"
        },
        {
         "hovertemplate": "<b>%{hovertext}</b><br><br>City=antofagasta<br>Humidity=%{marker.size}<br>Lat=%{lat}<br>Lng=%{lon}<extra></extra>",
         "hovertext": [
          "antofagasta"
         ],
         "lat": [
          -23.65
         ],
         "legendgroup": "antofagasta",
         "lon": [
          -70.4
         ],
         "marker": {
          "color": "#FF97FF",
          "size": [
           64
          ],
          "sizemode": "area",
          "sizeref": 0.4444444444444444
         },
         "mode": "markers",
         "name": "antofagasta",
         "showlegend": true,
         "subplot": "mapbox",
         "type": "scattermapbox"
        },
        {
         "hovertemplate": "<b>%{hovertext}</b><br><br>City=vila franca do campo<br>Humidity=%{marker.size}<br>Lat=%{lat}<br>Lng=%{lon}<extra></extra>",
         "hovertext": [
          "vila franca do campo"
         ],
         "lat": [
          37.7167
         ],
         "legendgroup": "vila franca do campo",
         "lon": [
          -25.4333
         ],
         "marker": {
          "color": "#FECB52",
          "size": [
           70
          ],
          "sizemode": "area",
          "sizeref": 0.4444444444444444
         },
         "mode": "markers",
         "name": "vila franca do campo",
         "showlegend": true,
         "subplot": "mapbox",
         "type": "scattermapbox"
        },
        {
         "hovertemplate": "<b>%{hovertext}</b><br><br>City=bauta<br>Humidity=%{marker.size}<br>Lat=%{lat}<br>Lng=%{lon}<extra></extra>",
         "hovertext": [
          "bauta"
         ],
         "lat": [
          22.9828
         ],
         "legendgroup": "bauta",
         "lon": [
          -82.5464
         ],
         "marker": {
          "color": "#636efa",
          "size": [
           71
          ],
          "sizemode": "area",
          "sizeref": 0.4444444444444444
         },
         "mode": "markers",
         "name": "bauta",
         "showlegend": true,
         "subplot": "mapbox",
         "type": "scattermapbox"
        },
        {
         "hovertemplate": "<b>%{hovertext}</b><br><br>City=nsanje<br>Humidity=%{marker.size}<br>Lat=%{lat}<br>Lng=%{lon}<extra></extra>",
         "hovertext": [
          "nsanje"
         ],
         "lat": [
          -16.92
         ],
         "legendgroup": "nsanje",
         "lon": [
          35.262
         ],
         "marker": {
          "color": "#EF553B",
          "size": [
           26
          ],
          "sizemode": "area",
          "sizeref": 0.4444444444444444
         },
         "mode": "markers",
         "name": "nsanje",
         "showlegend": true,
         "subplot": "mapbox",
         "type": "scattermapbox"
        },
        {
         "hovertemplate": "<b>%{hovertext}</b><br><br>City=xuchang<br>Humidity=%{marker.size}<br>Lat=%{lat}<br>Lng=%{lon}<extra></extra>",
         "hovertext": [
          "xuchang"
         ],
         "lat": [
          34.0167
         ],
         "legendgroup": "xuchang",
         "lon": [
          113.8167
         ],
         "marker": {
          "color": "#00cc96",
          "size": [
           35
          ],
          "sizemode": "area",
          "sizeref": 0.4444444444444444
         },
         "mode": "markers",
         "name": "xuchang",
         "showlegend": true,
         "subplot": "mapbox",
         "type": "scattermapbox"
        },
        {
         "hovertemplate": "<b>%{hovertext}</b><br><br>City=todos santos<br>Humidity=%{marker.size}<br>Lat=%{lat}<br>Lng=%{lon}<extra></extra>",
         "hovertext": [
          "todos santos"
         ],
         "lat": [
          23.45
         ],
         "legendgroup": "todos santos",
         "lon": [
          -110.2167
         ],
         "marker": {
          "color": "#ab63fa",
          "size": [
           67
          ],
          "sizemode": "area",
          "sizeref": 0.4444444444444444
         },
         "mode": "markers",
         "name": "todos santos",
         "showlegend": true,
         "subplot": "mapbox",
         "type": "scattermapbox"
        },
        {
         "hovertemplate": "<b>%{hovertext}</b><br><br>City=bataipora<br>Humidity=%{marker.size}<br>Lat=%{lat}<br>Lng=%{lon}<extra></extra>",
         "hovertext": [
          "bataipora"
         ],
         "lat": [
          -22.2953
         ],
         "legendgroup": "bataipora",
         "lon": [
          -53.2711
         ],
         "marker": {
          "color": "#FFA15A",
          "size": [
           89
          ],
          "sizemode": "area",
          "sizeref": 0.4444444444444444
         },
         "mode": "markers",
         "name": "bataipora",
         "showlegend": true,
         "subplot": "mapbox",
         "type": "scattermapbox"
        },
        {
         "hovertemplate": "<b>%{hovertext}</b><br><br>City=tateyama<br>Humidity=%{marker.size}<br>Lat=%{lat}<br>Lng=%{lon}<extra></extra>",
         "hovertext": [
          "tateyama"
         ],
         "lat": [
          34.9833
         ],
         "legendgroup": "tateyama",
         "lon": [
          139.8667
         ],
         "marker": {
          "color": "#19d3f3",
          "size": [
           85
          ],
          "sizemode": "area",
          "sizeref": 0.4444444444444444
         },
         "mode": "markers",
         "name": "tateyama",
         "showlegend": true,
         "subplot": "mapbox",
         "type": "scattermapbox"
        },
        {
         "hovertemplate": "<b>%{hovertext}</b><br><br>City=wajima<br>Humidity=%{marker.size}<br>Lat=%{lat}<br>Lng=%{lon}<extra></extra>",
         "hovertext": [
          "wajima"
         ],
         "lat": [
          37.4
         ],
         "legendgroup": "wajima",
         "lon": [
          136.9
         ],
         "marker": {
          "color": "#FF6692",
          "size": [
           55
          ],
          "sizemode": "area",
          "sizeref": 0.4444444444444444
         },
         "mode": "markers",
         "name": "wajima",
         "showlegend": true,
         "subplot": "mapbox",
         "type": "scattermapbox"
        },
        {
         "hovertemplate": "<b>%{hovertext}</b><br><br>City=pokosnoye<br>Humidity=%{marker.size}<br>Lat=%{lat}<br>Lng=%{lon}<extra></extra>",
         "hovertext": [
          "pokosnoye"
         ],
         "lat": [
          55.5258
         ],
         "legendgroup": "pokosnoye",
         "lon": [
          101.0536
         ],
         "marker": {
          "color": "#B6E880",
          "size": [
           81
          ],
          "sizemode": "area",
          "sizeref": 0.4444444444444444
         },
         "mode": "markers",
         "name": "pokosnoye",
         "showlegend": true,
         "subplot": "mapbox",
         "type": "scattermapbox"
        },
        {
         "hovertemplate": "<b>%{hovertext}</b><br><br>City=waipawa<br>Humidity=%{marker.size}<br>Lat=%{lat}<br>Lng=%{lon}<extra></extra>",
         "hovertext": [
          "waipawa"
         ],
         "lat": [
          -41.4122
         ],
         "legendgroup": "waipawa",
         "lon": [
          175.5153
         ],
         "marker": {
          "color": "#FF97FF",
          "size": [
           91
          ],
          "sizemode": "area",
          "sizeref": 0.4444444444444444
         },
         "mode": "markers",
         "name": "waipawa",
         "showlegend": true,
         "subplot": "mapbox",
         "type": "scattermapbox"
        },
        {
         "hovertemplate": "<b>%{hovertext}</b><br><br>City=yaring<br>Humidity=%{marker.size}<br>Lat=%{lat}<br>Lng=%{lon}<extra></extra>",
         "hovertext": [
          "yaring"
         ],
         "lat": [
          6.8662
         ],
         "legendgroup": "yaring",
         "lon": [
          101.3689
         ],
         "marker": {
          "color": "#FECB52",
          "size": [
           87
          ],
          "sizemode": "area",
          "sizeref": 0.4444444444444444
         },
         "mode": "markers",
         "name": "yaring",
         "showlegend": true,
         "subplot": "mapbox",
         "type": "scattermapbox"
        },
        {
         "hovertemplate": "<b>%{hovertext}</b><br><br>City=isiro<br>Humidity=%{marker.size}<br>Lat=%{lat}<br>Lng=%{lon}<extra></extra>",
         "hovertext": [
          "isiro"
         ],
         "lat": [
          2.7739
         ],
         "legendgroup": "isiro",
         "lon": [
          27.616
         ],
         "marker": {
          "color": "#636efa",
          "size": [
           73
          ],
          "sizemode": "area",
          "sizeref": 0.4444444444444444
         },
         "mode": "markers",
         "name": "isiro",
         "showlegend": true,
         "subplot": "mapbox",
         "type": "scattermapbox"
        },
        {
         "hovertemplate": "<b>%{hovertext}</b><br><br>City=chivilcoy<br>Humidity=%{marker.size}<br>Lat=%{lat}<br>Lng=%{lon}<extra></extra>",
         "hovertext": [
          "chivilcoy"
         ],
         "lat": [
          -34.8957
         ],
         "legendgroup": "chivilcoy",
         "lon": [
          -60.0167
         ],
         "marker": {
          "color": "#EF553B",
          "size": [
           49
          ],
          "sizemode": "area",
          "sizeref": 0.4444444444444444
         },
         "mode": "markers",
         "name": "chivilcoy",
         "showlegend": true,
         "subplot": "mapbox",
         "type": "scattermapbox"
        },
        {
         "hovertemplate": "<b>%{hovertext}</b><br><br>City=mandalgovi<br>Humidity=%{marker.size}<br>Lat=%{lat}<br>Lng=%{lon}<extra></extra>",
         "hovertext": [
          "mandalgovi"
         ],
         "lat": [
          45.7625
         ],
         "legendgroup": "mandalgovi",
         "lon": [
          106.2708
         ],
         "marker": {
          "color": "#00cc96",
          "size": [
           23
          ],
          "sizemode": "area",
          "sizeref": 0.4444444444444444
         },
         "mode": "markers",
         "name": "mandalgovi",
         "showlegend": true,
         "subplot": "mapbox",
         "type": "scattermapbox"
        },
        {
         "hovertemplate": "<b>%{hovertext}</b><br><br>City=nicoya<br>Humidity=%{marker.size}<br>Lat=%{lat}<br>Lng=%{lon}<extra></extra>",
         "hovertext": [
          "nicoya"
         ],
         "lat": [
          10.1483
         ],
         "legendgroup": "nicoya",
         "lon": [
          -85.452
         ],
         "marker": {
          "color": "#ab63fa",
          "size": [
           73
          ],
          "sizemode": "area",
          "sizeref": 0.4444444444444444
         },
         "mode": "markers",
         "name": "nicoya",
         "showlegend": true,
         "subplot": "mapbox",
         "type": "scattermapbox"
        },
        {
         "hovertemplate": "<b>%{hovertext}</b><br><br>City=novocheremshansk<br>Humidity=%{marker.size}<br>Lat=%{lat}<br>Lng=%{lon}<extra></extra>",
         "hovertext": [
          "novocheremshansk"
         ],
         "lat": [
          54.3571
         ],
         "legendgroup": "novocheremshansk",
         "lon": [
          50.1666
         ],
         "marker": {
          "color": "#FFA15A",
          "size": [
           81
          ],
          "sizemode": "area",
          "sizeref": 0.4444444444444444
         },
         "mode": "markers",
         "name": "novocheremshansk",
         "showlegend": true,
         "subplot": "mapbox",
         "type": "scattermapbox"
        },
        {
         "hovertemplate": "<b>%{hovertext}</b><br><br>City=emirdag<br>Humidity=%{marker.size}<br>Lat=%{lat}<br>Lng=%{lon}<extra></extra>",
         "hovertext": [
          "emirdag"
         ],
         "lat": [
          39.0197
         ],
         "legendgroup": "emirdag",
         "lon": [
          31.15
         ],
         "marker": {
          "color": "#19d3f3",
          "size": [
           69
          ],
          "sizemode": "area",
          "sizeref": 0.4444444444444444
         },
         "mode": "markers",
         "name": "emirdag",
         "showlegend": true,
         "subplot": "mapbox",
         "type": "scattermapbox"
        },
        {
         "hovertemplate": "<b>%{hovertext}</b><br><br>City=nouadhibou<br>Humidity=%{marker.size}<br>Lat=%{lat}<br>Lng=%{lon}<extra></extra>",
         "hovertext": [
          "nouadhibou"
         ],
         "lat": [
          20.931
         ],
         "legendgroup": "nouadhibou",
         "lon": [
          -17.0347
         ],
         "marker": {
          "color": "#FF6692",
          "size": [
           27
          ],
          "sizemode": "area",
          "sizeref": 0.4444444444444444
         },
         "mode": "markers",
         "name": "nouadhibou",
         "showlegend": true,
         "subplot": "mapbox",
         "type": "scattermapbox"
        },
        {
         "hovertemplate": "<b>%{hovertext}</b><br><br>City=tongliao<br>Humidity=%{marker.size}<br>Lat=%{lat}<br>Lng=%{lon}<extra></extra>",
         "hovertext": [
          "tongliao"
         ],
         "lat": [
          43.6125
         ],
         "legendgroup": "tongliao",
         "lon": [
          122.2653
         ],
         "marker": {
          "color": "#B6E880",
          "size": [
           35
          ],
          "sizemode": "area",
          "sizeref": 0.4444444444444444
         },
         "mode": "markers",
         "name": "tongliao",
         "showlegend": true,
         "subplot": "mapbox",
         "type": "scattermapbox"
        },
        {
         "hovertemplate": "<b>%{hovertext}</b><br><br>City=ryomgard<br>Humidity=%{marker.size}<br>Lat=%{lat}<br>Lng=%{lon}<extra></extra>",
         "hovertext": [
          "ryomgard"
         ],
         "lat": [
          56.3843
         ],
         "legendgroup": "ryomgard",
         "lon": [
          10.503
         ],
         "marker": {
          "color": "#FF97FF",
          "size": [
           81
          ],
          "sizemode": "area",
          "sizeref": 0.4444444444444444
         },
         "mode": "markers",
         "name": "ryomgard",
         "showlegend": true,
         "subplot": "mapbox",
         "type": "scattermapbox"
        },
        {
         "hovertemplate": "<b>%{hovertext}</b><br><br>City=khudumelapye<br>Humidity=%{marker.size}<br>Lat=%{lat}<br>Lng=%{lon}<extra></extra>",
         "hovertext": [
          "khudumelapye"
         ],
         "lat": [
          -23.8833
         ],
         "legendgroup": "khudumelapye",
         "lon": [
          24.75
         ],
         "marker": {
          "color": "#FECB52",
          "size": [
           64
          ],
          "sizemode": "area",
          "sizeref": 0.4444444444444444
         },
         "mode": "markers",
         "name": "khudumelapye",
         "showlegend": true,
         "subplot": "mapbox",
         "type": "scattermapbox"
        },
        {
         "hovertemplate": "<b>%{hovertext}</b><br><br>City=talcahuano<br>Humidity=%{marker.size}<br>Lat=%{lat}<br>Lng=%{lon}<extra></extra>",
         "hovertext": [
          "talcahuano"
         ],
         "lat": [
          -36.7167
         ],
         "legendgroup": "talcahuano",
         "lon": [
          -73.1167
         ],
         "marker": {
          "color": "#636efa",
          "size": [
           67
          ],
          "sizemode": "area",
          "sizeref": 0.4444444444444444
         },
         "mode": "markers",
         "name": "talcahuano",
         "showlegend": true,
         "subplot": "mapbox",
         "type": "scattermapbox"
        },
        {
         "hovertemplate": "<b>%{hovertext}</b><br><br>City=gifhorn<br>Humidity=%{marker.size}<br>Lat=%{lat}<br>Lng=%{lon}<extra></extra>",
         "hovertext": [
          "gifhorn"
         ],
         "lat": [
          52.4833
         ],
         "legendgroup": "gifhorn",
         "lon": [
          10.55
         ],
         "marker": {
          "color": "#EF553B",
          "size": [
           68
          ],
          "sizemode": "area",
          "sizeref": 0.4444444444444444
         },
         "mode": "markers",
         "name": "gifhorn",
         "showlegend": true,
         "subplot": "mapbox",
         "type": "scattermapbox"
        },
        {
         "hovertemplate": "<b>%{hovertext}</b><br><br>City=bilma<br>Humidity=%{marker.size}<br>Lat=%{lat}<br>Lng=%{lon}<extra></extra>",
         "hovertext": [
          "bilma"
         ],
         "lat": [
          18.6853
         ],
         "legendgroup": "bilma",
         "lon": [
          12.9164
         ],
         "marker": {
          "color": "#00cc96",
          "size": [
           18
          ],
          "sizemode": "area",
          "sizeref": 0.4444444444444444
         },
         "mode": "markers",
         "name": "bilma",
         "showlegend": true,
         "subplot": "mapbox",
         "type": "scattermapbox"
        },
        {
         "hovertemplate": "<b>%{hovertext}</b><br><br>City=vung tau<br>Humidity=%{marker.size}<br>Lat=%{lat}<br>Lng=%{lon}<extra></extra>",
         "hovertext": [
          "vung tau"
         ],
         "lat": [
          10.346
         ],
         "legendgroup": "vung tau",
         "lon": [
          107.0843
         ],
         "marker": {
          "color": "#ab63fa",
          "size": [
           83
          ],
          "sizemode": "area",
          "sizeref": 0.4444444444444444
         },
         "mode": "markers",
         "name": "vung tau",
         "showlegend": true,
         "subplot": "mapbox",
         "type": "scattermapbox"
        },
        {
         "hovertemplate": "<b>%{hovertext}</b><br><br>City=byron bay<br>Humidity=%{marker.size}<br>Lat=%{lat}<br>Lng=%{lon}<extra></extra>",
         "hovertext": [
          "byron bay"
         ],
         "lat": [
          -28.65
         ],
         "legendgroup": "byron bay",
         "lon": [
          153.6167
         ],
         "marker": {
          "color": "#FFA15A",
          "size": [
           83
          ],
          "sizemode": "area",
          "sizeref": 0.4444444444444444
         },
         "mode": "markers",
         "name": "byron bay",
         "showlegend": true,
         "subplot": "mapbox",
         "type": "scattermapbox"
        },
        {
         "hovertemplate": "<b>%{hovertext}</b><br><br>City=kalabo<br>Humidity=%{marker.size}<br>Lat=%{lat}<br>Lng=%{lon}<extra></extra>",
         "hovertext": [
          "kalabo"
         ],
         "lat": [
          -14.97
         ],
         "legendgroup": "kalabo",
         "lon": [
          22.6814
         ],
         "marker": {
          "color": "#19d3f3",
          "size": [
           14
          ],
          "sizemode": "area",
          "sizeref": 0.4444444444444444
         },
         "mode": "markers",
         "name": "kalabo",
         "showlegend": true,
         "subplot": "mapbox",
         "type": "scattermapbox"
        },
        {
         "hovertemplate": "<b>%{hovertext}</b><br><br>City=arcata<br>Humidity=%{marker.size}<br>Lat=%{lat}<br>Lng=%{lon}<extra></extra>",
         "hovertext": [
          "arcata"
         ],
         "lat": [
          40.8665
         ],
         "legendgroup": "arcata",
         "lon": [
          -124.0828
         ],
         "marker": {
          "color": "#FF6692",
          "size": [
           93
          ],
          "sizemode": "area",
          "sizeref": 0.4444444444444444
         },
         "mode": "markers",
         "name": "arcata",
         "showlegend": true,
         "subplot": "mapbox",
         "type": "scattermapbox"
        },
        {
         "hovertemplate": "<b>%{hovertext}</b><br><br>City=lemoore<br>Humidity=%{marker.size}<br>Lat=%{lat}<br>Lng=%{lon}<extra></extra>",
         "hovertext": [
          "lemoore"
         ],
         "lat": [
          36.3008
         ],
         "legendgroup": "lemoore",
         "lon": [
          -119.7829
         ],
         "marker": {
          "color": "#B6E880",
          "size": [
           74
          ],
          "sizemode": "area",
          "sizeref": 0.4444444444444444
         },
         "mode": "markers",
         "name": "lemoore",
         "showlegend": true,
         "subplot": "mapbox",
         "type": "scattermapbox"
        },
        {
         "hovertemplate": "<b>%{hovertext}</b><br><br>City=norfolk<br>Humidity=%{marker.size}<br>Lat=%{lat}<br>Lng=%{lon}<extra></extra>",
         "hovertext": [
          "norfolk"
         ],
         "lat": [
          42.1668
         ],
         "legendgroup": "norfolk",
         "lon": [
          -71.2495
         ],
         "marker": {
          "color": "#FF97FF",
          "size": [
           95
          ],
          "sizemode": "area",
          "sizeref": 0.4444444444444444
         },
         "mode": "markers",
         "name": "norfolk",
         "showlegend": true,
         "subplot": "mapbox",
         "type": "scattermapbox"
        },
        {
         "hovertemplate": "<b>%{hovertext}</b><br><br>City=juba<br>Humidity=%{marker.size}<br>Lat=%{lat}<br>Lng=%{lon}<extra></extra>",
         "hovertext": [
          "juba"
         ],
         "lat": [
          4.8517
         ],
         "legendgroup": "juba",
         "lon": [
          31.5825
         ],
         "marker": {
          "color": "#FECB52",
          "size": [
           69
          ],
          "sizemode": "area",
          "sizeref": 0.4444444444444444
         },
         "mode": "markers",
         "name": "juba",
         "showlegend": true,
         "subplot": "mapbox",
         "type": "scattermapbox"
        },
        {
         "hovertemplate": "<b>%{hovertext}</b><br><br>City=pali<br>Humidity=%{marker.size}<br>Lat=%{lat}<br>Lng=%{lon}<extra></extra>",
         "hovertext": [
          "pali"
         ],
         "lat": [
          25.7667
         ],
         "legendgroup": "pali",
         "lon": [
          73.3333
         ],
         "marker": {
          "color": "#636efa",
          "size": [
           26
          ],
          "sizemode": "area",
          "sizeref": 0.4444444444444444
         },
         "mode": "markers",
         "name": "pali",
         "showlegend": true,
         "subplot": "mapbox",
         "type": "scattermapbox"
        },
        {
         "hovertemplate": "<b>%{hovertext}</b><br><br>City=katsuura<br>Humidity=%{marker.size}<br>Lat=%{lat}<br>Lng=%{lon}<extra></extra>",
         "hovertext": [
          "katsuura"
         ],
         "lat": [
          35.1333
         ],
         "legendgroup": "katsuura",
         "lon": [
          140.3
         ],
         "marker": {
          "color": "#EF553B",
          "size": [
           84
          ],
          "sizemode": "area",
          "sizeref": 0.4444444444444444
         },
         "mode": "markers",
         "name": "katsuura",
         "showlegend": true,
         "subplot": "mapbox",
         "type": "scattermapbox"
        },
        {
         "hovertemplate": "<b>%{hovertext}</b><br><br>City=bambanglipuro<br>Humidity=%{marker.size}<br>Lat=%{lat}<br>Lng=%{lon}<extra></extra>",
         "hovertext": [
          "bambanglipuro"
         ],
         "lat": [
          -7.95
         ],
         "legendgroup": "bambanglipuro",
         "lon": [
          110.2833
         ],
         "marker": {
          "color": "#00cc96",
          "size": [
           87
          ],
          "sizemode": "area",
          "sizeref": 0.4444444444444444
         },
         "mode": "markers",
         "name": "bambanglipuro",
         "showlegend": true,
         "subplot": "mapbox",
         "type": "scattermapbox"
        },
        {
         "hovertemplate": "<b>%{hovertext}</b><br><br>City=padang<br>Humidity=%{marker.size}<br>Lat=%{lat}<br>Lng=%{lon}<extra></extra>",
         "hovertext": [
          "padang"
         ],
         "lat": [
          -0.9492
         ],
         "legendgroup": "padang",
         "lon": [
          100.3543
         ],
         "marker": {
          "color": "#ab63fa",
          "size": [
           82
          ],
          "sizemode": "area",
          "sizeref": 0.4444444444444444
         },
         "mode": "markers",
         "name": "padang",
         "showlegend": true,
         "subplot": "mapbox",
         "type": "scattermapbox"
        },
        {
         "hovertemplate": "<b>%{hovertext}</b><br><br>City=freeport<br>Humidity=%{marker.size}<br>Lat=%{lat}<br>Lng=%{lon}<extra></extra>",
         "hovertext": [
          "freeport"
         ],
         "lat": [
          40.6576
         ],
         "legendgroup": "freeport",
         "lon": [
          -73.5832
         ],
         "marker": {
          "color": "#FFA15A",
          "size": [
           46
          ],
          "sizemode": "area",
          "sizeref": 0.4444444444444444
         },
         "mode": "markers",
         "name": "freeport",
         "showlegend": true,
         "subplot": "mapbox",
         "type": "scattermapbox"
        },
        {
         "hovertemplate": "<b>%{hovertext}</b><br><br>City=bulgan<br>Humidity=%{marker.size}<br>Lat=%{lat}<br>Lng=%{lon}<extra></extra>",
         "hovertext": [
          "bulgan"
         ],
         "lat": [
          48.8125
         ],
         "legendgroup": "bulgan",
         "lon": [
          103.5347
         ],
         "marker": {
          "color": "#19d3f3",
          "size": [
           40
          ],
          "sizemode": "area",
          "sizeref": 0.4444444444444444
         },
         "mode": "markers",
         "name": "bulgan",
         "showlegend": true,
         "subplot": "mapbox",
         "type": "scattermapbox"
        },
        {
         "hovertemplate": "<b>%{hovertext}</b><br><br>City=sorland<br>Humidity=%{marker.size}<br>Lat=%{lat}<br>Lng=%{lon}<extra></extra>",
         "hovertext": [
          "sorland"
         ],
         "lat": [
          67.667
         ],
         "legendgroup": "sorland",
         "lon": [
          12.6934
         ],
         "marker": {
          "color": "#FF6692",
          "size": [
           67
          ],
          "sizemode": "area",
          "sizeref": 0.4444444444444444
         },
         "mode": "markers",
         "name": "sorland",
         "showlegend": true,
         "subplot": "mapbox",
         "type": "scattermapbox"
        },
        {
         "hovertemplate": "<b>%{hovertext}</b><br><br>City=saryg-sep<br>Humidity=%{marker.size}<br>Lat=%{lat}<br>Lng=%{lon}<extra></extra>",
         "hovertext": [
          "saryg-sep"
         ],
         "lat": [
          51.5
         ],
         "legendgroup": "saryg-sep",
         "lon": [
          95.6
         ],
         "marker": {
          "color": "#B6E880",
          "size": [
           44
          ],
          "sizemode": "area",
          "sizeref": 0.4444444444444444
         },
         "mode": "markers",
         "name": "saryg-sep",
         "showlegend": true,
         "subplot": "mapbox",
         "type": "scattermapbox"
        },
        {
         "hovertemplate": "<b>%{hovertext}</b><br><br>City=batagay-alyta<br>Humidity=%{marker.size}<br>Lat=%{lat}<br>Lng=%{lon}<extra></extra>",
         "hovertext": [
          "batagay-alyta"
         ],
         "lat": [
          67.8006
         ],
         "legendgroup": "batagay-alyta",
         "lon": [
          130.4114
         ],
         "marker": {
          "color": "#FF97FF",
          "size": [
           89
          ],
          "sizemode": "area",
          "sizeref": 0.4444444444444444
         },
         "mode": "markers",
         "name": "batagay-alyta",
         "showlegend": true,
         "subplot": "mapbox",
         "type": "scattermapbox"
        },
        {
         "hovertemplate": "<b>%{hovertext}</b><br><br>City=lompoc<br>Humidity=%{marker.size}<br>Lat=%{lat}<br>Lng=%{lon}<extra></extra>",
         "hovertext": [
          "lompoc"
         ],
         "lat": [
          34.6391
         ],
         "legendgroup": "lompoc",
         "lon": [
          -120.4579
         ],
         "marker": {
          "color": "#FECB52",
          "size": [
           100
          ],
          "sizemode": "area",
          "sizeref": 0.4444444444444444
         },
         "mode": "markers",
         "name": "lompoc",
         "showlegend": true,
         "subplot": "mapbox",
         "type": "scattermapbox"
        },
        {
         "hovertemplate": "<b>%{hovertext}</b><br><br>City=changli<br>Humidity=%{marker.size}<br>Lat=%{lat}<br>Lng=%{lon}<extra></extra>",
         "hovertext": [
          "changli"
         ],
         "lat": [
          39.7042
         ],
         "legendgroup": "changli",
         "lon": [
          119.1506
         ],
         "marker": {
          "color": "#636efa",
          "size": [
           33
          ],
          "sizemode": "area",
          "sizeref": 0.4444444444444444
         },
         "mode": "markers",
         "name": "changli",
         "showlegend": true,
         "subplot": "mapbox",
         "type": "scattermapbox"
        },
        {
         "hovertemplate": "<b>%{hovertext}</b><br><br>City=choma<br>Humidity=%{marker.size}<br>Lat=%{lat}<br>Lng=%{lon}<extra></extra>",
         "hovertext": [
          "choma"
         ],
         "lat": [
          -16.8065
         ],
         "legendgroup": "choma",
         "lon": [
          26.9531
         ],
         "marker": {
          "color": "#EF553B",
          "size": [
           22
          ],
          "sizemode": "area",
          "sizeref": 0.4444444444444444
         },
         "mode": "markers",
         "name": "choma",
         "showlegend": true,
         "subplot": "mapbox",
         "type": "scattermapbox"
        },
        {
         "hovertemplate": "<b>%{hovertext}</b><br><br>City=tena<br>Humidity=%{marker.size}<br>Lat=%{lat}<br>Lng=%{lon}<extra></extra>",
         "hovertext": [
          "tena"
         ],
         "lat": [
          -0.9833
         ],
         "legendgroup": "tena",
         "lon": [
          -77.8167
         ],
         "marker": {
          "color": "#00cc96",
          "size": [
           62
          ],
          "sizemode": "area",
          "sizeref": 0.4444444444444444
         },
         "mode": "markers",
         "name": "tena",
         "showlegend": true,
         "subplot": "mapbox",
         "type": "scattermapbox"
        },
        {
         "hovertemplate": "<b>%{hovertext}</b><br><br>City=ilhabela<br>Humidity=%{marker.size}<br>Lat=%{lat}<br>Lng=%{lon}<extra></extra>",
         "hovertext": [
          "ilhabela"
         ],
         "lat": [
          -23.7781
         ],
         "legendgroup": "ilhabela",
         "lon": [
          -45.3581
         ],
         "marker": {
          "color": "#ab63fa",
          "size": [
           88
          ],
          "sizemode": "area",
          "sizeref": 0.4444444444444444
         },
         "mode": "markers",
         "name": "ilhabela",
         "showlegend": true,
         "subplot": "mapbox",
         "type": "scattermapbox"
        },
        {
         "hovertemplate": "<b>%{hovertext}</b><br><br>City=redmond<br>Humidity=%{marker.size}<br>Lat=%{lat}<br>Lng=%{lon}<extra></extra>",
         "hovertext": [
          "redmond"
         ],
         "lat": [
          47.674
         ],
         "legendgroup": "redmond",
         "lon": [
          -122.1215
         ],
         "marker": {
          "color": "#FFA15A",
          "size": [
           91
          ],
          "sizemode": "area",
          "sizeref": 0.4444444444444444
         },
         "mode": "markers",
         "name": "redmond",
         "showlegend": true,
         "subplot": "mapbox",
         "type": "scattermapbox"
        },
        {
         "hovertemplate": "<b>%{hovertext}</b><br><br>City=wyndham<br>Humidity=%{marker.size}<br>Lat=%{lat}<br>Lng=%{lon}<extra></extra>",
         "hovertext": [
          "wyndham"
         ],
         "lat": [
          37.6985
         ],
         "legendgroup": "wyndham",
         "lon": [
          -77.6125
         ],
         "marker": {
          "color": "#19d3f3",
          "size": [
           52
          ],
          "sizemode": "area",
          "sizeref": 0.4444444444444444
         },
         "mode": "markers",
         "name": "wyndham",
         "showlegend": true,
         "subplot": "mapbox",
         "type": "scattermapbox"
        },
        {
         "hovertemplate": "<b>%{hovertext}</b><br><br>City=nhulunbuy<br>Humidity=%{marker.size}<br>Lat=%{lat}<br>Lng=%{lon}<extra></extra>",
         "hovertext": [
          "nhulunbuy"
         ],
         "lat": [
          -12.2333
         ],
         "legendgroup": "nhulunbuy",
         "lon": [
          136.7667
         ],
         "marker": {
          "color": "#FF6692",
          "size": [
           78
          ],
          "sizemode": "area",
          "sizeref": 0.4444444444444444
         },
         "mode": "markers",
         "name": "nhulunbuy",
         "showlegend": true,
         "subplot": "mapbox",
         "type": "scattermapbox"
        },
        {
         "hovertemplate": "<b>%{hovertext}</b><br><br>City=sangamner<br>Humidity=%{marker.size}<br>Lat=%{lat}<br>Lng=%{lon}<extra></extra>",
         "hovertext": [
          "sangamner"
         ],
         "lat": [
          19.5667
         ],
         "legendgroup": "sangamner",
         "lon": [
          74.2167
         ],
         "marker": {
          "color": "#B6E880",
          "size": [
           85
          ],
          "sizemode": "area",
          "sizeref": 0.4444444444444444
         },
         "mode": "markers",
         "name": "sangamner",
         "showlegend": true,
         "subplot": "mapbox",
         "type": "scattermapbox"
        },
        {
         "hovertemplate": "<b>%{hovertext}</b><br><br>City=road town<br>Humidity=%{marker.size}<br>Lat=%{lat}<br>Lng=%{lon}<extra></extra>",
         "hovertext": [
          "road town"
         ],
         "lat": [
          18.4167
         ],
         "legendgroup": "road town",
         "lon": [
          -64.6167
         ],
         "marker": {
          "color": "#FF97FF",
          "size": [
           70
          ],
          "sizemode": "area",
          "sizeref": 0.4444444444444444
         },
         "mode": "markers",
         "name": "road town",
         "showlegend": true,
         "subplot": "mapbox",
         "type": "scattermapbox"
        },
        {
         "hovertemplate": "<b>%{hovertext}</b><br><br>City=ranong<br>Humidity=%{marker.size}<br>Lat=%{lat}<br>Lng=%{lon}<extra></extra>",
         "hovertext": [
          "ranong"
         ],
         "lat": [
          9.9658
         ],
         "legendgroup": "ranong",
         "lon": [
          98.6348
         ],
         "marker": {
          "color": "#FECB52",
          "size": [
           93
          ],
          "sizemode": "area",
          "sizeref": 0.4444444444444444
         },
         "mode": "markers",
         "name": "ranong",
         "showlegend": true,
         "subplot": "mapbox",
         "type": "scattermapbox"
        },
        {
         "hovertemplate": "<b>%{hovertext}</b><br><br>City=staryy nadym<br>Humidity=%{marker.size}<br>Lat=%{lat}<br>Lng=%{lon}<extra></extra>",
         "hovertext": [
          "staryy nadym"
         ],
         "lat": [
          65.6118
         ],
         "legendgroup": "staryy nadym",
         "lon": [
          72.6842
         ],
         "marker": {
          "color": "#636efa",
          "size": [
           90
          ],
          "sizemode": "area",
          "sizeref": 0.4444444444444444
         },
         "mode": "markers",
         "name": "staryy nadym",
         "showlegend": true,
         "subplot": "mapbox",
         "type": "scattermapbox"
        },
        {
         "hovertemplate": "<b>%{hovertext}</b><br><br>City=dargaville<br>Humidity=%{marker.size}<br>Lat=%{lat}<br>Lng=%{lon}<extra></extra>",
         "hovertext": [
          "dargaville"
         ],
         "lat": [
          -35.9333
         ],
         "legendgroup": "dargaville",
         "lon": [
          173.8833
         ],
         "marker": {
          "color": "#EF553B",
          "size": [
           83
          ],
          "sizemode": "area",
          "sizeref": 0.4444444444444444
         },
         "mode": "markers",
         "name": "dargaville",
         "showlegend": true,
         "subplot": "mapbox",
         "type": "scattermapbox"
        },
        {
         "hovertemplate": "<b>%{hovertext}</b><br><br>City=sovetskiy<br>Humidity=%{marker.size}<br>Lat=%{lat}<br>Lng=%{lon}<extra></extra>",
         "hovertext": [
          "sovetskiy"
         ],
         "lat": [
          61.3614
         ],
         "legendgroup": "sovetskiy",
         "lon": [
          63.5842
         ],
         "marker": {
          "color": "#00cc96",
          "size": [
           96
          ],
          "sizemode": "area",
          "sizeref": 0.4444444444444444
         },
         "mode": "markers",
         "name": "sovetskiy",
         "showlegend": true,
         "subplot": "mapbox",
         "type": "scattermapbox"
        },
        {
         "hovertemplate": "<b>%{hovertext}</b><br><br>City=tatarsk<br>Humidity=%{marker.size}<br>Lat=%{lat}<br>Lng=%{lon}<extra></extra>",
         "hovertext": [
          "tatarsk"
         ],
         "lat": [
          55.219
         ],
         "legendgroup": "tatarsk",
         "lon": [
          75.9828
         ],
         "marker": {
          "color": "#ab63fa",
          "size": [
           89
          ],
          "sizemode": "area",
          "sizeref": 0.4444444444444444
         },
         "mode": "markers",
         "name": "tatarsk",
         "showlegend": true,
         "subplot": "mapbox",
         "type": "scattermapbox"
        },
        {
         "hovertemplate": "<b>%{hovertext}</b><br><br>City=canchungo<br>Humidity=%{marker.size}<br>Lat=%{lat}<br>Lng=%{lon}<extra></extra>",
         "hovertext": [
          "canchungo"
         ],
         "lat": [
          12.0672
         ],
         "legendgroup": "canchungo",
         "lon": [
          -16.0333
         ],
         "marker": {
          "color": "#FFA15A",
          "size": [
           61
          ],
          "sizemode": "area",
          "sizeref": 0.4444444444444444
         },
         "mode": "markers",
         "name": "canchungo",
         "showlegend": true,
         "subplot": "mapbox",
         "type": "scattermapbox"
        },
        {
         "hovertemplate": "<b>%{hovertext}</b><br><br>City=iquique<br>Humidity=%{marker.size}<br>Lat=%{lat}<br>Lng=%{lon}<extra></extra>",
         "hovertext": [
          "iquique"
         ],
         "lat": [
          -20.2208
         ],
         "legendgroup": "iquique",
         "lon": [
          -70.1431
         ],
         "marker": {
          "color": "#19d3f3",
          "size": [
           68
          ],
          "sizemode": "area",
          "sizeref": 0.4444444444444444
         },
         "mode": "markers",
         "name": "iquique",
         "showlegend": true,
         "subplot": "mapbox",
         "type": "scattermapbox"
        },
        {
         "hovertemplate": "<b>%{hovertext}</b><br><br>City=poum<br>Humidity=%{marker.size}<br>Lat=%{lat}<br>Lng=%{lon}<extra></extra>",
         "hovertext": [
          "poum"
         ],
         "lat": [
          -20.2333
         ],
         "legendgroup": "poum",
         "lon": [
          164.0167
         ],
         "marker": {
          "color": "#FF6692",
          "size": [
           79
          ],
          "sizemode": "area",
          "sizeref": 0.4444444444444444
         },
         "mode": "markers",
         "name": "poum",
         "showlegend": true,
         "subplot": "mapbox",
         "type": "scattermapbox"
        }
       ],
       "layout": {
        "height": 600,
        "legend": {
         "itemsizing": "constant",
         "title": {
          "text": "City"
         },
         "tracegroupgap": 0
        },
        "mapbox": {
         "center": {
          "lat": 20.207835701906415,
          "lon": 17.50534506065858
         },
         "domain": {
          "x": [
           0,
           1
          ],
          "y": [
           0,
           1
          ]
         },
         "style": "open-street-map",
         "zoom": 3
        },
        "margin": {
         "b": 0,
         "l": 0,
         "r": 0,
         "t": 0
        },
        "template": {
         "data": {
          "bar": [
           {
            "error_x": {
             "color": "#2a3f5f"
            },
            "error_y": {
             "color": "#2a3f5f"
            },
            "marker": {
             "line": {
              "color": "#E5ECF6",
              "width": 0.5
             },
             "pattern": {
              "fillmode": "overlay",
              "size": 10,
              "solidity": 0.2
             }
            },
            "type": "bar"
           }
          ],
          "barpolar": [
           {
            "marker": {
             "line": {
              "color": "#E5ECF6",
              "width": 0.5
             },
             "pattern": {
              "fillmode": "overlay",
              "size": 10,
              "solidity": 0.2
             }
            },
            "type": "barpolar"
           }
          ],
          "carpet": [
           {
            "aaxis": {
             "endlinecolor": "#2a3f5f",
             "gridcolor": "white",
             "linecolor": "white",
             "minorgridcolor": "white",
             "startlinecolor": "#2a3f5f"
            },
            "baxis": {
             "endlinecolor": "#2a3f5f",
             "gridcolor": "white",
             "linecolor": "white",
             "minorgridcolor": "white",
             "startlinecolor": "#2a3f5f"
            },
            "type": "carpet"
           }
          ],
          "choropleth": [
           {
            "colorbar": {
             "outlinewidth": 0,
             "ticks": ""
            },
            "type": "choropleth"
           }
          ],
          "contour": [
           {
            "colorbar": {
             "outlinewidth": 0,
             "ticks": ""
            },
            "colorscale": [
             [
              0,
              "#0d0887"
             ],
             [
              0.1111111111111111,
              "#46039f"
             ],
             [
              0.2222222222222222,
              "#7201a8"
             ],
             [
              0.3333333333333333,
              "#9c179e"
             ],
             [
              0.4444444444444444,
              "#bd3786"
             ],
             [
              0.5555555555555556,
              "#d8576b"
             ],
             [
              0.6666666666666666,
              "#ed7953"
             ],
             [
              0.7777777777777778,
              "#fb9f3a"
             ],
             [
              0.8888888888888888,
              "#fdca26"
             ],
             [
              1,
              "#f0f921"
             ]
            ],
            "type": "contour"
           }
          ],
          "contourcarpet": [
           {
            "colorbar": {
             "outlinewidth": 0,
             "ticks": ""
            },
            "type": "contourcarpet"
           }
          ],
          "heatmap": [
           {
            "colorbar": {
             "outlinewidth": 0,
             "ticks": ""
            },
            "colorscale": [
             [
              0,
              "#0d0887"
             ],
             [
              0.1111111111111111,
              "#46039f"
             ],
             [
              0.2222222222222222,
              "#7201a8"
             ],
             [
              0.3333333333333333,
              "#9c179e"
             ],
             [
              0.4444444444444444,
              "#bd3786"
             ],
             [
              0.5555555555555556,
              "#d8576b"
             ],
             [
              0.6666666666666666,
              "#ed7953"
             ],
             [
              0.7777777777777778,
              "#fb9f3a"
             ],
             [
              0.8888888888888888,
              "#fdca26"
             ],
             [
              1,
              "#f0f921"
             ]
            ],
            "type": "heatmap"
           }
          ],
          "heatmapgl": [
           {
            "colorbar": {
             "outlinewidth": 0,
             "ticks": ""
            },
            "colorscale": [
             [
              0,
              "#0d0887"
             ],
             [
              0.1111111111111111,
              "#46039f"
             ],
             [
              0.2222222222222222,
              "#7201a8"
             ],
             [
              0.3333333333333333,
              "#9c179e"
             ],
             [
              0.4444444444444444,
              "#bd3786"
             ],
             [
              0.5555555555555556,
              "#d8576b"
             ],
             [
              0.6666666666666666,
              "#ed7953"
             ],
             [
              0.7777777777777778,
              "#fb9f3a"
             ],
             [
              0.8888888888888888,
              "#fdca26"
             ],
             [
              1,
              "#f0f921"
             ]
            ],
            "type": "heatmapgl"
           }
          ],
          "histogram": [
           {
            "marker": {
             "pattern": {
              "fillmode": "overlay",
              "size": 10,
              "solidity": 0.2
             }
            },
            "type": "histogram"
           }
          ],
          "histogram2d": [
           {
            "colorbar": {
             "outlinewidth": 0,
             "ticks": ""
            },
            "colorscale": [
             [
              0,
              "#0d0887"
             ],
             [
              0.1111111111111111,
              "#46039f"
             ],
             [
              0.2222222222222222,
              "#7201a8"
             ],
             [
              0.3333333333333333,
              "#9c179e"
             ],
             [
              0.4444444444444444,
              "#bd3786"
             ],
             [
              0.5555555555555556,
              "#d8576b"
             ],
             [
              0.6666666666666666,
              "#ed7953"
             ],
             [
              0.7777777777777778,
              "#fb9f3a"
             ],
             [
              0.8888888888888888,
              "#fdca26"
             ],
             [
              1,
              "#f0f921"
             ]
            ],
            "type": "histogram2d"
           }
          ],
          "histogram2dcontour": [
           {
            "colorbar": {
             "outlinewidth": 0,
             "ticks": ""
            },
            "colorscale": [
             [
              0,
              "#0d0887"
             ],
             [
              0.1111111111111111,
              "#46039f"
             ],
             [
              0.2222222222222222,
              "#7201a8"
             ],
             [
              0.3333333333333333,
              "#9c179e"
             ],
             [
              0.4444444444444444,
              "#bd3786"
             ],
             [
              0.5555555555555556,
              "#d8576b"
             ],
             [
              0.6666666666666666,
              "#ed7953"
             ],
             [
              0.7777777777777778,
              "#fb9f3a"
             ],
             [
              0.8888888888888888,
              "#fdca26"
             ],
             [
              1,
              "#f0f921"
             ]
            ],
            "type": "histogram2dcontour"
           }
          ],
          "mesh3d": [
           {
            "colorbar": {
             "outlinewidth": 0,
             "ticks": ""
            },
            "type": "mesh3d"
           }
          ],
          "parcoords": [
           {
            "line": {
             "colorbar": {
              "outlinewidth": 0,
              "ticks": ""
             }
            },
            "type": "parcoords"
           }
          ],
          "pie": [
           {
            "automargin": true,
            "type": "pie"
           }
          ],
          "scatter": [
           {
            "fillpattern": {
             "fillmode": "overlay",
             "size": 10,
             "solidity": 0.2
            },
            "type": "scatter"
           }
          ],
          "scatter3d": [
           {
            "line": {
             "colorbar": {
              "outlinewidth": 0,
              "ticks": ""
             }
            },
            "marker": {
             "colorbar": {
              "outlinewidth": 0,
              "ticks": ""
             }
            },
            "type": "scatter3d"
           }
          ],
          "scattercarpet": [
           {
            "marker": {
             "colorbar": {
              "outlinewidth": 0,
              "ticks": ""
             }
            },
            "type": "scattercarpet"
           }
          ],
          "scattergeo": [
           {
            "marker": {
             "colorbar": {
              "outlinewidth": 0,
              "ticks": ""
             }
            },
            "type": "scattergeo"
           }
          ],
          "scattergl": [
           {
            "marker": {
             "colorbar": {
              "outlinewidth": 0,
              "ticks": ""
             }
            },
            "type": "scattergl"
           }
          ],
          "scattermapbox": [
           {
            "marker": {
             "colorbar": {
              "outlinewidth": 0,
              "ticks": ""
             }
            },
            "type": "scattermapbox"
           }
          ],
          "scatterpolar": [
           {
            "marker": {
             "colorbar": {
              "outlinewidth": 0,
              "ticks": ""
             }
            },
            "type": "scatterpolar"
           }
          ],
          "scatterpolargl": [
           {
            "marker": {
             "colorbar": {
              "outlinewidth": 0,
              "ticks": ""
             }
            },
            "type": "scatterpolargl"
           }
          ],
          "scatterternary": [
           {
            "marker": {
             "colorbar": {
              "outlinewidth": 0,
              "ticks": ""
             }
            },
            "type": "scatterternary"
           }
          ],
          "surface": [
           {
            "colorbar": {
             "outlinewidth": 0,
             "ticks": ""
            },
            "colorscale": [
             [
              0,
              "#0d0887"
             ],
             [
              0.1111111111111111,
              "#46039f"
             ],
             [
              0.2222222222222222,
              "#7201a8"
             ],
             [
              0.3333333333333333,
              "#9c179e"
             ],
             [
              0.4444444444444444,
              "#bd3786"
             ],
             [
              0.5555555555555556,
              "#d8576b"
             ],
             [
              0.6666666666666666,
              "#ed7953"
             ],
             [
              0.7777777777777778,
              "#fb9f3a"
             ],
             [
              0.8888888888888888,
              "#fdca26"
             ],
             [
              1,
              "#f0f921"
             ]
            ],
            "type": "surface"
           }
          ],
          "table": [
           {
            "cells": {
             "fill": {
              "color": "#EBF0F8"
             },
             "line": {
              "color": "white"
             }
            },
            "header": {
             "fill": {
              "color": "#C8D4E3"
             },
             "line": {
              "color": "white"
             }
            },
            "type": "table"
           }
          ]
         },
         "layout": {
          "annotationdefaults": {
           "arrowcolor": "#2a3f5f",
           "arrowhead": 0,
           "arrowwidth": 1
          },
          "autotypenumbers": "strict",
          "coloraxis": {
           "colorbar": {
            "outlinewidth": 0,
            "ticks": ""
           }
          },
          "colorscale": {
           "diverging": [
            [
             0,
             "#8e0152"
            ],
            [
             0.1,
             "#c51b7d"
            ],
            [
             0.2,
             "#de77ae"
            ],
            [
             0.3,
             "#f1b6da"
            ],
            [
             0.4,
             "#fde0ef"
            ],
            [
             0.5,
             "#f7f7f7"
            ],
            [
             0.6,
             "#e6f5d0"
            ],
            [
             0.7,
             "#b8e186"
            ],
            [
             0.8,
             "#7fbc41"
            ],
            [
             0.9,
             "#4d9221"
            ],
            [
             1,
             "#276419"
            ]
           ],
           "sequential": [
            [
             0,
             "#0d0887"
            ],
            [
             0.1111111111111111,
             "#46039f"
            ],
            [
             0.2222222222222222,
             "#7201a8"
            ],
            [
             0.3333333333333333,
             "#9c179e"
            ],
            [
             0.4444444444444444,
             "#bd3786"
            ],
            [
             0.5555555555555556,
             "#d8576b"
            ],
            [
             0.6666666666666666,
             "#ed7953"
            ],
            [
             0.7777777777777778,
             "#fb9f3a"
            ],
            [
             0.8888888888888888,
             "#fdca26"
            ],
            [
             1,
             "#f0f921"
            ]
           ],
           "sequentialminus": [
            [
             0,
             "#0d0887"
            ],
            [
             0.1111111111111111,
             "#46039f"
            ],
            [
             0.2222222222222222,
             "#7201a8"
            ],
            [
             0.3333333333333333,
             "#9c179e"
            ],
            [
             0.4444444444444444,
             "#bd3786"
            ],
            [
             0.5555555555555556,
             "#d8576b"
            ],
            [
             0.6666666666666666,
             "#ed7953"
            ],
            [
             0.7777777777777778,
             "#fb9f3a"
            ],
            [
             0.8888888888888888,
             "#fdca26"
            ],
            [
             1,
             "#f0f921"
            ]
           ]
          },
          "colorway": [
           "#636efa",
           "#EF553B",
           "#00cc96",
           "#ab63fa",
           "#FFA15A",
           "#19d3f3",
           "#FF6692",
           "#B6E880",
           "#FF97FF",
           "#FECB52"
          ],
          "font": {
           "color": "#2a3f5f"
          },
          "geo": {
           "bgcolor": "white",
           "lakecolor": "white",
           "landcolor": "#E5ECF6",
           "showlakes": true,
           "showland": true,
           "subunitcolor": "white"
          },
          "hoverlabel": {
           "align": "left"
          },
          "hovermode": "closest",
          "mapbox": {
           "style": "light"
          },
          "paper_bgcolor": "white",
          "plot_bgcolor": "#E5ECF6",
          "polar": {
           "angularaxis": {
            "gridcolor": "white",
            "linecolor": "white",
            "ticks": ""
           },
           "bgcolor": "#E5ECF6",
           "radialaxis": {
            "gridcolor": "white",
            "linecolor": "white",
            "ticks": ""
           }
          },
          "scene": {
           "xaxis": {
            "backgroundcolor": "#E5ECF6",
            "gridcolor": "white",
            "gridwidth": 2,
            "linecolor": "white",
            "showbackground": true,
            "ticks": "",
            "zerolinecolor": "white"
           },
           "yaxis": {
            "backgroundcolor": "#E5ECF6",
            "gridcolor": "white",
            "gridwidth": 2,
            "linecolor": "white",
            "showbackground": true,
            "ticks": "",
            "zerolinecolor": "white"
           },
           "zaxis": {
            "backgroundcolor": "#E5ECF6",
            "gridcolor": "white",
            "gridwidth": 2,
            "linecolor": "white",
            "showbackground": true,
            "ticks": "",
            "zerolinecolor": "white"
           }
          },
          "shapedefaults": {
           "line": {
            "color": "#2a3f5f"
           }
          },
          "ternary": {
           "aaxis": {
            "gridcolor": "white",
            "linecolor": "white",
            "ticks": ""
           },
           "baxis": {
            "gridcolor": "white",
            "linecolor": "white",
            "ticks": ""
           },
           "bgcolor": "#E5ECF6",
           "caxis": {
            "gridcolor": "white",
            "linecolor": "white",
            "ticks": ""
           }
          },
          "title": {
           "x": 0.05
          },
          "xaxis": {
           "automargin": true,
           "gridcolor": "white",
           "linecolor": "white",
           "ticks": "",
           "title": {
            "standoff": 15
           },
           "zerolinecolor": "white",
           "zerolinewidth": 2
          },
          "yaxis": {
           "automargin": true,
           "gridcolor": "white",
           "linecolor": "white",
           "ticks": "",
           "title": {
            "standoff": 15
           },
           "zerolinecolor": "white",
           "zerolinewidth": 2
          }
         }
        },
        "title": {
         "text": "City Humidity Map"
        },
        "width": 700
       }
      }
     },
     "metadata": {},
     "output_type": "display_data"
    }
   ],
   "source": [
    "import pandas as pd\n",
    "import plotly.express as px\n",
    "\n",
    "# Assuming city_data_df is already defined and contains 'City', 'Lat', 'Lng', and 'Humidity' columns\n",
    "\n",
    "\n",
    "# Create the map\n",
    "fig = px.scatter_mapbox(city_data_df, \n",
    "                        lat=\"Lat\", \n",
    "                        lon=\"Lng\", \n",
    "                        hover_name=\"City\", \n",
    "                        size=\"Humidity\",\n",
    "                        color=\"City\",\n",
    "                        size_max=15,  # Adjust this value to change the maximum point size\n",
    "                        zoom=3,  # Adjust the initial zoom level\n",
    "                        mapbox_style=\"open-street-map\")\n",
    "\n",
    "# Update the layout\n",
    "fig.update_layout(title=\"City Humidity Map\",\n",
    "                  height=600,\n",
    "                  width = 700,\n",
    "   \n",
    "                  margin={\"r\":0,\"t\":0,\"l\":0,\"b\":0})\n",
    "\n",
    "# Display the map\n",
    "fig.show()"
   ]
  },
  {
   "cell_type": "markdown",
   "metadata": {},
   "source": [
    "### Step 2: Narrow down the `city_data_df` DataFrame to find your ideal weather condition"
   ]
  },
  {
   "cell_type": "code",
   "execution_count": 2,
   "metadata": {},
   "outputs": [
    {
     "data": {
      "text/plain": [
       "City_ID       0\n",
       "City_ID.2     0\n",
       "City_ID.1     0\n",
       "City          0\n",
       "Lat           0\n",
       "Lng           0\n",
       "Max Temp      0\n",
       "Humidity      0\n",
       "Cloudiness    0\n",
       "Wind Speed    0\n",
       "Country       0\n",
       "Date          0\n",
       "dtype: int64"
      ]
     },
     "execution_count": 2,
     "metadata": {},
     "output_type": "execute_result"
    }
   ],
   "source": [
    "import pandas as pd\n",
    "city_data_df = pd.read_csv(\"output_data/cities.csv\")\n",
    "\n",
    "\n",
    "# Apply criteria to filter the DataFrame\n",
    "criteria_df = city_data_df[(city_data_df['Max Temp']<= 300.15) &  \n",
    "                           (city_data_df['Max Temp']>= 294.15) &\n",
    "                           (city_data_df['Wind Speed'] <= 4.5) &\n",
    "                           (city_data_df['Wind Speed'] >= 1)\n",
    "]\n",
    "\n",
    "# Drop any rows with null values\n",
    "criteria_df = criteria_df.dropna()\n",
    "\n",
    "# Display sample data\n",
    "criteria_df.count()"
   ]
  },
  {
   "cell_type": "markdown",
   "metadata": {},
   "source": [
    "### Step 3: Create a new DataFrame called `hotel_df`."
   ]
  },
  {
   "cell_type": "code",
   "execution_count": 6,
   "metadata": {},
   "outputs": [
    {
     "data": {
      "text/html": [
       "<div>\n",
       "<style scoped>\n",
       "    .dataframe tbody tr th:only-of-type {\n",
       "        vertical-align: middle;\n",
       "    }\n",
       "\n",
       "    .dataframe tbody tr th {\n",
       "        vertical-align: top;\n",
       "    }\n",
       "\n",
       "    .dataframe thead th {\n",
       "        text-align: right;\n",
       "    }\n",
       "</style>\n",
       "<table border=\"1\" class=\"dataframe\">\n",
       "  <thead>\n",
       "    <tr style=\"text-align: right;\">\n",
       "      <th></th>\n",
       "      <th>City</th>\n",
       "      <th>Country</th>\n",
       "      <th>Lat</th>\n",
       "      <th>Lng</th>\n",
       "      <th>Humidity</th>\n",
       "      <th>Hotel Name</th>\n",
       "    </tr>\n",
       "  </thead>\n",
       "  <tbody>\n",
       "    <tr>\n",
       "      <th>0</th>\n",
       "      <td>faya</td>\n",
       "      <td>SA</td>\n",
       "      <td>18.3851</td>\n",
       "      <td>42.4509</td>\n",
       "      <td>35</td>\n",
       "      <td></td>\n",
       "    </tr>\n",
       "    <tr>\n",
       "      <th>1</th>\n",
       "      <td>farsund</td>\n",
       "      <td>NO</td>\n",
       "      <td>58.0948</td>\n",
       "      <td>6.8047</td>\n",
       "      <td>100</td>\n",
       "      <td></td>\n",
       "    </tr>\n",
       "    <tr>\n",
       "      <th>2</th>\n",
       "      <td>new norfolk</td>\n",
       "      <td>AU</td>\n",
       "      <td>-42.7826</td>\n",
       "      <td>147.0587</td>\n",
       "      <td>58</td>\n",
       "      <td></td>\n",
       "    </tr>\n",
       "    <tr>\n",
       "      <th>3</th>\n",
       "      <td>jamestown</td>\n",
       "      <td>US</td>\n",
       "      <td>42.0970</td>\n",
       "      <td>-79.2353</td>\n",
       "      <td>77</td>\n",
       "      <td></td>\n",
       "    </tr>\n",
       "    <tr>\n",
       "      <th>4</th>\n",
       "      <td>lanzhou</td>\n",
       "      <td>CN</td>\n",
       "      <td>36.0564</td>\n",
       "      <td>103.7922</td>\n",
       "      <td>48</td>\n",
       "      <td></td>\n",
       "    </tr>\n",
       "  </tbody>\n",
       "</table>\n",
       "</div>"
      ],
      "text/plain": [
       "          City Country      Lat       Lng  Humidity Hotel Name\n",
       "0         faya      SA  18.3851   42.4509        35           \n",
       "1      farsund      NO  58.0948    6.8047       100           \n",
       "2  new norfolk      AU -42.7826  147.0587        58           \n",
       "3    jamestown      US  42.0970  -79.2353        77           \n",
       "4      lanzhou      CN  36.0564  103.7922        48           "
      ]
     },
     "execution_count": 6,
     "metadata": {},
     "output_type": "execute_result"
    }
   ],
   "source": [
    "import pandas as pd\n",
    "\n",
    "# Use the Pandas copy function to create DataFrame called hotel_df to store the city, country, coordinates, and humidity\n",
    "hotel_df = city_data_df[['City', 'Country', 'Lat', 'Lng', 'Humidity']].copy()\n",
    "\n",
    "# Add an empty column, \"Hotel Name,\" to the DataFrame so you can store the hotel found using the Geoapify API\n",
    "hotel_df['Hotel Name'] = ''  # To store hotel names retrieved from Geoapify API\n",
    "\n",
    "# Display sample data\n",
    "hotel_df.head()\n"
   ]
  },
  {
   "cell_type": "code",
   "execution_count": 7,
   "metadata": {},
   "outputs": [
    {
     "data": {
      "text/html": [
       "<div>\n",
       "<style scoped>\n",
       "    .dataframe tbody tr th:only-of-type {\n",
       "        vertical-align: middle;\n",
       "    }\n",
       "\n",
       "    .dataframe tbody tr th {\n",
       "        vertical-align: top;\n",
       "    }\n",
       "\n",
       "    .dataframe thead th {\n",
       "        text-align: right;\n",
       "    }\n",
       "</style>\n",
       "<table border=\"1\" class=\"dataframe\">\n",
       "  <thead>\n",
       "    <tr style=\"text-align: right;\">\n",
       "      <th></th>\n",
       "      <th>city</th>\n",
       "      <th>country</th>\n",
       "      <th>coordinates</th>\n",
       "      <th>humidity</th>\n",
       "      <th>Hotel Name</th>\n",
       "    </tr>\n",
       "  </thead>\n",
       "  <tbody>\n",
       "    <tr>\n",
       "      <th>0</th>\n",
       "      <td>New York</td>\n",
       "      <td>United States</td>\n",
       "      <td>(40.7128, -74.006)</td>\n",
       "      <td>68</td>\n",
       "      <td></td>\n",
       "    </tr>\n",
       "    <tr>\n",
       "      <th>1</th>\n",
       "      <td>London</td>\n",
       "      <td>United Kingdom</td>\n",
       "      <td>(51.5074, -0.1278)</td>\n",
       "      <td>72</td>\n",
       "      <td></td>\n",
       "    </tr>\n",
       "    <tr>\n",
       "      <th>2</th>\n",
       "      <td>Paris</td>\n",
       "      <td>France</td>\n",
       "      <td>(48.8566, 2.3522)</td>\n",
       "      <td>65</td>\n",
       "      <td></td>\n",
       "    </tr>\n",
       "    <tr>\n",
       "      <th>3</th>\n",
       "      <td>Tokyo</td>\n",
       "      <td>Japan</td>\n",
       "      <td>(35.6762, 139.6503)</td>\n",
       "      <td>75</td>\n",
       "      <td></td>\n",
       "    </tr>\n",
       "    <tr>\n",
       "      <th>4</th>\n",
       "      <td>Sydney</td>\n",
       "      <td>Australia</td>\n",
       "      <td>(-33.8651, 151.2071)</td>\n",
       "      <td>60</td>\n",
       "      <td></td>\n",
       "    </tr>\n",
       "  </tbody>\n",
       "</table>\n",
       "</div>"
      ],
      "text/plain": [
       "       city         country           coordinates  humidity Hotel Name\n",
       "0  New York   United States    (40.7128, -74.006)        68           \n",
       "1    London  United Kingdom    (51.5074, -0.1278)        72           \n",
       "2     Paris          France     (48.8566, 2.3522)        65           \n",
       "3     Tokyo           Japan   (35.6762, 139.6503)        75           \n",
       "4    Sydney       Australia  (-33.8651, 151.2071)        60           "
      ]
     },
     "execution_count": 7,
     "metadata": {},
     "output_type": "execute_result"
    }
   ],
   "source": [
    "\n",
    "\n",
    "import pandas as pd\n",
    "\n",
    "# Sample data for cities, countries, coordinates, and humidity\n",
    "data = {\n",
    "    'city': ['New York', 'London', 'Paris', 'Tokyo', 'Sydney'],\n",
    "    'country': ['United States', 'United Kingdom', 'France', 'Japan', 'Australia'],\n",
    "    'coordinates': [(40.7128, -74.0060), (51.5074, -0.1278), (48.8566, 2.3522), (35.6762, 139.6503), (-33.8651, 151.2071)],\n",
    "    'humidity': [68, 72, 65, 75, 60]\n",
    "}\n",
    "\n",
    "# Creating a DataFrame\n",
    "city_data_df = pd.DataFrame(data)\n",
    "\n",
    "# Copying the DataFrame to hotel_df and adding an empty column for hotel names\n",
    "hotel_df = city_data_df.copy()\n",
    "hotel_df['Hotel Name'] = ''\n",
    "\n",
    "# Displaying the copied DataFrame with the added column\n",
    "hotel_df"
   ]
  },
  {
   "cell_type": "code",
   "execution_count": 6,
   "metadata": {},
   "outputs": [
    {
     "name": "stdout",
     "output_type": "stream",
     "text": [
      "Starting hotel search\n",
      "New York - nearest hotel: No hotel found\n",
      "London - nearest hotel: No hotel found\n",
      "Paris - nearest hotel: No hotel found\n",
      "Tokyo - nearest hotel: No hotel found\n",
      "Sydney - nearest hotel: No hotel found\n"
     ]
    },
    {
     "data": {
      "text/html": [
       "<div>\n",
       "<style scoped>\n",
       "    .dataframe tbody tr th:only-of-type {\n",
       "        vertical-align: middle;\n",
       "    }\n",
       "\n",
       "    .dataframe tbody tr th {\n",
       "        vertical-align: top;\n",
       "    }\n",
       "\n",
       "    .dataframe thead th {\n",
       "        text-align: right;\n",
       "    }\n",
       "</style>\n",
       "<table border=\"1\" class=\"dataframe\">\n",
       "  <thead>\n",
       "    <tr style=\"text-align: right;\">\n",
       "      <th></th>\n",
       "      <th>city</th>\n",
       "      <th>country</th>\n",
       "      <th>coordinates</th>\n",
       "      <th>humidity</th>\n",
       "      <th>Hotel Name</th>\n",
       "    </tr>\n",
       "  </thead>\n",
       "  <tbody>\n",
       "    <tr>\n",
       "      <th>0</th>\n",
       "      <td>New York</td>\n",
       "      <td>United States</td>\n",
       "      <td>(40.7128, -74.006)</td>\n",
       "      <td>68</td>\n",
       "      <td>No hotel found</td>\n",
       "    </tr>\n",
       "    <tr>\n",
       "      <th>1</th>\n",
       "      <td>London</td>\n",
       "      <td>United Kingdom</td>\n",
       "      <td>(51.5074, -0.1278)</td>\n",
       "      <td>72</td>\n",
       "      <td>No hotel found</td>\n",
       "    </tr>\n",
       "    <tr>\n",
       "      <th>2</th>\n",
       "      <td>Paris</td>\n",
       "      <td>France</td>\n",
       "      <td>(48.8566, 2.3522)</td>\n",
       "      <td>65</td>\n",
       "      <td>No hotel found</td>\n",
       "    </tr>\n",
       "    <tr>\n",
       "      <th>3</th>\n",
       "      <td>Tokyo</td>\n",
       "      <td>Japan</td>\n",
       "      <td>(35.6762, 139.6503)</td>\n",
       "      <td>75</td>\n",
       "      <td>No hotel found</td>\n",
       "    </tr>\n",
       "    <tr>\n",
       "      <th>4</th>\n",
       "      <td>Sydney</td>\n",
       "      <td>Australia</td>\n",
       "      <td>(-33.8651, 151.2071)</td>\n",
       "      <td>60</td>\n",
       "      <td>No hotel found</td>\n",
       "    </tr>\n",
       "  </tbody>\n",
       "</table>\n",
       "</div>"
      ],
      "text/plain": [
       "       city         country           coordinates  humidity      Hotel Name\n",
       "0  New York   United States    (40.7128, -74.006)        68  No hotel found\n",
       "1    London  United Kingdom    (51.5074, -0.1278)        72  No hotel found\n",
       "2     Paris          France     (48.8566, 2.3522)        65  No hotel found\n",
       "3     Tokyo           Japan   (35.6762, 139.6503)        75  No hotel found\n",
       "4    Sydney       Australia  (-33.8651, 151.2071)        60  No hotel found"
      ]
     },
     "execution_count": 6,
     "metadata": {},
     "output_type": "execute_result"
    }
   ],
   "source": [
    "import hvplot.pandas\n",
    "import pandas as pd\n",
    "import requests\n",
    "from citipy import citipy\n",
    "\n",
    "# Set parameters to search for a hotel\n",
    "radius = 10000# YOUR CODE HERE\n",
    "params = { \n",
    "    'categories': 'accommodation.hotel',\n",
    "    'geoapify_key':'',  # Replace with your Geoapify API key\n",
    "    'limit': 20   # YOUR CODE HERE\n",
    "}\n",
    "\n",
    "# Print a message to follow up the hotel search\n",
    "print(\"Starting hotel search\")\n",
    "\n",
    "# Iterate through the hotel_df DataFrame\n",
    "for index, row in hotel_df.iterrows():\n",
    "    lat = ['Lat']\n",
    "    lng = ['Lng'] # get latitude, longitude from the DataFrame\n",
    "   \n",
    "    # Add the current city's latitude and longitude to the params dictionary\n",
    "    params[\"filter\"] = f\"circle:{lng},{lat},{radius}\"# YOUR CODE HERE\n",
    "    params[\"bias\"] =  f\"proximity:{lng},{lat}\"\n",
    "\n",
    "    # Set base URL\n",
    "    base_url = \"https://api.geoapify.com/v2/places\"\n",
    "\n",
    "    # Make and API request using the params dictionary\n",
    "\n",
    "    response=requests.get(base_url, params=params)# YOUR CODE HERE\n",
    "\n",
    "    # Convert the API response to JSON format\n",
    "    name_address =response.json() # YOUR CODE HERE\n",
    "\n",
    "    # Grab the first hotel from the results and store the name in the hotel_df DataFrame\n",
    "    try:\n",
    "        hotel_df.loc[index, \"Hotel Name\"] = name_address[\"features\"][0][\"properties\"][\"name\"]\n",
    "    except (KeyError, IndexError):\n",
    "        # If no hotel is found, set the hotel name as \"No hotel found\".\n",
    "        hotel_df.loc[index, \"Hotel Name\"] = \"No hotel found\"\n",
    "\n",
    "    # Log the search results\n",
    "    print(f\"{hotel_df.loc[index, 'city']} - nearest hotel: {hotel_df.loc[index, 'Hotel Name']}\")\n",
    "\n",
    "# Display sample data\n",
    "hotel_df"
   ]
  },
  {
   "cell_type": "markdown",
   "metadata": {},
   "source": [
    "### Step 5: Add the hotel name and the country as additional information in the hover message for each city in the map."
   ]
  },
  {
   "cell_type": "code",
   "execution_count": 13,
   "metadata": {},
   "outputs": [
    {
     "data": {},
     "metadata": {},
     "output_type": "display_data"
    },
    {
     "data": {
      "application/vnd.holoviews_exec.v0+json": "",
      "text/html": [
       "<div id='p1256'>\n",
       "  <div id=\"f13aefd8-b050-4aa1-a3ff-cb4caf808b44\" data-root-id=\"p1256\" style=\"display: contents;\"></div>\n",
       "</div>\n",
       "<script type=\"application/javascript\">(function(root) {\n",
       "  var docs_json = {\"7be34374-a9b3-4276-8960-d6cc18070ee7\":{\"version\":\"3.4.1\",\"title\":\"Bokeh Application\",\"roots\":[{\"type\":\"object\",\"name\":\"Row\",\"id\":\"p1256\",\"attributes\":{\"name\":\"Row01327\",\"tags\":[\"embedded\"],\"stylesheets\":[\"\\n:host(.pn-loading):before, .pn-loading:before {\\n  background-color: #c3c3c3;\\n  mask-size: auto calc(min(50%, 400px));\\n  -webkit-mask-size: auto calc(min(50%, 400px));\\n}\",{\"type\":\"object\",\"name\":\"ImportedStyleSheet\",\"id\":\"p1259\",\"attributes\":{\"url\":\"https://cdn.holoviz.org/panel/1.4.4/dist/css/loading.css\"}},{\"type\":\"object\",\"name\":\"ImportedStyleSheet\",\"id\":\"p1315\",\"attributes\":{\"url\":\"https://cdn.holoviz.org/panel/1.4.4/dist/css/listpanel.css\"}},{\"type\":\"object\",\"name\":\"ImportedStyleSheet\",\"id\":\"p1257\",\"attributes\":{\"url\":\"https://cdn.holoviz.org/panel/1.4.4/dist/bundled/theme/default.css\"}},{\"type\":\"object\",\"name\":\"ImportedStyleSheet\",\"id\":\"p1258\",\"attributes\":{\"url\":\"https://cdn.holoviz.org/panel/1.4.4/dist/bundled/theme/native.css\"}}],\"margin\":0,\"sizing_mode\":\"stretch_width\",\"align\":\"start\",\"children\":[{\"type\":\"object\",\"name\":\"Spacer\",\"id\":\"p1260\",\"attributes\":{\"name\":\"HSpacer01334\",\"stylesheets\":[\"\\n:host(.pn-loading):before, .pn-loading:before {\\n  background-color: #c3c3c3;\\n  mask-size: auto calc(min(50%, 400px));\\n  -webkit-mask-size: auto calc(min(50%, 400px));\\n}\",{\"id\":\"p1259\"},{\"id\":\"p1257\"},{\"id\":\"p1258\"}],\"margin\":0,\"sizing_mode\":\"stretch_width\",\"align\":\"start\"}},{\"type\":\"object\",\"name\":\"Figure\",\"id\":\"p1268\",\"attributes\":{\"width\":null,\"height\":null,\"margin\":[5,10],\"sizing_mode\":\"fixed\",\"align\":\"start\",\"x_range\":{\"type\":\"object\",\"name\":\"Range1d\",\"id\":\"p1261\",\"attributes\":{\"tags\":[[[\"Lat\",null]],[]],\"start\":-68.10186,\"end\":91.52046,\"reset_start\":-68.10186,\"reset_end\":91.52046}},\"y_range\":{\"type\":\"object\",\"name\":\"Range1d\",\"id\":\"p1262\",\"attributes\":{\"tags\":[[[\"Lng\",null]],{\"type\":\"map\",\"entries\":[[\"invert_yaxis\",false],[\"autorange\",false]]}],\"start\":-215.01504,\"end\":215.16504,\"reset_start\":-215.01504,\"reset_end\":215.16504}},\"x_scale\":{\"type\":\"object\",\"name\":\"LinearScale\",\"id\":\"p1278\"},\"y_scale\":{\"type\":\"object\",\"name\":\"LinearScale\",\"id\":\"p1279\"},\"title\":{\"type\":\"object\",\"name\":\"Title\",\"id\":\"p1271\",\"attributes\":{\"text_color\":\"black\",\"text_font_size\":\"12pt\"}},\"renderers\":[{\"type\":\"object\",\"name\":\"GlyphRenderer\",\"id\":\"p1308\",\"attributes\":{\"data_source\":{\"type\":\"object\",\"name\":\"ColumnDataSource\",\"id\":\"p1299\",\"attributes\":{\"selected\":{\"type\":\"object\",\"name\":\"Selection\",\"id\":\"p1300\",\"attributes\":{\"indices\":[],\"line_indices\":[]}},\"selection_policy\":{\"type\":\"object\",\"name\":\"UnionRenderers\",\"id\":\"p1301\"},\"data\":{\"type\":\"map\",\"entries\":[[\"Lat\",{\"type\":\"ndarray\",\"array\":{\"type\":\"bytes\",\"data\":\"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\"},\"shape\":[577],\"dtype\":\"float64\",\"order\":\"little\"}],[\"Lng\",{\"type\":\"ndarray\",\"array\":{\"type\":\"bytes\",\"data\":\"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\"},\"shape\":[577],\"dtype\":\"float64\",\"order\":\"little\"}]]}}},\"view\":{\"type\":\"object\",\"name\":\"CDSView\",\"id\":\"p1309\",\"attributes\":{\"filter\":{\"type\":\"object\",\"name\":\"AllIndices\",\"id\":\"p1310\"}}},\"glyph\":{\"type\":\"object\",\"name\":\"Scatter\",\"id\":\"p1305\",\"attributes\":{\"tags\":[\"apply_ranges\"],\"x\":{\"type\":\"field\",\"field\":\"Lat\"},\"y\":{\"type\":\"field\",\"field\":\"Lng\"},\"size\":{\"type\":\"value\",\"value\":5.477225575051661},\"line_color\":{\"type\":\"field\",\"field\":\"country\"},\"fill_color\":{\"type\":\"field\",\"field\":\"country\"},\"hatch_color\":{\"type\":\"field\",\"field\":\"country\"}}},\"selection_glyph\":{\"type\":\"object\",\"name\":\"Scatter\",\"id\":\"p1311\",\"attributes\":{\"tags\":[\"apply_ranges\"],\"x\":{\"type\":\"field\",\"field\":\"Lat\"},\"y\":{\"type\":\"field\",\"field\":\"Lng\"},\"size\":{\"type\":\"value\",\"value\":5.477225575051661},\"angle\":{\"type\":\"value\",\"value\":0.0},\"line_color\":{\"type\":\"field\",\"field\":\"country\"},\"line_alpha\":{\"type\":\"value\",\"value\":1.0},\"line_width\":{\"type\":\"value\",\"value\":1},\"line_join\":{\"type\":\"value\",\"value\":\"bevel\"},\"line_cap\":{\"type\":\"value\",\"value\":\"butt\"},\"line_dash\":{\"type\":\"value\",\"value\":[]},\"line_dash_offset\":{\"type\":\"value\",\"value\":0},\"fill_color\":{\"type\":\"field\",\"field\":\"country\"},\"fill_alpha\":{\"type\":\"value\",\"value\":1.0},\"hatch_color\":{\"type\":\"field\",\"field\":\"country\"},\"hatch_alpha\":{\"type\":\"value\",\"value\":1.0},\"hatch_scale\":{\"type\":\"value\",\"value\":12.0},\"hatch_pattern\":{\"type\":\"value\",\"value\":null},\"hatch_weight\":{\"type\":\"value\",\"value\":1.0},\"marker\":{\"type\":\"value\",\"value\":\"circle\"}}},\"nonselection_glyph\":{\"type\":\"object\",\"name\":\"Scatter\",\"id\":\"p1306\",\"attributes\":{\"tags\":[\"apply_ranges\"],\"x\":{\"type\":\"field\",\"field\":\"Lat\"},\"y\":{\"type\":\"field\",\"field\":\"Lng\"},\"size\":{\"type\":\"value\",\"value\":5.477225575051661},\"line_color\":{\"type\":\"field\",\"field\":\"country\"},\"line_alpha\":{\"type\":\"value\",\"value\":0.1},\"fill_color\":{\"type\":\"field\",\"field\":\"country\"},\"fill_alpha\":{\"type\":\"value\",\"value\":0.1},\"hatch_color\":{\"type\":\"field\",\"field\":\"country\"},\"hatch_alpha\":{\"type\":\"value\",\"value\":0.1}}},\"muted_glyph\":{\"type\":\"object\",\"name\":\"Scatter\",\"id\":\"p1307\",\"attributes\":{\"tags\":[\"apply_ranges\"],\"x\":{\"type\":\"field\",\"field\":\"Lat\"},\"y\":{\"type\":\"field\",\"field\":\"Lng\"},\"size\":{\"type\":\"value\",\"value\":5.477225575051661},\"line_color\":{\"type\":\"field\",\"field\":\"country\"},\"line_alpha\":{\"type\":\"value\",\"value\":0.2},\"fill_color\":{\"type\":\"field\",\"field\":\"country\"},\"fill_alpha\":{\"type\":\"value\",\"value\":0.2},\"hatch_color\":{\"type\":\"field\",\"field\":\"country\"},\"hatch_alpha\":{\"type\":\"value\",\"value\":0.2}}}}}],\"toolbar\":{\"type\":\"object\",\"name\":\"Toolbar\",\"id\":\"p1277\",\"attributes\":{\"tools\":[{\"type\":\"object\",\"name\":\"WheelZoomTool\",\"id\":\"p1266\",\"attributes\":{\"tags\":[\"hv_created\"],\"renderers\":\"auto\",\"zoom_together\":\"none\"}},{\"type\":\"object\",\"name\":\"HoverTool\",\"id\":\"p1267\",\"attributes\":{\"tags\":[\"hv_created\"],\"renderers\":[{\"id\":\"p1308\"}],\"tooltips\":[[\"Lat\",\"@{Lat}\"],[\"Lng\",\"@{Lng}\"]]}},{\"type\":\"object\",\"name\":\"SaveTool\",\"id\":\"p1290\"},{\"type\":\"object\",\"name\":\"PanTool\",\"id\":\"p1291\"},{\"type\":\"object\",\"name\":\"BoxZoomTool\",\"id\":\"p1292\",\"attributes\":{\"overlay\":{\"type\":\"object\",\"name\":\"BoxAnnotation\",\"id\":\"p1293\",\"attributes\":{\"syncable\":false,\"level\":\"overlay\",\"visible\":false,\"left\":{\"type\":\"number\",\"value\":\"nan\"},\"right\":{\"type\":\"number\",\"value\":\"nan\"},\"top\":{\"type\":\"number\",\"value\":\"nan\"},\"bottom\":{\"type\":\"number\",\"value\":\"nan\"},\"left_units\":\"canvas\",\"right_units\":\"canvas\",\"top_units\":\"canvas\",\"bottom_units\":\"canvas\",\"line_color\":\"black\",\"line_alpha\":1.0,\"line_width\":2,\"line_dash\":[4,4],\"fill_color\":\"lightgrey\",\"fill_alpha\":0.5}}}},{\"type\":\"object\",\"name\":\"ResetTool\",\"id\":\"p1298\"}],\"active_drag\":{\"id\":\"p1291\"},\"active_scroll\":{\"id\":\"p1266\"}}},\"left\":[{\"type\":\"object\",\"name\":\"LinearAxis\",\"id\":\"p1285\",\"attributes\":{\"ticker\":{\"type\":\"object\",\"name\":\"BasicTicker\",\"id\":\"p1286\",\"attributes\":{\"mantissas\":[1,2,5]}},\"formatter\":{\"type\":\"object\",\"name\":\"BasicTickFormatter\",\"id\":\"p1287\"},\"axis_label\":\"Lng\",\"major_label_policy\":{\"type\":\"object\",\"name\":\"AllLabels\",\"id\":\"p1288\"}}}],\"below\":[{\"type\":\"object\",\"name\":\"LinearAxis\",\"id\":\"p1280\",\"attributes\":{\"ticker\":{\"type\":\"object\",\"name\":\"BasicTicker\",\"id\":\"p1281\",\"attributes\":{\"mantissas\":[1,2,5]}},\"formatter\":{\"type\":\"object\",\"name\":\"BasicTickFormatter\",\"id\":\"p1282\"},\"axis_label\":\"Lat\",\"major_label_policy\":{\"type\":\"object\",\"name\":\"AllLabels\",\"id\":\"p1283\"}}}],\"center\":[{\"type\":\"object\",\"name\":\"Grid\",\"id\":\"p1284\",\"attributes\":{\"axis\":{\"id\":\"p1280\"},\"grid_line_color\":null}},{\"type\":\"object\",\"name\":\"Grid\",\"id\":\"p1289\",\"attributes\":{\"dimension\":1,\"axis\":{\"id\":\"p1285\"},\"grid_line_color\":null}}],\"frame_width\":600,\"frame_height\":600,\"min_border_top\":10,\"min_border_bottom\":10,\"min_border_left\":10,\"min_border_right\":10,\"output_backend\":\"webgl\"}},{\"type\":\"object\",\"name\":\"Spacer\",\"id\":\"p1313\",\"attributes\":{\"name\":\"HSpacer01335\",\"stylesheets\":[\"\\n:host(.pn-loading):before, .pn-loading:before {\\n  background-color: #c3c3c3;\\n  mask-size: auto calc(min(50%, 400px));\\n  -webkit-mask-size: auto calc(min(50%, 400px));\\n}\",{\"id\":\"p1259\"},{\"id\":\"p1257\"},{\"id\":\"p1258\"}],\"margin\":0,\"sizing_mode\":\"stretch_width\",\"align\":\"start\"}}]}}],\"defs\":[{\"type\":\"model\",\"name\":\"ReactiveHTML1\"},{\"type\":\"model\",\"name\":\"FlexBox1\",\"properties\":[{\"name\":\"align_content\",\"kind\":\"Any\",\"default\":\"flex-start\"},{\"name\":\"align_items\",\"kind\":\"Any\",\"default\":\"flex-start\"},{\"name\":\"flex_direction\",\"kind\":\"Any\",\"default\":\"row\"},{\"name\":\"flex_wrap\",\"kind\":\"Any\",\"default\":\"wrap\"},{\"name\":\"gap\",\"kind\":\"Any\",\"default\":\"\"},{\"name\":\"justify_content\",\"kind\":\"Any\",\"default\":\"flex-start\"}]},{\"type\":\"model\",\"name\":\"FloatPanel1\",\"properties\":[{\"name\":\"config\",\"kind\":\"Any\",\"default\":{\"type\":\"map\"}},{\"name\":\"contained\",\"kind\":\"Any\",\"default\":true},{\"name\":\"position\",\"kind\":\"Any\",\"default\":\"right-top\"},{\"name\":\"offsetx\",\"kind\":\"Any\",\"default\":null},{\"name\":\"offsety\",\"kind\":\"Any\",\"default\":null},{\"name\":\"theme\",\"kind\":\"Any\",\"default\":\"primary\"},{\"name\":\"status\",\"kind\":\"Any\",\"default\":\"normalized\"}]},{\"type\":\"model\",\"name\":\"GridStack1\",\"properties\":[{\"name\":\"mode\",\"kind\":\"Any\",\"default\":\"warn\"},{\"name\":\"ncols\",\"kind\":\"Any\",\"default\":null},{\"name\":\"nrows\",\"kind\":\"Any\",\"default\":null},{\"name\":\"allow_resize\",\"kind\":\"Any\",\"default\":true},{\"name\":\"allow_drag\",\"kind\":\"Any\",\"default\":true},{\"name\":\"state\",\"kind\":\"Any\",\"default\":[]}]},{\"type\":\"model\",\"name\":\"drag1\",\"properties\":[{\"name\":\"slider_width\",\"kind\":\"Any\",\"default\":5},{\"name\":\"slider_color\",\"kind\":\"Any\",\"default\":\"black\"},{\"name\":\"value\",\"kind\":\"Any\",\"default\":50}]},{\"type\":\"model\",\"name\":\"click1\",\"properties\":[{\"name\":\"terminal_output\",\"kind\":\"Any\",\"default\":\"\"},{\"name\":\"debug_name\",\"kind\":\"Any\",\"default\":\"\"},{\"name\":\"clears\",\"kind\":\"Any\",\"default\":0}]},{\"type\":\"model\",\"name\":\"FastWrapper1\",\"properties\":[{\"name\":\"object\",\"kind\":\"Any\",\"default\":null},{\"name\":\"style\",\"kind\":\"Any\",\"default\":null}]},{\"type\":\"model\",\"name\":\"NotificationAreaBase1\",\"properties\":[{\"name\":\"js_events\",\"kind\":\"Any\",\"default\":{\"type\":\"map\"}},{\"name\":\"position\",\"kind\":\"Any\",\"default\":\"bottom-right\"},{\"name\":\"_clear\",\"kind\":\"Any\",\"default\":0}]},{\"type\":\"model\",\"name\":\"NotificationArea1\",\"properties\":[{\"name\":\"js_events\",\"kind\":\"Any\",\"default\":{\"type\":\"map\"}},{\"name\":\"notifications\",\"kind\":\"Any\",\"default\":[]},{\"name\":\"position\",\"kind\":\"Any\",\"default\":\"bottom-right\"},{\"name\":\"_clear\",\"kind\":\"Any\",\"default\":0},{\"name\":\"types\",\"kind\":\"Any\",\"default\":[{\"type\":\"map\",\"entries\":[[\"type\",\"warning\"],[\"background\",\"#ffc107\"],[\"icon\",{\"type\":\"map\",\"entries\":[[\"className\",\"fas fa-exclamation-triangle\"],[\"tagName\",\"i\"],[\"color\",\"white\"]]}]]},{\"type\":\"map\",\"entries\":[[\"type\",\"info\"],[\"background\",\"#007bff\"],[\"icon\",{\"type\":\"map\",\"entries\":[[\"className\",\"fas fa-info-circle\"],[\"tagName\",\"i\"],[\"color\",\"white\"]]}]]}]}]},{\"type\":\"model\",\"name\":\"Notification\",\"properties\":[{\"name\":\"background\",\"kind\":\"Any\",\"default\":null},{\"name\":\"duration\",\"kind\":\"Any\",\"default\":3000},{\"name\":\"icon\",\"kind\":\"Any\",\"default\":null},{\"name\":\"message\",\"kind\":\"Any\",\"default\":\"\"},{\"name\":\"notification_type\",\"kind\":\"Any\",\"default\":null},{\"name\":\"_destroyed\",\"kind\":\"Any\",\"default\":false}]},{\"type\":\"model\",\"name\":\"TemplateActions1\",\"properties\":[{\"name\":\"open_modal\",\"kind\":\"Any\",\"default\":0},{\"name\":\"close_modal\",\"kind\":\"Any\",\"default\":0}]},{\"type\":\"model\",\"name\":\"BootstrapTemplateActions1\",\"properties\":[{\"name\":\"open_modal\",\"kind\":\"Any\",\"default\":0},{\"name\":\"close_modal\",\"kind\":\"Any\",\"default\":0}]},{\"type\":\"model\",\"name\":\"TemplateEditor1\",\"properties\":[{\"name\":\"layout\",\"kind\":\"Any\",\"default\":[]}]},{\"type\":\"model\",\"name\":\"MaterialTemplateActions1\",\"properties\":[{\"name\":\"open_modal\",\"kind\":\"Any\",\"default\":0},{\"name\":\"close_modal\",\"kind\":\"Any\",\"default\":0}]},{\"type\":\"model\",\"name\":\"copy_to_clipboard1\",\"properties\":[{\"name\":\"fill\",\"kind\":\"Any\",\"default\":\"none\"},{\"name\":\"value\",\"kind\":\"Any\",\"default\":null}]}]}};\n",
       "  var render_items = [{\"docid\":\"7be34374-a9b3-4276-8960-d6cc18070ee7\",\"roots\":{\"p1256\":\"f13aefd8-b050-4aa1-a3ff-cb4caf808b44\"},\"root_ids\":[\"p1256\"]}];\n",
       "  var docs = Object.values(docs_json)\n",
       "  if (!docs) {\n",
       "    return\n",
       "  }\n",
       "  const py_version = docs[0].version.replace('rc', '-rc.').replace('.dev', '-dev.')\n",
       "  async function embed_document(root) {\n",
       "    var Bokeh = get_bokeh(root)\n",
       "    await Bokeh.embed.embed_items_notebook(docs_json, render_items);\n",
       "    for (const render_item of render_items) {\n",
       "      for (const root_id of render_item.root_ids) {\n",
       "\tconst id_el = document.getElementById(root_id)\n",
       "\tif (id_el.children.length && id_el.children[0].hasAttribute('data-root-id')) {\n",
       "\t  const root_el = id_el.children[0]\n",
       "\t  root_el.id = root_el.id + '-rendered'\n",
       "\t  for (const child of root_el.children) {\n",
       "            // Ensure JupyterLab does not capture keyboard shortcuts\n",
       "            // see: https://jupyterlab.readthedocs.io/en/4.1.x/extension/notebook.html#keyboard-interaction-model\n",
       "\t    child.setAttribute('data-lm-suppress-shortcuts', 'true')\n",
       "\t  }\n",
       "\t}\n",
       "      }\n",
       "    }\n",
       "  }\n",
       "  function get_bokeh(root) {\n",
       "    if (root.Bokeh === undefined) {\n",
       "      return null\n",
       "    } else if (root.Bokeh.version !== py_version) {\n",
       "      if (root.Bokeh.versions === undefined || !root.Bokeh.versions.has(py_version)) {\n",
       "\treturn null\n",
       "      }\n",
       "      return root.Bokeh.versions.get(py_version);\n",
       "    } else if (root.Bokeh.version === py_version) {\n",
       "      return root.Bokeh\n",
       "    }\n",
       "    return null\n",
       "  }\n",
       "  function is_loaded(root) {\n",
       "    var Bokeh = get_bokeh(root)\n",
       "    return (Bokeh != null && Bokeh.Panel !== undefined)\n",
       "  }\n",
       "  if (is_loaded(root)) {\n",
       "    embed_document(root);\n",
       "  } else {\n",
       "    var attempts = 0;\n",
       "    var timer = setInterval(function(root) {\n",
       "      if (is_loaded(root)) {\n",
       "        clearInterval(timer);\n",
       "        embed_document(root);\n",
       "      } else if (document.readyState == \"complete\") {\n",
       "        attempts++;\n",
       "        if (attempts > 200) {\n",
       "          clearInterval(timer);\n",
       "\t  var Bokeh = get_bokeh(root)\n",
       "\t  if (Bokeh == null || Bokeh.Panel == null) {\n",
       "            console.warn(\"Panel: ERROR: Unable to run Panel code because Bokeh or Panel library is missing\");\n",
       "\t  } else {\n",
       "\t    console.warn(\"Panel: WARNING: Attempting to render but not all required libraries could be resolved.\")\n",
       "\t    embed_document(root)\n",
       "\t  }\n",
       "        }\n",
       "      }\n",
       "    }, 25, root)\n",
       "  }\n",
       "})(window);</script>"
      ],
      "text/plain": [
       ":Points   [Lat,Lng]"
      ]
     },
     "execution_count": 13,
     "metadata": {
      "application/vnd.holoviews_exec.v0+json": {
       "id": "p1256"
      }
     },
     "output_type": "execute_result"
    }
   ],
   "source": [
    "%%capture --no-display\n",
    "import hvplot.pandas\n",
    "# Configure the map plot\n",
    "map_plot = city_data_df.hvplot.points(\n",
    "    \"Lat\",\n",
    "    \"Lng\",\n",
    "    frame_width = 600,\n",
    "    frame_height = 600,\n",
    "    scale = 0.5,\n",
    "    color = \"country\"\n",
    ")\n",
    "map_plot"
   ]
  },
  {
   "cell_type": "code",
   "execution_count": null,
   "metadata": {},
   "outputs": [],
   "source": []
  }
 ],
 "metadata": {
  "kernelspec": {
   "display_name": "dev",
   "language": "python",
   "name": "python3"
  },
  "language_info": {
   "codemirror_mode": {
    "name": "ipython",
    "version": 3
   },
   "file_extension": ".py",
   "mimetype": "text/x-python",
   "name": "python",
   "nbconvert_exporter": "python",
   "pygments_lexer": "ipython3",
   "version": "3.10.14"
  },
  "latex_envs": {
   "LaTeX_envs_menu_present": true,
   "autoclose": false,
   "autocomplete": true,
   "bibliofile": "biblio.bib",
   "cite_by": "apalike",
   "current_citInitial": 1,
   "eqLabelWithNumbers": true,
   "eqNumInitial": 1,
   "hotkeys": {
    "equation": "Ctrl-E",
    "itemize": "Ctrl-I"
   },
   "labels_anchors": false,
   "latex_user_defs": false,
   "report_style_numbering": false,
   "user_envs_cfg": false
  }
 },
 "nbformat": 4,
 "nbformat_minor": 4
}
